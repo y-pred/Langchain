{
  "nbformat": 4,
  "nbformat_minor": 0,
  "metadata": {
    "colab": {
      "provenance": [],
      "authorship_tag": "ABX9TyNC2d7NTrfDlKqeMKyPb5qW",
      "include_colab_link": true
    },
    "kernelspec": {
      "name": "python3",
      "display_name": "Python 3"
    },
    "language_info": {
      "name": "python"
    }
  },
  "cells": [
    {
      "cell_type": "markdown",
      "metadata": {
        "id": "view-in-github",
        "colab_type": "text"
      },
      "source": [
        "<a href=\"https://colab.research.google.com/github/y-pred/Langchain/blob/main/Text_Summarization_Techniques.ipynb\" target=\"_parent\"><img src=\"https://colab.research.google.com/assets/colab-badge.svg\" alt=\"Open In Colab\"/></a>"
      ]
    },
    {
      "cell_type": "code",
      "source": [
        "!pip install langchain -q\n",
        "!pip install openai -q"
      ],
      "metadata": {
        "id": "pVktK5Fh2uH7",
        "colab": {
          "base_uri": "https://localhost:8080/"
        },
        "outputId": "9f5cc9d3-5924-4ed6-d89f-f9acf2931904"
      },
      "execution_count": 1,
      "outputs": [
        {
          "output_type": "stream",
          "name": "stdout",
          "text": [
            "\u001b[2K     \u001b[90m━━━━━━━━━━━━━━━━━━━━━━━━━━━━━━━━━━━━━━━━\u001b[0m \u001b[32m867.6/867.6 kB\u001b[0m \u001b[31m5.8 MB/s\u001b[0m eta \u001b[36m0:00:00\u001b[0m\n",
            "\u001b[2K     \u001b[90m━━━━━━━━━━━━━━━━━━━━━━━━━━━━━━━━━━━━━━━━\u001b[0m \u001b[32m2.0/2.0 MB\u001b[0m \u001b[31m12.3 MB/s\u001b[0m eta \u001b[36m0:00:00\u001b[0m\n",
            "\u001b[2K     \u001b[90m━━━━━━━━━━━━━━━━━━━━━━━━━━━━━━━━━━━━━━━━\u001b[0m \u001b[32m302.8/302.8 kB\u001b[0m \u001b[31m6.2 MB/s\u001b[0m eta \u001b[36m0:00:00\u001b[0m\n",
            "\u001b[2K     \u001b[90m━━━━━━━━━━━━━━━━━━━━━━━━━━━━━━━━━━━━━━━━\u001b[0m \u001b[32m116.4/116.4 kB\u001b[0m \u001b[31m7.4 MB/s\u001b[0m eta \u001b[36m0:00:00\u001b[0m\n",
            "\u001b[2K     \u001b[90m━━━━━━━━━━━━━━━━━━━━━━━━━━━━━━━━━━━━━━━━\u001b[0m \u001b[32m49.3/49.3 kB\u001b[0m \u001b[31m3.7 MB/s\u001b[0m eta \u001b[36m0:00:00\u001b[0m\n",
            "\u001b[2K     \u001b[90m━━━━━━━━━━━━━━━━━━━━━━━━━━━━━━━━━━━━━━━━\u001b[0m \u001b[32m53.0/53.0 kB\u001b[0m \u001b[31m3.5 MB/s\u001b[0m eta \u001b[36m0:00:00\u001b[0m\n",
            "\u001b[2K     \u001b[90m━━━━━━━━━━━━━━━━━━━━━━━━━━━━━━━━━━━━━━━━\u001b[0m \u001b[32m142.7/142.7 kB\u001b[0m \u001b[31m2.7 MB/s\u001b[0m eta \u001b[36m0:00:00\u001b[0m\n",
            "\u001b[2K     \u001b[90m━━━━━━━━━━━━━━━━━━━━━━━━━━━━━━━━━━━━━━━━\u001b[0m \u001b[32m312.9/312.9 kB\u001b[0m \u001b[31m4.7 MB/s\u001b[0m eta \u001b[36m0:00:00\u001b[0m\n",
            "\u001b[2K     \u001b[90m━━━━━━━━━━━━━━━━━━━━━━━━━━━━━━━━━━━━━━━━\u001b[0m \u001b[32m75.6/75.6 kB\u001b[0m \u001b[31m7.5 MB/s\u001b[0m eta \u001b[36m0:00:00\u001b[0m\n",
            "\u001b[2K     \u001b[90m━━━━━━━━━━━━━━━━━━━━━━━━━━━━━━━━━━━━━━━━\u001b[0m \u001b[32m77.9/77.9 kB\u001b[0m \u001b[31m6.6 MB/s\u001b[0m eta \u001b[36m0:00:00\u001b[0m\n",
            "\u001b[2K     \u001b[90m━━━━━━━━━━━━━━━━━━━━━━━━━━━━━━━━━━━━━━━━\u001b[0m \u001b[32m58.3/58.3 kB\u001b[0m \u001b[31m4.6 MB/s\u001b[0m eta \u001b[36m0:00:00\u001b[0m\n",
            "\u001b[?25h"
          ]
        }
      ]
    },
    {
      "cell_type": "code",
      "source": [
        "!pip install tiktoken -q"
      ],
      "metadata": {
        "colab": {
          "base_uri": "https://localhost:8080/"
        },
        "id": "--yZA69g3-Kd",
        "outputId": "aef98a91-9ed5-46a4-e57b-53d1e4ec7d84"
      },
      "execution_count": 2,
      "outputs": [
        {
          "output_type": "stream",
          "name": "stdout",
          "text": [
            "\u001b[2K     \u001b[90m━━━━━━━━━━━━━━━━━━━━━━━━━━━━━━━━━━━━━━━━\u001b[0m \u001b[32m1.8/1.8 MB\u001b[0m \u001b[31m10.2 MB/s\u001b[0m eta \u001b[36m0:00:00\u001b[0m\n",
            "\u001b[?25h"
          ]
        }
      ]
    },
    {
      "cell_type": "code",
      "source": [
        "import os\n",
        "open_api_key=\"OPENAI_API_KEY\"\n",
        "os.environ[\"OPENAI_API_KEY\"]=open_api_key"
      ],
      "metadata": {
        "id": "xtr5R66Z2yk7"
      },
      "execution_count": 3,
      "outputs": []
    },
    {
      "cell_type": "markdown",
      "source": [
        "###Basic Prompt"
      ],
      "metadata": {
        "id": "XjMEFLKIGeQe"
      }
    },
    {
      "cell_type": "code",
      "source": [
        "from langchain.chat_models import ChatOpenAI\n",
        "from langchain.schema import (\n",
        "    AIMessage,\n",
        "    HumanMessage,\n",
        "    SystemMessage\n",
        ")"
      ],
      "metadata": {
        "id": "ECfwsF6t3FMb"
      },
      "execution_count": 29,
      "outputs": []
    },
    {
      "cell_type": "code",
      "source": [
        "speech=\"\"\"\n",
        "People across the country, involved in government, political, and social activities, are dedicating their time to make the ‘Viksit Bharat Sankalp Yatra’ (Developed India Resolution Journey) successful. Therefore, as a Member of Parliament, it was my responsibility to also contribute my time to this program. So, today, I have come here just as a Member of Parliament and your ‘sevak’, ready to participate in this program, much like you.\n",
        "\n",
        "In our country, governments have come and gone, numerous schemes have been formulated, discussions have taken place, and big promises have been made. However, my experience and observations led me to believe that the most critical aspect that requires attention is ensuring that the government’s plans reach the intended beneficiaries without any hassles. If there is a ‘Pradhan Mantri Awas Yojana’ (Prime Minister’s housing scheme), then those who are living in jhuggis and slums should get their houses. And he should not need to make rounds of the government offices for this purpose. The government should reach him. Since you have assigned this responsibility to me, about four crore families have got their ‘pucca’ houses. However, I have encountered cases where someone is left out of the government benefits. Therefore, I have decided to tour the country again, to listen to people’s experiences with government schemes, to understand whether they received the intended benefits, and to ensure that the programs are reaching everyone as planned without paying any bribes. We will get the real picture if we visit them again. Therefore, this ‘Viksit Bharat Sankalp Yatra’ is, in a way, my own examination. I want to hear from you and the people across the country whether what I envisioned and the work I have been doing aligns with reality and whether it has reached those for whom it was meant.\n",
        "\n",
        "It is crucial to check whether the work that was supposed to happen has indeed taken place. I recently met some individuals who utilized the Ayushman card to get treatment for serious illnesses. One person met with a severe accident, and after using the card, he could afford the necessary operation, and now he is recovering well. When I asked him, he said: “How could I afford this treatment? Now that there is the Ayushman card, I mustered courage and underwent an operation. Now I am perfectly fine.”  Such stories are blessings to me.\n",
        "\n",
        "The bureaucrats, who prepare good schemes, expedite the paperwork and even allocate funds, also feel satisfied that 50 or 100 people who were supposed to get the funds have got it. The funds meant for a thousand villages have been released. But their job satisfaction peaks when they hear that their work has directly impacted someone’s life positively. When they see the tangible results of their efforts, their enthusiasm multiplies. They feel satisfied. Therefore, ‘Viksit Bharat Sankalp Yatra’ has had a positive impact on government officers. It has made them more enthusiastic about their work, especially when they witness the tangible benefits reaching the people. Officers now feel satisfied with their work, saying, “I made a good plan, I created a file, and the intended beneficiaries received the benefits.” When they find that the money has reached a poor widow under the Jeevan Jyoti scheme and it was a great help to her during her crisis, they realise that they have done a good job. When a government officer listens to such stories, he feels very satisfied.\n",
        "\n",
        "There are very few who understand the power and impact of the ‘Viksit Bharat Sankalp Yatra’. When I hear people connected to bureaucratic circles talking about it, expressing their satisfaction, it resonates with me. I’ve heard stories where someone suddenly received 2 lakh rupees after the death of her husband, and a sister mentioned how the arrival of gas in her home transformed her lives. The most significant aspect is when someone says that the line between rich and poor has vanished. While the slogan ‘Garibi Hatao’ (Remove Poverty) is one thing, but the real change happens when a person says, “As soon as the gas stove came to my house, the distinction between poverty and affluence disappeared.\n",
        "\"\"\""
      ],
      "metadata": {
        "id": "6hfs2nbu3R27"
      },
      "execution_count": 31,
      "outputs": []
    },
    {
      "cell_type": "code",
      "source": [
        "chat_message = [\n",
        "    SystemMessage(content='You are an expert converting english to hindi'),\n",
        "    HumanMessage(content=f'Please provide a short summary:\\nTEXT:{speech}')\n",
        "]\n",
        "\n",
        "llm=ChatOpenAI(model_name='gpt-3.5-turbo')"
      ],
      "metadata": {
        "id": "lfY-de-73UwC",
        "colab": {
          "base_uri": "https://localhost:8080/"
        },
        "outputId": "e3e5f1ee-bd5c-4a30-dab1-17a4b7b6e609"
      },
      "execution_count": 34,
      "outputs": [
        {
          "output_type": "stream",
          "name": "stderr",
          "text": [
            "/usr/local/lib/python3.10/dist-packages/langchain_core/_api/deprecation.py:119: LangChainDeprecationWarning: The class `ChatOpenAI` was deprecated in LangChain 0.0.10 and will be removed in 0.2.0. An updated version of the class exists in the langchain-openai package and should be used instead. To use it run `pip install -U langchain-openai` and import as `from langchain_openai import ChatOpenAI`.\n",
            "  warn_deprecated(\n"
          ]
        }
      ]
    },
    {
      "cell_type": "code",
      "source": [
        "##total tokens\n",
        "llm.get_num_tokens(speech)"
      ],
      "metadata": {
        "colab": {
          "base_uri": "https://localhost:8080/"
        },
        "id": "JonaJPCv3yzd",
        "outputId": "231fd112-7a15-4b6b-bc4e-4b698e4fe41b"
      },
      "execution_count": null,
      "outputs": [
        {
          "output_type": "execute_result",
          "data": {
            "text/plain": [
              "866"
            ]
          },
          "metadata": {},
          "execution_count": 9
        }
      ]
    },
    {
      "cell_type": "code",
      "source": [
        "llm(chat_message).content"
      ],
      "metadata": {
        "colab": {
          "base_uri": "https://localhost:8080/",
          "height": 110
        },
        "id": "09NrAOQI4ID7",
        "outputId": "de07fdd5-9fb4-4150-95f8-ca58ad707aa2"
      },
      "execution_count": null,
      "outputs": [
        {
          "output_type": "execute_result",
          "data": {
            "text/plain": [
              "'लोग पूरे देश भर में सरकारी, राजनीतिक और सामाजिक गतिविधियों में शामिल हैं, और \\'विकसित भारत संकल्प यात्रा\\' को सफल बनाने के लिए अपना समय समर्पित कर रहे हैं। इसलिए, सांसद के रूप में, इस कार्यक्रम में मेरा समय योगदान करना भी मेरी जिम्मेदारी थी। आज, मैं सिर्फ एक सांसद और आपका \\'सेवक\\' के रूप में यहाँ आया हूं, जैसे ही आप इस कार्यक्रम में भाग लेने के लिए तैयार हैं।\\n\\nहमारे देश में, सरकारें आईं और गईं हैं, अनेक योजनाएं बनाई गईं हैं, चर्चाएं हुई हैं, और बड़े वादे किए गए हैं। लेकिन, मेरे अनुभव और अवलोकन ने मुझे यह मानने पर विवश किया कि सबसे महत्वपूर्ण पहलू यह है कि सरकार की योजनाएं इच्छित लाभार्थियों तक बिना किसी परेशानी के पहुंचें। अगर \\'प्रधानमंत्री आवास योजना\\' है, तो जो लोग झुग्गियों और स्लमों में रह रहे हैं, उन्हें उनके घर मिलना चाहिए। और उसे इस उद्देश्य के लिए सरकारी कार्यालयों के चक्कर काटने की जरूरत नहीं होनी चाहिए। सरकार को उस तक पहुंचना चाहिए। जब आपने मुझे इस जिम्मेदारी सौंपी है, तो लगभग चार करोड़ परिवारों को उनके \\'पुक्का\\' घर मिल गए हैं। हालांकि, मेरे सामने कुछ मामले भी आए हैं जहां किसी को सरकारी लाभों से वंचित छोड़ दिया गया है। इसलिए, मैंने फिर से देश की यात्रा करने का निर्णय लिया है, लोगों के सरकारी योजनाओं के अनुभव सुनने के लिए, समझने के लिए कि क्या वे इच्छित लाभ प्राप्त कर रहे हैं, और सुनिश्चित करने के लिए कि कार्यक्रम सभी के पास पहुंच रहा है जैसा नियोजित किया गया था बिना किसी रिश्वत के। हमें उन्हें पुनः मिलकर असली चित्र मिलेगा। इसलिए, यह \\'विकसित भारत संकल्प यात्रा\\' मेरी एक प्रकार है। मैं आपसे और पूरे देश के लोगों से यह जानना चाहता हूं कि क्या मैंने जो दृश्य देखा और जो काम मैंने किया है, क्या यह वास्तविकता के साथ मेल खाता है और क्या यह उन लोगों तक पहुंचा है जिनके लिए यह था।\\n\\nयह जांचना महत्वपूर्ण है कि वह काम जो होना चाहिए था, क्या वास्तव में हुआ है। मैं हाल ही में कुछ व्यक्तियों से मिला जिन्होंने गंभीर बीमारियों के इलाज के लिए आयुष्मान कार्ड का उपयोग किया। एक व्यक्ति का गंभीर दुर्घटना में हो गया था, और कार्ड का उपयोग करने के बाद, उसने आवश्यक ऑपरेशन को संभाला, और अब वह अच्छी तरह से ठीक हो रहा है। जब मैंने उससे पूछा, तो उसने कहा: \"मैं इस उपचार का कैसे सामर्थ्य प्राप्त कर सकता था? अब जब आयुष्मान कार्ड हो गया है, तो मैंने साहस जुटाया और ऑपरेशन करवाया। अब मैं बिल्कुल ठीक हूं।\" ऐसी कहानियाँ मेरे लिए आशीर्वाद हैं।\\n\\nजिन ब्यूरोक्रेट्स ने अच्छी योजनाएँ तैयार की, कागजात की शुद्धिकरण की और धन भी आवंटित किया, वे भी संतुष्ट महसूस करते हैं कि 50 या 100 व्यक्तियों ने जिन्हें धन प्राप्त होना चाहिए था, उन्हें मिल गया है। हजारों गांवों के लिए निर्धारित धन जारी किया गया है। लेकिन जब उन्हें यह सुनने को मिलता है कि उनका काम किसी के जीवन पर सकारात्मक प्रभाव डाला है, तो उनका काम संतुष्टि की ऊँचाई पर पहुंच जाता है। जब वे अपने प्रयासों के प्रत्यक्ष परिणाम देखते हैं, तो उनका उत्साह गुणवत्ता को गुणवत्ता बढ़ जाता है। वे संतुष्ट महसूस करते हैं। इसलिए, \\'विकसित भारत संकल्प यात्रा\\' ने सरकारी अधिकारियों पर सकारात्मक प्रभाव डाला है। इसने उन्हें अपने काम के प्रति और भी उत्साही बना दिया है, खासकर जब वे देखते हैं कि वास्तविक लाभ लोगों तक पहुंच रहे हैं। अधिकारी अब अपने काम से संतुष्ट होते हैं, कहते हैं, \"मैंने एक अच्छी योजना बनाई, मैंने एक फाइल बनाई, और उद्देश्य प्राप्तकर्ताओं को लाभ पहुंचाया।\" जब उन्हें यह पता चलता है कि धन गरीब विधवा के पास पहुंचा है और यह उसकी संकट के दौरान उसकी मदद में एक महान सहायता थी, तो उन्हें लगता है कि उन्होंने अच्छा काम किया है। जब कोई सरकारी अधिकारी ऐसी कहानियों को सुनता है, तो वह बहुत संतुष्ट महसूस करता है।\\n\\nबहुत कम लोग हैं जो \\'विकसित भारत संकल्प यात्रा\\' की शक्ति और प्रभाव को समझते हैं। जब मैं ब्यूरोक्रेटिक वर्ग से जुड़े लोगों को इसके बारे में बात करते हुए संतुष्टि व्यक्त करते सुनता हूं, तो यह मेरे साथ एक संवादित है। मैंने कहानियाँ सुनी हैं जहां किसी को अचानक उसके पति की मौत के बाद 2 लाख रुपए मिले, और एक बहन ने बताया कि उनके घर में गैस का आगमन उनके जीवन को कैसे बदल दिया। सबसे महत्वपूर्ण बात यह है जब कोई कहता है कि धनी और गरीब के बीच की रेखा मिट गई है। \\'गरीबी हटाओ\\' का नारा एक बात है, लेकिन वास्तविक परिवर्तन तब होता है जब कोई व्यक्ति कहता है, \"मेरे घर में गैस चूल्हा आते ही, गरीबी और समृद्धि के बीच भेद मिट गया।\"'"
            ],
            "application/vnd.google.colaboratory.intrinsic+json": {
              "type": "string"
            }
          },
          "metadata": {},
          "execution_count": 16
        }
      ]
    },
    {
      "cell_type": "code",
      "source": [
        "chat_message = [\n",
        "    SystemMessage(content='You are an expert in text summarization'),\n",
        "    HumanMessage(content=f'Please provide a short summary:\\nTEXT:{speech}')\n",
        "]\n",
        "\n",
        "llm=ChatOpenAI(model_name='gpt-3.5-turbo')"
      ],
      "metadata": {
        "id": "-alJSx8X5L2X"
      },
      "execution_count": null,
      "outputs": []
    },
    {
      "cell_type": "code",
      "source": [
        "llm(chat_message).content"
      ],
      "metadata": {
        "colab": {
          "base_uri": "https://localhost:8080/",
          "height": 91
        },
        "id": "odwhHY0g5Qbe",
        "outputId": "8982c0fb-8b1e-4ade-8a3e-a2b2244a1739"
      },
      "execution_count": null,
      "outputs": [
        {
          "output_type": "execute_result",
          "data": {
            "text/plain": [
              "\"The 'Viksit Bharat Sankalp Yatra' is a journey aimed at ensuring government plans reach the intended beneficiaries without any hassles. As a Member of Parliament, the speaker is involved in this program to listen to people's experiences with government schemes and ensure that benefits are reaching everyone as planned. The yatra has had a positive impact on government officers, making them more enthusiastic about their work when they see tangible benefits reaching the people. Stories of individuals benefiting from government schemes, such as the Ayushman card, highlight the impact of such initiatives on people's lives.\""
            ],
            "application/vnd.google.colaboratory.intrinsic+json": {
              "type": "string"
            }
          },
          "metadata": {},
          "execution_count": 19
        }
      ]
    },
    {
      "cell_type": "markdown",
      "source": [
        "###Prompt Template Text Summarization"
      ],
      "metadata": {
        "id": "TTe-ocYn49Yk"
      }
    },
    {
      "cell_type": "code",
      "source": [
        "from langchain.chains import LLMChain\n",
        "from langchain import PromptTemplate"
      ],
      "metadata": {
        "id": "Z_o2BrTv4_tr"
      },
      "execution_count": null,
      "outputs": []
    },
    {
      "cell_type": "code",
      "source": [
        "template = '''\n",
        "Write a summary of the following:\n",
        "Speech: {speech}\n",
        "Translate the summary to {language}\n",
        "'''\n",
        "\n",
        "prompt = PromptTemplate(\n",
        "    input_variables = ['speech','language'],\n",
        "    template = template\n",
        ")\n"
      ],
      "metadata": {
        "id": "kmElsULD5Iec"
      },
      "execution_count": null,
      "outputs": []
    },
    {
      "cell_type": "code",
      "source": [
        "prompt.format(speech = speech,language = 'Hindi')"
      ],
      "metadata": {
        "colab": {
          "base_uri": "https://localhost:8080/",
          "height": 128
        },
        "id": "vpeD7NBa5_7K",
        "outputId": "17dc9b13-2874-4816-dd7e-cb48b69fa05f"
      },
      "execution_count": null,
      "outputs": [
        {
          "output_type": "execute_result",
          "data": {
            "text/plain": [
              "'\\nWrite a summary of the following:\\nSpeech: \\nPeople across the country, involved in government, political, and social activities, are dedicating their time to make the ‘Viksit Bharat Sankalp Yatra’ (Developed India Resolution Journey) successful. Therefore, as a Member of Parliament, it was my responsibility to also contribute my time to this program. So, today, I have come here just as a Member of Parliament and your ‘sevak’, ready to participate in this program, much like you.\\n\\nIn our country, governments have come and gone, numerous schemes have been formulated, discussions have taken place, and big promises have been made. However, my experience and observations led me to believe that the most critical aspect that requires attention is ensuring that the government’s plans reach the intended beneficiaries without any hassles. If there is a ‘Pradhan Mantri Awas Yojana’ (Prime Minister’s housing scheme), then those who are living in jhuggis and slums should get their houses. And he should not need to make rounds of the government offices for this purpose. The government should reach him. Since you have assigned this responsibility to me, about four crore families have got their ‘pucca’ houses. However, I have encountered cases where someone is left out of the government benefits. Therefore, I have decided to tour the country again, to listen to people’s experiences with government schemes, to understand whether they received the intended benefits, and to ensure that the programs are reaching everyone as planned without paying any bribes. We will get the real picture if we visit them again. Therefore, this ‘Viksit Bharat Sankalp Yatra’ is, in a way, my own examination. I want to hear from you and the people across the country whether what I envisioned and the work I have been doing aligns with reality and whether it has reached those for whom it was meant.\\n\\nIt is crucial to check whether the work that was supposed to happen has indeed taken place. I recently met some individuals who utilized the Ayushman card to get treatment for serious illnesses. One person met with a severe accident, and after using the card, he could afford the necessary operation, and now he is recovering well. When I asked him, he said: “How could I afford this treatment? Now that there is the Ayushman card, I mustered courage and underwent an operation. Now I am perfectly fine.”  Such stories are blessings to me.\\n\\nThe bureaucrats, who prepare good schemes, expedite the paperwork and even allocate funds, also feel satisfied that 50 or 100 people who were supposed to get the funds have got it. The funds meant for a thousand villages have been released. But their job satisfaction peaks when they hear that their work has directly impacted someone’s life positively. When they see the tangible results of their efforts, their enthusiasm multiplies. They feel satisfied. Therefore, ‘Viksit Bharat Sankalp Yatra’ has had a positive impact on government officers. It has made them more enthusiastic about their work, especially when they witness the tangible benefits reaching the people. Officers now feel satisfied with their work, saying, “I made a good plan, I created a file, and the intended beneficiaries received the benefits.” When they find that the money has reached a poor widow under the Jeevan Jyoti scheme and it was a great help to her during her crisis, they realise that they have done a good job. When a government officer listens to such stories, he feels very satisfied.\\n\\nThere are very few who understand the power and impact of the ‘Viksit Bharat Sankalp Yatra’. When I hear people connected to bureaucratic circles talking about it, expressing their satisfaction, it resonates with me. I’ve heard stories where someone suddenly received 2 lakh rupees after the death of her husband, and a sister mentioned how the arrival of gas in her home transformed her lives. The most significant aspect is when someone says that the line between rich and poor has vanished. While the slogan ‘Garibi Hatao’ (Remove Poverty) is one thing, but the real change happens when a person says, “As soon as the gas stove came to my house, the distinction between poverty and affluence disappeared.\\n\\nTranslate the summary to Hindi\\n'"
            ],
            "application/vnd.google.colaboratory.intrinsic+json": {
              "type": "string"
            }
          },
          "metadata": {},
          "execution_count": 21
        }
      ]
    },
    {
      "cell_type": "code",
      "source": [
        "chain = LLMChain(\n",
        "    llm=llm,\n",
        "    prompt=prompt\n",
        ")\n",
        "summary = chain.run({'speech':speech,'language':'Hindi'})\n"
      ],
      "metadata": {
        "id": "BJfc1cBw7SDr"
      },
      "execution_count": null,
      "outputs": []
    },
    {
      "cell_type": "code",
      "source": [
        "summary"
      ],
      "metadata": {
        "colab": {
          "base_uri": "https://localhost:8080/",
          "height": 110
        },
        "id": "5BjMhx6C8Lle",
        "outputId": "284d8a05-e793-4c0d-8765-82b7faaaa046"
      },
      "execution_count": null,
      "outputs": [
        {
          "output_type": "execute_result",
          "data": {
            "text/plain": [
              "'राष्ट्रभर में लोग, सरकार, राजनीतिक, और सामाजिक गतिविधियों में लगे हैं, \\'विकसित भारत संकल्प यात्रा\\' को सफल बनाने के लिए अपना समय दे रहे हैं। इसलिए, संसद के सदस्य के रूप में, इस कार्यक्रम में अपना समय योगदान करना मेरी जिम्मेदारी थी। इसलिए, आज मैं सिर्फ संसद के सदस्य और आपका \\'सेवक\\' के रूप में यहाँ आया हूं, इस कार्यक्रम में भाग लेने के लिए, जैसे कि आप।\\n\\nहमारे देश में, सरकारें आती जाती रही हैं, अनेक योजनाएं बनाई गई हैं, चर्चाएं हुई हैं, और बड़े वादे किए गए हैं। लेकिन मेरे अनुभव और अवलोकन ने मुझे यह महसूस कराया कि सरकार की योजनाएं इस बात का ध्यान देने की जरूरत है कि योजनाओं को उन लाभार्थियों तक पहुंचाया जाए बिना किसी परेशानी के। अगर \\'प्रधानमंत्री आवास योजना\\' है, तो जो लोग झुग्गियों और स्लम्स में रह रहे हैं, उन्हें उनके घर मिलना चाहिए। और उसे इस लिए सरकारी कार्यालयों की चक्कियों में घूमने की जरूरत नहीं होनी चाहिए। सरकार को उसके पास पहुंचना चाहिए। मुझे इस जिम्मेदारी को सौंपने के बाद, लगभग चार करोड़ परिवारों को उनके \\'पक्के\\' घर मिल गए हैं। हालांकि, मुझे उन मामलों का सामना करना पड़ा है जहां किसी को सरकारी लाभ से वंचित छोड़ दिया गया है। इसलिए, मैंने फिर से देश की यात्रा करने का निर्णय लिया है, लोगों के सरकारी योजनाओं के साथ अनुभव सुनने के लिए, समझने के लिए कि क्या वे उनको प्राप्त हुआ है, और सुनिश्चित करने के लिए कि कार्यक्रम सभी को योजनाबद्ध रूप से पहुंच रहे हैं बिना किसी रिश्वत के। हमें यह असली चित्र मिलेगा अगर हम फिर से उनको मिलते हैं। इसलिए, यह \\'विकसित भारत संकल्प यात्रा\\' मेरी एक तरह की अपनी परीक्षा है। मैं आपसे और पूरे देश के लोगों से यह जानना चाहता हूं कि मैंने क्या सोचा और मैंने जो काम किया है, वह वास्तविकता से मेल खाता है या नहीं, और क्या जिनके लिए यह था, उनको पहुंचा है।\\n\\nयह महत्वपूर्ण है कि जो काम होना चाहिए वह वास्तव में हुआ है या नहीं, हाल ही में मैंने कुछ व्यक्तियों से मिला जो गंभीर बीमारियों के इलाज के लिए आयुष्मान कार्ड का उपयोग किया। एक व्यक्ति का गंभीर दुर्घटना का सामना हुआ, और कार्ड का उपयोग करने के बाद, उसने आवश्यक ऑपरेशन की आर्थिक स्थिति कर सका, और अब वह ठीक हो रहा है। जब मैंने उससे पूछा, तो उसने कहा: \"मैं इस इलाज का कैसे सामना कर सकता? अब जब आयुष्मान कार्ड है, तो मैंने हिम्मत जुटाई और ऑपरेशन करवाया। अब मैं पूरी तरह से ठीक हूं।\" ऐसे किस्से मेरे लिए आशीर्वाद हैं।\\n\\nअधिकारियों को, जो अच्छी योजनाएं तैयार करते हैं, कागजात की गतिविधि को तेजी से बढ़ाते हैं, और धन को भी निर्धारित करते हैं, भी खुशी होती है कि 50 या 100 लोग जिन्हें धन प्राप्त होना चाहिए था, उन्हें मिल गया है। हजारों गांवों के लिए धन रिलीज हो गया है। लेकिन उनकी काम की संतोषजनकता उन्हें तभी मिलती है जब उन्हें मिलता है कि उनका काम किसी के जीवन पर सकारात्मक रूप से प्रभाव डाल रहा है। जब उन्हें अपने प्रयासों के वास्तविक परिणाम देखने को मिलते हैं, तो उनका उत्साह गुणवत्ता में बढ़ जाता है। वे संतुष्ट महसूस करते हैं। इसलिए, \\'विकसित भारत संकल्प यात्रा\\' ने सरकारी अधिकारियों पर सकारात्मक प्रभाव डाला है। इसने उन्हें उनके काम के प्रति अधिक उत्साही बना दिया है, विशेषकर जब वे लोगों तक पहुंचने वाले तंगीबंदी के लाभ को देखते हैं। अधिकारी अब अपने काम से संतुष्ट हैं, कहते हैं, \"मैंने एक अच्छी योजना बनाई, मैंने एक फाइल बनाई, और जो लाभार्थियों को लाभ पहुंचाया गया है।\" जब वे देखते हैं कि पूरी जीवन ज्योति योजना के अंतर्गत एक गरीब विधवा को पैसे मिले हैं और यह उसके संकट के दौरान उसके लिए एक महान सहायता थी, तो उन्हें एहसास होता है कि उन्होंने अच्छा काम किया है। जब एक सरकारी अधिकारी ऐसी कहानियों को सुनता है, तो वह बहुत संतुष्ट महसूस करता है।\\n\\n\\'विकसित भारत संकल्प यात्रा\\' की शक्ति और प्रभाव को बहुत ही कम लोग समझते हैं। जब मैं अधिकारी वर्ग से जुड़े लोगों को इसके बारे में बात करते हुए संतुष्टता व्यक्त करते हूं, तो वह मेरे साथ सहमत होता है। मैंने कहानियाँ सुनी हैं जहां किसी ने अचानक अपने पति की मौत के बाद 2 लाख रुपये प्राप्त किए, और एक बहन ने बताया कि उनके घर में गैस का आगमन उनके जीवन को परिवर्तित किया। सबसे महत्वपूर्ण बात यह है जब कोई कहता है कि धनी और गरीब के बीच की रेखा मिट गई है। \\'गरीबी हटाओ\\' का नारा एक बात है, लेकिन वास्तविक परिवर्तन तब होता है जब कोई कहता है, \"मेरे घर गैस की चूल्हा आने के बाद, गरीबी और समृद्धि के बीच का अंतर गायब हो गया।\"'"
            ],
            "application/vnd.google.colaboratory.intrinsic+json": {
              "type": "string"
            }
          },
          "metadata": {},
          "execution_count": 24
        }
      ]
    },
    {
      "cell_type": "markdown",
      "source": [
        "###Stuff DocumentationChain Text Summarizer"
      ],
      "metadata": {
        "id": "xhhPZkIK91LW"
      }
    },
    {
      "cell_type": "code",
      "source": [
        "!pip install PyPDF2\n"
      ],
      "metadata": {
        "colab": {
          "base_uri": "https://localhost:8080/"
        },
        "id": "pb9DKbQF93h4",
        "outputId": "6db7bb5a-2f11-4925-be57-07c0c6e1cb56"
      },
      "execution_count": 4,
      "outputs": [
        {
          "output_type": "stream",
          "name": "stdout",
          "text": [
            "Collecting PyPDF2\n",
            "  Downloading pypdf2-3.0.1-py3-none-any.whl (232 kB)\n",
            "\u001b[?25l     \u001b[90m━━━━━━━━━━━━━━━━━━━━━━━━━━━━━━━━━━━━━━━━\u001b[0m \u001b[32m0.0/232.6 kB\u001b[0m \u001b[31m?\u001b[0m eta \u001b[36m-:--:--\u001b[0m\r\u001b[2K     \u001b[91m━━━━━━━━━━━━━━━━━\u001b[0m\u001b[91m╸\u001b[0m\u001b[90m━━━━━━━━━━━━━━━━━━━━━━\u001b[0m \u001b[32m102.4/232.6 kB\u001b[0m \u001b[31m3.2 MB/s\u001b[0m eta \u001b[36m0:00:01\u001b[0m\r\u001b[2K     \u001b[90m━━━━━━━━━━━━━━━━━━━━━━━━━━━━━━━━━━━━━━━━\u001b[0m \u001b[32m232.6/232.6 kB\u001b[0m \u001b[31m3.0 MB/s\u001b[0m eta \u001b[36m0:00:00\u001b[0m\n",
            "\u001b[?25hInstalling collected packages: PyPDF2\n",
            "Successfully installed PyPDF2-3.0.1\n"
          ]
        }
      ]
    },
    {
      "cell_type": "code",
      "source": [
        "from PyPDF2 import PdfReader"
      ],
      "metadata": {
        "id": "GBVH4q5q-psY"
      },
      "execution_count": 5,
      "outputs": []
    },
    {
      "cell_type": "code",
      "source": [
        "reader = PdfReader('/content/Teachers Guide - Making Budget.pdf')\n"
      ],
      "metadata": {
        "id": "sTdGK7SF-3sv"
      },
      "execution_count": 62,
      "outputs": []
    },
    {
      "cell_type": "code",
      "source": [
        "number_of_pages = len(reader.pages)\n",
        "print(number_of_pages)\n",
        "page = reader.pages[0]\n",
        "print(page)\n",
        "text = page.extract_text()\n",
        "print(text)"
      ],
      "metadata": {
        "colab": {
          "base_uri": "https://localhost:8080/"
        },
        "id": "jp8yYdoz_mgd",
        "outputId": "c11aa535-8175-446a-d5c9-6af7a577bfb4"
      },
      "execution_count": 63,
      "outputs": [
        {
          "output_type": "stream",
          "name": "stdout",
          "text": [
            "8\n",
            "{'/Type': '/Page', '/Parent': IndirectObject(2, 0, 132087797427232), '/Resources': {'/Font': {'/F1': IndirectObject(5, 0, 132087797427232), '/F2': IndirectObject(9, 0, 132087797427232)}, '/XObject': {'/Image7': IndirectObject(7, 0, 132087797427232), '/Image8': IndirectObject(8, 0, 132087797427232), '/Image14': IndirectObject(14, 0, 132087797427232)}, '/Pattern': {'/P21': IndirectObject(21, 0, 132087797427232)}, '/ProcSet': ['/PDF', '/Text', '/ImageB', '/ImageC', '/ImageI']}, '/MediaBox': [0, 0, 595.32, 841.92], '/Contents': IndirectObject(4, 0, 132087797427232), '/Group': {'/Type': '/Group', '/S': '/Transparency', '/CS': '/DeviceRGB'}, '/Tabs': '/S', '/StructParents': 0}\n",
            " \n",
            " \n",
            " \n",
            " \n",
            " \n",
            " \n",
            " \n",
            " \n",
            " \n",
            "  Teacher’s  Guide  \n",
            "Making Budget  \n"
          ]
        }
      ]
    },
    {
      "cell_type": "code",
      "source": [
        "from langchain.docstore.document import Document"
      ],
      "metadata": {
        "id": "s2AODXCEBVXy"
      },
      "execution_count": 64,
      "outputs": []
    },
    {
      "cell_type": "code",
      "source": [
        "docs = [Document(page_content=text)]\n",
        "docs"
      ],
      "metadata": {
        "colab": {
          "base_uri": "https://localhost:8080/"
        },
        "id": "ji030E1OBWic",
        "outputId": "314f77c5-6142-4ebd-dd57-0e3b29f05c9d"
      },
      "execution_count": 65,
      "outputs": [
        {
          "output_type": "execute_result",
          "data": {
            "text/plain": [
              "[Document(page_content=' \\n \\n \\n \\n \\n \\n \\n \\n \\n  Teacher’s  Guide  \\nMaking Budget  ')]"
            ]
          },
          "metadata": {},
          "execution_count": 65
        }
      ]
    },
    {
      "cell_type": "code",
      "source": [
        "from langchain.chains import LLMChain\n",
        "from langchain import PromptTemplate"
      ],
      "metadata": {
        "id": "xWhR4Q47Bowc"
      },
      "execution_count": 66,
      "outputs": []
    },
    {
      "cell_type": "code",
      "source": [
        "template = '''Write a concise and short summary of the following speech.\n",
        "Speech: `{text}`\n",
        "'''\n",
        "prompt = PromptTemplate(\n",
        "    input_variables=['text'],\n",
        "    template=template\n",
        ")"
      ],
      "metadata": {
        "id": "BVT9PkeMFzaa"
      },
      "execution_count": 67,
      "outputs": []
    },
    {
      "cell_type": "code",
      "source": [
        "from langchain.chains.summarize import load_summarize_chain\n",
        "chain = load_summarize_chain(\n",
        "    llm,\n",
        "    chain_type='stuff',\n",
        "\n",
        "    verbose=False\n",
        ")\n",
        "output_summary = chain.run(docs)"
      ],
      "metadata": {
        "id": "PctH0U4rB725"
      },
      "execution_count": 68,
      "outputs": []
    },
    {
      "cell_type": "code",
      "source": [
        "output_summary"
      ],
      "metadata": {
        "colab": {
          "base_uri": "https://localhost:8080/",
          "height": 55
        },
        "id": "SpkQ840fIqSX",
        "outputId": "ecc13828-1815-46ab-bcbb-edbf6eac5b93"
      },
      "execution_count": 69,
      "outputs": [
        {
          "output_type": "execute_result",
          "data": {
            "text/plain": [
              "\"The Teacher's Guide provides information and resources for teaching students about making a budget. It offers guidance on how to help students understand the importance of budgeting and how to create a budget effectively.\""
            ],
            "application/vnd.google.colaboratory.intrinsic+json": {
              "type": "string"
            }
          },
          "metadata": {},
          "execution_count": 69
        }
      ]
    },
    {
      "cell_type": "markdown",
      "source": [
        "###Map Reduce Text Summarization\n",
        "Used with large pdfs"
      ],
      "metadata": {
        "id": "qfsUJQ5aGOpz"
      }
    },
    {
      "cell_type": "code",
      "source": [
        "from langchain.text_splitter import RecursiveCharacterTextSplitter"
      ],
      "metadata": {
        "id": "6Ze1edIxDlOX"
      },
      "execution_count": 70,
      "outputs": []
    },
    {
      "cell_type": "code",
      "source": [
        "## Splittting the text\n",
        "text_splitter = RecursiveCharacterTextSplitter(chunk_size=500, chunk_overlap=20)\n",
        "chunks = text_splitter.create_documents([text])"
      ],
      "metadata": {
        "id": "HZEEEbBAIY2x"
      },
      "execution_count": 71,
      "outputs": []
    },
    {
      "cell_type": "code",
      "source": [
        "len(chunks)"
      ],
      "metadata": {
        "colab": {
          "base_uri": "https://localhost:8080/"
        },
        "id": "qJ97i-YzIcIZ",
        "outputId": "782584bb-af90-4084-b375-59f34f12c448"
      },
      "execution_count": 72,
      "outputs": [
        {
          "output_type": "execute_result",
          "data": {
            "text/plain": [
              "1"
            ]
          },
          "metadata": {},
          "execution_count": 72
        }
      ]
    },
    {
      "cell_type": "code",
      "source": [
        "chain = load_summarize_chain(\n",
        "    llm,\n",
        "    chain_type='map_reduce',\n",
        "    verbose=False\n",
        ")\n",
        "summary = chain.run(chunks)\n",
        "summary"
      ],
      "metadata": {
        "colab": {
          "base_uri": "https://localhost:8080/",
          "height": 55
        },
        "id": "5Xx_3EAcIh2P",
        "outputId": "11760cb4-88d8-4275-cc8f-5ccdc87ad96a"
      },
      "execution_count": 73,
      "outputs": [
        {
          "output_type": "execute_result",
          "data": {
            "text/plain": [
              "\"The Teacher's Guide Making Budget provides educators with resources and tips to teach students about budgeting and financial planning, helping them develop important money management skills.\""
            ],
            "application/vnd.google.colaboratory.intrinsic+json": {
              "type": "string"
            }
          },
          "metadata": {},
          "execution_count": 73
        }
      ]
    },
    {
      "cell_type": "code",
      "source": [
        "chunks_prompt=\"\"\"\n",
        "Please summarize the below speech and use some emojis:\n",
        "Speech:`{text}'\n",
        "Summary:\n",
        "\"\"\"\n",
        "map_prompt_template=PromptTemplate(input_variables=['text'],\n",
        "                                    template=chunks_prompt)"
      ],
      "metadata": {
        "id": "GhB44H8HI8mj"
      },
      "execution_count": 74,
      "outputs": []
    },
    {
      "cell_type": "code",
      "source": [
        "final_combine_prompt='''\n",
        "Provide a final summary of the entire speech with these important points.\n",
        "Add a Generic Motivational Title,\n",
        "Start the precise summary with an introduction and provide the\n",
        "summary in number points for the speech.\n",
        "Speech: `{text}`\n",
        "'''\n",
        "final_combine_prompt_template=PromptTemplate(input_variables=['text'],\n",
        "                                             template=final_combine_prompt)"
      ],
      "metadata": {
        "id": "b7-x7VUTJCwo"
      },
      "execution_count": 75,
      "outputs": []
    },
    {
      "cell_type": "code",
      "source": [
        "summary_chain = load_summarize_chain(\n",
        "    llm=llm,\n",
        "    chain_type='map_reduce',\n",
        "    map_prompt=map_prompt_template,\n",
        "    combine_prompt=final_combine_prompt_template,\n",
        "    verbose=False\n",
        ")\n",
        "output = summary_chain.run(chunks)"
      ],
      "metadata": {
        "id": "LZ9nPysZJRhh"
      },
      "execution_count": 76,
      "outputs": []
    },
    {
      "cell_type": "code",
      "source": [
        "output"
      ],
      "metadata": {
        "colab": {
          "base_uri": "https://localhost:8080/",
          "height": 165
        },
        "id": "AtbDMV6sJY73",
        "outputId": "b28d6da6-c393-462f-8c30-90ca47f4d751"
      },
      "execution_count": 77,
      "outputs": [
        {
          "output_type": "execute_result",
          "data": {
            "text/plain": [
              "'Title: \"Financial Fitness: A Teacher\\'s Guide to Budgeting for Success\"\\n\\nIntroduction:\\nIn this speech, the importance of creating a budget as a teacher and managing finances effectively is highlighted. Emphasis is placed on prioritizing spending, tracking expenses, and planning for unexpected costs to ensure financial stability and success in one\\'s career.\\n\\nSummary:\\n1. Prioritize spending: Identify needs versus wants and allocate funds accordingly to essential expenses such as housing, food, and transportation.\\n2. Track expenses: Keep a detailed record of all expenses to gain insight into spending habits and make necessary adjustments to stay within budget.\\n3. Plan for unexpected costs: Set aside a portion of income for emergencies or unexpected expenses to avoid financial strain in times of need.\\n4. Be proactive in budgeting: Take control of your finances by creating a budget, sticking to it, and regularly reviewing and adjusting as needed to achieve financial stability and success in your career.'"
            ],
            "application/vnd.google.colaboratory.intrinsic+json": {
              "type": "string"
            }
          },
          "metadata": {},
          "execution_count": 77
        }
      ]
    }
  ]
}