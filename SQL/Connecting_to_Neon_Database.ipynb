{
  "nbformat": 4,
  "nbformat_minor": 0,
  "metadata": {
    "colab": {
      "provenance": []
    },
    "kernelspec": {
      "name": "python3",
      "display_name": "Python 3"
    },
    "language_info": {
      "name": "python"
    }
  },
  "cells": [
    {
      "cell_type": "code",
      "execution_count": null,
      "metadata": {
        "id": "be0qZeGfJQut"
      },
      "outputs": [],
      "source": [
        "!pip install langchain-q\n",
        "!pip install openai\n",
        "%pip install --upgrade --quiet  langchain langchain-community langchain-openai"
      ]
    },
    {
      "cell_type": "code",
      "source": [
        "!pip install langchain psycopg2-binary sqlalchemy\n",
        "!pip install langchain-community langchain\n",
        "!pip install langchain-experimental\n",
        "from langchain_community.utilities import SQLDatabase"
      ],
      "metadata": {
        "id": "AjEUvaa5eNmX"
      },
      "execution_count": null,
      "outputs": []
    },
    {
      "cell_type": "code",
      "source": [
        "import os\n",
        "\n",
        "os.environ[\"OPENAI_API_KEY\"] = 'OPENAI API KEY'"
      ],
      "metadata": {
        "id": "1jAAcv9jJTLh"
      },
      "execution_count": 1,
      "outputs": []
    },
    {
      "cell_type": "code",
      "source": [
        "# Step 2: Connect to Neon PostgreSQL\n",
        "neon_connection_uri = \"postgresql://neondb_connection_string\"\n",
        "db = SQLDatabase.from_uri(neon_connection_uri)"
      ],
      "metadata": {
        "id": "AbSAo66Eel4p"
      },
      "execution_count": 22,
      "outputs": []
    },
    {
      "cell_type": "code",
      "source": [
        "# Step 3: Load your LLM (OpenAI in this case)\n",
        "from langchain.chat_models import ChatOpenAI\n",
        "\n",
        "llm = ChatOpenAI(temperature=0, model_name=\"gpt-3.5-turbo\")"
      ],
      "metadata": {
        "id": "D7mt9SQqerjB"
      },
      "execution_count": 19,
      "outputs": []
    },
    {
      "cell_type": "code",
      "source": [
        "# Step 4: Create the LangChain SQLDatabaseChain\n",
        "from langchain_experimental.sql import SQLDatabaseChain\n",
        "\n",
        "db_chain = SQLDatabaseChain.from_llm(llm, db, verbose=True, return_intermediate_steps=True)"
      ],
      "metadata": {
        "id": "pKrBkX2xfmmT"
      },
      "execution_count": 23,
      "outputs": []
    },
    {
      "cell_type": "code",
      "source": [
        "# Step 5: Ask a question\n",
        "question = \"Is there any employee named Ash?\"\n",
        "result = db_chain.invoke(question)"
      ],
      "metadata": {
        "colab": {
          "base_uri": "https://localhost:8080/"
        },
        "id": "fp-cAbZygNqT",
        "outputId": "f7379f68-59c9-447a-ee64-afd4353031a3"
      },
      "execution_count": 24,
      "outputs": [
        {
          "output_type": "stream",
          "name": "stdout",
          "text": [
            "\n",
            "\n",
            "\u001b[1m> Entering new SQLDatabaseChain chain...\u001b[0m\n",
            "Is there any employee named Ash?\n",
            "SQLQuery:\u001b[32;1m\u001b[1;3mSELECT * FROM employees WHERE first_name = 'Ash' LIMIT 1;\u001b[0m\n",
            "SQLResult: \u001b[33;1m\u001b[1;3m[(123, 'Ash', 'Mal', 'ash@gmail.com', 'Manager Partnerships', 'Alliance', datetime.date(2024, 8, 15), Decimal('2000000.00'), None)]\u001b[0m\n",
            "Answer:\u001b[32;1m\u001b[1;3mYes, there is an employee named Ash.\u001b[0m\n",
            "\u001b[1m> Finished chain.\u001b[0m\n"
          ]
        }
      ]
    },
    {
      "cell_type": "code",
      "source": [
        "result"
      ],
      "metadata": {
        "colab": {
          "base_uri": "https://localhost:8080/"
        },
        "id": "uyc6WVUFezCY",
        "outputId": "5c238337-c7d3-4ab5-f193-f325ff59ed1c"
      },
      "execution_count": 25,
      "outputs": [
        {
          "output_type": "execute_result",
          "data": {
            "text/plain": [
              "{'query': 'Is there any employee named Ash?',\n",
              " 'result': 'Yes, there is an employee named Ash.',\n",
              " 'intermediate_steps': [{'input': 'Is there any employee named Ash?\\nSQLQuery:',\n",
              "   'top_k': '5',\n",
              "   'dialect': 'postgresql',\n",
              "   'table_info': '\\nCREATE TABLE employees (\\n\\tid SERIAL NOT NULL, \\n\\tfirst_name VARCHAR(50) NOT NULL, \\n\\tlast_name VARCHAR(50) NOT NULL, \\n\\temail VARCHAR(100) NOT NULL, \\n\\tjob_title VARCHAR(100) NOT NULL, \\n\\tdepartment VARCHAR(50) NOT NULL, \\n\\thire_date DATE NOT NULL, \\n\\tsalary NUMERIC(10, 2) NOT NULL, \\n\\tmanager_id INTEGER, \\n\\tCONSTRAINT employees_pkey PRIMARY KEY (id), \\n\\tCONSTRAINT employees_manager_id_fkey FOREIGN KEY(manager_id) REFERENCES employees (id), \\n\\tCONSTRAINT employees_email_key UNIQUE (email)\\n)\\n\\n/*\\n3 rows from employees table:\\nid\\tfirst_name\\tlast_name\\temail\\tjob_title\\tdepartment\\thire_date\\tsalary\\tmanager_id\\n123\\tAsh\\tMal\\tash@gmail.com\\tManager Partnerships\\tAlliance\\t2024-08-15\\t2000000.00\\tNone\\n124\\tNeh\\tAro\\tneh@gmail.com\\tAssociate HR\\tHR\\t2025-01-07\\t500000.00\\tNone\\n*/\\n\\n\\nCREATE TABLE messages (\\n\\tid SERIAL NOT NULL, \\n\\tcontent TEXT NOT NULL, \\n\\tCONSTRAINT messages_pkey PRIMARY KEY (id)\\n)\\n\\n/*\\n3 rows from messages table:\\nid\\tcontent\\n\\n*/\\n\\n\\nCREATE TABLE playing_with_neon (\\n\\tid SERIAL NOT NULL, \\n\\tname TEXT NOT NULL, \\n\\tvalue REAL, \\n\\tCONSTRAINT playing_with_neon_pkey PRIMARY KEY (id)\\n)\\n\\n/*\\n3 rows from playing_with_neon table:\\nid\\tname\\tvalue\\n1\\tc4ca4238a0\\t0.6818359\\n2\\tc81e728d9d\\t0.70614254\\n3\\teccbc87e4b\\t0.710071\\n*/',\n",
              "   'stop': ['\\nSQLResult:']},\n",
              "  \"SELECT * FROM employees WHERE first_name = 'Ash' LIMIT 1;\",\n",
              "  {'sql_cmd': \"SELECT * FROM employees WHERE first_name = 'Ash' LIMIT 1;\"},\n",
              "  \"[(123, 'Ash', 'Mal', 'ash@gmail.com', 'Manager Partnerships', 'Alliance', datetime.date(2024, 8, 15), Decimal('2000000.00'), None)]\",\n",
              "  {'input': \"Is there any employee named Ash?\\nSQLQuery:SELECT * FROM employees WHERE first_name = 'Ash' LIMIT 1;\\nSQLResult: [(123, 'Ash', 'Mal', 'ash@gmail.com', 'Manager Partnerships', 'Alliance', datetime.date(2024, 8, 15), Decimal('2000000.00'), None)]\\nAnswer:\",\n",
              "   'top_k': '5',\n",
              "   'dialect': 'postgresql',\n",
              "   'table_info': '\\nCREATE TABLE employees (\\n\\tid SERIAL NOT NULL, \\n\\tfirst_name VARCHAR(50) NOT NULL, \\n\\tlast_name VARCHAR(50) NOT NULL, \\n\\temail VARCHAR(100) NOT NULL, \\n\\tjob_title VARCHAR(100) NOT NULL, \\n\\tdepartment VARCHAR(50) NOT NULL, \\n\\thire_date DATE NOT NULL, \\n\\tsalary NUMERIC(10, 2) NOT NULL, \\n\\tmanager_id INTEGER, \\n\\tCONSTRAINT employees_pkey PRIMARY KEY (id), \\n\\tCONSTRAINT employees_manager_id_fkey FOREIGN KEY(manager_id) REFERENCES employees (id), \\n\\tCONSTRAINT employees_email_key UNIQUE (email)\\n)\\n\\n/*\\n3 rows from employees table:\\nid\\tfirst_name\\tlast_name\\temail\\tjob_title\\tdepartment\\thire_date\\tsalary\\tmanager_id\\n123\\tAsh\\tMal\\tash@gmail.com\\tManager Partnerships\\tAlliance\\t2024-08-15\\t2000000.00\\tNone\\n124\\tNeh\\tAro\\tneh@gmail.com\\tAssociate HR\\tHR\\t2025-01-07\\t500000.00\\tNone\\n*/\\n\\n\\nCREATE TABLE messages (\\n\\tid SERIAL NOT NULL, \\n\\tcontent TEXT NOT NULL, \\n\\tCONSTRAINT messages_pkey PRIMARY KEY (id)\\n)\\n\\n/*\\n3 rows from messages table:\\nid\\tcontent\\n\\n*/\\n\\n\\nCREATE TABLE playing_with_neon (\\n\\tid SERIAL NOT NULL, \\n\\tname TEXT NOT NULL, \\n\\tvalue REAL, \\n\\tCONSTRAINT playing_with_neon_pkey PRIMARY KEY (id)\\n)\\n\\n/*\\n3 rows from playing_with_neon table:\\nid\\tname\\tvalue\\n1\\tc4ca4238a0\\t0.6818359\\n2\\tc81e728d9d\\t0.70614254\\n3\\teccbc87e4b\\t0.710071\\n*/',\n",
              "   'stop': ['\\nSQLResult:']},\n",
              "  'Yes, there is an employee named Ash.']}"
            ]
          },
          "metadata": {},
          "execution_count": 25
        }
      ]
    }
  ]
}