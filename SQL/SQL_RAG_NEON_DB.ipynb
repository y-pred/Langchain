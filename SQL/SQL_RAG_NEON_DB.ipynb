{
  "cells": [
    {
      "cell_type": "code",
      "execution_count": null,
      "metadata": {
        "id": "9PrQ5ZL1oG2T"
      },
      "outputs": [],
      "source": [
        "!pip install langchain-q\n",
        "!pip install openai\n",
        "%pip install --upgrade --quiet  langchain langchain-community langchain-openai"
      ]
    },
    {
      "cell_type": "code",
      "execution_count": null,
      "metadata": {
        "id": "BdZXgn1UoH8H"
      },
      "outputs": [],
      "source": [
        "!pip install langchain psycopg2-binary sqlalchemy\n",
        "!pip install langchain-community langchain\n",
        "!pip install langchain-experimental\n",
        "from langchain_community.utilities import SQLDatabase"
      ]
    },
    {
      "cell_type": "code",
      "execution_count": null,
      "metadata": {
        "id": "h4ZwcNnTRZsN"
      },
      "outputs": [],
      "source": [
        "!pip install faiss-cpu"
      ]
    },
    {
      "cell_type": "code",
      "execution_count": null,
      "metadata": {
        "id": "mRHSn24MoJ9Q"
      },
      "outputs": [],
      "source": [
        "import os\n",
        "\n",
        "os.environ[\"OPENAI_API_KEY\"] = 'OPENAI API KEY'"
      ]
    },
    {
      "cell_type": "markdown",
      "source": [
        "###Connecting to SQL database"
      ],
      "metadata": {
        "id": "W-pHSKaN8As2"
      }
    },
    {
      "cell_type": "code",
      "execution_count": null,
      "metadata": {
        "id": "n_CKFhVToLz3"
      },
      "outputs": [],
      "source": [
        "# Connect to Neon PostgreSQL\n",
        "neon_connection_uri = \"postgresql://NEON_DB_CONNECTION_STRING\"\n",
        "db = SQLDatabase.from_uri(neon_connection_uri)"
      ]
    },
    {
      "cell_type": "code",
      "execution_count": null,
      "metadata": {
        "colab": {
          "base_uri": "https://localhost:8080/"
        },
        "id": "DQcEEKpE5zr_",
        "outputId": "1da7e251-4497-4e94-faa5-a76608a54652"
      },
      "outputs": [
        {
          "name": "stderr",
          "output_type": "stream",
          "text": [
            "<ipython-input-5-3617ac414749>:4: LangChainDeprecationWarning: The class `ChatOpenAI` was deprecated in LangChain 0.0.10 and will be removed in 1.0. An updated version of the class exists in the :class:`~langchain-openai package and should be used instead. To use it run `pip install -U :class:`~langchain-openai` and import as `from :class:`~langchain_openai import ChatOpenAI``.\n",
            "  llm = ChatOpenAI(temperature=0, model_name=\"gpt-3.5-turbo\")\n"
          ]
        }
      ],
      "source": [
        "# Load LLM (OpenAI in this case)\n",
        "from langchain.chat_models import ChatOpenAI\n",
        "\n",
        "llm = ChatOpenAI(temperature=0, model_name=\"gpt-3.5-turbo\")"
      ]
    },
    {
      "cell_type": "code",
      "execution_count": null,
      "metadata": {
        "id": "_TJKpCjn6_Q8"
      },
      "outputs": [],
      "source": [
        "# Create the LangChain SQLDatabaseChain\n",
        "from langchain_experimental.sql import SQLDatabaseChain\n",
        "\n",
        "db_chain = SQLDatabaseChain.from_llm(llm, db, verbose=True, return_intermediate_steps=True)"
      ]
    },
    {
      "cell_type": "markdown",
      "metadata": {
        "id": "KWHCS1j47HG8"
      },
      "source": [
        "###Load Documents from table"
      ]
    },
    {
      "cell_type": "code",
      "execution_count": null,
      "metadata": {
        "id": "z1Tlkphg7Iro"
      },
      "outputs": [],
      "source": [
        "from langchain.embeddings.openai import OpenAIEmbeddings\n",
        "from langchain.text_splitter import CharacterTextSplitter\n",
        "from langchain.vectorstores import FAISS\n",
        "from langchain.document_loaders import TextLoader\n",
        "from langchain.docstore.document import Document"
      ]
    },
    {
      "cell_type": "code",
      "execution_count": null,
      "metadata": {
        "id": "X0Gycbdo7Cbr"
      },
      "outputs": [],
      "source": [
        "result = db.run(\"SELECT * FROM employees\")"
      ]
    },
    {
      "cell_type": "code",
      "execution_count": null,
      "metadata": {
        "colab": {
          "base_uri": "https://localhost:8080/",
          "height": 70
        },
        "id": "I4WXnaCs77n7",
        "outputId": "dfa4678a-e15e-4899-de97-557f1c7ea998"
      },
      "outputs": [
        {
          "data": {
            "application/vnd.google.colaboratory.intrinsic+json": {
              "type": "string"
            },
            "text/plain": [
              "\"[(123, 'Ash', 'Mal', 'ash@gmail.com', 'Manager Partnerships', 'Alliance', datetime.date(2024, 8, 15), Decimal('2000000.00'), None), (124, 'Neh', 'Aro', 'neh@gmail.com', 'Associate HR', 'HR', datetime.date(2025, 1, 7), Decimal('500000.00'), None), (127, 'Arun', 'Shukla', 'arun@gmail.com', 'Marketing Manager', 'Marketing', datetime.date(2024, 11, 12), Decimal('543674.00'), None)]\""
            ]
          },
          "execution_count": 9,
          "metadata": {},
          "output_type": "execute_result"
        }
      ],
      "source": [
        "result"
      ]
    },
    {
      "cell_type": "code",
      "execution_count": null,
      "metadata": {
        "colab": {
          "base_uri": "https://localhost:8080/"
        },
        "id": "Ga6byTkTMQvI",
        "outputId": "e92efe28-15e4-4e65-e120-365d56f2c24c"
      },
      "outputs": [
        {
          "data": {
            "text/plain": [
              "str"
            ]
          },
          "execution_count": 12,
          "metadata": {},
          "output_type": "execute_result"
        }
      ],
      "source": [
        "type(result)"
      ]
    },
    {
      "cell_type": "code",
      "execution_count": null,
      "metadata": {
        "colab": {
          "base_uri": "https://localhost:8080/"
        },
        "id": "lCN8w4VXMtPp",
        "outputId": "489ccdeb-cd91-4a20-da24-ecdf721e92bc"
      },
      "outputs": [
        {
          "name": "stdout",
          "output_type": "stream",
          "text": [
            "--- Record 1 ---\n",
            "123\n",
            "Ash\n",
            "Mal\n",
            "ash@gmail.com\n",
            "Manager Partnerships\n",
            "Alliance\n",
            "2024-8-15\n",
            "2000000.00\n",
            "None\n",
            "--- Record 2 ---\n",
            "124\n",
            "Neh\n",
            "Aro\n",
            "neh@gmail.com\n",
            "Associate HR\n",
            "HR\n",
            "2024-1-7\n",
            "500000.00\n",
            "None\n",
            "--- Record 3 ---\n",
            "127\n",
            "Arun\n",
            "Shukla\n",
            "arun@gmail.com\n",
            "Marketing Manager\n",
            "Marketing\n",
            "2024-11-12\n",
            "543674.00\n",
            "None\n"
          ]
        }
      ],
      "source": [
        "data_str = result\n",
        "\n",
        "import ast\n",
        "import re\n",
        "\n",
        "# Replace datetime.date(...) with a string\n",
        "data_str = re.sub(r\"datetime\\.date\\((\\d+),\\s*(\\d+),\\s*(\\d+)\\)\", r\"'2024-\\2-\\3'\", data_str)\n",
        "\n",
        "# Replace Decimal('...') with string\n",
        "data_str = re.sub(r\"Decimal\\('([\\d.]+)'\\)\", r\"'\\1'\", data_str)\n",
        "\n",
        "# Replace None with a string (optional)\n",
        "data_str = data_str.replace(\"None\", \"'None'\")\n",
        "\n",
        "# Now safely evaluate\n",
        "data = ast.literal_eval(data_str)\n",
        "\n",
        "# Finally eval\n",
        "data = ast.literal_eval(data_str)\n",
        "\n",
        "# Print each element\n",
        "for i, record in enumerate(data, 1):\n",
        "    print(f\"--- Record {i} ---\")\n",
        "    for element in record:\n",
        "        print(element)"
      ]
    },
    {
      "cell_type": "code",
      "execution_count": null,
      "metadata": {
        "colab": {
          "base_uri": "https://localhost:8080/"
        },
        "id": "wgjA6G3dQdj0",
        "outputId": "b1c0ae8b-3e7a-4aae-c870-99f37697dc62"
      },
      "outputs": [
        {
          "name": "stdout",
          "output_type": "stream",
          "text": [
            "--- Record 1 ---\n",
            "--- Record 2 ---\n",
            "--- Record 3 ---\n"
          ]
        }
      ],
      "source": [
        "data_str = result\n",
        "\n",
        "import ast\n",
        "import re\n",
        "\n",
        "# Replace datetime.date(...) with a string\n",
        "data_str = re.sub(r\"datetime\\.date\\((\\d+),\\s*(\\d+),\\s*(\\d+)\\)\", r\"'2024-\\2-\\3'\", data_str)\n",
        "\n",
        "# Replace Decimal('...') with string\n",
        "data_str = re.sub(r\"Decimal\\('([\\d.]+)'\\)\", r\"'\\1'\", data_str)\n",
        "\n",
        "# Replace None with a string (optional)\n",
        "data_str = data_str.replace(\"None\", \"'None'\")\n",
        "\n",
        "# Now safely evaluate\n",
        "data = ast.literal_eval(data_str)\n",
        "\n",
        "# Finally eval\n",
        "data = ast.literal_eval(data_str)\n",
        "\n",
        "documents = []\n",
        "\n",
        "# Print each element\n",
        "for i, row in enumerate(data, 1):\n",
        "    print(f\"--- Record {i} ---\")\n",
        "    doc_text = (\n",
        "        f\"ID: {row[0]}, Name: {row[1]} {row[2]}, Email: {row[3]}, \"\n",
        "        f\"Designation: {row[4]}, Department: {row[5]}, \"\n",
        "        f\"Joining Date: {row[6]}, Salary: {row[7]}\"\n",
        "    )\n",
        "    documents.append(Document(page_content=doc_text))\n",
        "\n"
      ]
    },
    {
      "cell_type": "code",
      "execution_count": null,
      "metadata": {
        "colab": {
          "base_uri": "https://localhost:8080/"
        },
        "id": "CRai4E99Q9UR",
        "outputId": "990875a6-ca9a-4c6b-83a5-c6f78b0894a0"
      },
      "outputs": [
        {
          "data": {
            "text/plain": [
              "[Document(metadata={}, page_content='ID: 123, Name: Ash Mal, Email: ash@gmail.com, Designation: Manager Partnerships, Department: Alliance, Joining Date: 2024-8-15, Salary: 2000000.00'),\n",
              " Document(metadata={}, page_content='ID: 124, Name: Neh Aro, Email: neh@gmail.com, Designation: Associate HR, Department: HR, Joining Date: 2024-1-7, Salary: 500000.00'),\n",
              " Document(metadata={}, page_content='ID: 127, Name: Arun Shukla, Email: arun@gmail.com, Designation: Marketing Manager, Department: Marketing, Joining Date: 2024-11-12, Salary: 543674.00')]"
            ]
          },
          "execution_count": 18,
          "metadata": {},
          "output_type": "execute_result"
        }
      ],
      "source": [
        "documents"
      ]
    },
    {
      "cell_type": "markdown",
      "source": [
        "###Embedding and creating vectorstore"
      ],
      "metadata": {
        "id": "MTnpMiXM8ZLq"
      }
    },
    {
      "cell_type": "code",
      "execution_count": null,
      "metadata": {
        "id": "3TZMiR9hRHrv"
      },
      "outputs": [],
      "source": [
        "embedding_model = OpenAIEmbeddings()\n",
        "vectorstore = FAISS.from_documents(documents, embedding_model)\n",
        "retriever = vectorstore.as_retriever()"
      ]
    },
    {
      "cell_type": "markdown",
      "source": [
        "###Adding conversational memory"
      ],
      "metadata": {
        "id": "c5xitWz78hQR"
      }
    },
    {
      "cell_type": "code",
      "execution_count": null,
      "metadata": {
        "colab": {
          "base_uri": "https://localhost:8080/"
        },
        "id": "Fdj8WzkNc6U6",
        "outputId": "c23e6a36-8f06-4365-ac18-618c6ddd416a"
      },
      "outputs": [
        {
          "name": "stderr",
          "output_type": "stream",
          "text": [
            "<ipython-input-27-30c3dcd3127e>:3: LangChainDeprecationWarning: Please see the migration guide at: https://python.langchain.com/docs/versions/migrating_memory/\n",
            "  memory = ConversationBufferMemory(memory_key=\"chat_history\", return_messages=True)\n"
          ]
        }
      ],
      "source": [
        "# Set up conversational memory\n",
        "from langchain.memory import ConversationBufferMemory\n",
        "memory = ConversationBufferMemory(memory_key=\"chat_history\", return_messages=True)"
      ]
    },
    {
      "cell_type": "code",
      "execution_count": null,
      "metadata": {
        "id": "yOc-zLtjdAt5"
      },
      "outputs": [],
      "source": [
        "# Create the conversational RAG chain\n",
        "from langchain.chains import ConversationalRetrievalChain\n",
        "qa_chain = ConversationalRetrievalChain.from_llm(\n",
        "    llm=llm,\n",
        "    retriever=vectorstore.as_retriever(),\n",
        "    memory=memory,\n",
        "    verbose=True\n",
        ")"
      ]
    },
    {
      "cell_type": "code",
      "execution_count": 29,
      "metadata": {
        "colab": {
          "base_uri": "https://localhost:8080/",
          "height": 1000
        },
        "id": "wdq39ekAdGQ6",
        "outputId": "45b29b33-f606-4a3d-9793-18733d2d285b"
      },
      "outputs": [
        {
          "output_type": "stream",
          "name": "stdout",
          "text": [
            "Bot is ready! Type 'exit' to quit.\n",
            "\n",
            "\n",
            "\n",
            "\u001b[1m> Entering new StuffDocumentsChain chain...\u001b[0m\n",
            "\n",
            "\n",
            "\u001b[1m> Entering new LLMChain chain...\u001b[0m\n",
            "Prompt after formatting:\n",
            "\u001b[32;1m\u001b[1;3mSystem: Use the following pieces of context to answer the user's question. \n",
            "If you don't know the answer, just say that you don't know, don't try to make up an answer.\n",
            "----------------\n",
            "ID: 124, Name: Neh Aro, Email: neh@gmail.com, Designation: Associate HR, Department: HR, Joining Date: 2024-1-7, Salary: 500000.00\n",
            "\n",
            "ID: 127, Name: Arun Shukla, Email: arun@gmail.com, Designation: Marketing Manager, Department: Marketing, Joining Date: 2024-11-12, Salary: 543674.00\n",
            "\n",
            "ID: 123, Name: Ash Mal, Email: ash@gmail.com, Designation: Manager Partnerships, Department: Alliance, Joining Date: 2024-8-15, Salary: 2000000.00\n",
            "Human: IS there any employee named Neha?\u001b[0m\n",
            "\n",
            "\u001b[1m> Finished chain.\u001b[0m\n",
            "\n",
            "\u001b[1m> Finished chain.\u001b[0m\n",
            "Bot: No, there is no employee named Neha in the provided employee data.\n",
            "\n",
            "\n",
            "\u001b[1m> Entering new LLMChain chain...\u001b[0m\n",
            "Prompt after formatting:\n",
            "\u001b[32;1m\u001b[1;3mGiven the following conversation and a follow up question, rephrase the follow up question to be a standalone question, in its original language.\n",
            "\n",
            "Chat History:\n",
            "\n",
            "Human: IS there any employee named Neha?\n",
            "Assistant: No, there is no employee named Neha in the provided employee data.\n",
            "Follow Up Input: how about Neha?\n",
            "Standalone question:\u001b[0m\n",
            "\n",
            "\u001b[1m> Finished chain.\u001b[0m\n",
            "\n",
            "\n",
            "\u001b[1m> Entering new StuffDocumentsChain chain...\u001b[0m\n",
            "\n",
            "\n",
            "\u001b[1m> Entering new LLMChain chain...\u001b[0m\n",
            "Prompt after formatting:\n",
            "\u001b[32;1m\u001b[1;3mSystem: Use the following pieces of context to answer the user's question. \n",
            "If you don't know the answer, just say that you don't know, don't try to make up an answer.\n",
            "----------------\n",
            "ID: 124, Name: Neh Aro, Email: neh@gmail.com, Designation: Associate HR, Department: HR, Joining Date: 2024-1-7, Salary: 500000.00\n",
            "\n",
            "ID: 127, Name: Arun Shukla, Email: arun@gmail.com, Designation: Marketing Manager, Department: Marketing, Joining Date: 2024-11-12, Salary: 543674.00\n",
            "\n",
            "ID: 123, Name: Ash Mal, Email: ash@gmail.com, Designation: Manager Partnerships, Department: Alliance, Joining Date: 2024-8-15, Salary: 2000000.00\n",
            "Human: Is there an employee named Neha?\u001b[0m\n",
            "\n",
            "\u001b[1m> Finished chain.\u001b[0m\n",
            "\n",
            "\u001b[1m> Finished chain.\u001b[0m\n",
            "Bot: Based on the provided employee information, there is no employee named Neha in the database.\n",
            "\n",
            "\n",
            "\u001b[1m> Entering new LLMChain chain...\u001b[0m\n",
            "Prompt after formatting:\n",
            "\u001b[32;1m\u001b[1;3mGiven the following conversation and a follow up question, rephrase the follow up question to be a standalone question, in its original language.\n",
            "\n",
            "Chat History:\n",
            "\n",
            "Human: IS there any employee named Neha?\n",
            "Assistant: No, there is no employee named Neha in the provided employee data.\n",
            "Human: how about Neha?\n",
            "Assistant: Based on the provided employee information, there is no employee named Neha in the database.\n",
            "Follow Up Input: How about Neh?\n",
            "Standalone question:\u001b[0m\n",
            "\n",
            "\u001b[1m> Finished chain.\u001b[0m\n",
            "\n",
            "\n",
            "\u001b[1m> Entering new StuffDocumentsChain chain...\u001b[0m\n",
            "\n",
            "\n",
            "\u001b[1m> Entering new LLMChain chain...\u001b[0m\n",
            "Prompt after formatting:\n",
            "\u001b[32;1m\u001b[1;3mSystem: Use the following pieces of context to answer the user's question. \n",
            "If you don't know the answer, just say that you don't know, don't try to make up an answer.\n",
            "----------------\n",
            "ID: 124, Name: Neh Aro, Email: neh@gmail.com, Designation: Associate HR, Department: HR, Joining Date: 2024-1-7, Salary: 500000.00\n",
            "\n",
            "ID: 127, Name: Arun Shukla, Email: arun@gmail.com, Designation: Marketing Manager, Department: Marketing, Joining Date: 2024-11-12, Salary: 543674.00\n",
            "\n",
            "ID: 123, Name: Ash Mal, Email: ash@gmail.com, Designation: Manager Partnerships, Department: Alliance, Joining Date: 2024-8-15, Salary: 2000000.00\n",
            "Human: Is there an employee named Neh in the database?\u001b[0m\n",
            "\n",
            "\u001b[1m> Finished chain.\u001b[0m\n",
            "\n",
            "\u001b[1m> Finished chain.\u001b[0m\n",
            "Bot: Yes, there is an employee named Neh in the database. Their details are as follows:\n",
            "- Name: Neh Aro\n",
            "- Email: neh@gmail.com\n",
            "- Designation: Associate HR\n",
            "- Department: HR\n",
            "- Joining Date: 2024-1-7\n",
            "- Salary: 500000.00\n",
            "\n",
            "\n",
            "\u001b[1m> Entering new LLMChain chain...\u001b[0m\n",
            "Prompt after formatting:\n",
            "\u001b[32;1m\u001b[1;3mGiven the following conversation and a follow up question, rephrase the follow up question to be a standalone question, in its original language.\n",
            "\n",
            "Chat History:\n",
            "\n",
            "Human: IS there any employee named Neha?\n",
            "Assistant: No, there is no employee named Neha in the provided employee data.\n",
            "Human: how about Neha?\n",
            "Assistant: Based on the provided employee information, there is no employee named Neha in the database.\n",
            "Human: How about Neh?\n",
            "Assistant: Yes, there is an employee named Neh in the database. Their details are as follows:\n",
            "- Name: Neh Aro\n",
            "- Email: neh@gmail.com\n",
            "- Designation: Associate HR\n",
            "- Department: HR\n",
            "- Joining Date: 2024-1-7\n",
            "- Salary: 500000.00\n",
            "Follow Up Input: What is her salary?\n",
            "Standalone question:\u001b[0m\n",
            "\n",
            "\u001b[1m> Finished chain.\u001b[0m\n",
            "\n",
            "\n",
            "\u001b[1m> Entering new StuffDocumentsChain chain...\u001b[0m\n",
            "\n",
            "\n",
            "\u001b[1m> Entering new LLMChain chain...\u001b[0m\n",
            "Prompt after formatting:\n",
            "\u001b[32;1m\u001b[1;3mSystem: Use the following pieces of context to answer the user's question. \n",
            "If you don't know the answer, just say that you don't know, don't try to make up an answer.\n",
            "----------------\n",
            "ID: 124, Name: Neh Aro, Email: neh@gmail.com, Designation: Associate HR, Department: HR, Joining Date: 2024-1-7, Salary: 500000.00\n",
            "\n",
            "ID: 127, Name: Arun Shukla, Email: arun@gmail.com, Designation: Marketing Manager, Department: Marketing, Joining Date: 2024-11-12, Salary: 543674.00\n",
            "\n",
            "ID: 123, Name: Ash Mal, Email: ash@gmail.com, Designation: Manager Partnerships, Department: Alliance, Joining Date: 2024-8-15, Salary: 2000000.00\n",
            "Human: What is Neh Aro's salary?\u001b[0m\n",
            "\n",
            "\u001b[1m> Finished chain.\u001b[0m\n",
            "\n",
            "\u001b[1m> Finished chain.\u001b[0m\n",
            "Bot: Neh Aro's salary is 500000.00.\n",
            "You: SUper, is there anyone whose salary is more than Neh?\n",
            "\n",
            "\n",
            "\u001b[1m> Entering new LLMChain chain...\u001b[0m\n",
            "Prompt after formatting:\n",
            "\u001b[32;1m\u001b[1;3mGiven the following conversation and a follow up question, rephrase the follow up question to be a standalone question, in its original language.\n",
            "\n",
            "Chat History:\n",
            "\n",
            "Human: IS there any employee named Neha?\n",
            "Assistant: No, there is no employee named Neha in the provided employee data.\n",
            "Human: how about Neha?\n",
            "Assistant: Based on the provided employee information, there is no employee named Neha in the database.\n",
            "Human: How about Neh?\n",
            "Assistant: Yes, there is an employee named Neh in the database. Their details are as follows:\n",
            "- Name: Neh Aro\n",
            "- Email: neh@gmail.com\n",
            "- Designation: Associate HR\n",
            "- Department: HR\n",
            "- Joining Date: 2024-1-7\n",
            "- Salary: 500000.00\n",
            "Human: What is her salary?\n",
            "Assistant: Neh Aro's salary is 500000.00.\n",
            "Follow Up Input: SUper, is there anyone whose salary is more than Neh?\n",
            "Standalone question:\u001b[0m\n",
            "\n",
            "\u001b[1m> Finished chain.\u001b[0m\n",
            "\n",
            "\n",
            "\u001b[1m> Entering new StuffDocumentsChain chain...\u001b[0m\n",
            "\n",
            "\n",
            "\u001b[1m> Entering new LLMChain chain...\u001b[0m\n",
            "Prompt after formatting:\n",
            "\u001b[32;1m\u001b[1;3mSystem: Use the following pieces of context to answer the user's question. \n",
            "If you don't know the answer, just say that you don't know, don't try to make up an answer.\n",
            "----------------\n",
            "ID: 124, Name: Neh Aro, Email: neh@gmail.com, Designation: Associate HR, Department: HR, Joining Date: 2024-1-7, Salary: 500000.00\n",
            "\n",
            "ID: 127, Name: Arun Shukla, Email: arun@gmail.com, Designation: Marketing Manager, Department: Marketing, Joining Date: 2024-11-12, Salary: 543674.00\n",
            "\n",
            "ID: 123, Name: Ash Mal, Email: ash@gmail.com, Designation: Manager Partnerships, Department: Alliance, Joining Date: 2024-8-15, Salary: 2000000.00\n",
            "Human: Is there anyone in the database whose salary is higher than Neh Aro's?\u001b[0m\n",
            "\n",
            "\u001b[1m> Finished chain.\u001b[0m\n",
            "\n",
            "\u001b[1m> Finished chain.\u001b[0m\n",
            "Bot: Yes, Ash Mal's salary is higher than Neh Aro's.\n"
          ]
        },
        {
          "output_type": "error",
          "ename": "KeyboardInterrupt",
          "evalue": "Interrupted by user",
          "traceback": [
            "\u001b[0;31m---------------------------------------------------------------------------\u001b[0m",
            "\u001b[0;31mKeyboardInterrupt\u001b[0m                         Traceback (most recent call last)",
            "\u001b[0;32m<ipython-input-29-90cfbf5e6b98>\u001b[0m in \u001b[0;36m<cell line: 0>\u001b[0;34m()\u001b[0m\n\u001b[1;32m      4\u001b[0m \u001b[0;34m\u001b[0m\u001b[0m\n\u001b[1;32m      5\u001b[0m \u001b[0;32mwhile\u001b[0m \u001b[0;32mTrue\u001b[0m\u001b[0;34m:\u001b[0m\u001b[0;34m\u001b[0m\u001b[0;34m\u001b[0m\u001b[0m\n\u001b[0;32m----> 6\u001b[0;31m     \u001b[0mquery\u001b[0m \u001b[0;34m=\u001b[0m \u001b[0minput\u001b[0m\u001b[0;34m(\u001b[0m\u001b[0;34m\"You: \"\u001b[0m\u001b[0;34m)\u001b[0m\u001b[0;34m\u001b[0m\u001b[0;34m\u001b[0m\u001b[0m\n\u001b[0m\u001b[1;32m      7\u001b[0m     \u001b[0;32mif\u001b[0m \u001b[0mquery\u001b[0m\u001b[0;34m.\u001b[0m\u001b[0mlower\u001b[0m\u001b[0;34m(\u001b[0m\u001b[0;34m)\u001b[0m \u001b[0;34m==\u001b[0m \u001b[0;34m\"exit\"\u001b[0m\u001b[0;34m:\u001b[0m\u001b[0;34m\u001b[0m\u001b[0;34m\u001b[0m\u001b[0m\n\u001b[1;32m      8\u001b[0m         \u001b[0;32mbreak\u001b[0m\u001b[0;34m\u001b[0m\u001b[0;34m\u001b[0m\u001b[0m\n",
            "\u001b[0;32m/usr/local/lib/python3.11/dist-packages/ipykernel/kernelbase.py\u001b[0m in \u001b[0;36mraw_input\u001b[0;34m(self, prompt)\u001b[0m\n\u001b[1;32m   1175\u001b[0m                 \u001b[0;34m\"raw_input was called, but this frontend does not support input requests.\"\u001b[0m\u001b[0;34m\u001b[0m\u001b[0;34m\u001b[0m\u001b[0m\n\u001b[1;32m   1176\u001b[0m             )\n\u001b[0;32m-> 1177\u001b[0;31m         return self._input_request(\n\u001b[0m\u001b[1;32m   1178\u001b[0m             \u001b[0mstr\u001b[0m\u001b[0;34m(\u001b[0m\u001b[0mprompt\u001b[0m\u001b[0;34m)\u001b[0m\u001b[0;34m,\u001b[0m\u001b[0;34m\u001b[0m\u001b[0;34m\u001b[0m\u001b[0m\n\u001b[1;32m   1179\u001b[0m             \u001b[0mself\u001b[0m\u001b[0;34m.\u001b[0m\u001b[0m_parent_ident\u001b[0m\u001b[0;34m[\u001b[0m\u001b[0;34m\"shell\"\u001b[0m\u001b[0;34m]\u001b[0m\u001b[0;34m,\u001b[0m\u001b[0;34m\u001b[0m\u001b[0;34m\u001b[0m\u001b[0m\n",
            "\u001b[0;32m/usr/local/lib/python3.11/dist-packages/ipykernel/kernelbase.py\u001b[0m in \u001b[0;36m_input_request\u001b[0;34m(self, prompt, ident, parent, password)\u001b[0m\n\u001b[1;32m   1217\u001b[0m             \u001b[0;32mexcept\u001b[0m \u001b[0mKeyboardInterrupt\u001b[0m\u001b[0;34m:\u001b[0m\u001b[0;34m\u001b[0m\u001b[0;34m\u001b[0m\u001b[0m\n\u001b[1;32m   1218\u001b[0m                 \u001b[0;31m# re-raise KeyboardInterrupt, to truncate traceback\u001b[0m\u001b[0;34m\u001b[0m\u001b[0;34m\u001b[0m\u001b[0m\n\u001b[0;32m-> 1219\u001b[0;31m                 \u001b[0;32mraise\u001b[0m \u001b[0mKeyboardInterrupt\u001b[0m\u001b[0;34m(\u001b[0m\u001b[0;34m\"Interrupted by user\"\u001b[0m\u001b[0;34m)\u001b[0m \u001b[0;32mfrom\u001b[0m \u001b[0;32mNone\u001b[0m\u001b[0;34m\u001b[0m\u001b[0;34m\u001b[0m\u001b[0m\n\u001b[0m\u001b[1;32m   1220\u001b[0m             \u001b[0;32mexcept\u001b[0m \u001b[0mException\u001b[0m\u001b[0;34m:\u001b[0m\u001b[0;34m\u001b[0m\u001b[0;34m\u001b[0m\u001b[0m\n\u001b[1;32m   1221\u001b[0m                 \u001b[0mself\u001b[0m\u001b[0;34m.\u001b[0m\u001b[0mlog\u001b[0m\u001b[0;34m.\u001b[0m\u001b[0mwarning\u001b[0m\u001b[0;34m(\u001b[0m\u001b[0;34m\"Invalid Message:\"\u001b[0m\u001b[0;34m,\u001b[0m \u001b[0mexc_info\u001b[0m\u001b[0;34m=\u001b[0m\u001b[0;32mTrue\u001b[0m\u001b[0;34m)\u001b[0m\u001b[0;34m\u001b[0m\u001b[0;34m\u001b[0m\u001b[0m\n",
            "\u001b[0;31mKeyboardInterrupt\u001b[0m: Interrupted by user"
          ]
        }
      ],
      "source": [
        "# ---- Chat Loop ----\n",
        "print(\"Bot is ready! Type 'exit' to quit.\\n\")\n",
        "chat_history = []\n",
        "\n",
        "while True:\n",
        "    query = input(\"You: \")\n",
        "    if query.lower() == \"exit\":\n",
        "        break\n",
        "\n",
        "    result = qa_chain.run(query)\n",
        "    print(\"Bot:\", result)"
      ]
    }
  ],
  "metadata": {
    "colab": {
      "provenance": []
    },
    "kernelspec": {
      "display_name": "Python 3",
      "name": "python3"
    },
    "language_info": {
      "name": "python"
    }
  },
  "nbformat": 4,
  "nbformat_minor": 0
}