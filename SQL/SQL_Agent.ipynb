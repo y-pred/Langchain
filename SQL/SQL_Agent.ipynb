{
  "nbformat": 4,
  "nbformat_minor": 0,
  "metadata": {
    "colab": {
      "provenance": []
    },
    "kernelspec": {
      "name": "python3",
      "display_name": "Python 3"
    },
    "language_info": {
      "name": "python"
    }
  },
  "cells": [
    {
      "cell_type": "code",
      "execution_count": 3,
      "metadata": {
        "id": "a0NA30EINXDE"
      },
      "outputs": [],
      "source": [
        "!pip install langchain -q\n",
        "!pip install openai -q"
      ]
    },
    {
      "cell_type": "code",
      "source": [
        "import numpy as np\n",
        "import pandas as pd\n",
        "import sqlite3"
      ],
      "metadata": {
        "id": "PhIVSW9eNwIk"
      },
      "execution_count": 4,
      "outputs": []
    },
    {
      "cell_type": "code",
      "source": [
        "df = pd.read_csv('/content/income (1).csv')"
      ],
      "metadata": {
        "id": "gwMSqeR1N7Fu"
      },
      "execution_count": 5,
      "outputs": []
    },
    {
      "cell_type": "code",
      "source": [
        "df.rename(columns={\n",
        "    'Name':'name',\n",
        "    'Age':'age',\n",
        "    'Income($)':'income'\n",
        "})"
      ],
      "metadata": {
        "colab": {
          "base_uri": "https://localhost:8080/",
          "height": 739
        },
        "id": "YSAkgXRQOF_D",
        "outputId": "f0994ba8-c999-4958-9cd8-f6183b65cefe"
      },
      "execution_count": 6,
      "outputs": [
        {
          "output_type": "execute_result",
          "data": {
            "text/plain": [
              "        name  age  income\n",
              "0        Rob   27   70000\n",
              "1    Michael   29   90000\n",
              "2      Mohan   29   61000\n",
              "3     Ismail   28   60000\n",
              "4       Kory   42  150000\n",
              "5     Gautam   39  155000\n",
              "6      David   41  160000\n",
              "7     Andrea   38  162000\n",
              "8       Brad   36  156000\n",
              "9   Angelina   35  130000\n",
              "10    Donald   37  137000\n",
              "11       Tom   26   45000\n",
              "12    Arnold   27   48000\n",
              "13     Jared   28   51000\n",
              "14     Stark   29   49500\n",
              "15    Ranbir   32   53000\n",
              "16    Dipika   40   65000\n",
              "17  Priyanka   41   63000\n",
              "18      Nick   43   64000\n",
              "19      Alia   39   80000\n",
              "20       Sid   41   82000\n",
              "21     Abdul   39   58000"
            ],
            "text/html": [
              "\n",
              "  <div id=\"df-394b23c7-6f5a-46b9-b5ca-c78bebd683c4\" class=\"colab-df-container\">\n",
              "    <div>\n",
              "<style scoped>\n",
              "    .dataframe tbody tr th:only-of-type {\n",
              "        vertical-align: middle;\n",
              "    }\n",
              "\n",
              "    .dataframe tbody tr th {\n",
              "        vertical-align: top;\n",
              "    }\n",
              "\n",
              "    .dataframe thead th {\n",
              "        text-align: right;\n",
              "    }\n",
              "</style>\n",
              "<table border=\"1\" class=\"dataframe\">\n",
              "  <thead>\n",
              "    <tr style=\"text-align: right;\">\n",
              "      <th></th>\n",
              "      <th>name</th>\n",
              "      <th>age</th>\n",
              "      <th>income</th>\n",
              "    </tr>\n",
              "  </thead>\n",
              "  <tbody>\n",
              "    <tr>\n",
              "      <th>0</th>\n",
              "      <td>Rob</td>\n",
              "      <td>27</td>\n",
              "      <td>70000</td>\n",
              "    </tr>\n",
              "    <tr>\n",
              "      <th>1</th>\n",
              "      <td>Michael</td>\n",
              "      <td>29</td>\n",
              "      <td>90000</td>\n",
              "    </tr>\n",
              "    <tr>\n",
              "      <th>2</th>\n",
              "      <td>Mohan</td>\n",
              "      <td>29</td>\n",
              "      <td>61000</td>\n",
              "    </tr>\n",
              "    <tr>\n",
              "      <th>3</th>\n",
              "      <td>Ismail</td>\n",
              "      <td>28</td>\n",
              "      <td>60000</td>\n",
              "    </tr>\n",
              "    <tr>\n",
              "      <th>4</th>\n",
              "      <td>Kory</td>\n",
              "      <td>42</td>\n",
              "      <td>150000</td>\n",
              "    </tr>\n",
              "    <tr>\n",
              "      <th>5</th>\n",
              "      <td>Gautam</td>\n",
              "      <td>39</td>\n",
              "      <td>155000</td>\n",
              "    </tr>\n",
              "    <tr>\n",
              "      <th>6</th>\n",
              "      <td>David</td>\n",
              "      <td>41</td>\n",
              "      <td>160000</td>\n",
              "    </tr>\n",
              "    <tr>\n",
              "      <th>7</th>\n",
              "      <td>Andrea</td>\n",
              "      <td>38</td>\n",
              "      <td>162000</td>\n",
              "    </tr>\n",
              "    <tr>\n",
              "      <th>8</th>\n",
              "      <td>Brad</td>\n",
              "      <td>36</td>\n",
              "      <td>156000</td>\n",
              "    </tr>\n",
              "    <tr>\n",
              "      <th>9</th>\n",
              "      <td>Angelina</td>\n",
              "      <td>35</td>\n",
              "      <td>130000</td>\n",
              "    </tr>\n",
              "    <tr>\n",
              "      <th>10</th>\n",
              "      <td>Donald</td>\n",
              "      <td>37</td>\n",
              "      <td>137000</td>\n",
              "    </tr>\n",
              "    <tr>\n",
              "      <th>11</th>\n",
              "      <td>Tom</td>\n",
              "      <td>26</td>\n",
              "      <td>45000</td>\n",
              "    </tr>\n",
              "    <tr>\n",
              "      <th>12</th>\n",
              "      <td>Arnold</td>\n",
              "      <td>27</td>\n",
              "      <td>48000</td>\n",
              "    </tr>\n",
              "    <tr>\n",
              "      <th>13</th>\n",
              "      <td>Jared</td>\n",
              "      <td>28</td>\n",
              "      <td>51000</td>\n",
              "    </tr>\n",
              "    <tr>\n",
              "      <th>14</th>\n",
              "      <td>Stark</td>\n",
              "      <td>29</td>\n",
              "      <td>49500</td>\n",
              "    </tr>\n",
              "    <tr>\n",
              "      <th>15</th>\n",
              "      <td>Ranbir</td>\n",
              "      <td>32</td>\n",
              "      <td>53000</td>\n",
              "    </tr>\n",
              "    <tr>\n",
              "      <th>16</th>\n",
              "      <td>Dipika</td>\n",
              "      <td>40</td>\n",
              "      <td>65000</td>\n",
              "    </tr>\n",
              "    <tr>\n",
              "      <th>17</th>\n",
              "      <td>Priyanka</td>\n",
              "      <td>41</td>\n",
              "      <td>63000</td>\n",
              "    </tr>\n",
              "    <tr>\n",
              "      <th>18</th>\n",
              "      <td>Nick</td>\n",
              "      <td>43</td>\n",
              "      <td>64000</td>\n",
              "    </tr>\n",
              "    <tr>\n",
              "      <th>19</th>\n",
              "      <td>Alia</td>\n",
              "      <td>39</td>\n",
              "      <td>80000</td>\n",
              "    </tr>\n",
              "    <tr>\n",
              "      <th>20</th>\n",
              "      <td>Sid</td>\n",
              "      <td>41</td>\n",
              "      <td>82000</td>\n",
              "    </tr>\n",
              "    <tr>\n",
              "      <th>21</th>\n",
              "      <td>Abdul</td>\n",
              "      <td>39</td>\n",
              "      <td>58000</td>\n",
              "    </tr>\n",
              "  </tbody>\n",
              "</table>\n",
              "</div>\n",
              "    <div class=\"colab-df-buttons\">\n",
              "\n",
              "  <div class=\"colab-df-container\">\n",
              "    <button class=\"colab-df-convert\" onclick=\"convertToInteractive('df-394b23c7-6f5a-46b9-b5ca-c78bebd683c4')\"\n",
              "            title=\"Convert this dataframe to an interactive table.\"\n",
              "            style=\"display:none;\">\n",
              "\n",
              "  <svg xmlns=\"http://www.w3.org/2000/svg\" height=\"24px\" viewBox=\"0 -960 960 960\">\n",
              "    <path d=\"M120-120v-720h720v720H120Zm60-500h600v-160H180v160Zm220 220h160v-160H400v160Zm0 220h160v-160H400v160ZM180-400h160v-160H180v160Zm440 0h160v-160H620v160ZM180-180h160v-160H180v160Zm440 0h160v-160H620v160Z\"/>\n",
              "  </svg>\n",
              "    </button>\n",
              "\n",
              "  <style>\n",
              "    .colab-df-container {\n",
              "      display:flex;\n",
              "      gap: 12px;\n",
              "    }\n",
              "\n",
              "    .colab-df-convert {\n",
              "      background-color: #E8F0FE;\n",
              "      border: none;\n",
              "      border-radius: 50%;\n",
              "      cursor: pointer;\n",
              "      display: none;\n",
              "      fill: #1967D2;\n",
              "      height: 32px;\n",
              "      padding: 0 0 0 0;\n",
              "      width: 32px;\n",
              "    }\n",
              "\n",
              "    .colab-df-convert:hover {\n",
              "      background-color: #E2EBFA;\n",
              "      box-shadow: 0px 1px 2px rgba(60, 64, 67, 0.3), 0px 1px 3px 1px rgba(60, 64, 67, 0.15);\n",
              "      fill: #174EA6;\n",
              "    }\n",
              "\n",
              "    .colab-df-buttons div {\n",
              "      margin-bottom: 4px;\n",
              "    }\n",
              "\n",
              "    [theme=dark] .colab-df-convert {\n",
              "      background-color: #3B4455;\n",
              "      fill: #D2E3FC;\n",
              "    }\n",
              "\n",
              "    [theme=dark] .colab-df-convert:hover {\n",
              "      background-color: #434B5C;\n",
              "      box-shadow: 0px 1px 3px 1px rgba(0, 0, 0, 0.15);\n",
              "      filter: drop-shadow(0px 1px 2px rgba(0, 0, 0, 0.3));\n",
              "      fill: #FFFFFF;\n",
              "    }\n",
              "  </style>\n",
              "\n",
              "    <script>\n",
              "      const buttonEl =\n",
              "        document.querySelector('#df-394b23c7-6f5a-46b9-b5ca-c78bebd683c4 button.colab-df-convert');\n",
              "      buttonEl.style.display =\n",
              "        google.colab.kernel.accessAllowed ? 'block' : 'none';\n",
              "\n",
              "      async function convertToInteractive(key) {\n",
              "        const element = document.querySelector('#df-394b23c7-6f5a-46b9-b5ca-c78bebd683c4');\n",
              "        const dataTable =\n",
              "          await google.colab.kernel.invokeFunction('convertToInteractive',\n",
              "                                                    [key], {});\n",
              "        if (!dataTable) return;\n",
              "\n",
              "        const docLinkHtml = 'Like what you see? Visit the ' +\n",
              "          '<a target=\"_blank\" href=https://colab.research.google.com/notebooks/data_table.ipynb>data table notebook</a>'\n",
              "          + ' to learn more about interactive tables.';\n",
              "        element.innerHTML = '';\n",
              "        dataTable['output_type'] = 'display_data';\n",
              "        await google.colab.output.renderOutput(dataTable, element);\n",
              "        const docLink = document.createElement('div');\n",
              "        docLink.innerHTML = docLinkHtml;\n",
              "        element.appendChild(docLink);\n",
              "      }\n",
              "    </script>\n",
              "  </div>\n",
              "\n",
              "\n",
              "<div id=\"df-2c2de753-e900-400a-9396-9e49598bc914\">\n",
              "  <button class=\"colab-df-quickchart\" onclick=\"quickchart('df-2c2de753-e900-400a-9396-9e49598bc914')\"\n",
              "            title=\"Suggest charts\"\n",
              "            style=\"display:none;\">\n",
              "\n",
              "<svg xmlns=\"http://www.w3.org/2000/svg\" height=\"24px\"viewBox=\"0 0 24 24\"\n",
              "     width=\"24px\">\n",
              "    <g>\n",
              "        <path d=\"M19 3H5c-1.1 0-2 .9-2 2v14c0 1.1.9 2 2 2h14c1.1 0 2-.9 2-2V5c0-1.1-.9-2-2-2zM9 17H7v-7h2v7zm4 0h-2V7h2v10zm4 0h-2v-4h2v4z\"/>\n",
              "    </g>\n",
              "</svg>\n",
              "  </button>\n",
              "\n",
              "<style>\n",
              "  .colab-df-quickchart {\n",
              "      --bg-color: #E8F0FE;\n",
              "      --fill-color: #1967D2;\n",
              "      --hover-bg-color: #E2EBFA;\n",
              "      --hover-fill-color: #174EA6;\n",
              "      --disabled-fill-color: #AAA;\n",
              "      --disabled-bg-color: #DDD;\n",
              "  }\n",
              "\n",
              "  [theme=dark] .colab-df-quickchart {\n",
              "      --bg-color: #3B4455;\n",
              "      --fill-color: #D2E3FC;\n",
              "      --hover-bg-color: #434B5C;\n",
              "      --hover-fill-color: #FFFFFF;\n",
              "      --disabled-bg-color: #3B4455;\n",
              "      --disabled-fill-color: #666;\n",
              "  }\n",
              "\n",
              "  .colab-df-quickchart {\n",
              "    background-color: var(--bg-color);\n",
              "    border: none;\n",
              "    border-radius: 50%;\n",
              "    cursor: pointer;\n",
              "    display: none;\n",
              "    fill: var(--fill-color);\n",
              "    height: 32px;\n",
              "    padding: 0;\n",
              "    width: 32px;\n",
              "  }\n",
              "\n",
              "  .colab-df-quickchart:hover {\n",
              "    background-color: var(--hover-bg-color);\n",
              "    box-shadow: 0 1px 2px rgba(60, 64, 67, 0.3), 0 1px 3px 1px rgba(60, 64, 67, 0.15);\n",
              "    fill: var(--button-hover-fill-color);\n",
              "  }\n",
              "\n",
              "  .colab-df-quickchart-complete:disabled,\n",
              "  .colab-df-quickchart-complete:disabled:hover {\n",
              "    background-color: var(--disabled-bg-color);\n",
              "    fill: var(--disabled-fill-color);\n",
              "    box-shadow: none;\n",
              "  }\n",
              "\n",
              "  .colab-df-spinner {\n",
              "    border: 2px solid var(--fill-color);\n",
              "    border-color: transparent;\n",
              "    border-bottom-color: var(--fill-color);\n",
              "    animation:\n",
              "      spin 1s steps(1) infinite;\n",
              "  }\n",
              "\n",
              "  @keyframes spin {\n",
              "    0% {\n",
              "      border-color: transparent;\n",
              "      border-bottom-color: var(--fill-color);\n",
              "      border-left-color: var(--fill-color);\n",
              "    }\n",
              "    20% {\n",
              "      border-color: transparent;\n",
              "      border-left-color: var(--fill-color);\n",
              "      border-top-color: var(--fill-color);\n",
              "    }\n",
              "    30% {\n",
              "      border-color: transparent;\n",
              "      border-left-color: var(--fill-color);\n",
              "      border-top-color: var(--fill-color);\n",
              "      border-right-color: var(--fill-color);\n",
              "    }\n",
              "    40% {\n",
              "      border-color: transparent;\n",
              "      border-right-color: var(--fill-color);\n",
              "      border-top-color: var(--fill-color);\n",
              "    }\n",
              "    60% {\n",
              "      border-color: transparent;\n",
              "      border-right-color: var(--fill-color);\n",
              "    }\n",
              "    80% {\n",
              "      border-color: transparent;\n",
              "      border-right-color: var(--fill-color);\n",
              "      border-bottom-color: var(--fill-color);\n",
              "    }\n",
              "    90% {\n",
              "      border-color: transparent;\n",
              "      border-bottom-color: var(--fill-color);\n",
              "    }\n",
              "  }\n",
              "</style>\n",
              "\n",
              "  <script>\n",
              "    async function quickchart(key) {\n",
              "      const quickchartButtonEl =\n",
              "        document.querySelector('#' + key + ' button');\n",
              "      quickchartButtonEl.disabled = true;  // To prevent multiple clicks.\n",
              "      quickchartButtonEl.classList.add('colab-df-spinner');\n",
              "      try {\n",
              "        const charts = await google.colab.kernel.invokeFunction(\n",
              "            'suggestCharts', [key], {});\n",
              "      } catch (error) {\n",
              "        console.error('Error during call to suggestCharts:', error);\n",
              "      }\n",
              "      quickchartButtonEl.classList.remove('colab-df-spinner');\n",
              "      quickchartButtonEl.classList.add('colab-df-quickchart-complete');\n",
              "    }\n",
              "    (() => {\n",
              "      let quickchartButtonEl =\n",
              "        document.querySelector('#df-2c2de753-e900-400a-9396-9e49598bc914 button');\n",
              "      quickchartButtonEl.style.display =\n",
              "        google.colab.kernel.accessAllowed ? 'block' : 'none';\n",
              "    })();\n",
              "  </script>\n",
              "</div>\n",
              "\n",
              "    </div>\n",
              "  </div>\n"
            ],
            "application/vnd.google.colaboratory.intrinsic+json": {
              "type": "dataframe",
              "summary": "{\n  \"name\": \"})\",\n  \"rows\": 22,\n  \"fields\": [\n    {\n      \"column\": \"name\",\n      \"properties\": {\n        \"dtype\": \"string\",\n        \"num_unique_values\": 22,\n        \"samples\": [\n          \"Rob\",\n          \"Jared\",\n          \"Brad\"\n        ],\n        \"semantic_type\": \"\",\n        \"description\": \"\"\n      }\n    },\n    {\n      \"column\": \"age\",\n      \"properties\": {\n        \"dtype\": \"number\",\n        \"std\": 5,\n        \"min\": 26,\n        \"max\": 43,\n        \"num_unique_values\": 14,\n        \"samples\": [\n          37,\n          32,\n          27\n        ],\n        \"semantic_type\": \"\",\n        \"description\": \"\"\n      }\n    },\n    {\n      \"column\": \"income\",\n      \"properties\": {\n        \"dtype\": \"number\",\n        \"std\": 43505,\n        \"min\": 45000,\n        \"max\": 162000,\n        \"num_unique_values\": 22,\n        \"samples\": [\n          70000,\n          51000,\n          156000\n        ],\n        \"semantic_type\": \"\",\n        \"description\": \"\"\n      }\n    }\n  ]\n}"
            }
          },
          "metadata": {},
          "execution_count": 6
        }
      ]
    },
    {
      "cell_type": "code",
      "source": [
        "conn = sqlite3.connect('income.sqlite')\n",
        "c=conn.cursor()\n",
        "c.execute('CREATE TABLE IF NOT EXISTS income_details (name text, age int,income int)')\n",
        "conn.commit()"
      ],
      "metadata": {
        "id": "5TRgy0Y_Oau7"
      },
      "execution_count": 7,
      "outputs": []
    },
    {
      "cell_type": "code",
      "source": [
        "df.to_sql('income_details', conn, if_exists='replace', index = False)\n",
        "\n",
        "c.execute('''\n",
        "SELECT name FROM income_details LIMIT 10\n",
        "           ''')\n",
        "\n",
        "for row in c.fetchall():\n",
        "  print (row)\n"
      ],
      "metadata": {
        "colab": {
          "base_uri": "https://localhost:8080/"
        },
        "id": "nKIK9wRfO3Z9",
        "outputId": "1336c927-23cc-4df0-87b4-876225af1e29"
      },
      "execution_count": 8,
      "outputs": [
        {
          "output_type": "stream",
          "name": "stdout",
          "text": [
            "('Rob',)\n",
            "('Michael',)\n",
            "('Mohan',)\n",
            "('Ismail',)\n",
            "('Kory',)\n",
            "('Gautam',)\n",
            "('David',)\n",
            "('Andrea',)\n",
            "('Brad',)\n",
            "('Angelina',)\n"
          ]
        }
      ]
    },
    {
      "cell_type": "markdown",
      "source": [
        "###Reading the db"
      ],
      "metadata": {
        "id": "egILMGIIPduF"
      }
    },
    {
      "cell_type": "code",
      "source": [
        "def read_sql_query(sql, db):\n",
        "    conn = sqlite3.connect(db)\n",
        "    cur = conn.cursor()\n",
        "    cur.execute(sql)\n",
        "    rows = cur.fetchall()\n",
        "    for row in rows:\n",
        "        print(row)\n",
        "    conn.close()"
      ],
      "metadata": {
        "id": "JfiP4p5gPfKU"
      },
      "execution_count": 9,
      "outputs": []
    },
    {
      "cell_type": "code",
      "source": [
        "read_sql_query('SELECT * FROM income_details LIMIT 10;',\n",
        "               \"income.sqlite\")"
      ],
      "metadata": {
        "colab": {
          "base_uri": "https://localhost:8080/"
        },
        "id": "W27dYHRSPpts",
        "outputId": "03ba6858-a0f2-43f1-f1b1-59cb76abe7ef"
      },
      "execution_count": 10,
      "outputs": [
        {
          "output_type": "stream",
          "name": "stdout",
          "text": [
            "('Rob', 27, 70000)\n",
            "('Michael', 29, 90000)\n",
            "('Mohan', 29, 61000)\n",
            "('Ismail', 28, 60000)\n",
            "('Kory', 42, 150000)\n",
            "('Gautam', 39, 155000)\n",
            "('David', 41, 160000)\n",
            "('Andrea', 38, 162000)\n",
            "('Brad', 36, 156000)\n",
            "('Angelina', 35, 130000)\n"
          ]
        }
      ]
    },
    {
      "cell_type": "markdown",
      "source": [
        "###Langchain SQL Agent"
      ],
      "metadata": {
        "id": "VzRnGEWUQAzb"
      }
    },
    {
      "cell_type": "markdown",
      "source": [
        "![image.png](data:image/png;base64,iVBORw0KGgoAAAANSUhEUgAAAxEAAAH2CAYAAAAPuQF1AAAgAElEQVR4Aey9zUscyxv3ff8hw8DsZhdECLgRshBcCANPuBlIQPCAECE/koWQheBCmIXgJuJCcRFxEZnFQYWDCEGEg8zioEJQ4TxMIDCBLAayaMhiIIvvTb11V1VXT/eML9Hj90CO3T1dVVd96qqXq+qq6v8D/kcCJEACJEACJEACJEACJEACAxD4PwO8y1dJgARIgARIgARIgARIgARIADQiqAQkQAIkQAIkQAIkQAIkQAIDEaARMRAuvkwCJEACJEACJEACJEACJHBLRkSE048r2FgP/9s5j0ieBEiABEiABEiABEiABEjggRK4HSPiexOz5QpKWf8WDkEz4j5rTA9RFHn/evdZYMpGAiRAAiRAAiRAAiRwhwRuxYjo7s1kGxDSsHiDI1oRd1jMAyYVMgLnmugOGA1fJwESIAESIAESIAES+G8SuAUjIsLBfJ9VCL06sfQ3Z7bvrUrRiLi3RUPBSIAESIAESIAESOA+ELh5I+LHPuaz3Jjs541j0Iy4DyoQkIFGRAAKH5EACZAACZAACZAACRgCN25ERIev0q5ML6dQtw0Ieb2IE1oRphzu118aEferPCgNCZAACZAACZAACdwzAjdsREQ4Wki7Mi39fYmdl6HntCLumT4ocWhE3MtioVAkQAIkQAIkQAIkcF8I3KwRER1iIbXioDZRX2yOp1co6NJ0X/TAlYNGhMuDdyRAAiRAAiRAAiRAAg6BGzUiok9v0oaCOc71ag2TvoExesMuTb0InasWDpr29yk2sXt8hnb3Flc9gumuYGvvGCdXHfR+Ocxv7iaY7jYOWmdo/7hGfm/ZiOhFHVy0jrH7wS6nhFd0DdFvDi5jIgESIAESIAESIAESyCJwg0ZE2JVp4ZM5y/USG5O+S1MVy60bGDF2W9haeI4x30jx7kcmZrDR0geVBgbKq+dZmMLPo3/3sfq/pxjx0kl/H+MJphc2cVL4jNQuduc8Vu/PYiF631vYKJDu2PQidj7nJBrgkJbfkyWQ39m9nHQQoXO8htcT1bShmYqvimf/a+DgX6M7cdZ5QQIkQAIkQAIkQAIkcA8I3JwR0TvGUmow6H4PIuTSNLLcusYpTT20m69yjQd/UDw2v432l/QH8QobEdEldhcnCgyG/cH3E8x+OCvwob0sIyLCxYcXA+a3ivrKcXaad2FE/DjGcr2I8eDzqqC22ET75z2oKRSBBEiABEiABEiABEggJnBjRkTv78X0oHp+3x28Bl2aGjiNxRnkoofT98MM5NVAdWT8SWoFoZAR8e0QC7X0YNc3VPrdj83vo9M3qwEjYmUfJ8vD57f2/ixsrN22EfHzDKvX5FWqNXBKQ6KvxvBHEiABEiABEiABErhLAjdkRPRw0kgPrOcPfXeUsEtTocG7R+ViM39APTIxhdp4Wq6sAX6uHLkD4iqe1adQF0favpzou2KQOaiX+QwYEalVnuL5UvmtInEts2DeqhEhXNyyVyBE+ShWU6jXnqSNUCvPI2+bOYaXlSdekgAJkAAJkAAJkAAJ3CqBmzEigq5Mr3DwIy170KXJ8vdPh0g/6X1eQc0aYCZGQRX1d5s4+tL1Zt17iL4cY2Ou/0C1vxHRwe7b8IB4bK6Bgys/TSV3drpVZH+1u4ARMf4Cq3vHuPgWIYrUv+6XFnbf93F3mlzDRQpnLw5v4on+3casz3d2G22dTvyefR/a2hJaeSpXUV9q4iKgG+h1cNp8h/poyEDKMIJS+eEDEiABEiABEiABEiCB2yZwI0ZE0JVprongVtvQwHJ0EJemDnamQ4PMCSwc9ncSAnpof5xJuTEZI6SfESFOnkpvoK5ierPIHoco7HpVCw3qRZH3NyJqy8fo9jvx6VsT8xkrMNmGi6VqodWJrPK0gvmXnY9TqdWFyZUCe2C+NfE6ZEgMIYMvE+9JgARIgARIgARIgASuT+AGjIgeTpbTM/TZp/WEXJrGsXFVLDO91mJgMF/B7J95BoSJX7hepeUVhkS2ERGSuYKRgb5z0Q4YP1mnU2UbEYXder5uY9pfTRD3RWS+ISPi9H3a2MtmbMpH/Q1++bx8w0cCu0nyjgRIgARIgARIgARIoCCB6xsRvRaWU7PGM9j9ni3BxXr6w3OT65fZAeJfwnsvSpkz+nFA9yI0SO5nRJw3AoZL2F3LTci9Cw6Mg4P6LCPiOXa+unFm34mN52nOpSKrPiE+Q6wChIyIQishIlO9FlbrL7CwIr7z0VJuWyGXqWwA/IUESIAESIAESIAESOCWCFzbiAiuDOQNOEMuTUF/fS/Xwb0XFWSvenjh49vwNy2yZslP3wdWLoKD/ziB8EVQ/pArV4YR4Z92FU4leRriXH6B3W/JK8GrGzIiQvtf5ElL/n77oBB8SAIkQAIkQAIkQAIkcF8JXNuICA2wp5t5rkUh96ACLk3BQXH/VY8s8N29mZS/ftiIaGPnZdotJ3jSUVZi8fMOdmf9uKYCqwthI6K4y5ZJ8AyrqVWifm5bOtwNGREIruCI/D/BbGM7sAHeyM2/JEACJEACJEACJEAC95nANY2I0CC1mMtN0KVps79Lk9jcbDZBx39HVwInDhVA/nkl5aIUNCKCqwcVzG+3cNIa9N8xtuZ9IyI0qA8bEcv/FMiX80o4ntd/Bbe8JyFvyohAFwcZJ1ol5fcU0wsN7Byeof2D/kpJIfCKBEiABEiABEiABO4vgesZEaGZ5untYuf5h8LmuDSFVg9Kea5TWewDA+WgERF4Lx4AhzYuD/Es7Y4VHvwH5cvKn34e2peQTs+LJJTnYTn/vMTGHwF3sCxO4xOYf9/EyRf6PHmlwlsSIAESIAESIAESuDcErmVEhFyZ6h/bBTMXWsXo79JEI6IgWuu1325ESFkitPcWMZ1x7GyWUTYyMYON47b71XMrb7wkARIgARIgARIgARL4PQSuYUSEjIAKphdWsLFe7N98Pe3a088IoRExuJLcDyNCy/0rQvt4G0v/e5pyJcsyJMTzkT9WcBr6ON3gOBiCBEiABEiABEiABEjgBggMb0QENzmnjYJ+g8Pgby+z3aHujxExheW/Bt0Pkf3+xXd/L8B/yJ0pS0l7XbTP97HTeIX6RAF3p1oDpz+zIuNzEiABEiABEiABEiCBuyQwtBER2hgdNAqyfN8zn4dOK1JIfsvG6ugQCylZ+7tdXb8AH4ER4UHq/WjjZK+B+dqT9OZ5zX/y/Rl8c8uLhrckQAIkQAIkQAIkQAJ3QGBIIyJ0ROsNrELowWKmS1Nw9WPII17/KnrEazivuSccXavwHp8RYePqfW9hNbQZe5RfrLY58ZoESIAESIAESIAEfheB4YyI4GD+5oyIUpZLU9Zxq4eDnuQT/vJ1+PSj8LulQT/8NlAJP24jQqL6sY/51ApQgQ/lDcSZL5MACZAACZAACZAACQxDYCgjIvQl4sm1FqIoGvxf9xBLqQ+iZX1rImNAX/RYWUMoOEANfa9BBej9vRhwscmS0SQS+CuPTn0iN5/vttqIMn1z/gNGxI9LnLT2sbPewMLclNr3MNBXvkMf5ssuowBtPiIBEiABEiABEiABErglAkMYESH3nuvsEejhZDm9sTbrq9e91mLgZJ8qXu/lfSXbEOzhdGU8YBT0GaD2WlhOGToVjLxtFvsmhky6g93Uh9eqeDa/jXbKmLiHRkR5MFeisOE1g91vphzy/oZO/+JKRB41/k4CJEACJEACJEACd0FgcCMi5MqU85G4vIwEDYPM1YVLbNRCrlMTWP0n362p8+dMwAhR8YXdmZT0wZOhyhWMzTfR+ZWTw+gSO/PhDcO14Fe6f7MRkeE2NvtnUUMNQHBDegUlccpSfjFBGCEjKXemwQyZnFLhzyRAAiRAAiRAAiRAAkMSGNiICLoyrV8OmbwOFpzpz94w3fungcnUAFMYAk8wu36MduCbAr1vZ9hZmgoMTBODpJ8RAbSxM52865xENf4Cq3sttLtRcnrQrx6ib5c4+PAG9cAqhgxfW8FFahVCMPnNRkRG+jHfrit0T7ixuY8A9HD6PrziUxK8Di8DYQD8inCx9w61UPkuHPLDc9eraQxNAiRAAiRAAiRAAjdCYEAjoo2dl/5A+jquTCYPYZem2b2uecH7KwaoE0GXpHhwPz6B+ssp+e9Z1iDeG6j2NyIAfGvidcG4Yjm8NOLno/1ce363EQGI43TTKwF+2Sf3wbL62cLyZPJOnPeYSRXP6qqMVFlNYCz+zQ83gY0rTw14SwIkQAIkQAIkQAIk8FsIDGZEfN1G3R/kjTZwegOiB33o55rIMiOADg4yXITSg1V/QBq+zzUiRD6/NTE/Hg5fON3R59i4Sk3dWxR/vxEh+Kb3cGTnO2hEiPWIL9s3YHgNsufFwshLEiABEiABEiABEiCBWyEwkBHR+TiVmv0feX92M4IF/fCzXZpUol2crj0faMZcDPTH5jaxsZgeEBcyIkTC0Rm25sJ7HPIMibG5NZwG3K1ciPfBiADw8wyr9fSm91Aes4wIma9v+1gqGE867gks7LUTNzEXFO9IgARIgARIgARIgAR+A4EBjIiQK1MVhQfeuZkLH986X+AbENG/+1gtMqg3vvgATt9fw4jQeemeb2NpupgxMTb9Blut7HUVF889MSKkUBHahw28nuhvTPQ1InQ8neNNLBTkJfZfTDe2cVoUmQuQdyRAAiRAAiRAAiRAArdIYAAj4haluKGoez/aOD3cxsb6Cpbmp1Cfe4Pl9RVs7R3j9It7JNBNGBGx2D87uJDfRFjBxsobzL6cwuxCAxvrm9g9PkP7Rz/XpTiW+3/xM0LnqoWTVvLv9EsXUXpXdd+89CKL17pg1pDlJMpNlNXJVQe9vBOv+qbAH0mABEiABEiABEiABG6TwH/KiCgOKrzqcXOrKsUl4ZskQAIkQAIkQAIkQAIk8NAIPFIjIvQ15CpWPz+04qO8JEACJEACJEACJEACJHD3BB6nERH8EFreJu67LxymSAIkQAIkQAIkQAIkQAL3kcDDNyJ6HZysb+LkZ3G8nY/PU6dMlUZXcFE8Cr5JAiRAAiRAAiRAAiRAAo+WwMM1In51cWJ9DXrkbROdAsWY+d2CxjGPES3Aj6+QAAmQAAmQAAmQAAmQwIM0IrrHi6gHvhw98scKTr5nnIT0K8LF3rtguFK5iuVWRjjqCAmQAAmQAAmQAAmQAAmQgEPgQRoR4qvRrwNGhPlQ2cjEFOYbK/Ko1431BhbmpvCsz/ul6e1CqxgOOd6QAAmQAAmQAAmQAAmQwCMl8DCNCAC98wZq5fQH44whUfjv6Ax2vz3S0me2SYAESIAESIAESIAESGAIAg/WiBB57V2tYbrfCkOekTE6g50vdGMaQm8YhARIgARIgARIgARI4BETeNBGhCy36BK7S1MYyTMYnN+rqC810XY/Yv2I1YBZJwESIAESIAESIAESIIHiBB6+EWHy2j3D7vobzNaepI9vlQZEFc/qr7DUPEb7hwnEvyRAAiRAAiRAAiRAAiRAAoMS+O8YEXbOf/UQRZH1jy5LNh5ekwAJkAAJkAAJkAAJkMB1CPw3jYjrEGFYEiABEiABEiABEiABEiCBvgRoRPTFwx9JgARIgARIgARIgARIgAR8AjQifCK8JwESIAESIAESIAESIAES6EuARkRfPPyRBEiABEiABEiABEiABEjAJ0AjwifCexIgARIgARIgARIgARIggb4EaET0xcMfSYAESIAESIAESIAESIAEfAI0InwivCcBEiABEiABEiABEiABEuhLgEZEXzz8kQRIgARIgARIgARIgARIwCdAI8InwnsSIAESIAESIAESIAESIIG+BGhE9MXDH0mABEiABEiABEiABEiABHwCNCJ8IrwnARIgARIgARIgARIgARLoS4BGRF88/JEESIAESIAESIAESIAESMAnQCPCJ8J7EiABEiABEiABEiABEiCBvgRoRPTFwx9JgARIgARIgARIgARIgAR8AjQifCK8JwESIAESIAESIAESIAES6EuARkRfPPyRBEiABEiABEiABEiABEjAJ0AjwifCexIgARIgARIgARIgARIggb4EaET0xcMfSYAESIAESIAESIAESIAEfAI0InwivCcBEiABEiABEiABEiABEuhLgEZEXzz8kQRIgARIgARIgARIgARIwCdAI8InwnsSIAESIAESIAESIAESIIG+BGhE9MXDH0mABEiABEiABEiABEiABHwCNCJ8IrwnARIgARIgARIgARIgARLoS4BGRF88/JEESIAESIAESIAESIAESMAnQCPCJ8J7EiABEiABEiABEiABEiCBvgRoRPTFwx9JgARIgARIgARIgARIgAR8AjQifCK8JwESIAESIAESIAESIAES6EuARkRfPPyRBEiABEiABEiABEiABEjAJ0AjwifCexIgARIgARIgARIgARIggb4EaET0xcMfSYAESIAESIAESIAESIAEfAIDGRHR+TY21g/R8WO5B/e972fY/dDAwtwU5hsr2DluI3Lk6uJoaQr1D2fO08FvIpw2V7Dx6XoUup/eof5yExeDC/CbQvTQPW9ia+UNZl++wtL6No6+uIQTwSJ0jrex0XiFer93ozPsrK/g6GsScrCrHi72VrCxvo+L3mAhH9bbZ9h6OYWlT90+Yg+hl583UX/5Dkf9ou2T4u/6qVg7dFP1/Xfl8n6kG309lnV0Y30bp7K6K13c+nzD8n09RJKGiLuIzgMPrx29Prd0mXhxplh6v/8nbjs4Wl/BznlWH/R7M1msjQJwnTb4RxtHzRUszU9hdqGBrb0zdLP6wW4yPur3bmG5bby6H99YF33xCrb2jnFy3kaUJYsd9kavi7UZN5rkHUR239u4gYyI7t4MSuUGTu8AXPEkemh/nMFIuYpn/1uUSrzRmMGz0QpG/ljDxU8TUxe7cxWU3l/XiLiZeO4nS8PK+9trY+dtFaXx51hYUQ3F8sJzjJUrqL0/g9NW/DzDar2K0uhTvG6od5fmJ9S7y8euYfe9idlyBavnXnpFb3stLI9WUCpXsPS3I0XRGG7+vR9n2Gmeufm8dipnWC1XMLvXb7Q/hF6eN1Aqz2D3+7UFvNMIitWdIXjcaS4eQGKyflYxvdzEUcsMUJQuDl1ns7Kd0sUiOg8U04WsRB/g82CZePlIsfR+z7q9lbYrK7FBnrdxlJq8LKYfg6Ryk+8G9TLEd8iyilqLqNljnvVFvJ4Q/e4Mdr+5Oen89Ur2v2PTb7AsBvorbzCt39354vabQbnd6NJ3uh8fq02h/lL9E+OvUvkJZj8M1xe2Pw0zuXi/dSINLv1EGHG+YTxUmaSjvrUnD96I6H1ekZXp9Z63MvCtidejFUzGg9z7Nai474pha1yn+VwNNr3GqfdPA5PlKpZbpiGKcLRQRam2iJMfdgxA77yBmj8QvqYR0ft7EaXJNeysj6O0cHjDA3dX/sJ3/zRQmmui33C/cFzxi7fUOA7ZgcVi3euL+1Xf7zWqLOGC+qF08caNiJQMxXT+IbWjqSwO8yBYJsNEFAhzK21XIJ1BH30Tk033bfJy0EwACPEdpjz15NnkSsudwENHTZRObyfeIldranz0sZ1+V0wMTjZwarpvDGmUB/vxHjqH72SfX9u8HBBWB7uzw0wuFmszBhTmTl8/XUlPFt73Nu52jIhfPXSuWjhptdSy1i+3HHpRpJa6fkVon+t3LEW23+59u0zi0e8I16ULOXsqBq0VlF5alcYK3Pk4hVJ5EScynD2o6CH6coaT1iU68UqFFRBAnG7rDG1vQIyfESI7XC9CpNfuet+VvBffMjKkk7EVo/ejjdNWC1lhzO+C58X3QLw276uO11i4+TJ3ffNnXtJ/T99XMgbG3pLy121MlyuYPwwtMfdwsiwarbXEhSvY+HiJZ96qsp9cvwS+bqNefoUDv5xM2F5X6ZnNWOjeZ8/lTZdDUC8KlLHQ6/bHFyjNbqMtdDy4nttDFEWpMhJh/ZKVz2TdsRpHU9ah5WJfL2X+ja63cOLrht2B/ezgotXC6ZduSg6DUf79ZcnfU2EEr9QyusUr+irqmsva1JNUWDt+O2H5XBOyr+N3eujqNudUutnZ9T1+SdRs671wXpP6Fqj7dlTm2tKvFGPzjvlr5c8wUPKqF0LPTFDx1/ye4iZ/THQuxBxxeYl8+drmpCJ1NDpeRKn8Ajv/iniNfmYbEapN1Xpmt/lCLwN1QfYD8XNLr6Qols5bZea3f3Y7auegSDmr9/109dM4v0msSX3Uz7LK3ZSxzcAEMX1fEq17FbdBvu4pOcNl4kYh8p6UFwAjj3hNx+/Xc5G3vm1XLFegz7Tj74r+z6xaKbmK9DVJnXPbEqkjUg8XceS1qfI3S43j+2uPKzyeoXZVtG/2GEAEsdo8xTwRLpPvMG1wn37TdUcK9Ll21gL9dXZ9sgN6133k6XwUE5DpvjlTJyTDYyyXK1g+1u2OXY9M/xccWxZrM4z0mTKYF3SfmDnuAvQ4MtDmDRCHfFXWoUvszFYw+/FStb9afewyMfVkqLGipZ+mH8mKx4hf5O/NGxHf9jE/XsFYTfjNL2K+9sRbYtMFvbKC+fEnqL2cQm28gtLoFFbPk0oH7RYzNme5KI0/RV3G9xQb0idXxTWyVsRFSQ8qFhtYrT/Bs/oU6mJJr/wE83/ZqxgdHMw/QWl8Qu6tUK44VdgrHXJQbblFqUJ+h9W1KYxNTKFef4qRcgVj8/vJjIBXGsXC9HC6NoWR0aeYXmhAuBCJZULHhUhwqiW85ZJmrYFTv4GL08/PX/yqvrjYHJcrEVv/hoyD5O3uX8LdLds9Rq4clKewY/ZA9Gl8klgzrn7sY748jo0r8XsbOy/Dxotcyh2dwrx0w2pgYfoJxLKr4Dj27lCvGPRw8eEFxspPUJt/g4U54X7l6kV+eSl/TKXLT9Wy7pKJ387DGVZH7dUbaCMo9MywLFZnfL00dUjoslhmFrKN1FcS3ZAd2Assr73CmHxHuZ0579iii2vd6W3traA+oeKV9Wj0OTaukvprGr6d5nNZFxI3SK3TgrVY+pZ1ZQILZo+RnGXzWAC4sFebpAz2zGQHu2JWzYqzvriG5VnPffHbIZbqVYxMPMfCwitZ//28dvZmnPo2Vnbrvo+jd76C+mgVz/54g2XjJtCv/hnm72dUWyHboApqjX0cmPZDtHHCVXDNdhXM4WbNIqaZAx2xB0vLuTAv9L+KuhO/lbPuIZZE2Ug5qqqtjPfOKF10ViJ+XmJrTreZC28wK8KNv8KBWbmUq8JVvP4rWZ8TbcGIaCvMO7ItMPouZNE6v93E6rTWM6krVUxvXsaGrtEzx8W2QDknuR2mPoqV1X7lfomNyfSMopjsmC4/T9q/RAh5pdxODG9RF6289i0TLyKfpdG5zHrer+3KbxtNm7DRFC42wo3FlGORvsbTa9m/m7GA3tek+2nZXsT7CFV/nrh4FmsjTZvYf1zh8pQ6Zs/uo4eTRgWlwLMRMy5w2qg+fHPLxpVF3kWHWChXMNk4RNceYKdeFbrttYHOO6rfLDWO+9cnJ0zgpl8/LleRKlj4ZMYO/XVC+v+b8ZN2j4r3XxUdW+a0GUB/GUQOleeEGA8swrjHu+OunDavSBw2Srk3Rve/Ygxp7YHMH3tIiXPHisXisYUqdn3DRoSyfEcspZQDvOkK4sqlO4fS3CbaZqD7q4MdsV/BcgO5WKt6lRToHb9DadQaPGjlTRqSfpnWRsTkIo7iGeseTt9PWKsVQK+1iJHRRZwY2QBIa9pK1x+sqcIZx9Jx0klGLeXq43S2lnihMMblJ/bvD3Q6ceer/djlasv8vuXK08bWy4rTYVvJFsqf/b68NvschGFUe4GF9SaOxKy214DJMuu37Hy1hkl7D0S/xiclhPtA8rNWoKTLldOoi1HVPl6Xq95+CcXH1hnBfbI8gx0zoBENgHTVSmZQQuUVKuPsVRsjv64jprOJB392HdHLynF+VAfp1BmxdC0GzhYDVy+Va9nI2yY6cTmpMHL1RogjO7AKZretpW7tBlj/2DYCu39lmCpkvPEvWpZYXrMsXsH0+hmiOH0g+vRGDh5t1nLgbs1WCYNhZNleqleDsrheOB00IMve8wUWM7bCkE/2QKn6L1wATHcmOhOxTyrm0TvGUmyYqsypNmclWT2L8ywuOtiZrmDaZvXzGEujgQGkCWeYN5OJi05TGN8VzNrP/hTP3uBIC1uEm9LRNHPIejaO5VaSc8jO3RjhRjjvr5TVDAjNb74RIdrQcZTmti096+F0ZRwlq12S8psyMkaF7YIqZbTT0jpvwujkla4kA3GVZ6tPQIFyNlmRf4epj/nlLiderPogkpKGsNXHOWJItxO3jFR/4JVRsEycmKDK22JpdM6p59tyP5rdDobariJto2lHJhf20UnmEQr1NY5e6GzIMrZWrNNlLF4MGxFOGznsuMLDqYw/i6cYw0iff/+ZNfkhmdt6CYT4GnYDtcGi5dH7HMTew/r8InYOA6uLsv/r0xZBe3JYOhlm7QPx7vv249q40/v5ioyvlP767kwDjC1z2ox8GQKTkl82US/P4EAO8Yq0eXlxeAzlrcvKvKHKxB1fDjNWDMUTGsOYdIv+vWEjIpysW3n6gTKVTlv6jjFiBj2mIKEby36VxJZHGxHW4E3+WqRR9t5xB2tmwGRkN2mG82l+DVfW/mFkWK/CSiOi1kjtQTDpFPrr5S8cJkKn1cRW45VaOZIzTmLjVDIrKLn0MyL0rERsWHl5Cacbeqo7cWvQFZzlk25O1sqHjErpgb16dfq+Cns2RqWoBq5m9rRoebm6HpIdMHs51MlcEQ7mK1h638Bk3HGqxj0ZyIf1wpfJ0Us5W1VNbVoXroAnn7XLW7DcM+qJyYoME9jILg3EpFNVshlXQhNYd1p+vdadsmENEZcw5M2AxL+XMpj61sXB20qg/LxZOKlrvi4oo6Y0qo0EaURU8Wvll5MAACAASURBVPpPy6gyohf+W4RfwklGGyoHR3eLcQsz1+2TZWyqrKg47XqQymJILj0JFNdhXXaxgWci0fqgOl3xUE/Y1N5hYa4Cd6LJtOU2F6XzpZWWiVH/VeU6+6cywvw6oAYgOeXsxTh4ffQikLdeucsJINsAUO1J2NUTkEZHqozSbZWZ9e97GILUdYtlsBw9eREe5BZpG5VMaeYhSq78Wgf9Plm63SUuUakytngnRlCRNrLguCIluBoQxrPpQrdfNrC6YK1+S3232iynjVIRBvuGgmWTEkk86F7ioNnAwh/K80FMRIzU3+HITIbp/jVhlI5F+ODbk7dh1ulwzpO+/Xi4XJzwPoO+8TkhPcOsWJvhxqDvHBlUedfet5wJsCScaoP6t3l5cSSxJVdhVuEyCb+bxGXa1MQYGzoeJ9L0zc0bEdElDt4rVwFpJRt3pdjaDWfez6CytCawfNxR/mHfzrD1tooRZwNtS/rOJYOtdAaTJ+lGU/7mKI94EqF92MC8XjqXbk9yWT9plJ3BWjyTbAY1JsVwPs2vfn7V83SYbmtTu9eIVQDj/pEoBowrgVwleIWlD02chvZNmIQL5C9+tc+F8M07WhOuKtV4qdLdgxIILFlXsWqOhxygsXBi076c0wvq9Cd1tNwbuR/D1QU1Qz7ydhsXXeFf2UX7UCy5T2g3KBGr1gvt8mNOlxB/hcuTaYCLllewo3CEFyomlqN1pyuvRecjBhl60CEHs3annNYLKbl3Wpqjl9JgS3TWF0Hep3Rfxtr/FLNgmKINltowZwaAiUx+3XRXHuTKhD3QkDKY+lYwTq17sj7rE0RkWcu6beIybj/CvVK5EMqjoq2VlERmfdVtYWvhhTKstQ7Jk0lsee1AIX6hZ07dKJbHsI7qwaGYsbTzbdrlLDmFzCG5fCNCy2mfzCLTke2np38/W1h+VkHpmbvSK/HIeOz3wzof11ctdyrPBcvZLpLB66NoNvLKXU0OmFWuePbTGMaOAIAczKUMpsDAPlgmXmQ+y2AYv84F0irYNob1RMiU15dqve576lzWJJ2S37TPsfubF5evH8XGFR5PsYokXHr15Ie4Fv2MWEUxB3rIvs+eHJHMk3ZFxBjsGwqWTVoi74nYK3C+jYVaBaWa3nco+5GKlNV7W99qHXi7Hx8E4vMKh/OeOm2V95t2vYoniHJ1It2XxDEOObb024x8vQR6V5uYFW720sV50T0+t2Cb1zeOOFP2RbjNC5dJ+t28sWLReGyJilzfsBGhZohry8fORku38qQzLwRNZzDC6fpz1OJjw15hdc8/LkxXAsewSLKtNhk19TGv6UZTvulVYukaUVvEkT0Q995xBmtB2UXM4Xwa6dL5TYdRHc8Mdq4sN4SMCis33Bxuy30TY+UJrH4O91ZF8mdkzP+rOgEzWyhn9Dx3EDsOlefERSO8bGmHCF/LBjswKJI+3PFsvg77ZR8LL5MB1OzCJo6cTe9aL8Txs3LjntrMFV9rjEXKS6To6npYftGIiQMBREckmWn9FbN+k+Iki/MGRpx8hHXJl8nRS38gERLF02v1SkY9MeFlGNvA0T/I9JLnvmx23DKPJj75V6VpP086ZTHrY8/omsGt6aBV2PSMupcPKXeySTguX2+zphRHbt47xu4HdWziiNXJOmLr/RuvxUa42NDw0nUCGNntwXLGM6eep/moaN3nYeZaJ+PN/p5+W26bvqjhwaHSxXglQstpNkG6XM1mbBWz0PWR0ScYG00mHuI0U/qq0nEnBcTbqs0x5Z3K8yDlHCc+YH0sWO6J4aBmwI1BESdrXci6G+jHUs+DddaKSFz6LINh0nqabrv0OzltY1hPtJth375UxZ8YAl4+9G2qjOVzP2yxNlK0vfnjioAc8UqDmGHW7ZHkLPozJUu8UiGCS+amjVLxpfma97z2wBhv/Qz8gIjykTgBqvxC7zVSs+HG0EkHUTPqdrsbZp0O6TzRbUDcJlg/yjpgJsxE7RUnPfbVCaO/1kSpjK/42DKvzSgkg0xTHUoiV3umn6BUW1Hfo9L5LdLmyUMOvpypFSM7DotRcllUh0UI990iY8Vw2brxJLIUv7pZIyKoTHoJccCVCGn5z27qGeQo5X9vsqjAWBv0zA+p4850g+hXTKeBDb+jBsdJRZeNgRXPMIVTJEyw0ZFuDqaC9dD9nD6xSc5qWfLFSDIaJz9/yfviSs0Kp9wP5EuqkTIdOnpnWJ2sIH30nI6nVnFXkoL64qaevlPypBsKtUF52jZi5CzIUywc6tWs+CQYN1apa57/sqj8nfOEbZHyErEGy8xNTt5Fh6/kMvLu+2q82iGNh5eb2BHGhDh1Kv4vXNF9mRy91McA+u4T0rA237FwdN8kFq4D5lfVOSYrNOa50qHEQPRlU+/ptsDylZfP5SZ5e/OdKctFHP3tG1Sm4zUdtN++aIn0LFy8J0LqguWzbAT/IU6T0SdH/Wgn1+b3fis6QX664w7WPyN70pbIZELxOHWjGLcwc+OyZbla6LxF/7ZwkvnByAxZ/ZUI3T5M266FIv6fHZzap/RY+yA6f4nN616bLfNrc1E6b2Z/TXHA05VUnouUcxxZcjFQfQyVlz7cIdY3GbVeUfuzaR0CkaRpX0mj2Zk4EL+q8PYgL2vAbsd1c0aEnoHPaRvDMoXbEbevUX7u9t4ZmQ/58TLzccPQBKN4S8WfGCDF2sii4wqHp7wRZVHF6l4Ts/H+SCXD0kexvyTZPydflzpi2igVW7BvCOpSmJ2RSa6AZGzQN3yNG6GqH15d0xHJ/SjOqnwWa5Nyxl+nrbLeiVry0JdkEiacLyNz7KIXii/0zGxw98aW/duMAjJ47nQqR8rrRRlKql72bfNy47A4xZfFdFi97r4b1C1nrJhVtm48sSgDXAxhRLzCljhey/snj97TS1f2BsHucQPT41XL7y4stN8Z9K7WpHuK8PNL/ond8pvWB+RETvWmzto77JzrwWL3EruLYsP0hHXiU1h53AZQzUg5mwS7x1iefqJOEtGbmZ3B2i2uRMgGb7KBE7MQEV1i591T+eEYY/XLzXrTa7gw74gPw81VUPsQ2hhbLH++/ohTl4Tb0vTaMdr6LM9et42DlSmMeI2QWi6uor6yj7Z0IYrQ/XKM1T/Ex+qsE1tEIrphmN9O61Pst+8LI2eEko2V7s+qjJNN/B0cLIiTpWwdqsjTeZbMaUBSjn28Hq1CzijLCHvoHgu3pyQdXz9Vumld7vz5AqVJ6wQkV8DkTue9ZKUBPfAvlf29DOl0RES+TL5eXmxOqFkfs9//h2rU48ZviA5M1Zdx1OqvsPvVLNMcY1kYiNZmaF+2OOPm3HKz76DXwdGykFPP8sQv6rIc1asz8XMzuE06aKFzk+VxLJhT1n5FuNh+h7r46GE8mO/hYs3ncSk/ohjLrU/8iuMRDhl/NzA5+i7e4GyLIfdulO3NsOKYzDd4JpbB43SdEGEXoVA5+J1mAW6ZzIVxX6tArhDrFZPoalvqfPKNF09OcRuSSxsR9Q+JkSvbh9EZeRSsjMWUaTz4VBvYk4kIsz/CP+45bURMT7/CqtkQ/qurdMU6+EINQJJ6Koz/3HIOZNW0RYXqo2yDipW7NA5E+xOzCCUujl49xII8eU/7YQsdFh9RHZ3Bgf0xyGCZeHFK3bFYBsOk+8Ng2/U9v20M60nBvkbqtXBb1o3Urwgn4rATm5ecXX+FXds7YEgjovi4wmMqJ4jECXBuOydntUX5xgNZHU4yT9oo8TTIt2DZONLo+lwyYx7RDPcidM435cmYrsu3Hh+Nv8KWGR9FHZw2xTcc0ie0qTakzxjPEUTf6LZKzcyr49QPPrxBXWw+d74ZVVAnoAbs83vWcfUDjC37txlFZNBGgjgURGex91UYihPY+lc9yG/z8uNIo1SrrJNrLWfSPNyuu2OCImPFIvGkZcp/MoQR4Q7IzADNzAioowTNO2rjbVv4bseVzM28EdHJ4M9LbPzxRA3q9BnUYplc+vxNupVYhv/VwUFDfUHZyDMyMYOtz0YFxFvpRlOG9SuxPh7QxDM2t4mLL+JjN0mj7A/WHNlNhrzlpvixvigUxtrvIBsvuWmqJb9ebIwIpPJeRX2pmZx85SdcIH9+EHEf/bMpj0c1XMTfselF7HpfvJTv/tvEkli6cwbv9j4EnUI8kDb6Yv2N9cWVRm70szsY92c1sNabcoUu1sTSqeif5Fn1EaJuG0fvxdnV9sAD6H1pyuM/jcy+/hQqLyHL933M62M7E533hJS3Wh+dzZR6xtneVCzfLVBnzCqIM3jt4nRdHF1ruD7B7Lp1OpGv+7ZcTjyW/CbMlzNsxGVcxbN3247OhXmpeKJ/1rS/qZJL6FG8GdBKSs4OW0vh8U9SBq+DPhRHmFr5/HAJ2e44+UjzmG7sW6cKAdHnTfXlV8Ns/AU2/jFWWCyBvjDHX+p0R6cgjFO/fXBCGX55A0PfiJB1sD+3fszxo4UNcQxrnK/nWDpMTohyZDQ3IVnFIH1dTB7YA6ce2ns2/yqe/W9TT2wYg8E7dtoYNuZjoP7AV7afU9j5oo9j1HKPTLyB85Vd6+S4uE1EfjmbLCZ/B6mPA5S7ng30VwSTdJOrYBtkHZss3wyWSRKHvPJZBsME+sOMtisol923BuMHULCvSbUHc2s4jU9QFANku60x9V7Jb8YdvnuHIeLUiUHHFSYS81e4mZa9QyV0+cYTM9a7ybHW+mGIb5BdoGxMvObvzzYO3s/IfXtxnR59itd2+27e/dXFybr3rqhP79IfaFW8TDvq/k1Ym4j1X78fF67Gc2+wsXeWPoK2kE70cLGZjOdMvS42tizQZhSR4du+O4YRbfuefeBGvzZPc8mNw+MoRqmHb+IyNbwdHY6DeGOCAmPFQvHE8Re/GMiIKB6t97Gb4gHVm7JivcNRwF9XdtAB31GThPzgTCCc+b3o3/jDNUUD3OZ7oY/dpNLTzGPf7NQLzoOh8yc/WJLtXuYloj569MvMhrzAxmEr/fE+J9BN3aiGuLYdWJGRjZ7nZ2+Szfgwlvn5Yf69Zn20M+11ekPrkZw8C3ywyU5r4OuidaDAe4PogZzoCO9BGjgLBQJcq42zPjhUIKnsV3714rPl7Zeuow92PKnrvPLohfgXKOdUQgM8KFLuYtUiayUrK6m8vGaFu+3nQ8pVVCeKvjd0Nq8xrhg6zTsIKLlluOr6yct3f5rvIIgJx20cmdP6/Jdv8X74sh6gL8vR10IyFGgvc+MpEMeNoRZ5voHx7yDy3JIRMYgIgXfF0q74YN3cGg7O2+jKzY8dXByuYHrUdlEKhOWj+0lAzoa8kh+wMjMLty3oxQfxob4pLDWPcfFNbSjtfmlhZ3HC+87BbUvyH4rfMyL+QzljVkjghghEOG2Kk+MW5Yqb8x2RG0qB0QxBgOMKB1okPAbmpvDsbTM+ncl5gTckUIDA/TQihOC9Dk73NrGx8gazL6cwu9DARnMfF1meBQUyy1ceH4HoyzF21lewNC++Aim+or6JXbOR9vHhuH6Ovx5iYz3Z9Hj9CBkDCfzXCPRwsaeOn945tvy6/2vZfIj54bjiIZYaZb7HBO6vEXGPoVE0EiABEiABEiABEiABEnjMBGhEPObSZ95JgARIgARIgARIgARIYAgCNCKGgMYgJEACJEACJEACJEACJPCYCdCIeMylz7yTAAmQAAmQAAmQAAmQwBAEaEQMAY1BSIAESIAESIAESIAESOAxE6AR8ZhLn3knARIgARIgARIgARIggSEI0IgYAhqDkAAJkAAJkAAJkAAJkMBjJkAj4jGXPvNOAiRAAiRAAiRAAiRAAkMQoBExBDQGIQESIAESIAESIAESIIHHTIBGxGMufeadBEiABEiABEiABEiABIYgQCNiCGgMQgIkQAIkQAIkQAIkQAKPmQCNiMdc+sw7CZAACZAACZAACZAACQxB4DcbEV0cLU2h/uFsCNHdINH5NjbWD9FxHw95F+G0uYKN9X7/VFrdT+9Qf7mJiyFTuvtgOm+fbobUwPJ3D7H0cgpbnwcOyQD9CHTPsPtB6evR134vXue336w7RvTPm6i/fIejrnlww39/tHHUXMHS/BRmFxrY2jtDt5eRhuTewMJc/3ev3T59P8bW+gq2WreV6Yz88TEJkAAJkAAJZBD47UbE7lwFpffXNyK6ezMolRs4zcjoYI+1cfNyCnX5bwJj5QrGauZe/FWGw82mO5iUw73dxU0xHyr9703MlitYPR8q9PUC/TjDTvMM0fViuYehz7A6WkFtfhMHrRbaP25LxN+gO6EyO2+gVJ7B7vebz2fUWkStXMWz/y3qSYRFvJ6oojQ6g91vbnqdv16pdmH6DZbFhMPKG0zrd3e+uFbHdduJTvM5SuUKSi+3b2iixM3LMHftTyu4PYN1GIkYhgRIgARI4C4J/GeMiNuFdobVjIHvdQcHtyv3PYz9dxoR/zRQmmviPzeX+zuZ3raKhcrstoyIXgvLoxVMrrTgmgAdZXhPWwP4qzVpbLz+2E6/+7aK0mQDp1Yk12sn2th5WcH8x00slMexcXXb0IvE38Hu7G+aDCgiHt8hARIgARK4dQKDGxG/euhctXDSauHkvI3oVwEZf3ZwId5vnXmzpPbMZg/RlzOctC7R+RmOs/ftUqWbigfArx6iyOq1e1F83/uuwl18s34PJ5HxtJgR0fvRxmmrhcx0ejaHHFlkfiI5QDHyn35J5tBDz2zh+7L6GSGyGV+DVd90hEBOngF4A95e5MmiMyGfW4gMW6F3F9+tH8T7FivoMjj90nUGdyK+9scXKM1uoy3StHVFiKnDBeM3YB091jL0Oji9cs0SpcctnFx10AvVjzieQF5MWvbfXxHa56rO2TogXpGc/t2WqzvLxyJfUThN/W5KHqvs4yT7yefpTlJ+PXRlu5BdfxHHK9qBbH5Gjswys40IHadf3iYOwMjVQvY7+m1PN5M4ANcdqYeTZWEorIXdGL9uY7pcwfxhUl+vZURcrWGy/AoHP3o4aVQwuX5pi+ZeF2Lcn0lumUqdOcZyuYI8nZPC5fQZMj2hDr+6sp/w63dufXIJ8I4ESIAESOCOCAxmRHzbx/y4cOt5haX1RczXngSX+W3Z1ZJ/Fc/qU6jXn2Kk/ATzfxl/fG1ELDawWn+i3hHuAM47IrYODuafoDQ+gfmG8FUW7kVVvN4z8QCQA4vEnUl12u+wujaFsQmTdgVj8/tDuAPkGRH56XTE3onRKp798QYL81N4NlpFfe3MGeja3FR+XmD5/YySX3KpoNbYx4HJk+BfrqDmxJPP6vS960I2HKv8dPCtidejFVlu0i1sYgoLmw3HnUm6adgzvALCj33MxzOuPZyuTWFk9CmmFxpYXniOZ8J1573FTpb9CyyvvcLY+ATqL5X72Uh9BafSWDrD1ssp1MYrKI0+VS5qS4d6RaJA/NDvjL/AktwnI1xchL4qPXy2qd3xfl5ia07r6cIbzIryGX+FA8sNpnfeQK38BLX5RWw0ZtJ5cZQAgK5zI0KHdR5G/ljDhZUvVa8Sd7vwfpOwDsuyt1Zn8uRzdado/S3Iz8l7nzLLLW8d0bdDLNWrGJl4joWFV6hPVJHohJOYuokOsVCuYLJxiG7I+IuDKPexbDdMtXJQahzH9fs6RsTF+jhKC4fSDa/392KG8VKQcS6T/DKV+8BkW56nc4n+ZvcZSi9n17exVKvI9mx2TxvlefVJG33Z5RAXGC9IgARIgARugcAARoSafRuxOkagjZ3pCkay9jTIJf8JrP6TzMipQYqYVRO50R3W5CKOYj/uHk7fT6BUXsSJmaxsLWJkdBEn1ux55+NzlEYToyFsRIxj6TiZJY5aDUyWq0P446uO7vVfSVymLNTgwE1H5bGCpb91BmRnN47lVsJBDLBn44Gyic36KwdKFcw2E0Op0xT7Prxnf4pnb3Cko+4VYOUOBIFQHvJY5afTUbrxtolOPCCLcNQQRqLlBiENhufYsTYDR4evEt9vOavr/i4GUiO2T7xhtW25lnxTs/PxgASAzLc1YJa0i8T/eQUjZVcG/DzGgqNLQm/HUZrbtvLbw+nKOErz+3ofhnZLsWao8WUT9fIMDtKqBeASGzXlXhNrzs8zrIpn9mx0nxn0RKOKGBH58rm6E6q/EU5Enu26WYhfIql9FSyzYHkrg7X+sa2DK9mEa1LMDsotyWFnJyamK/Q+B2lszi9i59BaNTHvdvfxWtRDM9g1z+O/EY4WKo7r3PBGhDJY4rZEulxVsdzSbYtJsxDjIkwKlmkhnSvSZyi9LE2+wcFXO08F6hONCFP6/EsCJEACv4XAAEZEWL5gJ69fvdgUgyrfBz1CO978qTss3wiRg4ScjZP+O/I+MSrCnbae9crs/MN5BLLDFUlHvpPaEKkGGiNrGZvK/fwJ0ULPvm6jXp5yBuGpXHjh3IGgMSISdip8dp5T8ZsHdjp6oBUPfsw7crBjGRGIcDBfwXRsLPn3JqD11x/A2OnGr6V1q5+uxsHEhRe/nP21jFr1ruKTGJbeYM9EKF1RjJGgBum1961iboAybLpspT6NriSuNJ68Jmn3r5LX39Au44rraL58ru6kGcs0vfIoxs+V1twFy8yLX73rySKZpNlFn96gZLMzCdl/u5c4aDaw8IdYOVWz4yP1dzgyK0qad7YRAZyu3IwRERvr8fhaD8yX3X0bhRgXYuJxNFx85oV0zgR2/7plqvQyMf7Mu0Xqk3mXf0mABEiABH4HgcGMiOgSB++VW4BxC5EuIvEgxM2C7Eh9A8F5pWCHhQjtwwbm5RK6do2SrjyWoSE7uWQgXGRw74jS9yZ7QF0kHdlpGjea+MQn7V6TxcfvtIV8oWepzjyflTsQHNaIyElHrrS8SJ1o4w/QRbbkwM4YWXJlwipXsV7V2sTCnHVClnaliAfEIS5mlcvi6w5ekgLPjV/P/teWj9GR+yk6OP0wg5HRN8kKmi4H9wQv40aX5Kd3tYlZ4ValXZr6Hh8qNhWHThzz85vSgSRvyVURIwLIk8/VnYL1twi/RFDnKlhmfv5lCE8W+Y5uK6w6V5ftRtJOOImFboQ///k2FoSrTU3vgegdY6lcQXrgayLQsrzdjzfxh9sJ837WX2UwlCZn1OlP+sjp5bfjzkqtDF2EcSEmHkcjms+8kM6Jyp3XZ2S0rQXrkxGPf0mABEiABO6ewABGhHJPEQMp+8z0YCev8+EOOEKZK9ZhSb/52iKO7A21fqcm75PBQbjTzuiwQqI5z7LDFUlHcog39KrNr2IDrPxnuWg5Sfr5Ez+GnnmdeRFWfrkUyYMjm3D7EEdO9isTKVcVq/73IDx5ZbxyUKZmjaUssfsPoGZiZ7BzlTilpAyREJeCRkSh+MVY6J81TNfEfgu1N2H+fRMXsQtesnphNprG5avLOZ5IVhmWhwjI2e7pJyjVVnDhvqBwy3wlrmpxGfjPQ0zjl81FMSNCva0OOQjJ5+pOsfor4szlZ8T0/sr0/EmKIuUt33mBnX+9+hbYVO8lGb6VBp0xitWKjdmnkA6gZtEnN5MN0OE6lg7pPNHGSsowfSn2VFWw8MmqE0UYF2JSsEwL6VyRPiOjbdXxF6tPDjXekAAJkAAJ3BGB4kZEsNNQp4WkXZaU9HKgmTrBpIOjdXO+eJEOK/yOWr5PZnjDeyISo0JJlNFh5cLODhceHLjvKxeKZI+HSS76t4UT68Ql81z+DQ2UQs+ccinGyh0IDrMSUSAdPQDyXT5UudnuTCK3asa1/vFYHqVpn2oTHERKFy4rjhCXgkZEofilW9ELbH3u9jH8LrExabtl6dL82cFpS3+sTJ5U5X+4rCVPuYlXVWwlkPlMH+kpN9ra9crRATsC+1rppO9e5rgcFpDP1Z2wHqSM3UL8bFmT62D5FClvuUk6sHfghziprW3tk0jSkvXU3/uifzbtjdm7oup9+tsR4nURz0h5wjmKNdxOJGmHrpQ86XbD1Jdkrw2AIowLMSlYpkV0LviO32e4bWXCoUB9Sl7mFQmQAAmQwG8gUNyI0CeX2Bt9u8cNTI9XA/sedE5+HGJhtIrXHy91p91D50/hBmI6xiIdltmkaG1Y7R5jefpJYHNtYjSEO223w7r4IGaVi3z51g1nl1ORdNBTm2HlKo7eZBxdbeP1aGCQYyIPDZRCz5yOuhgrdyA4jBFRJB29MVJsmDS+5D8usbU4hfqoZQBY+R0ZrWLE2iQufpKD3MkGTsyka3SJnXdP5Ue+4oF3iEvAiOj8+QKlSXNik0q4UPw/L7ExrXzj5Qe/tJ+8OHFm6ypZQuj+JXR7Rs5+y9h7HRwtT6AUnz6lB0bryQfvel/FBvAJbP1rQNh/BecqSrUGTvSqh9GbZC9GsgoS87CjiK/VrHBpbhNtzbL3dR+rc1NW/c2Xz9WdIvUXQEF+sajWRajMUkaKfN+XpYeLtQm1WmY2rf+4xM7bKka8/QRxcrqelmrvsHPegTwFuBehc74pT6Ub0Sckqfc72BXfgxh/hS3xrnFza76T34/wT15T7cQrbMmjrvUR2fraP9JUxa/2BmXKet5w279CjIsw8TlqOqk6pozf+b1OfAJVzNFcFOoz+rStefVJt308nckA518SIAESuFsCxY0I4cIijyk1g6knmP1wibb4UrTvbmDlofelKY9ZNIMvsUFxN/6aa8EOSx9LaOIYm9vExRdxutH1ViLkgMiOw5LbvezT0QW/lB14/0cLG+L4Tz0ALY0/x9JhcvKSm16G61KqIw8MIAuwcgeCwxgR4uhGdXymyU+wTH51cLA0FW9OLY2/wNZVW642pAe8agBrH4spmZhjHp0Nri33438hLgEjAt/3Ma+Pyo11Njf+Hi42n2Psrfi+hP4ugxgwfjvDzoI4hcgYxELaHtp74ihfU0fEl483cWEMIPHKt30sCRcmowejU1jas06V8hXhZxu7NsPRp3j94dIduDmGYanGLQAAIABJREFUpB+Bdf/jGKtW2rLMjr0P8OXI5+pOkfo7CD9LVnMZKrOi5Y0uTtdfSINT8X6C6ca+dXqWScT6+7ONg/fq6N2kjJ7i9bp9ypN+/1cXJ+veu6Jc36njWK1Y9QloRi/cv/5qnQwny7TPJIM47GHUrHwNwjiPSZEyFRLqNLUep+uzyn1+nxFoK2NwOfWJRkRMihckQAIk8DsIDGREKAHFR93UR9AGEtj7SNVAYfXL8UeJhgl8X8KEPu51C7LdFatC6dxEnm9Af/pizoxfDXIWjpMVhzgeOZgN7FnQH3bzvmcXB5MXgzKxP6jnxjT4nchrX+FkBvLfKZTycPwKRV34Jd1mxUcNFwsodTuPk45KvvsTUMc7V1Ff2sbR5z6z9MVEKPjWMIyHY1JQIO+1IfsMK5ZC7Yz1Pi9JgARIgARun8AQRsTtC8UUSOD+EIhwtCg+GvcCG+KbAV21UbdztY/VP6ruR+/uj9D3SJLHxy/6t4mluSk8e+sfb31bxfL4GN8WScZLAiRAAiRQnACNiOKs+OajJdBD97yJrfUGFuamUJ97g+X1bRxcGWf7RwumYMbJryCoa7xGxteAx6AkQAIkQAJDEKARMQQ0BiEBEiABEiABEiABEiCBx0yARsRjLn3mnQRIgARIgARIgARIgASGIEAjYghoDEICJEACJEACJEACJEACj5kAjYjHXPrMOwmQAAmQAAmQAAmQAAkMQYBGxBDQGIQESIAESIAESIAESIAEHjMBGhGPufSZdxIgARIgARIgARIgARIYggCNiCGgMQgJkAAJkAAJkAAJkAAJPGYCNCIec+kz7yRAAiRAAiRAAiRAAiQwBAEaEUNAYxASIAESIAESIAESIAESeMwEaEQ85tJn3kmABEiABEiABEiABEhgCAI0IoaAxiAkQAIkQAIkQAIkQAIk8JgJ0Ih4zKXPvJMACZAACZAACZAACZDAEARoRAwBjUFIgARIgARIgARIgARI4DEToBHxmEufeScBEiABEiABEiABEiCBIQjQiBgCGoOQAAmQAAmQAAmQAAmQwGMmQCPiMZc+804CJEACJEACJEACJEACQxCgETEENAYhARIgARIgARIgARIggcdMgEbEYy595p0ESIAESIAESIAESIAEhiBAI2IIaAxCAiRAAiRAAiRAAiRAAo+ZAI2Ix1z6zDsJkAAJkAAJkAAJkAAJDEGARsQQ0BiEBEiABEiABEiABEiABB4zARoRj7n0mXcSIAESIAESIAESIAESGIIAjYghoDEICZAACZAACZAACZAACTxmAjQiHnPpM+8kQAIkQAIkQAIkQAIkMAQBGhFDQGMQEiABEiABEiABEiABEnjMBGhEPObSZ95JgARIgARIgARIgARIYAgCNCKGgMYgJEACJEACJEACJEACJPCYCdCIeMylz7yTAAmQAAmQAAmQAAmQwBAEaEQMAY1BSIAESIAESIAESIAESOAxE6AR8ZhLn3knARIgARIgARIgARIggSEI0IgYAhqDkAAJkAAJkAAJkAAJkMBNEOhFEXq/biKmu43jQRkR0fk2NtYP0blbRkztP0LgvuhP99M71F9u4uI+c/28ifrLdzjq3g8h75ZZF0dLU6h/OLuTzN9t3q6Zpa+H2FhfwdHXa8aTGfxu2WeK8Z/8IcD2ntXz28J+p3Wse4ill1PY+nxbubHjDZSp/fM9u1Z98DZOo3sm2O8W51sTs7U1NSYI1El/7HKn+pzD5kEZEd29GZTKDZw6mWrjiIaFQ4Q3gKh0O+duSxXWn7undV/k6Jvz8wZK5Rnsfu/71q38+PvLrovduQpK7wc0In6cYad5Blfr8hE9CH0w2fi8gpHyFHZu0YgYir2Rj3/7EAjo9W+s530EvdZPv739+N7EbLmC1fPBshGSOz+GQJnmB/ptb3T/EmO4RZz0fpsIVsK3PXYsGn8PJ40q5g91zxGok34f4d9bmbrzy4dvRAgLLmVY3DlHJnjPCJyuVDC7d0+m0T0296kB8ERLbgMNWfLj7V6Fyu5umQ3ZMf/TQGmuiUG17m7zds2ykwOkGRwMmsnCyQ7JvnD8j/nFANvfWM9vqyR+e/sxpBERkjufUaBM8wP9vjeEvo2u3I9V+NseOxaN/+s2psuvcPBDF0uBOnmf+owHbUQIH7LoeFFatkfiOupv3vZ+tHHaauGkdYlu6NVfPXSuxO8tnJy3EXn+aTI9Ee5XhPa5ficUj19Fbyrenx1cSPlbuPhuJdwL5P1XL80j9Mxi0vnpCW7FG309w0mr3WeWtYeuZmdkk7ysOIM+f1YadurRF5FeCydXnbCfYBYLmcdL7MxWMPvxEpHQC4MqlH8Ave+XKq2QXljymfcuvpkIbYl7iGUO6I79ptMAGP5ZYXpdpWuGhR2RvC6SblI2p1+6CEkPI4dhUKAhA5J4ZTl5siXlb967RErH7DB9ys5mZupxuBxEgZp6cob2j2Bu7VRFgFh3T7+I2aCMjrlPWYi8tj++QGl2G+1AW2RkFjpt6ocRws5bXA63qQ+5fPrp1BlWcydt+oXXuY7rrygjQ0L8tdmbeProjaW3Kd2S+hRJfTd1V5WvSi/0zJak9820C76M9lvWdU47L95M9KB/nKG2MutZ3L5JUWxd9uu6zVbLXaieq3dzecRlmtZxnZr7x/SjrRbscjEvyfZDVF/znqgT/arzTbUf/XTKCGf/deoTgAwjIil7j08fuU0y2ezdMjV9UIiniCtTBpOQrcOi7zXP7b+5fEy9baXHUYJN7kSLFT5LBqMTQ+qO1K1+Y0enTNMU8nQzN36LZ6f53J18CtVJqSOJHE6fEcclxnzpsaDRicyxVBx+uIs7MSL+/ff/x//3/P+iVK7Iv+J+mP9ccNoXcKKKUvkJai+n+viZ93C6NoUR817tCUqjU1g9TwoF3/YxP17BWO0VltYXMS/fmcHuNyOp6DwrmF1Zwfy4Sq82XknHY143f28o3t55AzUh//wiNhozeDZaQe39mark5w2MjLpLhJ2PUyiFnsUVuIeLDy8wJuN8g4W5CXk9/1ey48Tw3mk+x0i5EnAlM5nsYPetVQ71CUyvNbHluIQofv4Sr0wjlgnAz0tszT1BaXwC8wtvMCvKYfwVDuJyAPqykP6EIi8VjEwInZjC0ic9bSorp+0O5+lF/SlGyhNY+OQzeIfVtSmMifjkOxWMze9be3NU/kcmnmNhpYGFaaFftu4YTuqv4br71yvUakpGqUu1dzhy8rmC+mgVz/54g+WVN5gWul5r4DQ2zAqk++0QS/UqpGwLr1CfqGKkvmLFYXgmvGoTz7Gx/q6/O9PPM6zWq7KcBGMRb8mRX3duiw2s1p/gWV2/U34CW8ccMn3KTjHLKwegI/abaGYL81N4NlpFfU3XEycxc+Pr7lPUF9ewPOu6M/XO+5XFGbZeTkG1B0+lztWXDvWKhNax0aeYXmhgeeG5W3fFsFm7ad6FPuTzydepXt+RXH74zl+vMFauKp2Q9cnWiaJ6k99+Qdb3F1h+P6PqruwrKqg19nFg6rNoX8oV1Bwd6eBgXrdBjRUszYv2pIrXe0m7YLQn/pvbzgOdvRmMWHqQHadiMN200usdY6lcQfpZNXGbya3r7oBTyh4asMSZMhf5PPq2ySYa+6/mZdpoUXdG/ljDRdy2DdHfXrv9KKBTdh7E9bcmXo9WrHZwCgubDc+dKacN6CM3kMdel+lKEwfzE3ocpPq/2qK9fzRHBpEX0abXkjHQ61R/U4RPXv3vIYrL2IepZbD6FakXXn9lxmrD607/sWN+G5mnm/3jd3PdxcHbCiY3L5PHoTrpjV1Mn5G49mvub5vomMnvAmOpJNHhr+7EiDAGhGisjSExjMhpcEkHnMBMxxx9eoMRb1AnG/RJvZEFPZwsVzHSOLYs7zZ2pisYif2ileKU5jbRNpXgVwc7YqBsD4Kd5G8q3jZ2XlYSnzmRxpdN1MvaraDXwvKo1ZmY2bxy+pnphESjP1mewY49aP1HPEuW1RTvCqbXz1KrMnY2pSUd4ivK2+PX34jo4fT9OEpz20lFQA+nK+Moze/rVZAcFlIwXcl9dyavIkq98BhIvUgxGMfSceK/EbUEp4Rt7+9FlGJdEgL0cLRYwcha2KfecI2NQBFEN+Ajyy2tgx2pf9Mf2wnqn8dYGk3ctPLTVR3M5ErLWkHqSH//yXXdaEndEQap9c6vNramRV3N2hMR4Wih6pWTasSSctKd2+QijuKZ5ggnoixHbUMuyZ66CpedYuaWgxq4VLD0t54MkDOA41huWbsS5JLyODau/HTUfUh3xeqmNJpj3c0vCxHb6ftAWyCXqp87ewhEuY1YbO9MHwrwydepMEfzNDf81Rpq5Qms/pOUkSpH0+6E9Ea0CxOOL3WR9ksZERXMWoPxTlP4ZHvP/hTP3uBIi9RrLapJGdPOA+h8fN5Hbwu089IIcPWwd/wu07UjNDspddLua5zJowJ13fQLsV4DilFWPVelms+jSJtsNET8vcRGrQKnXdLtX9wuYZj+VsQ9fPtRSKfsbEC1CyP2wA0RjhpiQs3aE1GgDciSO5+9ri+iTlmToqpOVbHc0m1jARnkxGPcz4qMtrH1soLXf6m+rwif3Prv8PNvVL/i8lT9SqIXN6c7qt31+qICbaQpq7yxYDB+P8tCX60+Xf48sBHRxcnyhGeEFxlLpYQZ6sGdGBHGeLD/DiNtqFBCz9y4hWLaxoD+VS5XnYXdmvQr7qCgX+PkKaIrQOpu8HhVIy0HesbKdGIVG3Msa/bHPubLi1h9P4648kWHWLA2RJ6+r6LkGE0iwktsTCaNhmLrrnA4ycobZUknxpZ5Q1WOwYwIFSYeFJqortakwaP8sPNYiEDhslIdpikrpRdpBkoG03CG9cuNXzacwoj6aq1sGdkDf1WcL6xVLvVSOC07At1h6EFAbrqyQUxvghXGU+yXmrFRVm2AyxhcSF2yBu9GRDGoMYZtaMAi3gs1kCa8/OuyNT+F2bjvyndeblsrRCK0rv9Bg07pbpYOJLprpLD/umUhfnHrtf2udy3LJRlk3JU+FOGTq1NeVvzbvPAXm2KSwN83EqHdamm3pjRXmYanN0Xar6CuefHIuL9uo261jX6eQukH3/EeOvogjYgqXv/ZtiaqvAD2rZQpMWwu1sdRf9/AgjXBIVmaNrxIXQ/VyRAPW46saydckTbZiki25+l2Sepn7C/v1m0TWtUV04abp/bfQcK57xbSKTup7j5elwPtoGxTk/ptB4mvvTYgs8+KA1gXDntdX2abXrunn6+0rIDepSeDNCJqDZzEkz7u+0X45NV/N0bvTvYryeSc+bX3/Qwnn7Vr1Q3qTkiXirSRWWXlx+ffm/y4f5UOOpOrTvnqt+WzRO+TuPUEi+OhIMIUGUu5kgx7dydGxO9diehgV/jH+7PSPrHoEgfvlbtHaVS5JEj3hLjDcxscEzwpTPPE+3tD8fauNjEr3Ke0S9PWnmsAyYGhHkDJa9G5iAqnZ8hl5Y4HWLqBGZ9QrhfSFUy51Qg3KcMqN28yq2o2xoRJcu8PBgKVxbhyGMa6URvTLj7STUbIJl0ekgFtHousSu4aEVov/rRcBqTwrtxhBr4udOSRoGKmULk0beNI+tYnNOyrcJyBAXa3ha2FF8pNRpeVKJ9kcJuTrmx4tNuIVcZ16cKhGySxGTjk4x5qyEwm5Ox+2ghyfYFdjiZocGAX/ygufLbqxzAz9105aNN1N9Yd42Zkz77G6RXTAfl6bllkGxHd1qZ2FxSuAkafk0FGOG83rw/F+OToVMwu66J/eLF5NNHfUBxF9Ea/k9N+BXUtpNfeYEoYnu3DBuZlu6Prj6wzSRuUkjy3nTeudsIFVrm27Ryn990l8aoJHTWhIq7FoFsZxAufxJKJGrjHEy5F6vrQRkQ+j/w2OckZCrU5bt02oTPrinlh6PajoE7F6ShXptlyXjuoAuS1AVntXr4uZtSXwKRGrgzG/aWsXZo+NHEa770syqd//bfxpa5lv9KnjokAN6g7IV0q1kYW081Q/Kk8a30dzoh4h1W5QltBadJ2c0725eSNpdLyDP7kToyI29kToTKbX1BK+dODXBuWGgjXlo+dlQlnJmmgxsnEfdPxqg1HB03td19bwYWZ/I5XGtSqhOpohDWqltDFLELid6cbhOVjvRFHbMax/uk489mKfGq+qcG4GqAlAwZV8ZzKkmFELB9bslhymawqun1YZJSVa0QouRMmpszc52EG4UYEYmPhcRNbcs9KNV4GNjGbvyrOwAqPbCBdF7XXYnN4vPqky80fEGelKwcWL7Dzb4inpqkHVanTdkKDLZMBOehyXTPkT87zDFn7xSsjCbMtUg6yvsYbm708W64pJhtGd9NuZ57s2l0wryzc9kKlotwRZrBzlbjvuMaWccm8fX0YiE+WTiXw+l9lhJcy+PrrxOSxN785eqPfyWm/hjUipCtRbRFH8QAqYNAZueTfIu28DiA3rh5j98MihM/5yNv9zNO84pUGsSqhJ4NkPVg4RCTrWrJSofKaU9eHNCKK8+jXJlvAZFlaspufnOeDtAMmAvF3kHD2uwV1yk5KlkEVq/73IOTzZJKgSBuQJXc+ey23WZGy5JMGu9avYjKowHLz9eG23L81JtykPou+YkA+GfXfEi99KbnlGBGOjlhROM/tck3e8fsQ/168WayNHD7+RBpzpVYMnPGpzIvHQT7zVyIqao9kpFy8nH1dWgeLjaWMLMP9vRMjYjjR0qFChR565oZU/qqJr7b+NTrDzrr+6IlX6dUbajCeLL0XUxwn7ZuKN+h61cKy7XeJCAfzFcz+2cSqcK3R5/sL46G+vR0bE0Y+2UFN+64fPXTOk5Mj8tmK2DQnx5cSgHSpsmcdFb945kwL4ro3qNk3s2/DyCoG56ctvfJSiEW4rFwjor/cyggzA7yk8iqZ3PijLy2ceCsPnT9fBNw2VGjFNb2cL1wW4r0VoYZEzz4awyw3Xb08HPvFGqA/xKkz+qQt6TaRXkKWS9uW374JKv/qTZ7xudb6x+jwleVbrjsdf8AYzJcdu8vW/BLWRfdd5aaVHoxH/6bLR8Xr13Gdms6f4RwcjHplIUKGjIjQM0jmySDjrvShCJ9cnTIFkvE3L7wcFDn7h0REHRzFH7ArpjdF2q9guYX0z2mnw+nLldys+uCEN2A83frRTuqceSVv5lWsJI82sPvnTLI3T6a1iJ2PM9Y+MeG1J9xVLR94k4Zd181A0K6TIR4mrPxbgEehNtmKVOp/ehLCaf8GMgasuAcK57YfhXTKTkq3E84AUPSIYo+c1TcXaQPCRkQB9qZMYy8DI6DqS80kWb4MPXQ/J32/icVeOSzCJ6/+m3iDf/X+vFS/Ij4ybL6/c4O6E+pTirSR4bJKjxVC8afzrVYXTTnJ30N1Uj5LxiEqbrOPDOh9XpF7zZK9fwXGUmlhhnry4I0Itbz1Crv2rJGPQm/mWzabY39FOBHLQGYQLRtgd7Nd97iB6XGxedT477oNjkmir6LcWLxaIcQGZ51w7+s2ZssT2PrXSGKUuJLkSzRoYpOg2ODsb2b9vo/Xo1XI2VUZRQ/d40XUyskm0L55S5KVpyVNlicQ8+21sTs/hdqkbUSo2Tq5GclsYPy6j9W5KYsxIHzxxSZ4MXuuxOrgaNkqK71vQ2721jKkWahVkMm1lns8rFcRIfXC8lPu6bSsFZ4wA1cX5OB58k1ygpTQr5VxjCwexuVl4VKn8bx8jtn5Jjp6QSD6d1ue8hFvpJa+n/YmYXGE6Bs8Ey5tehCQn24PF2sTKIlZVbMv/Mcldt5WkWzg1h3V9BouDPLvh1iem0Ita9AE4GJzQp1ApfeB9L4fY7lmn3IT7gCDAzsbDsJlV6Qc0FOni8gVRb16E10JroHBldEdecDAOBbMqWS/Ilxsv0NdnBBiBlsFykJEJw3HSffkK9nxTjZwYipudImdd0/l6WFmVU7m7S70oQCffJ1yCit1kxv+xyEWvHanIwbJ8UlyBfWmQPsV1LVQB+0YAXqvlH24Q/cYy9NPnM3wTsaLtPNyUsXSMzHu/7uBydF38YZuJ055o2YpS45xoNtRsTnccdEtUte1YWP6PZGGnkTwJ3cSWYrwKNY/uXGqk+aM/72pp2YvWtGBWhKnubpG+1FEp0wy8q/evGq3/T8usbU4hfpoMklQpA0QhrRwu3b7rCLsVX2pT7/AfLzfRvQVMxix+vIiMkgjzuoH0GvLg2NqH/ThHgX45NZ/h1/6RvYrTn/VkidGJROLgskN6Y5c+ffGjgXayMK6GYo/nWU1HojHmRl10hu7pPtDfQCNVbfzx1IBYYZ49PCNiN4ZNsSRmn2PIAWif9b0ngJ1QtTY3BpOrQ1E6lgv9ZvYdzD74RJtcfRiXLjuwNGwThem+UX9vbF4v+1jKc6nOlp2ac/bpKc7w7p9oo+eLUkGjYl8vS9Nefyn2fA+MjGDrc9mtGOMksT6TUL6Vz2098TRmprf6BSW/z5Lf/X3xzFWrTyMzW3i4tj/QJcXlzgK8n+b8QBXplyARffwjTxKU+Qt7my9iijiSunF9KJzzGq4fH1diHDxQR27a1j6+mUTk3E2jhHJY0MTnZt+f2wZHeY4vYTp0qeOmu02g1sUSbeL03VxlK+VTmPfOv1KQDhTx+rqd0bq4qjZFlb7GBFieTsdr32kYMHBoA1GX4fKrlg5iBWwFjbEEcEmv+PPsXTo73txE+0cWrpr1/2Yc5GyEH6o+5jXx4jG7YblZyxkStgmg4w71YdcPkV0yuXn3uWHT7U79XfY/WKcFYvrTSoer/0azogQvu7qWGSjQ7Kd+iI+apqs8Lp5tvY7SL0L9R9A9HlTujCZeEvjL7Dxj7Hu/RjVvdzM6n3hV60SJpM9SchQnXTrujqqWLQFpl3XR4ja7WQSoboqwqNAm+xE+7ON3SVx7Lpp357i9YdLa9O538aq0OF2wIkZ12k/cnXKTQr41cGBnY/xF9i6asu+z0wSxMeWp9rXpA0Q0YbkztdFVV+W/u7qY+w1z/HnWP3b0q0C7ZDMS+O51VdUUV9qJqdRiknJnDGD2MMxSF/o4wz1K7Pr1smBIsBN6U7W2DG3jSyom1nx+5mWEwzJqkJ8rK9dJ72xS7AemNMbY9fyAmMpX5Yh7h+UETFE/lJB4o+EpH4RD9THOkx3FnxlqIc3GK/18bOhRAkF+in8x28i13Y+MwYDIv2C6fUvK1FcNyW3iCrqf351iFvgWa7MqTCaWbzvwXvB+8iM92t8m59uTjoipoLlEicqLwrE6wa4m7uBdaNAPgqWRTCDgm1wX4b/do4cBWXI1YcCfHLj8EX37nPDF2biRezfDqW3fiTp+1z5U0F02aWeew9uSd4klRwdEk2n39ynHiSxmatCPArolYlP/pX6rD4I6Dz/3TeDllGRfF9D3wuxF8zy5CgkQ77+FOkrCsscLOsCdem2dSePZVDuYR4ql3vfjStdSYeJW4W5Xln0T/fRGRH9cfDXmyPQx4i4uUQYEwmQAAmQAAmQAAk8XALCi8RyRXpIGaER8ZBK60HJGuG0uYIN6+vPD0p8CksCJEACJEACJEACJJBJgEZEJhr+QAIkQAIkQAIkQAIkQAIkECJAIyJEhc9IgARIgARIgARIgARIgAQyCdCIyETDH0iABEiABEiABEiABEiABEIEaESEqPAZCZAACZAACZAACZAACZBAJgEaEZlo+AMJkAAJkAAJkAAJkAAJkECIAI2IEBU+IwESIAESIAESIAESIAESyCRAIyITDX8gARIgARIgARIgARIgARIIEaAREaLCZyRAAiRAAiRAAiRAAiRAApkEaERkouEPJEACJEACJEACJEACJEACIQI0IkJU+IwESIAESIAESIAESIAESCCTAI2ITDT8gQTuKYGfEXq/7qlsFIsESIAESIAESOBREHj4RkT3EEsvp7D1+Z6U19dDbKxv4zTS8nzeRP3lOxx1+8kX4bS5go1PnX4v8TdNIDrfxsb6IXxa0ddj7KyvWPw7OFpfwc65KYy7RNjF0dIU6h/O+idaSD/cKHqtRYwtHOJ35MqVhHckQAIkQAIkQAKPlcDDNyK+NzFbrmD1/J4U4XkDpfIMdr9refz7oJhd7M5VUHqfM+AMhn18D7t7MyiVGzi1sy71oIrp5SaOWmfo9sSPZ1gtVzC719eCs2MJXgujZXBDpGCZFtIPX6xLbEyOY+PKf857EiABEiABEiABErgbAjQibpvzUIPE2xbqPxj/LXI+XRnGELlNIwLofJzCyHIL0lb6DxYns0QCJEACJEACJHC/CTw8I6LXwUWrhZPWGdo/AGStRDjvhYZaPURfznAi4jpvIwr5mP/qoXMl0mrh9IvnPNKLEEUq3uiriKet3Ut6iKIoGdzZg9tYpks9U24px88I0U/r3oq/9/1SynDxLZQPAL0u2udKzvidXxHan41MVrzWZe+bijdmaf0WvPxp2Ldw8d2VpRcl8huuKWYm0piDKEM3HvMK+rH/JRibcIp3dLyIUvkFdv4V5ZLwF3Kl9g/E+dA6FCfqXch0LrEzW8Hsx0sZb5ysfjWboWtEZDKx9cNL3oQ5ueqk83C1hsnyGxx5aulFwVsSIAESIAESIAESuBUCD8uI+NbE69EKSuMTqL+cQn1iCgubjZQ7U+fTO9RHq3j2xxsszE/h2WgV9bWzZGCPDnbfVjEy8RwLKw0sTD9BaXQGu98sxt/2MT9ewcjElEzr2WgFY/P7sR++canZaT7HSLmSuNdIoybtzrS1t4LpmoqrPlFFafQ5Nq7MQBg4fe+6M6n432F1bQpjQob6U5mOLYOQtvPXK4yNTmF+RewFUHkZq4k8VzD27hBhR54ODuafSI7zjRUszU9grFzF6z1/l0HCo3feQK38BLX5RWw0ZmT8tfeGqR4wrzRxMP8Uz+oinyLOCmqL7t6F/LI6itchAAAgAElEQVQBkMMecuCt3Zn0nph67QlK5apO2+xBUe5Mtqub5GXek0yfYP6vjHzL/QoqH0YPlj4ZonkMbSYTqAl9DTEJGRE/L7E1p8tn4Q1mRd7GX+HA1k+0sFyuYPmfpIx4RQIkQAIkQAIkQAJ3ReABGREd7ExXMPK2iU68ahDhqFFFyd4TIQfx41huWVO038S+icSHvPf3IkqTa7iIKfdwtFjByJrZk3CJjVoFtfetZPPqzzOs1iqYP1TxqkF+BdPrZ+4qRtCI0HLH6SkjpjS9HRslYSNiHEvHZtAKRK0GJsvVZP9Hdx+vy1Us/Z0YI0AbWy/7u9+Ijbkjo4s4sVY+Oh+fozTq7TOI5W1j52WSd/n4yybq5RkcSPH0gHl0Aqv/JLIow6OK5ZZ+VqBsgHz2jhFhZAwNxvWeiNiIuFpDrSxkTHRDyfgKB2JVK/hfeF9FPkPNRKR33odJSu4eTt+PozS3bel5D6cr4yjN7yf6CFUm193vEcwyH5IACZAACZAACZBADoGHY0TIAXPFGzAD+LwiZ+jNQFEO7l8mg3OV/whHC4mRII0IsfLwNRncOZykq4i1mqB/jL60cKLdmpQRsYgTP4oMIyI1Y3zewEj5Rbz6ETYi/EG9N6D9uo16eQo7X23p1eA1MYjs3/pcpwaz9rtqwCqNqtiAs3/XA+YA94P5ZIWlSNmgAPthjYiLTTE4b3qrMxHarZZyjbOzFF97zOPngQuHoWYy24wNRRVCP19pqVsnjHh0htXRgJ5rLspoE+8NWc4qVf6fBEiABEiABEiABK5F4OEYEXI1IRl0x7mWg/bkdCY5GB99qtydpAuJciGqjSeDWaAjj98UbkjKpWkbR/aeh3/ECUv+AD5OUV4oIyLwTtCISBsk/l6OoYwI45b1dhsXXbEXoIv24aKcbe9/ck+E9mED89KdR7sASXeggJw6272rTcwKhtqlaWvPnIAkXtAD48DpUjJfeuBeqGwKsB/WiBAbpAc/ASvLiMhjWIyJyovFXeuzcEmTLntGh2VZWe/RiHArJO9IgARIgARIgATulMDDMSLk4KqKVf97ECEjYnYbbbHR1/9nue9IymKD7XETW9LHv4rXf2nXITk7HDAQrKIZzIjwVwuE379wsUryM5wRAeDLPhZeJkbT7MImjrI2YGv5O83nKNUWcWRvjk7NiFuZjS/VZvSDpt5HUlvBhVyJ0QPmxrG170QFkvnSz+V1XtkUYD+0EeHtO4mz1fcibETkM+zDRBgzb/fViojPXevz8nFAf60N48JtTbiY0Z2pb+HxRxIgARIgARIggVsi8HCMiN4xlgJn/kvXJGtPRPTpDUrC399zM4r+TVyRbLckw7Xz54vE1eXrNqatPRTxO5+SD8INZkSk3VOiw1coWafrDGVERIdYKD/FwmFHG0xepo3gzt/wDLniaM90W4HkaUr2yoP4TW3sVW5kOs7Ungo10J3cvJSRFSkbFGA/rBEhB/7OXhghlvog3ZHjEmblPfitiSIM9TspFy/xjYcKDJPUSoTYEzJZwXTT2+z9s4PT+PsX4kQuUR+s/TG2yLwmARIgARIgARIggVsm8HCMCOgNp5NvklNqflxia3EK9dHEnQk9tQG6tnyMrvbfj6628Xo02eArB/B2PL8inKyMY2TRfAVY7KGoYuStWNFQJdD7Kk6GSuIYzIh4jun5Bk7M5t3uMZZrFYxYM/dDGRHo4GBhXG4sF5vLzT/horWU+fVrtT/E2bgr5Jl+ghH7I3mO4umBrdhErp/3vm5jtjyBrX/FAz1grk1gVmxGl9wjtD/OYKT8PNmzUaBsgHz2wxoR+HGIhdEqXovjWmU+euj8OaM2mWfaXx3szlYwudayjlktwlAxqU+/wPyfbb1CE2Ai97W4m+O7fwmZZuRxtUrMDo6WJ2BvxFd7RyxjWZ4kNYXk9ChdUPxDAiRAAiRAAiRAArdA4AEZEQB+dXCwNKWPVBVHvb7A1lVbfu3ZbKyWjH60sCGOyDQD6/HnWDq0Z3YjXHxQx5Sad8bm1nBqBvkikp9t7NppjU5hac8MBoGBjIiX22jrY0tVelU8e7eNtuVeNYwRIY5LrQm3JOGFJb4zIdy3um0cvX+Okj149xXn2yGW6upUKyHP2NwmLr4I96qMlQgR/ts+lsRRuIapw8PMzLfQ+euNPP5Vvjf+HKt/J6dLFSubfPZDGxFiAv9L08n7SP0ddr9kWhBS5O5hkqfYfSiXoWKy9HcXp2u2zvpM9FGxzipbD+09cUyxMQyrePa/TVwYC06sn/gfm5NuUXRv8lWd9yRAAiRAAiRAArdD4GEZEYaB9SE28yj4t8B78iNp/caQzofNgqkM9DA3vcKxqUFqbbudDiH96pMjbdMvqCdDyRJkaowIfURuEWbBeDxJi8TjBSl863/cr3BA98XCDPPy2wsrYTh+sTJkrfC4IvGOBEiABEiABEiABG6dwMM0Im4dy8NI4OLDFEbEikDzGBff1EpE90sLO4sT6nsad5YNz4i4s3QfZ0LiGxVjlivc46TAXJMACZAACZAACfxOAjQifif9G0g7+nKMnXXx1WlxJOgrLK1vYrfVjvcu3EASBaKIcNpMNp0XCMBXSIAESIAESIAESIAEHjABGhEPuPAoOgmQAAmQAAmQAAmQAAn8DgI0In4HdaZJAiRAAiRAAiRAAiRAAg+YAI2IB1x4FJ0ESIAESIAESIAESIAEfgcBGhG/gzrTJAESIAES+H/svf9rXMmV//2PNA39W/80RogxmIDACwItCDqscBokIqJhBRbjRQ6I9UKDlhX0DCIdslLErhQNa61YLBTWkbU70aPgFWIn2v4840jaMS0lk6ed8dI2ZtNZf7I9CHITE94P9e3eqrp1u6vbrbbkOQOevn27btWpV506VefWqRIRIAJEgAgQgUtMgJyIS9x4JDoRIAJEgAgQASJABIgAEXgTBMiJeBPUqUwiQASIABEgAkSACBABInCJCZATcYkbj0QnAkSACBABIkAEiAARIAJvggA5EW+COpVJBIgAESACRIAIEAEiQAQuMQFyIi5x45HoRIAIEAEiQASIABEgAkTgTRAgJ+JNUKcyiQARIAJEgAgQASJABIjAJSZATsQlbjwSnQgQASJABIgAESACRIAIvAkC5ES8CepUJhEgAkSACBABIkAEiAARuMQEyIm4xI1HohMBIkAEiAARIAJEgAgQgTdBgJyIN0GdyiQCRIAIEAEiQASIABEgApeYADkRl7jxSHQiQASIABEgAkSACBABIvAmCJAT8SaoU5lEgAgQASJABIgAESACROASE7hUTkTjeB0ry7uoXWLgXwnRX9Vx+GAVK8slrDyk1upamz9eRX7sDvbqXcvxQmVE/ftCNUf7wrzl+tk+kO4/UX94B/mxVVSaZf10FyvL6zhsNEt03r8dYW1sGHMP31Jj5cTXwzpfwL5WuTuM/Nwuvkot7lSDjm/WsLdcwsZxLzpuA4eb3ZmfXSonov5gAql0EYdGI1WxR46FQeRNfzlcyCKVu4m13TIOnvSiQ7zpGveo/OMiUukJbL3oUXk9Lsbdv3ssxFesuOrDEvaedqnSb7l+dolSmE0n7L36yBtoh3hdjrCYzmDywflMKdkLh95MtsLm8rg43zobAryBNjbKd3w5XMggNbVJToSDTfyWa97aQ/1BHVtTGaQWjgzROulXl9+JeLaJyZhjYXChLz0l4FbOnorwthZ2AQeOtxX1V6NeNWxNZrB43KXakn62AbIz9l5ORBtSdCepqy7nOyE6LJ2fg9I5k/OtsyHXBexr5EQYLdT8ywWdt3bSry61ExE0GmjszyKVnsUeu24ETRsueFnFYbmMg/IJ6q6krwLUTtnvZRwcV9F4ZWbHy2PPvWqgeizTuPLRHuPPnLEbDdTYM9ab+caTI1HeaQ2BVZ7IJoCRRss7vFTylMs4tPKPyg9T84uwLup2UEOFszlC9aVVqVcBGo0G+N36CQ7KR25+Z6wNTrAxmUFqfp8/0+B1ByI53ByCFyzfhLYJorZVLCovIhld91S14p8B6rKND5/URZ20RCGXV3XOQ5XTNfmfsvauIlqf0drXoXOaaIA+cITtZeoyl9PVDzSGRp7si/ZbQ5ePt3vEWT0XMpI3wu9KD1k9rMcifor/CWpSN1S+sMvT9U72XVebiec1jlpfYrpRi2CHRamLyCaUodpa/Zb4eeboK0ENh6fmW1ellweaPCpPLx4qsWa3YsyS2k4+GzxT/Yr1a5WhavN9zKczmN9n/ath2R/VTsymxPsJz0mTi9tTXT+1oozLmN5K26Jsn60D8uFQx8zMWvflmO0V5dn6ybKN2sQoxP3F0AF3ko7Za+OQbc91J0LpbuWZ1dmg2Wsm2nn2I65/Lj3SJtSqPg67oMg16ysqDf/kdRFjzOS9EzHGqOp32hfCAiwbEt7XLkL9dYyT0OqMqP847YpikjDXECU2kSehr3EdtsdvTXx2qfSGjbcx2TSGakyO65fI0GgzAK2ciKh/uecARn7KHtiyK3um6VLw4ggVY3U+Yu+yXaEtaTJeqWKbyqSxMsZN9nCT9uXlJ8xbQ9mkABEzVSfHuKmENWyS7BSOcUklB5uvqTG4Wb8KH3Bf9MSJ+PzzX+LPRm4glc7wT/a9k/90AwrUsTc3jPxgFqn0FeTGhpvEigY4XBpGn0qXu4JU/zAWj5X1AfBsGzMDGVzL3cTc8ixmeJoJbD1TkkoDUSphZkCUlxvIxPNRyfmnfCtfWsXGe0xObfno7ARrU1eQGhjETGEak6y8gZvYCcsDcHaExXyWp8mPDYOV15cv4VA1PCtDyt03yOov07y3hIpMU9scQWp83dxH8nIbM+kBrJwKYWsszrY/i+vvTaMwM4zr/Vnkl46iCbY0WCubs8ixOiSE1PCYyDH2fCaUOX+XLZc14QCrbfJX0ZceREHbSyHa/Q4WFwZxLSfqmEpnMX5vH1szV/g9oQdZ3PrYnMgZzfFsF3P5LPoGR1Ao3OS6Y/KUbby8jrkcq6d629UN+YvY2BxBH+enQvJq2Lot5SkVURhneqnrnCF96ESsPShhPCfam9e7fwQrp0KXG7s3kepX+avnAxzMZ9E3X47aVP3EWkeGCcbk4+1u5yVYRGEKPv1C8pstYjF/BdfzUb+d+VjbM2OXx7+PYn7pJq4NDCI/Nohr6aQ+kEX+TpHvw5kvjIj0zDYMTCfsIZF6138V44Ui2DNMb3MLmt5rjMSlfGZgFHNsv8/yLG4NsvowubK4viqXhlv2bU8eCFC5O4przG7NTKMwxcq5Ap1ZYtuhhp0ZaV+KJczNCBlvPRC8eWw972vM5gldWnssK9yynwDBcZHbgtDuDI5gZflOom3gOT/bxC3dNuRGsPhgFZNpbTXE1gH+oK1zzO616suSccz2NrAzk0GftYyPoIz5/izmy9qYIHHYH7WPb4r2ZnrMGZptgtdiL8YhxZXp5LWZ7dB+h7ZwaRjXmM1XbailwQu2Oq+FPZ5jP0rWIx+7wMY4j3FQbwC+F0DaATnmqX0XnfYFnr3HWNtynFROxPomFseZvVLtk8X46klke1vONTzGft6mWhuzcXRhEKlcsclemNY2z0u/VFnM5rE+MDaI6+8tYWW2WThTUn/01AHZPtemZsVey+IErg9cRZ7P065ixdt2dU8vE/Wtafs2m7fadk4yazVuqjlUq3FJ70fK6VN2sEm/sh6Lfe2JE6EcCD6Jlo5ETBKPG6rR9D0Rrnt2Vo2H0+izJme1BxPoG1qSG9TkJKu4H3V0VLExrg82QvlSU6uoqkn8qxo2WFxZYhygVIL0CFaMzTKsww8gNbWOWuhxBzgsDSA1sy3fUjewV8ii7/amlkZMOoeWT2QVT7CSy2CoVI7ebLPOxu6pNNxhGMGGFvfMJ5pj0rHgA84A5sva61q+1BY5GeINeAZDhW3UWo6xss5KObmkSRwA3jbpCWxozhNvm/RN7Mg3p6KNdRkbOGCs0vo9yS9sU1sLhAwGK9R4XGDISg4CqaFp7DzVK9oN+TMYXz4yVreCT2aRMuQNsDebQd+SGacY1oQPHBmhE+FNoROho9jYRSFtTYa4DmQTw1YE37h8ot39nIjm/ULyG5rFXvg2XLah7vDYE0hZ38n1atQvn63zSWfkxNSxczuDPqPvAtX14Sb9EsDTdYynzX7B2qNPn3yFjOXF4xL6rGdwts95RyFBPn3bjwebqA9ZfSN4xO7ZfSPedkF5Fn39szhQtgpA7d6I6WDyvq9N4Hk1PfoJn3Azh0uzO6+qWBtPfsHAJtbcnjJ7FnKVutu2E+Eho3pxEbO9wuakGButi7ud71DQ6OJ0Cbn0IBYfRfZSOFRRm3TOXthzg6u05zO7ojxlC+f2o5clyqGb+0RWyOlEZHAu/YiRceqRY7xk9vZ2Fik19vDJaKtxMEIfXcmJoLXfIsmOtW4Pj7HWZ5xU44drrhHaDZ+5hoc8hhMRoHpvAn25O9jTxtGIl7zysHku/WqUmc2Jxg/O0+oDeLKKcfaC7FzmQkBlKRt7GRrs3zHtmezzXmN803mcjw1XL99s2+vTvurZVmOr3zgBr3Eppg1i5ciYp7n7VfxJ805PnAjlPOifphh+34SCm+Bd98zcWIfUnQH5K1+WTAjLkUnM5Tk34OblSyWwJjhgxqY/g9DoK4FPl/ikYYeND3IyGE1ORCK2dHfwuCYmVTz9sOEgsFRcpv6SdJDEm7fxTTV0m9952tCoK0EkMzWZ5QYrXo5KbX7KOhvKmcRBlJNK4KNWFVyMXff4pDxtTg5C2fggEK8Dc2JSISvRxvl71fAxcdEN+eNycXnZgGM4LFbR+lc5qZ5/pN8EX6HoS4/KVTNhxCJnlKnSTctZMZ8XLOPyteNERJN6kbfZPi6dEHIbq1q8flr/NgZKJbOdVxUbYxnYbcbLD9tVPdvi0zkZip5x65fQGaWrXn1bTXCNPhLnwQ8oiPWNE6wMZcIVt8S2i8SOrmyervr69BM+aMX7Uv1jdvCF/nY0Khr1bdzSJiLhL8dFvjoX2jlbB3hC0eahjvnIqBjH+LF4DrbqkIGamLNQU7Y6Eb1MCKWLXVRW2aTX3jzaQLVcNsPF7Cd92Ev7bx+c0HgShcGa/UoVYo1NnI/WDnbZ/LEu9iOXHqm38s6JvurjHuOgqqLxadVX/tZxX/AYa3nercZJ5USUyoa0yiZM3ldjsPWzeius9MpDHj20lb90sxyXeAkJd6y289EvPqGPsRAvc+J9Q5Ur9S3WH310IMBBMYPYPEHqNZ8vsWK87EIz3WlPL9vRN3Mu2aYT0WKc8BuXVDtEn1wmI283m+gJ91VPnIg3uxIhNn2FA5CbA9A4wc6CCHFJ9V8NQ4OiTuEG7O50qhDbUMv7suOqMAK+7BkufUrjz1cDtIFAZal/PmKn9SjF136wBg0+UVadnr+VjvLliiTrG8ohw6LCnftWflpJjktXnV332KOybWLG1UzvYuy6pxvWmGC8Dmr5VYYCMeZsOTRk6G7jMBzL6HCvJ7+Qr8ZD8liIEw+xKq1jz9rTYtQjqR2sgQB8MqLejIo3wJETaeTIvzhZsl94ebZ+ibaJ+pObmZmn2Z6hBHZ97PLs34W0sVMl1CC6cVrnMdL1J9uYz2WQW1UrdmGJxkW9vCpDhGRIjwwNCSe0RmoZYsDynd9Hje/BquHw7gT6+qejFRafvq0muLY+GfWVzHgYl6avMlxQ8Tc56wI3UN0tYobXSeo91/Wo7zvfIHMZWvQTT7ujSyNWfrSy1Y+27to6wNNZOucjYxJjWW5lWVv1dbyhVeLZn2zjYWgX7R/D7x2yT+Ia5ps0+bD6IGeqsTb0SmUW75Od9iOnHvk4EV59Rcmrf1r1lT913Bc8xlqvcTKhzrHxo9Vcw0MeYZtHMb8wIUNkm4TBauha2Tw3Q5M37wMxR6nVnoi4vnGxPHVArLYNYn6/JvbBPDvCGgsFLuxGURhedsGsi0Jj1NtTJuMZlRH7bNW+6kVvOO9QD1t2LsmG2f1ZrlY2HZdUEdrnpXIizmdPhKCR2JAhLLthwh+0CzHRYo2gb7jmkNXbgQQD0bz85h1HbWhkmxr1f3xR2h4INGnDS65M09iLVtbFT/b9YB9zafHmkMsbhkzJjj+5jqolA5dHhULYShsK4Lpw1dl1jz0r7g/FJnvmfRdj173WTsQoNj43WQvuKq7BbWCUnPHJgylnRMO875Q1SgywDVH7m1hjcZ79TfZ18HaIvwEGH3SyWFRxoTJ0hDsOT9eR18Jf9GLVdaJ8vLyL70TgVRU7hWEZnzuM/NQ01vblap2qpPUpQhwmsHGqdR45eCQ6EWx8eLSE8ZyMdx4bxszCJiphiJZ6GxZtVtb7NbsWmib0I6ZPRj+TadQBBXb/lCqb1HZ8L1RuFnvaAQSx/uGqL5ehRT+RcoZvABVbQ351U37ystRqmfYb110tpIrn0ULnfGRMGoBV0ZrjULs3rIWRqgTuz/jAG0/3euztupv5u9vbslv22OFsF4cOdtCPuHQuPfIZL+VzTcdBs/rym1VfedfNBmjZHjYvR5m83VuNk7LO9qqoelkmwlQ95hoe8oi+zPZkMuehLkOft5ser+pj89wMTd6cxe14WeZ8yYbo0DeWxFsHGjhcHkFO7QUcu4nFB0eRA8Hy8rILZl2UlEa9PWUynlEZybG3+Vwy6WWAYKReECXOOxz9ueW4FMoXXcRtmZtN9IT7qicrEe6i27/rajTXPTPneHgH/71xhA31B3mk0piTB7mEdh5OBERIQuzt8FkNh+rko9iSu6gV/4Ncm7Lz8AmitndBVpy/ZbNi7dnG2jzbiDylL+O744NZNo3PoyX02ORDluP+cBkL1z32tGSsOTU8T75akkHhoR4HbA6uznZ3dK5QRtdeAfbjS3Z6jTotKakTdV9+VrQepqDkrN0fdYRLyF95/eJhcDxcKW06k2Lfyyq29DeuqhDr08mSpeHl2WFOQncjQ+dmZuaZwM9uL/5da2f7dy63nZcIibs+uytXB9RE3aqk9dU54PH+pE1orWfECs8o1h6LFY/wZAsjnUffTprgWvXloTP2oQgI+Clv6lQVk7MSxGYk7otlb+0Ntcvu+fQTzimKkVal8sl4UjgTf5Fh2h72nNBdjTln0ELnfGRMYqyElSFM+fVNHh4WhTaFCZwXfEJq2FaWTPyRKPH3Nl6DPXds4va89jD6o1Du9rb6IG9XrZ0tvRIVs+XsrB/xvFx65ONE+IyDzlaw6ivTuNnY9RSJjb7gMdaKsFdbL61xUtY5Fnajj2dOVtZcw0MeYZuHsfJYvk14sY1b/dlwzHRh87F5boYmb97P9b1svDARVhpFbtgSuNsBnjrAbeHkKip110lysiwvu2DWRUlp1tvHhic4Aj7t2+2VCB550GpcUjWNPsmJUCz4EvBNbOlv3NRv6lNuhptXm9FeNXDATjJQAzRXvgwmw30DQH2/iPGBrDah81E+VaD6TOo4AIsfZpu92Ztx/l9Qw968JhOAyio7bWE2Ol3mZZlvmo6cD2b42R92K+JAvg1tnK5zYxLFaEtZWOxxfxZ91mQTgdiIzT1nuclb5RGeVOIchFQd7U9XnV335HO8bbK4dV9unlUcciVUmrxtNTt9VMfEmGx20s2SzfMEG2xJNDy1yN3GiW8EWLEdys8eFXsVpqMTuZhelgbQN6st0cqq8Q/eDiMYn4naG/V9HrpjbyyGnLSxU6zCdtTz0q6dLNnvfFLDNmSeyDc+AWofFzE5pk6tYonczMw8E9rf1iv+vV0nAqjtTmOIn3olTtTie6/YqUvF5L9uzweloSIO1EIEO5r4zlV++pP5MkEDdXaCFb55WCsnLU50W5OnY7HUrfu2Jw85MbjFjrLkYgSo77MT0qIN4SZnJavca6Qf3MD0ZPyKtXG8zI94nXmgr9r49BMp//gSKsp8vdjF/NQwcklOhNpEq9mz4OkmZvKDvO1C5l4614aMdsiYQsReYbCDDZjeGJus5ekpSX8Z/uUuCmy1UGuT2n1my9UE83XYC3ved5utDAtBGSM2OVR92N3eVh/syInorB8JKV16ZMkkudvyt+4rWoOFlyIMdmipbBxLbOctkvu1R8ux1meclLZwfPwmFtVBJa/qYlxXhxx4zTU8xn7bdjJX9v6E0GUVQRDyEhc+Ns/N0GpLOVHmB4XwrAPUH85iMj+ozZeswps49T46EJwuiY3bhp1np9athidRspeSnY7xdr19ZLKf4TX2bF84563CrkYv6DzHCc9xyW6RuBPh7lf2c/b3S78SwSbBK+xoTK5c2gTEqilb7plkR7JKJbw2tYRDLQxBHN+mfr+CybsnqLKjL89lJYIJF6D6gB2tqsrM4vpfrIaDshC/jsNldsSjSnMFk8vaiSgs0VkVW3Ps+FqZpv8qbt3VjpMLOQjvOvaWhP3+sowVdtysymNgBHO72iYwh8EKs41duBTfdS96MNY247PGKROuzuq613rFJM5zvLitnX5lGctQxO7LL7JuoHKXhTCp9s3A1stQBHbB2mFsHVV5hJxoryyu31mPTgwLH5Bvt2JvTcME4YWTpfy18QlzppV8ol/sLVwgJ+LZLgo5FitbD8/DbzTqqLKXAOkMIoc7rK64UEdLSp3vy7OTTcr8r+yGE1rjkQCV1RFckxM8fn43CzF6doSNwoA1EW3VtxP0ydHPgieb/Fhi1Tf7Biew9lh5Pglvw5jc8ghU9dy1qVVUnlhHf7JBl9VJMojq3aqfMA/4SBxRHeOnvQE3+MVtVV++iIPHTCZtJYJl3VLnWMatZExgrMskHW1zQ7V8Lj2BWLiWfDbWJvk72Hoi33iwNK/DPmbPhzH3IDqdzN1XLbvViRPRaT/iTFx6ZMkk2cXlb9VX5IPWR313OrSbatIVz1s+5NUecX2KjbWtxknuRAxj44k8Xln1jcFpbGj60XquweRuIVCWrLAAACAASURBVI/DVkCeKMlOJ9K0MSLnYfPcDONt2Xi8qs2nssjP7aLGJsbhfCkqVlw1648tdIBNkt+7Ihx3+TdPWGho7XgdhaGM9hLQzc1njI/Xu4VMiasJgFf7OuetgpHS58SXl0bbtzMumW0SdyIAV78yn4p/u1RORFz89u/Yf8zDzMH6Iz3mj+f2rblMrFgPufQ/KNSppNofT+k0i9d5LvrDKq+Ti8+zkmd4vK7PM63TvI78rXUgXn7zZ8SJM7m79klT8Xx87jQvyyeH80nDjf/IKuK1FAY5vt/GkkP/gzvWT+ZXMZAW9h3DMzfqZjiZerZr3PgfcnSUrQpK+Hy98j36SSdy6XbGufwvKuMnu4eMCWzAw0wGsfa5lYC99dT/To71c/i1he74yR/mZl5we95+e5uZ+H977X7kX1RiytfilZhr9INf/h5jra6/Ufbxq6Z9w6McnqNvunjxiXda6G3ic44f/Jg6Hky45cyP29c72HOssPCJsL65Osz3NexCmIe4cMpkpYl/PYd2ixcSRgK0Oy45s+rw5lfOieiQEz1GBC4Hgae74g+u3RmO/Z2Ay1GBNqU8XeV/KDE/t469U3lyR72Kg807yHV67KFThAb2ZtkfbxvFyu4RqjI2t3a6jcX3si3+SJ0zQ7rJCDRxIs4LEN9jsMxOrsrG/r4I36e1UDT/oOd5CXKR8u1ZP7pIlSZZLgUBFkLI/hDw1BJ2jquo80MmaqjsljDeP2j+0eBLUaFuCvnmxyVyIrrZnpQXEXjTBF7sY439NeW71qlBb1qu8yz/ZRV7myWsFG/yo5lniiWsPSijFkX9dKn0APXjTawtF1GYEqdAzS+vY+c0+sNfXSroq5MNP+CiBLEpuTfVZsdcriwzHbFOd+lN8Re3lJ71o4uLgCS7oASCGg4frGKlNI3JsWFMFopY2dxGhUwvj1R5k+MSOREXtM+QWESACBABIkAEiAARIAJE4KISICfiorYMyUUEiAARIAJEgAgQASJABC4oAXIiLmjDkFhEgAgQASJABIgAESACROCiEiAn4qK2DMlFBIgAESACRIAIEAEiQAQuKAFyIi5ow5BYRIAIEAEiQASIABEgAkTgohIgJ+KitgzJRQSIABEgAkSACBABIkAELigBciIuaMOQWESACBABIkAEiAARIAJE4KISICfiorYMyUUEiAARIAJEgAgQASJABC4oAXIiLmjDkFhEgAgQASJABIgAESACROCiEiAn4qK2DMlFBIgAESACRIAIEAEiQAQuKAFyIi5ow5BYRIAIEAEiQASIABEgAkTgohIgJ+KNt8wR1saGMfew/sYlIQGIABEgAkSACBABIkAEiIAPAXIifCh1LU0Ve8u7qBn5HWExncHkA3IiDCz0hQgQASJABIgAESACRODCEiAnopdN82wTk+kiDo0yyYkwcNAXIkAEiAARIAJEgAgQgQtP4BI6EQEaT45wUC7j4LSGwIX4VQPV4zJPc/ikEUsRNBposAdf1VEpl1F5IXLh989Y8gZq7HnrWaPcV7Fs+Y3gZRWHTLbyCeqacDzv/Vmk0rPYY+VzAdgjlhPxKkCj0UDgyD+U21003SUCRIAIEAEiQASIABEgAj0hcLmciLMjLOazSA0MIj82jNxABn35Eg75xF/yeraNGXZ/cDhK894SKmEaOWlfXsdcLoNUGEpUx9ZUBqnSKjbey/L7qYUjkenZCdamrvByZwrTmMyx65vYeaa3UYDDpWH0pa8gNzaMPEvTP4zFY+ZJ1LE3N4z8IMtX/j62igp/3HIicIKVIUd409N1jKdHsPFUL5OuiQARIAJEgAgQASJABIhA7wlcIieigb1CFn23N1EL39LXsHU7i6HlE0nuBCu5DIZKZYTrD8zxYPfCNGLSnhqaxs5TbakA0olIj2DlOHwaQIDDhQGkpta1cgMclgaQmtkOy2k8nEZf/wS2NMei9mACfUNL0lkA6g8mkPIIZ6qsDiA1vm7snagsMxk2QTsnet9JqEQiQASIABEgAkSACBABk8DlcSIauyiks1g8NisQvDjCwWMZ1nS6hKH0cOxtPZ+895eMN//5e1UzI+VEFPetEKkjLPZnMPeJ7nAA4GVNYIfP6pmDk0GfWrlQOQc1VMpHYViTrxMBvuowgJVTlZFYnZjZ1Z0b9Rt9EgEiQASIABEgAkSACBCB3hK4PE4E35Q8ga0XTQA9Kjre9AM4ZvfVs3b4kMpPrkTYjsALthk6g2s5ER7Fwqj4v/xV9IV51rA16QhBUlnLT28nAg3szESrJ0F5Fn39sziw/Bgre/pKBIgAESACRIAIEAEiQAR6QuDyOBF8Mq8cgQQ23FmYxp79wt6435kTMb/PNkPH/4l5vXBAWh3T6u9EAJHjEOCgGDkUCTWn20SACBABIkAEiAARIAJEoGcELo8TEZQx35+BHdLTOF7HyuaR2JvwdB35tB4GJDjy/QTh3oQ2nQi50Xl80/zrDjir4TAMVQpwMJ819kjwkhtH2Fhex6F0atpxIiDLnbu/iRlHnXqmIVQQESACRIAIEAEiQASIABGwCFweJwJAZXUQqdws9tTu4pdlvmk6muCLzdepXBEHL0VNG6fruNWfxa2P1UPtOhFA/eMJvml643PpDQQ17M0PmpufT5eQSw9ifl+W86qBgwUrDQ+3uokteaSskLCKjbEM+mJ7MYDavWFxSpS+ybq+izkWUnVXnhxlNSh9JQJEgAgQASJABIgAESAC503gUjkR7KjUw+VRXEuLo1nZcamTy9pJTIzWWRVbc+yoVZmm/ypu3T3RNku370SwE5qqD+4g36/KzeL6X6yiYoVNNR4tYXJApcng2tQSDqUzwxsyOMLK+BXhGGinNNU+vinqZJ++xFdWrNUXuUcjPH72vDWE8icCRIAIEAEiQASIABEgAhaBS+ZEKOnlH2RTX12f6o+2uX57jXs+f/DNJ01chCD+B+bYCVD9d+J7POIP0x0iQASIABEgAkSACBABItAzApfUiegZnzdQUAOHmyWsLM/yVY3x2FG0b0AkKpIIEAEiQASIABEgAkSACGgEyInQYFyMywCVB8yJKGFjX/79i4shGElBBIgAESACRIAIEAEiQAQ4AXIiSBGIABEgAkSACBABIkAEiAARaIsAORFt4aLERIAIEAEiQASIABEgAkSACJATQTpABIgAESACRIAIEAEiQASIQFsEyIloCxclJgJEgAgQASJABIgAESACRICcCNIBIkAEiAARIAJEgAgQASJABNoiQE5EW7goMREgAkSACBABIkAEiAARIALkRJAOEAEiQASIABEgAkSACBABItAWAXIi2sJFiYkAESACRIAIEAEiQASIABEgJ4J0gAgQASJABIgAESACRIAIEIG2CJAT0RYuSkwEiAARIAJEgAgQASJABIgAORGkA0SACBABIkAEiAARIAJEgAi0RYCciLZwUWIiQASIABEgAkSACBABIkAEyIkgHSACRIAIEAEiQASIABEgAkSgLQLkRLSFixITASJABIgAESACRIAIEAEiQE4E6QARIAJEgAgQASJABIgAESACbRG4VE5E43gdK8u7qLVVRUrcXQJHWBsbxtzDenezTcitcncY+bld9KS0x6vIj93BXk8KS6gw3e6AQA17yyVsHDc6eJYe6YRA9/plHXtzw8jfPepEDHqmDQL1h3eQH1tFpY1nKOl5EiC7dZ50Ke/eELhUTkT9wQRS6SIODTZV7JFjYRDp3hcX2yMspjOYfNCbmfbhQgapqc02nQiX3B5UjotIpSew9cIjLSV5QwRcbdtbnXxDFb9QxXbWL11VqGNrKoPUQjMnwtXmrrzoniLAXrjZTrV7/FRP0Of5EnDpMNmt82VOufeCwOV3Ip5tYjLmWPQC3VegDCfb3hq+jiYrTrk92oucCA9IbzhJp237hsV+24rvqF86IXg4EdTmTnLNbh6W4i96yIloRuycfyMdPmfAlP2bInCpnYig0UBjfxap9Cz22HUjaMoxeFnFYbmMg/IJ6q6krwLUTtnvZRwcV9F4ZWbHy2PPvWqgeizTuPIxHwNUuSrPVwEajQbCRwO37Ky8wJIBQQ0VXocjVF+GOYgS9XzrJzgoH4l6nrnzh57ekjmZreZEKF6sXpYoKrvGkyPB87QWr4tKpH0a6QE4JyuqXEc7JcstCwnqou3Ys0wmrWzoTkTIuTNdYdlG+sbaSi8oujbqa7d1lCy6aiY/TxUgzFPpW/S0eaW1f/CC6UsZh0+ikCDXPT2D4Jl4humZXT/eDmcsdYA671MnqPHvMoeu6iTAy9MaM/yu2lFn4bpnVKxJH+Pp2mAs8410oYzKC01QVa6u07ZeqjTqU7MXqo0qzxx5svSqrryNOk8T6pSUzdkvgUj3Evu70gela82diJb9WdliS3cVKtdn07bwZpusA0xm224n3TPtps6mbtom1pRsjON9qIEaG3+0vhrWk/fpE2xMZjB574SPM6oM3YlQDF5Lb1ShGjN1i30666zGQofNEM96MGBq/KrOx0FnX1JCqLJU39fsHU/Shtyt+1FzfUiap/A2tbtlC50On1Hpmoy/CgV9EoHzItATJ+Lzz3+JPxu5gVQ6wz/Z907+040gIGNpB7NIpa8gNzbcJN4zwOHSMPpUutwVpPqHsXis9d5n25gZyOBa7ibmlmcxw9NMYOuZklROnkslzAyI8nIDmXg+Krn8DI6LyKUz6Btk8g0jl7uJnftm2AyvVyxkR5S3eBxlWGMxrf1ZXH9vGoWZYVzvzyK/dBQNNnISvLI5y8sMQ3NOlzDkCNOpbY4gNb7u2GPSjK0nh7MTrE1dQWpgEDOFaUwyngM3sRPyjOolrgIcLgwilc7iep6xGsT195awMmuFMzVtp2ZyA8FxKeQ3X5rGONOdXBGHanIr+a09KGE8J9orz9L0j2DltB1dAWoPJtDXfxXjhSLmCyO4ls7i1gNtN0/bfDzkRw1bt7PoGxxBoVREYZzpua7DFnNe31HML0zgGtNP3pcyyBW3sbM0LO6xdktnkNP1DDXszMi2LZYwNzNo1U9ODGeLWMxfEe3J876CmY8lg67qpCgvCrFTOlrErYGryOevoi+dQSo3i53dEvLs3hiTmd0roaI1bcs+1i5jSNuj6cL1/gxyC1q/PTvCYi6yPbcYK10vrWYTdvAOFlUbyfpdm9k2+nLrugCt03j2Sy99FvoZ2uv8VeRnlzA/mRTO1Lw/Q9qC0LYOZND33hIqqj9b3JhDy8eBJm3hx7ZZPxO6OL6p9fVgH3PpDOL3sgjt+7NdzOVl3y3c5H2xL1+KbBNknyqtYuM9NuYlMOP7uoRuKy5q/5pf3Xx0wgTrPX61soktGch+vbyOuVyGM4j6vClTT8fdpjahmQ7bdgtordPKtrU3DzHp0Dci0D0CPXEilAPBDZ90JDqpgjCC5p4I1z0778bDafRZkyk+yRtakpvMAhzMZ9FX3I8m5KhiYzyDvjBWV3Te1NQqqmqQelXDBovnjTkAUoKgjPmECUM4wQfgZYRfsLCtAcyXozfF4EukA1g5leXxSWEGQ4Vt1LSJEXCClSFrEJP3kowwy9HN1sFBGtHUmHJI2MRjAKmpddTCt+sBDksDSM1sQ6tB2FRBeRZ96UEsPtJ+fbKKcTZYhnx92ilJ7hpvz/F71bBMnO1jrl9b9pf8+m5vapMxOfEJnS0PGfikQWsX9lZu/w5S/aVQ39rlA7SWP/hkFqlQp1k1A+zNZtC3lBBvLus7qU14apts31EGxr377N409mTT8Lbqn8WB6gcAavdGkOpXfVNOeIZmsReuwDRwwNo/TNNNnbQHY6Wjmv49W8ck1yX9HutTGRQeyop59LG2GT9dx3h6BBtPI7VjefRpTn3t3rDVL6pYG8vg1sfufUeiXw5gbj/6vVEuYiitTUo96gKPNL790kef+UsLyw6zN7TcwQvtbMRJXbnt0AlWchkMlcqRPZHO2NDyiXrU/PRoCx+2rXSA1zO0WQBb4eR1tO+xPsTttNBfoy7Mpk5lENVF9qn0CFZaHiAgJ5rWvjVX3dRke+4TOWB46IQJ1XP8amkTfRjIfj00jZ2nxgBnitTjcbeVPjDh3Dps2y0fnVa2rY15iEmHvhGBrhLoiROhnAf9s5NauDqi656ZdwN7Bd0ZkL/yZX4Z7mM+EH4zl+ybGWY1eQofFRePS8ZkQf0qZI428PLv+gDDE4ry1JsqniacpKucZN3UJJFPCoeNCYtKyQc2fYLJ3wTfxE44yVMpo083Wx8OR1jszyAcmFSW8u3zTjT3Ub+gspRF5ISo23Xs3NadCHXf/DTbKclgm8+Ib3JgVhMYOamef2Sl5ZOAUW1VyvrdDrviA2YWt+5XNadUf6Z9PvrT0bUpPx/M2CSt2QAbPcwnN7ozy3/iDCLd5PeeriOfdutVmJ3xnCmXOw3QPZ20B2OXjrruVbExlkFeOpY+faxtxmHltQs+UcuEb6G5E5Er4qBJX9SeTpiQmPXzqYtPGr9+6aPPsi8bL2pYrcSzzTZWO+0QtyVxneRpQ2ddp5ZwbbWFsywmo3aYREsd4P0lcrorywPILxRRSEf2trI6gJRiwWWI14W9/IpePMg+pZ5JqI64bcqrkvrUjadpNc6oDOUnf6bF+IVWNtGLgaiX6q+WGNHXHo+7LfXB14nw0ul22jZCQldE4LwI9MSJeLMrETVssfhQ661MDGjjBDsLYhk51c/CHYbBw5VC49hB5y2z/RoOB8OYcPm9yeETZSkXk0394zIak2BrAqgq+nIbM2n1dly+TZ8vJ0xyxUM+g47K3kgrB+ZrKiRIycvDLtzysY2AqVJZZRd+2g4CWrZTEyeiXsZaYVS068AgZ8hCS8IJjNUuoRDWRMNHBhEmwsLdREjTxr62x6YDPlyWVvKjxo/LZG89RUjTOvZccdOqYq76uu7Z9UcD1d0iZnh7yvAzHvak2tbPiUDXdLJTJ8KU06uPtcuYTSDKqyhMiRAT3idk+JF6QQAVCpSWIU13N3Ho2jch283oa6otrYmuT1280vj0Sy99lnb4vhbmI5S65elMzvo+YiGhrW1riEexa9EWzrIstmxVkB1Lm9zPxCqbeInCrpmDIF74iFUv4byGL1l4n1NhnJFtz/M+pepo6qpdL/N7O2OVmdZHJ8yy/MYv9kxTm+jFwJTVliP83utxt6U+JI1Jlt3y0mk3A7fehkToggicG4GeOBHnsydCMGndeayO6kQpQkVy8/vGhmtuUF/HieCGUQ0CWsHcWKgJl58R5rJMrqPKN5CzjdLaPxVW4poAhsVqjoNjaTlMpl242XoYMTmpmN/XZNTkdS1E8/rd3o4d5Wq2gU87JRhsvsSdxS222TAMsbIGZs4v/kZQhI1lsfiYwfGTgWPkm2X3sXV3FizOvU/VrwM+8JFftd1ZDZX9TawVJ/i+maSwGGMjuXrWpUOWE8FXEHKz2NMnusZzFtfEvLulk3Yfd+mo654pp1cfU3XxZCxCvyawcaqF6Vk8VZZ8s+vuutxDM4jFx66ekqDf1kTXpy7eaZTeKkHtlTcvfRas46F1ZhtoRYSXTjvE9S162x8mTrrPgvtYyGR/87ZwlmWxDctqogPhSgNblZArwDzvwi4anJcmO5d5FBufu+yl0oHWnEK5EuT1qZuPTkTliCuebzhOql9FfwsdZXU7ySZ6MXD1YZWx9snz6uG4q4puog9u9qJNwxecSbpr3HczcOevBKNPInB+BHriRHRLfFdHcd0zyxMTlVgsfuMIG8vrOGRju3NQD3BQ1ENpOui8fFlbvf2PpGLL23oYCa+DvYTc2EUhHYU8iKVtFUMb5dX4XDulgxubyDmJUskrvlw6i637N63Y+VhKfsPN1oeDK94dwFkNh+rEKKtIHtIRxsurH8Ubu3BPhFc7JUyynGxk/sZKTjwMq7F7M9oT4CPDyyoOytUoVptVh+9fUW3TPh/nhJ/t2xmLVlIaTzRdkAhr90e1PSWKq/x0MXHdM+rsnszwJf0wzt+dxlmHruikNRg7J1EuvTXl9Olj7TLmkzJ7gsXtgurbAeqP4yc28ZU5pZdWs/n0S6+68HCZ5jbFq18691zZ/d22p7JS/IVGpMNWVflXZ32b2VY9bFPLsHVbJNgOS5+8dIDpdX8RW/cnon11vB/NYuPehLkHhtv6LObLymGQQr9kp58pO2LqqlYtx6VL1z3r5qETdoE+4xc7oTCqi8xBt4leDNz1suVBM90IbZTk0YVx10cfnDosN8uHTkQzuUOddjNw5x8jQzeIQNcJXHonAvyt/k1s6W9FbUynS8ilBzGvNiK+auCAnQSkNsvKCbu+mbS+X8T4QFabgHXSeYXh77vNVhCEUGwD5GSOnUKkJpTyDVl6IPor0K8aOFyeRn5MTTTYazRxggtfLZFv0hun67jVrw0+rgmgwUJOOu2TQow02hcnWz8O9Y/Z6UQT/O0azzGoYW9eY64Vwy/lRHV8+UhOvgPUH85iMj8YtYFXOwFOneCTVX1jegPVe9O4zk7YUpM1zm8E4zNafHp9H/O5TLTp3kcGGaZTUCcRsaMvPyliqP9OuDm5bT4e8nNnh206VCdgMT0vDaBvdtd0aBR7l7647hlOhAjLMDbNM0bjV7T9PwkTHlfeyhF6LZ0U5YWDsTXpE9V16a0lp0cfa5cxfyM9VMSBWohonGDjzlV+MpR6S8tfKowvoaLSBFV+YEPurnYIgGqzxPhqq34edfGyKT79ksnk0d/ZJt6h9ADCfvGqgcr6HeTz2agPavUML512iOmhOMVK7SVR9jBp5c2nLdyTMZOtnw7IvR5pzT7LVUx+cIERXhugsjTITw/bU/vFXp5gg520FoacWroawnFdiNCxoaWycdSsT928dMIqUmy+bzF+tbSJPgzMdrDE0L4KVr0ad730wanDtt3y0Wk3A6Nt67uYYyHE9FfgNZ2gy/MicPmdiOAIK+woS3byiitGVpJrPFrCJJsw8nQZXJtawqG2kTGM1+S/X8Hk3RNU2V/IDt8ienReVyu9LGOFHXWqyp1ZR3XfPOKVnaJT3ZwGj89n6fqHMfewzGOF1USDZ23llRoYwdyuFmPsnKSZQvE3i9oGP/NX65uTrS+HANUH7EhaxTyL63+xGk2UrKLY18bjVa2NssjP7aLGjG/YBlpcbWI7CYcrrhMBKndHxbGeIeOa+DsUuhMxto6qPDpStFkW1++sRydy6bG9TWRgdeFHdfI0GaQGRrHySM0QWG3b5eMhPxqo3GUhTIp5XM8N7C59cd0znAi2qiKOowx1emoVlSfspCPlGCdMeFx585OdhpF6LZ20B2OXjrruOeRs1cfaZaztd2C8+vJ3sPeszDfqhn37VQ07RXYMsGo3pvubhs7p7WZMGMIfHPVrWRcAHml8+qWvPtd2dZug2VnVB8P6aBdOO8RWOqrYknsTuC72X8WtuyfJ+7w82sKPrV8/O1xgR7GaKz3C/pqndYma1nG4rNmn9BWMF7e10+0cuqohsi/ru9F4opxrv7r56YRZnt/41domtmLg0HFTkOibpdfXznPc9bEJTh227ZaPTrsZGG0r7XX4ciyiQldEoOsELpUT0Y3ah3+oxZmZ9UfgnGk6vMn+uFbLvQuy/DBmP6GshD+Sk5DauM3eeia+mTZSdu9Lc+bxclqnf4124n9wyAobiIvA7zSXw1OGpD+qppXZvBwtIbv0lL+tPK0ifL92q4w3oZMt6+jRx9qqv97/Ewv37P+Jzyf84FEXeKTxrW/rdF2up/1HxBIwhLe92iJM3fSidV2bPu74sctsHCV43/LQCTMvT9lb2kTPfMzC3d/0tk54icEcYP7HX7sw7nZNH9rVaXft6S4ROHcCXzkn4tyJ+hSQaMx8Hu4gDd//UcJKkb3pcr0F6yBPeoQIvA4B0snXoUfPEgEi0C6BXo+77cpH6YnAJSRATsSbaLSnu1hRm7p7UX5wgq3lEi9z75nfW/heiEVlfIUJkE5+hRufqk4E3gCBXo+7b6CKVCQR6DUBciJ6TZzKIwJEgAgQASJABIgAESACl5wAORGXvAFJfCJABIgAESACRIAIEAEi0GsC5ET0mjiVRwSIABEgAkSACBABIkAELjkBciIueQOS+ESACBABIkAEiAARIAJEoNcEyInoNXEqjwgQASJABIgAESACRIAIXHIC5ERc8gYk8YkAESACRIAIEAEiQASIQK8JkBPRa+JUHhEgAkSACBABIkAEiAARuOQEyIm45A1I4hMBIkAEiAARIAJEgAgQgV4TICei18SpPCJABIgAESACRIAIEAEicMkJkBNxyRuQxCcCRIAIEAEiQASIABEgAr0mQE5Er4lTeUSACBABIkAEiAARIAJE4JITICfikjcgiU8EiAARIAJEgAgQASJABHpNgJyIXhOn8ogAESACRIAIEAEiQASIwCUnQE7EJW9AEp8IEAEiQASIABEgAkSACPSaADkRvSZO5REBIkAEiAARIAJEgAgQgUtOgJyIS96AJD4RIAJEgAgQASJABIgAEeg1gUvlRDSO17GyvIvauVNq4HCzhJWHqqQ69uaGkb97FJX8eBX5sTvYq0e33v6rI6yNDWPu4QWs9EVvj4suX0x5a9hbLmHjuBH7pfMb55Fnu9I4+nK7WZxb+gvcv1rV+VUdhw9WsbKs281WD13k3y+ynvSGW/3hHeTHVlFpWtwl1tmm9aIfiQAR8CFwqZyI+oMJpNJFHBo1q2Kv645FHVtTGaQWlNNgfwdwXEQqPYGtF4Ywl+ZL9WEJe0/bFfcIi+kMJh9cQCfiorfHRZDv5RE2No/g5xacR1ufR57NdTiu546+3DyLHv7aez7dqtzhQhap3E2s7ZZx8MRPw7pV9vnkc5H1RNSYvVTzcvLb6vcRTfd4G/0uri6vzto1oe9EgAi0T+DyOxHPNjEZcyzaB9H8CceAchEmhc2FbvJrDVuTYhepQAAAIABJREFUGSweN0ni/OkCDxgXvT0ugnyPikhNbeICuoBObXv9my49d/Tl1y+oSzlc4P7VtIYXmWlTwZv8ePHrdFjyfKHTYb8nJ6KJetBPRIAIcAKX2okIGg009meRSs9ij103AmezsnTBK/OnpHthFmcNNM7UM44BxXdS+CpA7bSMg3IZB6c1uCQMXlZxyH4vl1F5oaVgMoQCKVkAGLKJ+40nR1EZVl21J4GA5bmP+XQG8/vs2mLzqoHqsZDlMPZGMWGSw+W08glqqPA6HaH6UqsTE+ZVIMpl17Luh0/qLdiwfIyamF/09gjLPkFdLzqJpy6PmWv4LXhxIviWrTxZCs5UFKTSVZ7pBTtWrjqRRZezzuQ5MusX1jvOnOl79d4oUpPrqOp9pUmevH9Z1QAC1KU+m20m2zSme1pbc1QN6CodlqH07rhq/B42AHv2mWwDLU3w4ggV12pgop7rfTmA6DcnqIV9XS8x0s+DcpM0+iNnSu+tvqylifq7rUta/1J2Q6urlgW/bNbnOVdWJ8VV11vXPT1zVTbrv6z8WJtqibken2BjMoPU/D7v18puhjKggRqzKYY9ifTIaRe1PqXqqdtG1z1NqvAy0q86t0d6HiyRyofLYNRT15MwO3GR2M/8+gDLJNTlssOuaXV32hPeZwXzyXsngnmsn0pRk/q9rFIzOQwnQo1RMX3QdFbmGX6oZ5L6jq5nCWNjmBddEAEicCEJ9MSJ+PzzX+LPRm4glc7wT/a9k/8MowYZszqYRSp9Bbmx4YT4TTEYjG+q/Q3Mgu9jLp1B/F42fDt/uNCFcKazIyzmMriWu4m55VncYrLmijgMJywBDpeG0dd/FeOFIuYLI7jen0Fu4YhPqIPyLPr6Z3FgDBAnWBnKoPBQhgycnWBt6gpSA4OYKUxjMseub2LnmZswj3PNX0VfmsnFmA1j7bFM+2wbMwMZ9A2K+zl2/d4SKqG88QEjOC4ilx7E4qMohKHGYmn7s7j+3jQKM8O43p9FfknUiZfEJ/yjmF+6iWsDg8iPDeJaOoO+fEljA9QeTBhsrqWzuPVAa0e9itKJWHtQwrisV57x7h/ByqkEeLqEIUcIWm1zBKnx9YS9NrKNlI5xdoMohPtlAKGXd7C4NIxrjJ3iO7Md5ak7OUzuTmSReaxsziKXzhjhdM2Zi7hl1p6p/qu8zfNzu2JFIjFP0W+M0LVnu5jLZ9E3OIJC4SYY36jNatgYt/oUm6Tt3kRqaEnGVdt5Sn0qlTAzIPqwkHEYi8ea0rN+lM/i2tSsiLkvTuD6wFXkma73X8WK0l9NH5L1XE4OZ4tYzF/B9fwwrwezITMf67oVoHJ3FNdYu89MozDFdNROoxXIzArvCyz9LFaYjFpfFiktXeLy63X15dGqz2t1zDGuon+xvrCxvxmyZvKl+iewozth0gYomzXDZZzAVoI9qdwVtoLnxfuy2jsmZSitYuM9ZqM1eyrbk9ksZn94P83dwZ5WRtinFga5neJ6kc5i/N4+tmauCNvFbX8Wtz5OWluTPJfXMZdj/UV7c9/Sbkr5w5BW0YLN+5lPH6hhZ0ba62IJczOsbUy7FtY9yZ7w/VXSZkpb7d6n1qTfw1eOIrY+vomctKm8HYy2io8J7EVDy77Tcmw0+xZ9IwJE4GIS6IkToRwIPpBIR6ITHKYTIXJw3bPz5pNEPYzjuMgn0UZoB7unTdi74UTU7g0jNbOtxaBXsTaWiQa9p+sYT49gQ9ubEHwyi75wosschizmy9qEik8+lWMR4HBhAKmpddTCt2gBDksDVrkWkRcsBMwOZzrBSi6DoVI5klca+qHlE5mBOWAET9Zxq9+cUIPnPYD5cuRUgIecDWDlVGbDJ64ZTK5Xo9WHZ+tcpnDSyh097Rnu+91Bqr/k3ugn8+y7vRlN3FHD1u2s5iAIB8xwHiHuheVaqBoPp3l7bGgTHO7cpG9iR66MCB0cwNx+NJlplIsYSkdOaXwPTfuyiDwyGCpso6aphBdzAFyn9X7A6iq5xfKEmERFXMR3Qz8Y36kMlH5wh8FwxhrYmckgf68qqdp5Cn1KTa2iqhzVVzVssP1ImpyVJb0NRVbBPtMFe3+U1XhOPZeTw6FZ7IUrW6wfDfIVTeWwM4eAOZx6uweP2L2o3c3SqtgYy2BmV9P7J6vIpyewI9WC61K/OSHnuhQ6WQ4eSofHlJPr0+dVHYs4UOI0ypgfyiA1pN07E/eGVlX/DnAwn0VfcT/ql6hy57DPmkybdZflGWnkvfQIVozN+Q3sFbKWzZL9VLOVqk9FdqSBA2bX0rptkbYu5GdKBUieQ9PYeap3mDYY6nXysG2t+kD4YkjpO4DavRFDl1Xdm9oTWbeof9p1j767+r2/HNFLLZ6jHBP65stSR8wxgaXx6Tstx8ZIfLoiAkTgAhPoiROhnAf9sxMmLofBdS+W99N15NPT2JMDamV5APmFIgrahKCyOoCUNnh2zYnIFXEQTlZiksVvWBMfJmtksAHz+xEW+zOY+0QfIKO33GryEivEKoP/zp2TYcOhYfc533Dirg0YzzZxq998gxamDyc8qmQ2ccigb0luVJdvv81N6dZEhDsRWdy6rzkaKjvXp5wMzz+yfuQO42j4JpU7lPqkg9c7aWIo5Nb1QuQuuKs3oG4d1Fixhxx1bk8WlUdCG7Vi3tSJiOcJ24ngOhNPxybGoWP3chszulNsf7fzTJgImTwDHBQzRt/kbSB5Juo4S+TScylDdGiCaFG7ffhGYc0eiFTC8VPtLp+UH8KJyC2UE8J/ZB/QJ6XsSR4ao8LSLJ2ROZs8fPq81Zd4Pq57CWxluerDNQlVv4lPV97yns2wsYtC2mGzeD+NHC6zzrIUx8Ea7KULC2dVzp8pl+AZObHq184Ycpla9TNb5+3vSgT907INrrorhyhyGty6omerrlu3n0zplCOynSo/U764HD59hzsR7Y6NSgD6JAJE4MIQ6IkT8aZXIiDfNovJNpsIsMmQGNRFWJCYAOiT8W44EVBL5jx06Cbm7m7iUN/zwCbp5VUZKiHDi2QoTLjp2Vh5YLJrb7flJEmFJfHQABYewPNocnKUa3LFNt+5NqgbA4scMEpF3GKhECw84L4eAiLfdquQGR5iFoVGhRM3I0/VF+ITERE6IEJwWLjXxn6T+Gxnno6JJB/U1QqHfPMavlVTsqhPsTHXrqOaYKv6mIOqetYaXF3ytSWLciLi7cp1tRXzpk5EPE9Vx3DSwuXPivAfrV15SFGoN6JPqUkbfyurrSjE8vRyIlSY0CDm92si/vvZEdZuZ9FX2I1WzRR2/dOl515OhNRFFW6j1ZeF7YRM9LKYP3C6ikkWMsZDoGax9kA5Byyh1KWmJ5tZOiPzN/TLq8/H+5Jir3RWiR6bYDZOsLMgQtVU6BsPYTHaUT2tPv3LE6uS8Ymp7fAZdXZxUEW7+pX6LUG/VFnN7Wa8Tn79rFUfaKC6W8QMt9GyP7GQsXD1WYVH2qtstm7Y38NKxy5ibcxTdCqHbYdsOTz7jsfYGKsI3SACRODCEeiJE3E+eyIES9dg46IcrjSwVQn5Jpo/yyYifGCOVirY89zwhm8N4wOK/ebSVaa6xzdS7q7zPQ/X2P6Bx2LlQCwpT2DjVMUcOCa9LJxgTL65Y2/r9LfockKhNkizTdL6P2t9QonjfkPLB2OTAX/AuC8GjJSM4a2zUB8rpppzCzfvmvKoDZdudg7GTAC++W4fW3fFnpK+29vu04W4nPE35WLSksViGDevOQ6OkKkIErsSMkXhHupX875bB63B1TnZaUcWe/BWskhdbcVc6bQ9GXTKFdU9nDDzdKPY+NxqU32TNptIszfD/G2tYGSE93S0EsFkaeBweSSMy86P3cTiA4+jal/XiVAbha1+pW8Mj1pBXYnN2jubRRTGryCVK6HCO6LgEfJUyY1PS2fkb4Z+efV5UZbpMLju2SFuIqY/N79vbNh3T0J1wV15u+4p+6aceC0PXq/ovlFnFwf1aKL+sgRunsqJaG434/J72bYWfYCvPuZmsae/TLLq4Kp7vC4JdVNctE9X+/nL4Vjl4S+c1KqRLYfk5tl3ksZGTXy6JAJE4AIT6IkT0a36u4yr656zPPZGv7+IrfsTCON7+cA1i417E7E9BNzwvpYTEaD+OH5CCzuWTw3uLuMOHnpl7lfgBr+4j4OFbBh/LuroiqtnpzfVcGif3KNDcU2ueLnRIK6Ss/CpaGOsGDDyy2qTdB071hthEd4SH3gan2uns1iDpijLGrRfVnFQrppvmvneCtdbczXBjodJ8LfhWigbL0uu7mzd1zf9qhrrnzLcQ4vV5r/yFYRoc7tbB63B1VlnFXo2i9ayqDrG6+/F/HWdCB6GYu3PYTBeshOTtHYKypjvH8bGJ2zfjR0mJto4mkhbjCR6myd/ATC5ikrdcZqY3lz2tUvPvVYiAF6msb+DZR7wU4bsE354sUZYkhKkzE9BE6uKwmE090gx/+gIG8vrOOTvEXx4+PR5qy9xcVz3LCfCyUv2Adv5VFVMzNtdnjrUwnQu5QZ8rZ/aOsCKcd1zv5BQwrl5qpVpc2+UbTfj8vv2MyT2gXieTFIRkhX1a2c9Yw5RUt1U3aPP+DjTjhzxFzOuMSHq0z59p/XYGElPV0SACFxkApfeiQB/K3ITW/qbHSdxEQfL3qJHG5XFmzcelmOFGZhOhBxI9UkFn3Rn4/sRtLK5sR1fQkUtNARVvmk0d1dsNOUTFX2jY+MEG3eu8pOKwnAmlh8f3LPo649P8usfsxOMJvgbYl50UMPe/KC2mVgTKLwUk5uZB/qRs2wZXpwepfZwNE7Zxmn99BPHwMUn9hqHQJxIxd9mys3eKp+Qu3NCbQ1sMtSnoJ2Y0/ikiKH+O+HelrA67ILnOYLxGW0PSn0f87mMtVGUJRarO6zdYxMJI1Mxyc+xlRe1N0PxDd8wJ0xu7EE/UV/akMXJjc1CPJizgJr7o0gNmSdgJU/CRHtEk4MAlaVBpNhbVLV//OUJNpgTaYWDsZjovv4sUrFwIztPhz45JovB6RLG+WlUIoRO7K1ipyCtaieH2Q3Hvrv03NIz9ZjN9sW20H12hCZPE6C+z07FMg9CUI+HE9PlaIUkeMoOCxjE2ucy1ekSP8lsXm3Af9XAAdvQHdoVPx6t+7yrjq57lhMh9ytMaifZ1feLGB9gG6Gb/X0RV96ue4JDZXWQnwq1JTc7By9EP81pJ7i5JtKue8n6y8py82S/tGbosPme/Yzl7+4DItTJOAiD2ajxK9phGp72RIbHDS2VY8eXC8rR/+P9vg05xkYwObMZHuTQ+JyNCRmMh4clCPtlbMb36DvNx0Z58mLLv5Yd1ZGuiAAReDMELr8TERxhhYUN8EmGHUdqQuUbvqxNeHyDl2NiYDoRLC67hDzfB6DKkEfk6ccGmsUBr2rYKY5wp0DIl0V+bjM6iUaLC2W/9+XZMYdl/lehDScC4pQbESZiFxKg+oAdqaomWFlc/4vVyHGxk/PvASqrkVxhWWdVbM0Ni5OrGM/+q7h190Q7qcU9KPPTRYa0o2tflrHCjp1VE7+BEcztansn7Akblyk+6Wg8XhXH4ob5jGLlkZrBWhVjeY6toyqPqFS8r99Zj3hrj4h2t9+Uawm0y8ajJRnrLhhfG591HEep9EI9aLNK1hdvWZzcZHmtmLNkL7Yxw4/F1E4/SsxTtEfkRLAM6jhcZseeKl27gvHitnYymJSFr/TEV4VUeFiUp81IPG9MFs9OsPLeFdxik3n5Ny1YyF7teB2FoUzMgZESyA+Xnsf1jCd2cAiebPIjbZUe9w1OYO2xeiNglsS/PdvGXGiLWP8ZxtwD82CAmC5NLeEwPHjBgwcvqFWfd9XRdc9yIpijyY9njtp38u4JqmxDcxedCLce7Wqnqrkn0oZeKPyOdlM/NXMi2KpSK7sZt/ls5a2FbVOFJ/UBeUyy0qlrU6uoPGGrdu2uRAD13Wl+jDDLK+pTSgDt09XvfeUo7qMRjn1ML65gfGHfWCGufXxT2ARNR1r2naZjo9TVcK+VVhe6JAJE4EIRuFROxEUgF9gbDWI3XFIm/REimZb9wSbtyD9XDj73wj+s5JO4WRr9D5A1S9fqN+2PJrVK2vT3pD/M1uShVizYm7C+2RYbc638eZ6v204OfelEFku06Gu3mEc5Oq5a6LPjiY5v8UniHew5uHNHP7ba0XFJyQ+2q38ebdBKP5OFMX/pVj5WrnxvlW3qzDTd+NZDPWoibiuGji5r/IHJJlkn/tSqzMQHu/yDvxyt2ipwr4i07Dut8u1yhSk7IkAEukqAnIiu4qTMLjQBHn9ewkqRvU1PCkvpUQ0ukiw9qnJHxbzcRWEgg2tTS9g5rqLONznXUNktYbx/0PyjdB0VQA8RASJABIgAESACnRAgJ6ITavTM5SQQnGBruYSV5XXsPTv/96xNIV0kWZoKegF+DGo4fLCKldI0JseGMVkoYmVzG5WEyLYLIDGJQASIABEgAkTgrSdATsRb38RUQSJABIgAESACRIAIEAEi0F0C5ER0lyflRgSIABEgAkSACBABIkAE3noC5ES89U1MFSQCRIAIEAEiQASIABEgAt0lQE5Ed3lSbkSACBABIkAEiAARIAJE4K0nQE7EW9/EVEEiQASIABEgAkSACBABItBdAuREdJcn5UYEiAARIAJEgAgQASJABN56AuREvPVNTBUkAkSACBABIkAEiAARIALdJUBORHd5Um5EgAgQASJABIgAESACROCtJ0BOxFvfxFRBIkAEiAARIAJEgAgQASLQXQLkRHSXJ+VGBIgAESACRIAIEAEiQATeegLkRLz1TUwVJAJEgAgQASJABIgAESAC3SVATkR3eVJuRIAIEAEiQASIABEgAkTgrSdATsRb38RUQSJABIgAESACRIAIEAEi0F0C5ER0lyflRgSIABEgAkSACBABIkAE3noC5ES89U1MFSQCRIAIEAEiQASIABEgAt0lQE5Ed3lSbkSACBABIkAEiAARIAJE4K0nQE7EW9/EVEEiQASIABEgAkSACBABItBdAuREdJcn5UYEiAARIAJEgAgQASJABN56AuREvPVNTBUkAkSACBABIkAEiAARIALdJUBORHd5Um5EgAgQASJABIgAESACROCtJ0BOxFvfxFRBIkAEiAARIAJEgAgQASLQXQLkRHSXJ+VGBIgAESACRIAIEAEiQATeegLkRLz1TUwVJAJEgAgQASJABIgAESAC3SVATkR3eVJuRIAIEAEiQASIABEgAkTgrSdATsRb38RUQSJABIgAESACRIAIEAEi0F0C5ER0lyflRgSIABEgAkSACBABIkAE3noC5ES89U1MFSQCRIAIEAEiQASIABEgAt0lQE5Ed3lSbkSACBABIkAEiAARIAJE4K0nQE7EW9/EVEEiQASIABEgAkSACBABItBdAuREdJcn5UYEiAARIAJEgAgQASJABN56AuREvPVNTBUkAkSACBABIkAEiAARIALdJeDtRNQelrCy3OzfOg4b7QvXOF7HyvIuau08+nQXK8s+5dWwt1zCxnEbgj1eRX7sDvbqkUAdyRg9/hpXdezNDSN/9+g18qBHmxMQOrLykGmgi/cR1saGMfdQU4jmGV6AXy+jzBcAW1dE+C3+7R/exzce/LIruVEmREAn4D0OO8YxPR9x3cH4GM+E7vSEANn0nmCmQtom4O1EVO4OIz8W/bven0HfYPTdnnj7SlJ/MIFUuohD3wdYuuMiUukJbL3QH6piL+aMHGExncHkgzYmgI68O5JRF83zuvqwhL2neuI6tqYySC18VZwIVxvqPM7j+giL/Rnk71W5ExHn3YEOnYeYiXm6mF10mRMr4/XDl/95HxuPz7zS9j7Rr/GjpRt4516l90WfQ4m/+veP8G//dQ4Zn1eWL4+wsXmENl4bdUkSVz/sUtZaNt7jsGMc07KRl2+nnWAv/dp6cRgH84bvuHTp7WyrNwyaiu8CAW8nwixLTG7bmpybGXT/27NNTLbrjLik8DK+rgdf914NW5MZLB7r+XzFnIhutaGOsOW1YHzrY+ZounhfcOPtZHbBZW7ZJs0TfPpPN/D+T37dPNEb+/VtciJ+jR8t3kDpP98YzPYLflREamoTbbw2ar8M1xPOfuhK2M17TcbhNzaOdbN+neV1WGrzxWFnxZzfU05dertt+vnBpJzPm8D5OBEvqzgsl3FQPkL1ZYsqvArQaARRoqARfg9enOCgXEblmfY7T8meaUDdDRoNNPZnkUrPYo9da/nx31RCVUpQR/WYyVfGwWktzIf/7DK+low8T14OKyv6F7xSBbDPAPVTUcbhk7pZhp6MJ2V57GM+ncH8vshP5KVPagM0nhzhoHyCWtJL2JB7kzR62a8C1KSMB8dVNAz5VUJVrmQl0zBZavrrvqCGStjmFnDOT7aXlNFm0qwNlSQCVQMmZ4A967qnqUHT9jhcUM6bzluV6mG8Lf1QT7p0LwjbKKlv+OtNMjNNZtXGrH2tZlFyCr0y21f95vz8/R/w/OfH+PRnx/jsyW/NJL87w5f/+wd+78v/quDTn32BL/UUv/s1fvEz9mwFv/ofkU7/mV0H//MFPuNpjvGL51qa3/8BX/7vF9hYvIE//9cv8OX/nuHL35lPf/mElXmMT3/+HMHvzd+8vml1+/Tnv0bwR+upP0Z1V7IFX57hy7BPvp4TEdR+KeRnfP6vVbb8GqZ5/AV+I+sfPK/gF/rKrCYnayO7HoFi9/vf4lePj/GplhcvhrfjT/FB8QY++A/WpmfNeZ7p/T9BbmnPmQ2r27roZfdZvpo9smwW6w/Ve6NITa6jqo8Duv2pszHlKCzfZTugyRLVRCvXGjOS+6F8ulmfbyJbVHbSlacTIdvGtrksVy671RatbZQpT5S+jMoLKzOVVBtzw/H8VQPVx1Vj1aipLdLaxTk34CxPsDGZweS9EzE2J4jjbmPXWKK1u6VvqmpoNvbxRB55yMySdemcbXpYGbogAu0R6LoTUfv4Jq6ls7ieZ6FOg/x6fPUkeRLNJ+1ROJMIHbqDxaVhXGPhUvmr6EtncG1mO9o38YKtOqhwJhnHPphFKn0FOR5ytQoRTBA3ssFxCfn+LK6/N4350jTG2XO5Ig7VJMDlRBgyyvK00K48LzuLxccS/rNdzOWz6BscQaFwE+z3vnwpKsNqo/rDO1E9cyJEbI3nJSe1s0Us5q8IprKeMx/ru0gCVO6O4hqr/8w0ClOM+xWYaaxCn21jZiCDa7mbmFuexUzuClL9E9h6pqXjabLI3yny/TDzhRFcGxjk9UkNTIf7RmpMfsm0MDOM6/1Z5JeOojbn/EYxv3RTPM/1IqMxadaGmjxypWB8U6t7sI+5dAbxe9loVadVe5wph7RDJ8LQDyVvXPdqDybQ138V44UiOMt0FrceaHVpJafKmn82YyYHnFIJMwOiT+QGMkj1D2PxWBtVz06wNnUFqYFBzBSmMcl0YOAmdnQdMMoE8HwX3/7wBt6dfx/f+N77+JMPb+Bry7t4Lifbv/lJAe8U/x7/+OO/xLvFG3in+BE+k3k8//cSvvHhKP7kbz/AXy2zZ0fxjR9WIj3BGT774ft498Nv4Zsf/T1KH93m+X/9nkxzsoFvfG8SXytG5f/1v0sn5uyX+MelUbzz4SS+/dEH+PPvsOu/wY+f2xVo8v2sgtJ3b+Br3/kbfPDDBbw/P4p3vvsRPlO24Y+/xo/+bhTvFEfx9e+9j298dxLf/OEu/tEIX+rQifjjr/HjZSn/2kf4YJnVc9RccTmr4PvfG8XXlhbw/R9+hO+vFfAnH34L3+B1/RZ+cKJA/xR//b1RvDt/G3/10d/gG/OjePd7Wj1QQal4A3/+Tx/h2x+Kunz9wxt458P38f3/FJX9DWur736Lt+HXviPa+h9V/hZCw+Zze23bngCHS8PoU/aZpxlEge9DEpl52X3UsHVb2tVSEYVx3WaJmHGh51dF6O3crliR4P1zAiubs8ilM1oorOgn5uovwGXRVzPOjrCYz/J+wkJ6WRmRPW/WDwGDjWs8TJTNguz8GrcxYTKebzOby1LGn29po8IC2IVsV82msTDn3IJm+yEZ9A9jpsT2VIp2u5Zj40QG1+7INvKwRS11hO8DYWNfFGqdtJct1sa8XrY+NNM3AaLl2NdUZw2YvD34HkjnXOYcbbotBn0nAm0QeC0nom/JitU/XUIuPYD5cvSKOjgu8nsrpwlScWNnOxEDmNuPFqQb5SKG0tqk0HAiRL7CwET5yLt8T0EUdlXDxngG4zz+Xcpzto+5fm35Uxp1Y7+FJaNZkxovo6+4LydDwjAPlcraGxaRZmg5YRRmGfI6qTfiqgSRV2poFnvhik6Aw4VBvupyIOeDjPFQegIb2uQveMTu3cRO+JzKk30GOJjPIpKZ3atyNn3h/os6dm5nrDRAdX3YDBfgcpttDr4cO4CwzTm/DCbXq9GE8dk6Jq39Ku421OUGapsjZvnHRe5kGiEM7F7/LASfdtpD8g4ZsLKl8W62r8apHyKvUPe4s6MxYa2wfwep/pLh8LarN25mQubU1CqqagIsB7PU2Lp0xpkeDSA1tY5auAIV4LA0gNTMtqa7Gv8//hI/+O4NfP3eMb5Ub+jlxPvb+2IyL5yIG/jmP1fwJVsJUOle7OL94rdQ+lkoEPD8X/i9cPL7X/+CbxZvY+OLqMzg/yzg3WIBPwrfsosJsBnO9Ad8du9beGfpX/A8XH04w6f/9C28s7xnroREWceufvWv75vp//gF/vF7N/D+nqjb8x/fxjsfFvAjzTF5/pOCcJbCPRCdORHBpwt498MFfKLh+dW/svI+wmeS4Wc/HMU7f3sfv1JMmQ79R8lIA4jy//SftDZizs/SDfzpP6vN3oLhO0sb+JUq7/fPscGcoaVd/EaR4W3WIpyJ2/xBLD6ybX5kexoPp9FElEFpAAAgAElEQVRn2Sc+WdXsk9Dj5nY/+GQWqaEl2V+YkAH2ZjPQxyG2qmjYApZM2p+hwjZqmg+t+nZzJ6KBvUIWfbc3tX4iJpe6PXf2Q5/xMFE21QjNPoWN0esfpnba3E3cCvd/sZTt2qgwd3HxdB3j6RFsaPv4WBuxtg7Hz/o2bqWzmPtEB1/F2pg25jJnxMMW+eiIatPQ7loiq688L91R5D+YTkRLffMY+1rmoQTSPp26JMehrtt0rVy6JAKdEHgtJ8Le8FtZHUA0SVHiNDF0LIk1AWvWgULD0LEToWTSP4V8YV24PJoRdMgYPS0n9PpKBpdt2DCsLD0bSKMJY5RDeMWfS3AijEmtYhbJeLiQRSp0YlSOJ1gZykDE+qt7zT/NAbiKjTG14Th6jrdPOPGVb+3CialKxwZebXB3MXXsP3C3vcpTfj5dRz49jT05Z6ksDyC/UERBm5BwPVQ82moPSxd4kd10IrK4dV9zpPSqtSVn9KCbmVtmM63YUG4O7gBOl7hDuhP58FFhP1/HnxoTevHTl0+O8akMaxJOxAI+scKM+P3v3cevotwAnOHffnAD7/6wySbk2ETW4UT8sYLShzfwwf/RQp9YOVLeH7vqYsghvnAn4rsf4VNnGNFv8eO/u4F3Q2dBZiDLjjZSd+ZEOMQB/vMjvBPy/gM+WbuBd9b+38gRZw/JNGEdOa/3DUeMJfvy3z8QzgYvyMEQgGi7aOUIMfZxKXlfi03GGqiWyzKUVdiCuH0S+qfsk6mbqhxTj/mEjK2WPtUnpCqt+DRtmPyN25+4TVYTzqZORGMXBf0FlswyeHGEg8dRKKxLfq/xMFE2s17uby57pdc5GiPEXTu9+B6Oq/xFRxMb5RbCvGuPY9xe2+xFuZHz42eLXIxVG4Z18Hnpw9wndqBLTG8dTkQTfeN5tBj7fHTWBChli+3vNPuCesZk4sdRPUufRKAbBLrqRLANTalSOSaX07CrVNyIRisIZqdQiawOxA2VaSDdz1lGkmVXL2OtMMqXpFkYB1ueZsuqnTgR4m2/+SZGOEUqnEs7vYqFisQMg6pfi5WIpk6EHBhkXewTtCLjqpXFLhsn2FkQoVapfrH8z0MBNMMqlrYnsHFa5/Gl9SfbmM9lkFuNVlR428rn9bJ5XkrubjoREM6RmPyyazZAiYlK4SHzLITzE06Oedm+7SFZKrk5Mkv3LIz8q6XDIklc98TSNwsrEiFNG/vaPpS25IyEcOu9W2YjrRzsWViB3m4ifNDsW2FpR39vhCeF97WL2ERU/vbZPRYu8y0eAsXCoNQ/HkajTcx/87MN/NWiCFniYTQypCba3OuYAMvJrgq7UXmLcBx9FUMT1HWpQqKKMqTpwS4+C/dkPMfG37o2dNtOg/3dVZDj3h/P8Iv9v8e3eX1H8SfffV+EKYVOBBD850f4enESH/zHc7EfpFbBD/5uFO/+4KfRagt3KuTzGmce8hSGljkYduhEcJtv9Be7buLAiMn7WtgeT2L2NUM3wyxsPa7xI69ZeCsPFS2tY+9JtALCHnOONU77w1KL/Js6EXxVNaE/hHK6J35e42GibFrmiZcmQyOZM187fZs2yihAfKmXV2X4LAuNjcKPI6YyJOj2Oip1tt+vjuouCysbjFaqPW2Rn47YOuMQ2tOJAJrrm9fY1yIPl3R+9ZT89dMtPTm6yqR7RKBTAt11IthScmE3FgrBO5vjPheaG7seORFBGfP9Wdxim67CEA7LsLqMryUjl/sZWxq2YtrZDzztKDY+jzZcR5uvk9+gNQ1nsgdpQ0Yp//y+sck7LNNZpAjrys3vhxsMmeixAfhVFTuFYbm/ZRj5qWms7Udv38Jnwo2MVp1VqIQhL6cXLqWHzpsy7M0cLflouNLA3nLJ8AZueJmOcUMarVS01x6WLvDyPAYll37YoQKq2nyj8z627s7iFtsrc3tbi9tuX29ed8BRG/lDfZEHBTjVhk9QtTfVqk7aZ1MnYvE+fsE29Nr/pJ6IkJ4CNn6ubdaOvQ13TIBlGrUB2M7f3lSsieu85Bu79+/zPRlfK07i+xW2wiGcgz//f+xTocQJRq+7EsFDpb67gE9CpyVaZQhDuf74W3z6z3+Jr8s9Ct/43t+g9JMKfqOFN4mVib/ExucOznLDO+SeCDMkrLOVCG4zbPtkUBV9akh78SB+Nu+3o8dgG4X3N7FWnOD7r9RqBss3ZsPYTaf9YT94OBHcnnToRPiMh4myCUrN/++yV/IJZ752evE99qIpyUZZwgTlWfT1s5dMmiMnJ7KREwHgyTYKY3KfytgwJgur2NMPS5HPtLJFfjriYa/VWKO9MBNVc+tDkr5xXWs19ilmTXRWJVGffvUUqY20nhxVOfRJBLpBoKtORO3esBWzykQUb47jg4gU35qAGZ0irKFlGByG3f2cZSSdhlW8uQ4ns640lozsDQXf4OdyjOTy93zZmoa9ZKeCmCdRhNVjFy7j6wj54c9YMvJJ9biKdVe5BqgdJ5yW4SwrwEFRjycWb/evz+6i1mRiKcK01P4DVTbQ+LyMA/WW0JJXpLIHNPfbvChH7YqF3PQXsXV/AuEeDl6nWWzcmzBj+ttqj7hMaqIRG2g1ccQkxWYg9D587mU13v76W8625IwKd+u91V9kcjOtkM/YkM7SndVwqJ1eE5UEgO9Z0Dbwyh+f//QjfP+nYqNAkhMhwmkW8Kkd5vR5FArFVyv0mHyW/xf38Y2iHpfvcCLwS/zgOzfwTXsX9dlzfPazCp5bZRp1Cr/8Ac8rx9rKg/iBHScrHAQZTmTvsfifPXybbSAPV1M6WYlwP8P2g0ThTMAvfvQtvLO4gc/+u8lpSf/7U/xVcRQffGqFdtW/0E7KcjHszInge5SMfQqMm/gjZuJv3ki7Yu+zebmNmXQGYvUwqe+betx4otkU2W61+6NGWEonTkS4ainzNEK0+IunDGZ2tYkyW8hlfyRV+3sUZt8SGXmNh07bKAVp+eGyV/IhZ752evHd20ZZ8jhZ8/AlLSyX27WrKOzW5Esua1zkefrZIhfjuH02dcYSOfzK87JDkbiskeyt9M1n7GuVRyiQduFXT/GAmdaPo1YUXRKB1ybQVScCL3dR4KczlMWb/lcNVO6xE2kmsBNujLRk5sbu9VciwM4HT9/ElnHEnGUkeby3vgmYHQk4jevs5Br1No0bQWsjmCGjYx+EUaUAlaVBpHKz4elFeHmCDXaqyHzZjGc2nivzI15nHuhv+m2jLx+wB4gX22JVhK2w8CQB6vtsydgKtVLlSWM5qZ1yVN8vYnwgawzItd1pDPHTTNiJJvIfC8Upan9hPDjCIgtxYqsa6vjX03UuT+hI2fJyORx1c7ahElr/FLGfqXQWYRkQqytMznBQ5I+00x5ywmM4ZMLJNDeh67IA4BsM2cbxiH/t4yIm9c2DfNI0gIJ2qlbjkyKG+u/I/R3tyKmV72TmHkjNAQeofyz6Jls1E6hq2JsfRMqov1YWfot/+8Eo3v07tqIgH/niX/D+h9GkNcmJwO8q+D7blL3+U/xGbn7+8uf3jWf5JPk7f49PZd5gx7n+4Fv8NKYonEm8+f/THx4bR47+Zq+Adz8s8DfwXLLf/RqfrE/inb/9F2j7oPXKxK5/8c/fwjt/u47PVPm/E5uNv/5A7PRm4UR/ysOJ5GrE757jR8vv4+vf0Z0I6WxYG6BjhRk3xN4QY2P4f/8Upb8dNTaVByfr+CY/8YqdeqX+jeLryxv4hVr1wx/w2Q8n8Q5b1fhvWcj//SU2WNjTutpP4elE/PGYn+L07YeOo26V/Nzmy9Vdfi9AjTn34cEGYp9Njp1EpvYDBVLPciVU5JzS1k2RvanHjd2bSA1NR6eHvWrgoDSAvtlo9Zs7FUPWSXhO+8NKkDaDHUCgusDTbSxOmYdHVFZte17mNs9wwF390Gc8dMgm/qDcnWj8UKxjnw4bqtI48lUbqcOxzl4tbWmjVObikztbQ0UcKP+qcYKNO1f56UjRSkQNO4WBaPyQ4wgLR5vTT+fysEU+OsJf8E1mMLRUjh37rUvPV1HSAwhPb3rVwOHyNPJjmhPRSt88xj4fndXl4tcuXUrY62Ezad+mx0qnG0SgLQLddSLYeRlPNvnxpmrS2Tc4gbVT19sHKSc3dl1wIoIjrLAj/7iRUvlZTgTUUahqQjzMDRl/o6KcCNSwMyPyCSejhoxiYFP10z8jw1nH4TI7clVNvq9gvLitne7haqMAldWR8BmRV8Ig4RggnNwfK+seLy+Mz+cyXsHk3RNU9c1mz3ZRyA1inp2SJc8y5/GszNmwj1R9WcYKOypU1XdgBHO7Wgy0Q974gMaUx9WGcdnZHb6ZPG2+/edv/pyOk397iCOAWbspHVLHNOqrNHGZmEMwzpxRjefegunQNB6v8hCmiNMoVh7pu3795QwlcDIzJ18qrT3gsNNtqg/Y8bxK7iyu/8UqKslqA5x9gR/9w/vy+FZxLOhf/+SL0DlOdCKYEPVj/IAdw6omwB/exgf72hRf25PA0rz7vRL+7bmYyEZOBPCb/Q/40a8sTRSSc4Zf/YQdIRtNrv/k7zYih0BBaPb5++f48fpt7rQIGUfxjX/YjU4wglXGh++j9H8qsb9QzZwNIUfz0C9DlOfiWFbF5mtLG/jF/8dOtJJ7Os5+iR8sjuJ99vcx+N/LEKsRzx/fx19954bmILATsX6LT3/4l0Y9vrm+p51c5elEMIfkRxEPvQ102WO2J38HW09Mm994tITJsH9kcG18FnvaaXJx3WQl2HrcQOUuC2FS+prBtaklHOon0L3Yxgw/IlPrr077I2vwch+L4bjB8ltFZd/+g3Xxfjm5rJ++l2y7Ymzs8dAhGx+P9BOOdNjGdcL4wNI48o3bXHt8BFrbKE0AdSyrtPt9+TvYe1bGYjqaiLNxJqdeqJ3JcNd6FXsLI0gZtrq1LfLTEaC+Ox3qSDiGa2KLywDVzSgdO/567mGZn7QYjeMe+tZq7INHHrZsvbbpdvn0nQi0QaBDJ8KjBG4wzIHE46neJOGT4hayBS1+95JU/lG8cP+F10Ovl6gt7uYf7dML5gZ7ZBVV/Sa/FgOPMzxN+2NAsccuxA3/9og3f9D0zZaqnuuPN6nfws+WbeQvZ5jna154ya2XwSeyVsiM/nuza+0P0jmTnel/vM2ZounN8A+pWan4fXs/huuPqP2R/VG7Jn9cTf3O9yK4Q5FY0YEWRuVbNv/DddpzYRX4fpSScQSs+o2Hgembq9UPSs7w2Fv1wzl9Mr0OV0TcZXA9a5HG/aR5t219NR+Pf2vZJ9kjyfYynqF1xyt/65k3+bUdeRPbXYwVufX4KCLCd80jr1V1u962KmPnp5+tbSmTx9jXMo//v73ze21jy/b8PyIEetObEYKAXwx5EPjBIGjTCGLGjQ/XTczkkjwI8mDQgEEzGHQY7GsYG19IxtAxogm24XTwEIzgjFvdBNncYJubRp7xabnxOa07vpcCd3dBHr7D3rt21a4fksqK5baUbyCoVNq191qfXQnrW3utXZH29X/yvsfr31JeOcwEBicihpkKbQfONuUL5ApLWzg4c/JZ200cVl8iH3wpHXmRwIMn8Af8T3O3IuO400vU4rnUWUR419/B2P/vf+O/iBf7rW3hN+Lt0lIM/Qn/Wvtn/Kf/No+K85I4b0wekcDfn4BIzcqIp/zVGk4u1UpE+7yO7VJOvXvj728iLSABEvgCAhQRXwBv5C+9buKgWsFG+ancBrRYruD1bh2tbukuIw+FDpKASeAG//Ibr7Dc/OXOj//2Z/zL/9rGP735r/iH//6f8Q///D/wT785wL/q2oc7H5AdksCXE7DOa9her2CpKLaTfoql9U3sdNtk5MuHZA8kQAL3RIAi4p5AcxgSIAESIAESIAESIAESGBUCFBGjMpP0gwRIgARIgARIgARIgATuiQBFxD2B5jAkQAIkQAIkQAIkQAIkMCoEKCJGZSbpBwmQAAmQAAmQAAmQAAncEwGKiHsCzWFIgARIgARIgARIgARIYFQIUESMykzSDxIgARIgARIgARIgARK4JwIUEfcEmsOQAAmQAAmQAAmQAAmQwKgQ6EtE3Nz8BT/++BN++OEH/J//e8G/ZND3PSDuIXEviXuKf0iABEiABEiABEiABIaDwK1FxJ/b/4bW5Z9w/e//gZu//BV//ZvNv2TQ9z0g7iFxL4l7Stxb/EMCJEACJEACJEACJPDwCdxKRIgg78effuo7YKTgoODqdg+Ie4tC4uH/p0ELSYAESIAESIAESCC2iBDpJuJpcbcgkL9RJHzpPSDuMaY28T8mEiABEiABEiABEnjYBGKLCJG3LtJOvjRI5PUUGt3uAXGPiXuNf0iABEiABEiABEiABB4ugdgiQhTAsgaCAqCbALiL38Q9Ju61L//TxsHSFAqvjrp0ZaFRrWDjfatLm+BPR3g9M4Wl9+3gD0P/3Trewsb6Pm5D48E5/XEThZmXOBi96XlwqGkQCZAACZDA100gtogQuzDdRZDIPihEet0D4l778j9t7CykkFjpJiLitAlacoTVZArzuw84Sr0+wnb1CFbQ9B7f27tzSCTLaPRo98U/92lfrHGPy0gk57BzFat1x0ZCUG0f35Zgx+74AwmQAAmQAAmMHIH+RcTFr/BNMoWE+/cXqF74A+Tfftvt99/j22QK3/7Of40bYP5uyehb9fPNr++7JuNPqP4yhfsf12SibPA4d2NqXnfbYzUfepwon+V8fvv73mLSmbuOc9tjN6v7ExH9/HseAhHxoYzEQhUPVuYM0r47EhGNygMXiv3curyGBEiABEiABO6QQH8iIkaQKAPOX/4Kf3QCxj/++hdIJE2hEUdELOG3bsDpBLlxglj3GhFI9xjH1zYYeD8EEWHa9CW+mP10O+7s812JiF79RIkI27Jgf/bf+Z3OWbZoZ64y2LDOj3BYP0Xrxt8HbixYwXPQ7es4PGtBdudeZoiIzzZaZ3UcHjehxnQbRR/ctHBSr+OwfoTmdXQT++oUh7LNKdr+gQHbguUMpNudXPobCSbNN0+QmN9C0/La69HsS91/hA2fbbd/2T7GeKpfg5dgEZgnPbb47GlfN/+djrTvYj5DjDqJCJd9HSdXfmamfZAMTrE9n8L8m1NYgqGvuY22mHMxR6F7w9cTv5AACZAACZDASBPoS0RIQWAIBHf1QAfkcpXCFAwiaA0Gpz0CYilUTBFh46/O6sftnnD3GEfbHPkZtLlb8H0fv32JL3Ht6+xzr+A/dB9EMrXRq5+wiFCCYLZqZOvbNSwlUwifS2P1WPybdUREqYzVwhgeF6ZQyKWRSI6h+J3XT2MlkPJ0c4TVQhqJiRwKM1PIT6SQKVTQcIWGIyIqFRQnxpB32iSyU1g99kWbvv84Wt89xXgyrewoPEImYAdgo7E2Jc+LPguyTQ6LRr2GSjd6idW1KYzndJsUxot7Th2DqtcQNieyj6T9haV9Z0WihXfFMelXsVzBUjEn7Xm267GADMC9dKbe4wkXW9h5kUYmN43FShmLs2NIZOewc+lz3/nSzb7e/sdhpHzwpzPZx2Xkk2PIF0vYKM/hcTaF/MpRQBw6JsqaCsEmhYxgbNa/BO4NeT/lX+JA+3pVxbxYme2aQhfFhedIgARIgARIYPgI9C8iuqQiqVWHgAD4mxM8uuKjR0AcJSJCQsTp002pMtOjVP86Pcf36VvNUEGz97spfnRA/XuZ1qTbhFJ9gqldro86cA+OYdrptHFWd/QY0UKpG7PgGKYfagw1L146VMgPGfRrn8OpY8HgX34374MAh6APur320fv03ythEQG0qtP+FJ3jMjJi3s20HXEuW8KhjOUdETFZwoH71N9GYyWHRFK3AfwiwsLBYhqZF1W03KfpKkieXD91/nUrEZFY2ETTFRaqTWJmK7oo+WwN+WQOqx+8HHsV2D7FO8c26/1zZJJz2NYBqQjPd+eQSXptVFA/gaWal6hk1cuYTGrhpEyUPplcxApAvaTYuDYDrTfTSGQ90RAtIrqPZ39fQmJyDSfu/302DkopZNY616JE2RfH/zhtwiKiie2ZFIr7Hnucb6KQnMM7D6NrvTowVpvcX9S9kVjYCt0bieKeqj+hiHBp8YAESIAESGD0CfQlIsQTZzMgDAaLnVYq/Oe7BcQ2/tpFRCS0CPjdkq+mIlq8dB/nj79e8tVySL9cEeAF5q6P0i4zQP8Tqt96aVs6fcoM0GWf2uaop/PBPjuuuHTyxbHTHCPQZ5iN6su0U60kxBMRfk5aLOnPTnaq33vxiBIRuNhCIfkcB04seLI+gcJKGYtGkH2yOYFEueY8YTbTmYx/yIF0F5+IsPaxGAjIxZX21REOP+q0pqgAE+hWlCztCgT1gIVmve6kNYkANWXYru09wmo2hWffqWg3eoywPVFBuu7R9xlgES0iDJEhL/aPJ0WEWHm46LwK4xsTjnDz8Yjjf5w2QCcRkV+pd02z8tvo91H+Ju+NFJa+D/gpxWw3QeLvmd9IgARIgARIYFQI9C0idOqKDAjlSoD3NNkvFnRgacN/vnugGUtEBANyGXybAb4Yu8c4wT584iUqoFbnXFERvF4LLCOgV4w8Ppqd/hS/B4P56EC7gy+Rfpu2m8ed5kOfj24rbFU2/UqtyrhCS19nfnaw02EV7Zt3faSIwCk2JnUQJ46nsH2hAsvF90JZqCfOXpDXh4i4FOko/lSY8D/0iABTJE912dlIFOl2T3FpYUfk4L81UovkwH4foscI2xMtIiw098soyjQpJ60qP+bfySgynam7iBDpTGIrXbEqpFKatnBwbjz1DwNUqz8+ERHH/zhtokQEYJ9tYl6keDkpTa93j8K1FD47w0wh740n4TQtZ/VBpdD5OuEXEiABEiABEhhpAl8sIlQgrAJPvUIQfuqtAkQZPLrBZ/dAM1pEqGu8gFt999JiRKBwSxERSMFRfemAPyqgDp9T/nppQrIPQ0S4AbhOu3IZCC4OO/2b+Rnoo6Mg8gkfLxj3gvUOrCOvC/tnih3NupuI6mjnF4kIwF1pEKsSTgqNDKwX92HJYM5bqXBrIoL56YGn776VCNnHAEREsO4i9F+KEguTmzplSjfwn/8SESHTwfIlHJhFxQEW/axEaEshCpdrVbyWNQdpd/XE/d04CIscv59eU/O8eey10PPssgv65DZVxd/vqk7dRr6Ck8CigtsUESJC3hsT2DjzWsmjTucDzfiVBEiABEiABEaNwB2JiMAqQ88n4yLQ7RDY6if7UQGuPKdFghN8m4F25LjdxlG/eaIkmEYVFVAH+vPZZIgl0y7tk/wM2y2CfZ8NvvaeKOjILNJv03bz2OvPvzKkz0e3dYWQ8MsRXp2FRIBRwB9P3Ogx/Z/RKxEAztYwmS1j5+0cMlocyCCuhO03c3Bz0+W/UhV0hlYAAkGmT0TYdSxnA/nzAORL2Nz3LkQEmD1WImQA76sbEAa2cLBewYF8JYaNw3IqYD+A6z0UkymolZZOqx1hezoF6UEWMhXJXHmRbLyVhziixTqv4zCw8tB6+8RfqxL4XzNsXxz/47SJWImwxY5YwZWHOpaTKacAP2Cc/BpmCqeQ31dbIe6N/adIGGl2Ub3xHAmQAAmQAAmMIoE7EhHBYNwJlI0n7uHVie6BZmglwglcvWC7w5ihlQjHlqigPhQMqz4Tyc4rEUE/gt+V3SnoVRn9FN/8DAXREULEbO8dd2IW9jFoV/B7ZyEQQ0QIUSBtjigQl4Khk51KLIRsCYiMjiJCPCHOihWfNJbr+jFyC9uzahXI/wK4PkQExGpHDgnxxF4X3V7XsZo3d4GKCDB7iAhc72Mxm8YzsWWo/F/ERksIIbcIXAmkfDKNZ2+bqqbDbuFgWdjiPTGPE9SL7mUQP2nuKOXUE5hFwe0almfHZDG3+2K2fkSECKInn+OdLgj/bOGwMoFMab/jy+7C9sXzX4jIXoxU7UzaqF1QaXCz697L9+yLLcwnc3j9qdN/6Sp1anKt7ttWWN4bRv2HfVXDcj6F/Jqz05MUtL1S1zqNyfMkQAIkQAIkMFwE+hIRMgg2026SUU/SncDWbacDc/3UWQfs/jQgVyQ4QapOnxGfoSffgTbf/k70qVcq9Dje1rBuX4agUAGttuEXqP5OvETPszXkqyGMVHAf8POXv8JvxTsx3DECvwseoT68oNy1Mcrfrqs3QZ6eD1qEBH3x8QywdO1w/dA1Ed7L5lx2Thv3uzvniqs7p65YCDLx29pZRIiiXLFNq7e7kvjn1nozhURyGtu+F133JyJEekxj/Ync4lMxGMP8et0IiPsQEaI4+7yKJbF1rMMmU3iJnXMthNR/GtaHNSd3X3Ebny1524d2FCoR9lztoSi3szV2r7rc940/vrCJk/NADUgfIkIUiJ+8Utumat/GF9bQcHfEivgPMco+8VS/h/+ip95tnK1szbeKX+5hSWw9q+/L7BSWdh2xFmGeONXefy63ghXXeOI0fG/Mlve9HbkoIjrQ5GkSIAESIIFRJNCXiNBBaZxPGVhGBc1uQGkE+zzX+23QXwGjbiLi/v4RihevWdHvEvgSIyJfbufvULyQLfwCPH+bfr/Jvv3apd+uQtfdVd9x/O/Zxo5w0nh5Xsj4W51w7g13G+BbXczGJEACJEACJDASBGKLiB9++AE3f/nr7YPcQL7+b7+NWCn4CgLjOIKLbWx5j4l7jX9IgARIgARIgARIgAQeLoHYIuLHH3/C9b//x+1FhBAIZqoMVyX6Y/iVCC1xj4l7jX9IgARIgARIgARIgAQeLoHYIuLm5i9oXYbfYsyn50zHust7QNxj4l7jHxIgARIgARIgARIggYdLILaIEC78uf1v+PGnn/gk/StZFbhLcRCnL3FviXuMf0iABEiABEiABEiABB42gVuJCOGKCPLE02KRdtJXjQQDcIow4x4Q95C4l8Q9RQHxsP+zoCr5N3wAACAASURBVHUkQAIkQAIkQAIkoAncWkSIC0W6ichbFwWwYicd/iWDfu8BcQ+Je4kpTPqfJD9JgARIgARIgARI4OET6EtEPHy3aCEJkAAJkAAJkAAJkAAJkMCgCFBEDIos+yUBEiABEiABEiABEiCBESVAETGiE0u3SIAESIAESIAESIAESGBQBCgiBkWW/ZIACZAACZAACZAACZDAiBKgiBjRiaVbJEACJEACJEACJEACJDAoAhQRgyLLfkmABEiABEiABEiABEhgRAlQRIzoxNItEiABEiABEiABEiABEhgUAYqIQZFlvyRAAiRAAiRAAiRAAiQwogQoIkZ0YukWCZAACZAACZAACZAACQyKAEXEoMiyXxIgARIgARIgARIgARIYUQIUESM6sXSLBEiABEiABEiABEiABAZFgCJiUGTZLwmQAAmQAAmQAAmQAAmMKAGKiBGdWLpFAiRAAiRAAiRAAiRAAoMiQBExKLLslwRIgARIgARIgARIgARGlABFxIhOLN0iARIgARIgARIgARIggUERoIgYFFn2SwIkQAIkQAIkQAIkQAIjSoAiYkQnlm6RAAmQAAmQAAmQAAmQwKAIUEQMiiz7JQESIAESIAESIAESIIERJUARMaITS7dIgARIgARIgARIgARIYFAEKCIGRZb9kgAJkAAJkAAJkAAJkMCIEqCIGNGJpVskQAIkQAIkQAIkQAIkMCgCFBGDIst+SYAESIAESIAESIAESGBECVBEjOjE0i0SIAESIAESIAESIAESGBQBiohBkWW/JEACJEACJEACJEACJDCiBCgiRnRi6RYJkAAJkAAJkAAJkAAJDIoARcSgyLJfEiABEiABEiABEiABEhhRAhQRIzqxdIsESIAESIAESIAESIAEBkVgKEWEfXWEnVdlLC5MoViuYLvWhDUoQkPe78mrKRSW9tEecj9G1/wWDtYr2D7mHTy6c0zPSIAESIAESGD0CAyZiLDRfDOHTDKNx/9YwsZ6BRvlOTzOppD5Zg0nN/c5QU0crO+jdZ9D9jFWYyWFxEJ1pESEdbw1QkH3EVaTKczvUub1cXvzEhIgARIgARIggb8TgaESEfbHCvLJNJ7tBkL3yyqeZVOYXDmCfV8gL6uYT5bRuK/x+hxnFEVEo8Kgu8/bgZeRAAmQAAmQAAmQwJ0QGCIRYeFgMYXEzFbk0//WmykkkiUcOirCtixYcmXCQuu4jsPzQLrIdRONeh2H9VO0olYwPttonYnf6zg8bsL67PGWfddKcrwDMY4VkC52Cyey7yM0rwO/ed34jmzXnjpOrgLX2N4Y9tWptOnkMtDG6c06P1I2n7WkoIonImy0HV8b522fEJO+Bv2DDcvl67nhG9vg5bWw4Wvj/SCPxFh28DrDd3wW455iez6F+TenyoYABl//wb4C48mvmrueYzmG5TEwxzeuj7a1y7yb/bbFHB6h7dguGQf8ADrPiTbDu2fEfabP8pMESIAESIAESIAEBk/gXkTEp09/wM+mf45EMiU/xffb/1FpH5m1oxiXtrGzkEKisontb9Jy3MSKvs7GyasnGE+OIV98jsWFnDwufmesblzuoTiRwnj+KZbWSyjmx5DIzmHnUgzdxsHSFAo50e8Y8jNTKMxs4sSxqvX+JQrZNB5/8xyLxSk8zqZRWOu2QmKjsTaFTPYRZhfLWF6clulZeWNVpb07h0TyJVbXpjCem0Kh8AiZZArjxT1DUNlorOSQEKleBWFTDo+/WcNGqUc60+U+lgppZHLTWFx8Kv3KFCpoOMLKPi4jn8xh9aMX5bbeTCMxWXbb4OYUrxfGkJjIobj4HPOC18RTvJO8HDA3R1gtpGWbwswU8hMpmOMAan5Xj/3TK33X6VgfN6Vf48kUMoLDzBSW3jtpQHFs8HcN5ZvXVz7/FO/elpFIzmHnSjX2je9eH7a157wfq343qiXkkyljDHWv+tKZesyJMKO1O+e7Z8ajVuhce3lAAiRAAiRAAiRAAndL4F5EhBYQQkRoIXFrN65E+lDcNBZHRCSnsREoWBWB42RyDttGgGt/EOee4p18mmvjcDmNTLnmPY1GE9uzKWRcIQKowD6QziRtnMBy3Vj1kGlPE9g46+DxxRZmk9PYvvB+t78vIRMMZJMTWKp5efNWXdichg667bq4JofVD8bY55uYFcx1EO4N4RwpTpOVulGY3pICbHL91G19splDIq9EgysqjrWoEOJlAomFLbTcJ/82GpUJJIp7Tr9iFSmNzIuq0aaFnRdpeOOEA3NhQDiIV+18QTfi2OC6ow7sOpazKZhiDULo5M0AP2p8cXnA1jjzLkVECpOLe2hpdNKSoIiIMSd2DUtJ/z1l114ika24YjbgLb+SAAmQAAmQAAmQwJ0SuBcRocWD+XlrL/oRET4hoEZsrKSRCJ0/xcZkCs++84L0oH3BtKAoESHPhdKtVBpWvBUUZ1THVy0QosbSgawOpk/W0hGpXm28e9FFRMhxpnwCRlhgvX8eCEhVwJ958RKLkynMvmkaeI6wmk1h6XtfZAycrUmx9k4gtfaxaAgefbHYZevwo0q70v5on3WbeCIihg26Q/35seITavq0Yn27lYhY8y5FRJi1WNkSq2Z6HhFnTqSISOPZ26YhdLUH/CQBEiABEiABEiCBwRO4FxFxJysRqGM5mULBF8B2AqQCMy+FSbdzzk/kZCqMSIfRf8UOT24gZ53i3YpK7UlkH8k2Iv3GfKIfFdhLoeG01/2KT3mtsYqhrdGf7fqmk1YlUqi8dCUdUEeNpYNubbMoNk5U6rpL9zMoftwfxIEMbHX6k8eiINKRgkXjl1tyJSgxH6hJcQSPtNvgqVKunGBcrsZ4gbnPBvdL4Om+c1767ltJiViJiGODO45zUBc1LYGVJPGTk3Z0m3SmWPMe6NczJyAiYs6JSp9KQdyfIg1ObnPsrgR5vfOIBEiABEiABEiABAZB4F5ExN3URDgCYHHfSL3xkIhtPzfWq842rz1ExHJNFeXKomhRtOz8lQ/TWzJ1Kb9ccwtfxSjBYDwqsJdt5rfQ1P2Zn1HF2wBkGlJ2DttnRhqSExTfSkSIrVxf7IW2cg3a7RHTAfMTbH8yGLg2+1cWZB3ExBjGkzl/apZj63Itqg+nQFm2GbyI6GqDz3Hte4SI+HD7mohY834rERFvTkSheeushp1XJTzLiXSx8PwH3eZ3EiABEiABEiABErgLAvciIu7CUNGHCtx1gbPZq8rjT8zqp+SdRARwsjkBr53uw5Y7OMldkQIBvGph47DceyVCpQF5O0Tp3q1PEbtDOT9GBvkXWygkU269Q5RgCa5EyN2pssGguIntGb/d2ib56aQZLdf9ggHXYvcg7wV+Xh1EGydrXn2E6kulgs1WjcJ08cNNCw29A5FTf1DcN4SSyHISwq965IhCtcIQTIuS89VrJQIxbPA5DkAy9tcViCYn6xNG0bNzzwVT1CQ3b35izXtcERFnTq6bvvmRrsVa7QlC4HcSIAESIAESIAES6I/AUIkIQOXmJ/IvsX3cUisI7VPslMSuRDmsusW+nUUErvbwLJvGM7FFqGRmo10TO+Y4xc1OgDhvBMXtWhmzE2lfOhPkE+un2DG3Y7VVYa5cxXBSS6yzLTleKFB35ksGyZNlHOr4Wmxh+vIRxA5Et1mJULn0Kcyu66DcRvt9CfOFnN9u331iO6KghANdDnJ9iu0XaWSW6yrf/qaOZV8dhFMfYawItb8TOwXNyRUNhbSFg+WcT6yp4mxznLosYvbEh1oBSixsoumwsC/2sLowFbC/hZ35FCbX6r7tYOPY4HPdqUXIvBArR+oXUaw+nxf3krdqogrWJ7xdoD5baKw/R2HGmx/Emfe4IgIx5uR6D8XkBBaNHcWs78uYzL7Egb6P/M7yGwmQAAmQAAmQAAncKYEhExEAPrfwrjwtg2xdqJ3JzeH1RzN66iIiRArReVVua9rpejffXO4mNYb5V6doim1WzSfi9hE2ZkXtgNjNx1gBuK5jQ2x36uxElZiYxtJ+4Cm9OYV6a1KnfabwEgeXdfkW41uJCPFk/+Mm5kXthuwrjcLSPlpC7Jh2m2PL4zYa62LLW33dGGbLe84uSrqgumpsJQu4Qsx96Z+N5q7Y2lb3Id4ovokTc0oQHmd+3dwVCsB1Dasu0xTGFzZxUgvb395/LrfBFX7qmhDxXoXeNgScD8zVeHELTTGeISJkv1VvvERWbCtbl8XQen5kr4G+QvMeW0SI3sKsvDlRPoi5FilM3n32BBsftBIM+MmvJEACJEACJEACJHDHBIZPRBgA5Eu6OtQaGM06H96IPP5AKo/bWr1QrdOvbrNOBx1eUtapOYQtX+KL0XH0y8uMBpGHjr9fWJzbe+wYXLvOS6TxvpO9bfA1h499x2A/Jp/bznvAFP/XGGN+ISv/ePxGAiRAAiRAAiRAAvEIDLWIiOciW5HALQh0FBG36INNSYAESIAESIAESGDECVBEjPgE071bErjYx8b6Fhq+VKxb9sHmJEACJEACJEACJDDiBCgiRnyC6R4JkAAJkAAJkAAJkAAJ3DUBioi7Jsr+SIAESIAESIAESIAESGDECVBEjPgE0z0SIAESIAESIAESIAESuGsCFBF3TZT9kQAJkAAJkAAJkAAJkMCIE6CIGPEJpnskQAIkQAIkQAIkQAIkcNcEKCLumij7IwESIAESIAESIAESIIERJ0ARMeITTPdIgARIgARIgARIgARI4K4JUETcNVH2RwIkQAIkQAIkQAIkQAIjToAiYsQnmO6RAAmQAAmQAAmQAAmQwF0ToIi4a6LsjwRIgARIgARIgARIgARGnABFxIhPMN0jARIgARIgARIgARIggbsmQBFx10TZHwmQAAmQAAmQAAmQAAmMOAGKiBGfYLpHAiRAAiRAAiRAAiRAAndNgCLiromyPxIgARIgARIgARIgARIYcQIUESM+wXSPBEiABEiABEiABEiABO6awFCKCPvqCDuvylhcmEKxXMF2rQnLR6aNg6UpFF4d+c4O5st9jjUYD9grCZAACZAACZAACZAACdyGwJCJCBvNN3PIJNN4/I8lbKxXsFGew+NsCplv1nByo11vY2chhcTK/YiI+xtL+/d1fDbfV3Bw8XX4Si9JgARIgARIgARIYJgIDJWIsD9WkE+m8Wy35Wd8WcWzbAqTK0ew5S8UEX5Aw/ithZ35FFaPh9F22kwCJEACJEACJEACo01giESEhYPFFBIzWwhICDlDrTdTSCRLOJQqwhQRNqzzIxzWT9FyVyoCk3rdRKNe79rGNtq0lVJxOjHHMvq1LVhWG5avrfE74NhVR+PcSca6Edd4F9iWFb7+s+1r4/Zo2BfyU15jKYHVPsVh/QjSh8B4bl9me/ekcfDZRutM8Krj8KzlCDcA+rrPRlvn0PRFHsu5sNGW/QTmRrKrYTmZwnJNMLFgm32a4x83YQV+C7UXNkhfHQZh83iGBEiABEiABEiABEjgFgTuRUR8+vQH/Gz650gkU/JTfL/9nyOsJlPIrMVJUXIC+1IZq4UxPC5MoZBLI5EcQ/E7U4LYOHn1BOPJMeSLz7G4kJPHwTaNtSlkRJuZKRTyY0hkp7B6rIP9CBEhV0bSePbWHMv02EZjJYeESMsSts3kkC/uYaeSQmKhirZsqvqd31Xf3KuPy0gky2i4J2L4IK+Zw0a1hHwyhURyDjtXAM7WMKmP3f6AVnUaidlosYabI6zmUxjPP8XSegnPBNd8GQ0pCk6xMZlCyOaLLcwmp7EtU5N6z037/UsUCo+QSYpxBJ8pvP7oGHi5h+KEN35Rzsccdi61Ay3svEgj82LP4SgERA1L2RTmO86HvpafJEACJEACJEACJEACcQjci4jQAkKICC0k4hjna3NVxXwyIkD1NdJfnEB1soSDa31OB+56tQKwj8syiN52A1DA/iDOPcU75zrr/XNksmaQCrR255CZXMOJ7DogIq5rWM6nMbt56j2h1yY4n3a9hEwyZwgRZYsM8G8pIuL4ACkiUphc3ENLax9piwr6Z6um2OkgBBzb5YpPcc8oZG/i9UwKz75TYudkcyIkQE7WJ0LiKOGbGwuHlQkksoY4cubbn85k43A5jUy5ZrBtYns2hYxZ/3K9j8WsTnvToqIauYIVmBp+JQESIAESIAESIAESiEHgXkSEFg/mZwzb/E36ERFmYCl6c57Iy6fwABoraSR8AalopIJoFRSrFCpfgCqa2C2c6JQgGCLCeUqfd2sz/C7obydraSOo1medfm4pInr7oP2eclYC9HjqU646uIJIr054IsrfGpAiIl/GoSvOAi3kqsMENs70ecWzuK/3zzJ46SbiMzA3iBQR5gXecWPFXMFR54W4yidzWCzNIZEt4bBTKpvXDY9IgARIgARIgARIgARiErgXEXEnKxGoyxz5wptmDNfiBKpOm4mcTJcRKTP6r9jtSaXkqOLeUHqOzwKnH5E6lVcrLZOVuvGk3NdYKBAcLkfvHOUPhlW/obFlsK2f2MfxISJAN0263kMxqYN+50n/chf7b07xemFMrijJlKZXVTSuzOUNC++KKUyun8pR5KqLCOLdJo7NPQReRxFhneLdylOVnpZ9JOcsPxEWEYrzIySSj7Bcdwc3PecxCZAACZAACZAACZBAnwTuRUTcTU2EE3wu7hupNJ7X1vEWNtarzjavcQJVp81yTRbuimJc318Zd6o2oUDeGxbQKxHJFMQKhHW2Jp+Ar37sHLhKsVCp+3oRXxq3romI40MPESFFTRoZIRzsGpZcQREyz3dCFprvb2F5cRrjIjXL8NcTDjYOy56gUB3EmRsgWkS0ZOpSfrmmCsMdi/ziyzkp6yDSGJ9II9PhnvE5xC8kQAIkQAIkQAIkQAKxCdyLiIhtTY+G7d05VRRs1DCoS1rqvRBuMXC8QDUqf188wW4d13Ein66rJ/MJXw2A2FbpCNvrW2jIDB1nrJe6TsDGyVoOibyumQg7JVOCzBQi2USl/QQLq4MrL6JGwyys7u1DLxGhU5hK2Hn7FImQXab9NtofNRvvvBQ/vpUF5cvS26qxyqHbx5ubSBERmeKkhIrHTYxj1EFc7uGZWx+hbeAnCZAACZAACZAACZDAlxAYKhGhg8NE/iW2j1tq5aB9ip2S2OnILFSOG6g6AeabU2d1w0a7JnYw0jsJqQBb5NYv15xdkj5bOBQ7K3UTLDd1LE+mMNsp9UoGw2k80+PKPp8gL9Kh3JoIR8CIAmS9QdP1ETYWp1Awd2e6iuFDsN4gdMc0sT2jUrH8RdahhpBF0rNrONElDnYT2wsp5F/508zUlrspg5PuK+bcOOlrxV1jC1lrH4uiuN4oBG/Xypid8NeYtN766yB0fYRXp6Ft4ScJkAAJkAAJkAAJkEA/BIZMRIh3EbTwrixSaFTQK4q1M7k5vP6oo1qBIW6gCtjnVSwVxPavqr9wX4D1YQ3zIu/eaTO+sIaGW1gcPZb9vdiByb+rkzlB/j7HUKw2cRAsEL5pYvul2upU+ll4iYMPYpcqXROheuzpQ08R4RRMG7tSmbb6jkP80ygsVdEMFi5fbKGQTMErqNa9RPMKFVbDxsmmN896l6aW2P41q+diDPOvTtEUK1SO+NKCwduCV4yrV4f0VrTaFn6SAAmQAAmQAAmQAAn0Q2D4RIThpffSMuNkv4edXrxm9Ge+MM04/UWHok/9IrXI3H7Ru3z5WucaC9eAGD64bQMHYoUhU4quNwk0db6Kl955tofaiHdQZF/iwNR2oUb9nnDG7vdyXkcCJEACJEACJEACJPBFBIZaRHyR5w/w4o4iYlC2ytqOCjbK4oV7RgpX3+NZaFQr2FgvyZWbjulcfffPC0mABEiABEiABEiABB4CAYqIhzALjg2t9xVsVI8id58aiJn2KXbWRdC/hYPLGCsdPY2wcbIr+qtgu2bUMvS8jg1IgARIgARIgARIgASGiQBFxDDNFm0lARIgARIgARIgARIggQdAgCLiAUwCTSABEiABEiABEiABEiCBYSJAETFMs0VbSYAESIAESIAESIAESOABEKCIeACTQBNIgARIgARIgARIgARIYJgIUEQM02zRVhIgARIgARIgARIgARJ4AAQoIh7AJNAEEiABEiABEiABEiABEhgmAhQRwzRbtJUESIAESIAESIAESIAEHgABiogHMAk0gQRIgARIgARIgARIgASGiQBFxDDNFm0lARIgARIgARIgARIggQdAgCLiAUwCTSABEiABEiABEiABEiCBYSJAETFMs0VbSYAESIAESIAESIAESOABEKCIeACTQBNIgARIgARIgARIgARIYJgIUEQM02zRVhIgARIgARIgARIgARJ4AAQoIh7AJNAEEiABEiABEiABEiABEhgmAhQRwzRbtJUESIAESIAESIAESIAEHgABiogHMAk0gQRIgARIgARIgARIgASGicBQiQjreAsb65XA3y28O27C+jxo7C0crFewfWwNeqCB9d9+/xKFmU2cdB2hjYOlKRReHXVt1deP7X0szUzh9ce+rr77iy72sbG+hcadTKmFRrWCjfetu7eTPZIACZAACZAACZDAAyMwVCKivTuHRHIai4aQWF6cxuNsCol8GY2bW9K9PsJ29QjxYsgjrCZTmN9t33KQATS/ld3e+IpfGQ3vVMRRGzsLKSRWBiAirqqYT6awehwx7N/j1HEZieQcdq5uP3jzfQUHF+Z1A+RmDsNjEiABEiABEiABEngABIZQREQEwVYNS9kUJjdPb4f0QxmJhSoegCy4F7spIm6HuXPrFnbmH5AY6mwofyEBEiABEiABEiCBgRAYDREB5ynwiz2/ILBbOKnXcVg/QvPa9gG0LQvNN0+QmN9C07JgWc7vn21YlgX5rX0qr207P4lrdDOvMxvtMzFGHY3ztrpO/uj0E0qzMvrXnXSxUzfRnx3tdhrY1000pM91nFz5ffaJCN0ulArW5Ym6vqZ+ilacVR+fXwA6rUT42vltVm7ZsM6PJOPDkL2O459ttNx5CKwt2d78Whein6az+hSYC3PuXZtOoedfjiT7qmE5mcJyTfRrwdZzfGPBCnHx7o/Ds5ZxfzieiXtKXqPbdWB7o+/l8Lw6BPhBAiRAAiRAAiRAAvdG4F5ExKdPf8DPpn+ORDIlP8X3fv74gmBfB028nkkhs+al4LRE/n82jcffPMdicQqPs2kU1o6cIO4Ir2emkJ9IIZF9hMLMFApL+0qAOCkuG9US8smUke6igmtfOtPlPpYKaWRy01hcfIpCLo1MoeKkVbWwPZvCbNWfI2/tP0Vics2tS+hup89JAF3sho3G2hQy2UeYXSxDp3nlV7TPgOa3891T5PNT0m/JIP8SB5d6rCgRYePk1ROMJ8eQLz7H4kJOHhe/8/ume5Cfl1U8E2lmEznFNzeFxc1yKJ2pt/8t7LxwGFfKWJwdQyI7hx3XXgCXeyhOpJDJKZ9Eett4cQ/aOu33dnUaGTmnzmqWFDVGOpMz9693KyjktN1pJLLT2DhT4kbWlRQeyX7GHYa6xqOxEkgDuznCaiFtMEgjEcW6VMZqYQyPC1PyHkokx2CytY/LyEv2JWyU52T6njmvPu78QgIkQAIkQAIkQAL3QOBeRIQWEEJEaCHRj28qGCzhQK4cqKfA7fM6tks5f2Apg8MJLNeNJ9KXIh9/Ahtn3sgy6AumM8lAMoXJxT20fA/FgyJCfZ+s1I2aipasJ5hcV2lVUjDMbrnBLGDhXTGFwpumMiKmnZ7F6ijS7ostzCansW3k6dvfl5Axcv4VvxR8AagIdPMpZJbrjsAKiwgRxE4m57BtBO72B3HuKd5dB60T35WAyryooqWf0sPCQTkt59+tiYjhv/DBFF2AjYOSKRhPsZEXPhnz4PhU3Ffzr/2eXT/yF+BHiog0pN2uW0rEJMx5lNeF05n8IsLCwWIaiYUtg4HTV3HPuWcc1pMlHLgcLRxWJpDI6rS9JrZnUtC+SLPON1FIzuHd0OXhuVB5QAIkQAIkQAIkMOQE7kVEaPFgfvbDTQeDZj/yeLaMQyOgku1mzOBdjCaCOjP4BCKDcSkipnzBuLI1ICJkIBluZ71/jkS2olYarvdQNAP7wPe4dgZZRdodbCS+B4Jdxe+J/yk+vBUKVXAdFhGNlTQS5VogFecUG5MpPPvOAK9taO/hWTKFpe99Kgz4WJFP8LWIiOO/FBFi5eEi0Jce62xNCpxgcbR1XsfhuSkiSjgMdhEpIiLsDo4R4KpN8YkIax+LUQyOy1LYKQEQZi37clZElE9KREiR5AoyPSI/SYAESIAESIAESODvQ+BeRMTdrkToJ7QCmI3D5TR8T4nhiAOdpiRSlZy/MnXH2HUoMhj3BXDmpAREhGyXVikoxhiF/BgSSW2jEi565UGuTBgrH3L8GHaaVojjSLuFGKhvOqlGKchUGyftxhe0u7YZvfp8Dga2znedlmT4KtKGfOlduku56hMWK0FRE8//ltxyVqQhybSxyhYOHHEghxPF8VE+aVtCIsn4IVJEGOlNumlQNAS/O+2kP/r+isUgyNrpyDcfgH22iXmReuekNL3ePfLXaWg7+UkCJEACJEACJEAC90TgXkTEQGsiZBpPRJqSWzCt0p5EAaz8axS+RgbjgQDOm4coEfEE258C/ctxvEfe8km6XBVR15tpKXL8GHZ6NqijKLvtegmZ7By2z4wUrkCwq1YiIp7Iy0Bcp8cEA1vn+3JN8dMc9afnqmemHDeN1eD7IAL23Mp/UVhcq+K1rAlIeysgcr60aPNMMI+U3xFtpD2GaJB9hVeXlPgxzgf80GNJf7SIkG3896Vs5zsfZO30FHkPquLyd1WnLiRfwUkUe20MP0mABEiABEiABEhggATuRUTclf3RwaCqM/By+gGVUhQOlq1PXoqLsCkqGEdkACdaq4DPffIu01XSWK4HIrlrsaOT3v1HzqUCJQAABCBJREFULJbUsZydwvb3oibDX0MQ184gvyi7o87hYgsF470Mip8RDDsdn6xPGHUH4cD2ZHMitNojVoFaxx12CrJrWIp4p4YUVIY9cfw305I0h9bbJ97WvBEiUrRrvfde/BZ93+h0r6CICK+uKLuf40DrszgiwmFgikZhl1yNSuq+wqylj+Y9KHeJCq481OXuUHqFSXPhJwmQAAmQAAmQAAncF4EREBEiThcFxEaAbqti4fxyDW0nj9w628KzrD/ol8HopN5NyUFuBnC+WQiICNg4WcshkS/hQJcFXJ9iW+wk5BYpqw5ETUEmm0Zicd8owhYCI56dPjNEgCyC6IDdMtCfLONQB7rWKbZfPsK4EbTLYHpmGvPFqls0bn0SXFKY1cXeIkWsnPKLhqs9ye7Zm1N3a9R2Texe5S/k9uy00VgRwuQ53uli7OtTvC5NoZA1CpJj+K92szL6+awKjzMlzVIVMGdeiK16lQX2hdgZypvr24mICeQLT70ajHYNy77CczGGCuKLu/4tW30rEQBONp2Cf6eew75SfeXdXcJiiAio2hNZFO4Ati+2MJ/M4fUnjziPSIAESIAESIAESOA+CYyEiIAOtNxAGMB1HRsLoj5B7QiVmJjG0r7e9NNBfLWHYk7tGOS+dC62iBB9tNFYF1ufOmMkxzBb3jN243HGkYW5EQW74uc4djrduB9Rdt+c4rXhb6Ygtm2ty7ds6yfWMpgu12AdV2Qwr9iMYXal5hM3tvu7lwJkn1fldraaZyY3h9cftWJxLfMOPrfwbmnK2VJVbPX6BK/PmnL3Km2PbNzTfwsnr9S2pnrs8YU1NNzdjADcNLFjjpWdwtJu0y0Ev52ImMPO+RE2xFaycl7TePxyC00jDU6swpxsTrvzrv0Jiojo+2Pf2K0rjohQW9guufaIbYn9/nnQeUQCJEACJEACJEAC90NgqEREX0iMF431dX2sizq9WC7WxarRXdkZ+cKzKDt622wHMrVkL6L/8Bv3oga4nV8x/I9+2Z8xtHxZXJTRRptuhwEB2XO8bn35fuvN2te805cYjDpdyvMkQAIkQAIkQAIkcJcERl9E3CUt9jXaBAIiYrSdpXckQAIkQAIkQAIk0D8Bioj+2fHKUSNwsY+N9S00umRpjZrL9IcESIAESIAESIAE+iFAEdEPNV5DAiRAAiRAAiRAAiRAAl8xAYqIr3jy6ToJkAAJkAAJkAAJkAAJ9EOAIqIfaryGBEiABEiABEiABEiABL5iAhQRX/Hk03USIAESIAESIAESIAES6IcARUQ/1HgNCZAACZAACZAACZAACXzFBCgivuLJp+skQAIkQAIkQAIkQAIk0A8Bioh+qPEaEiABEiABEiABEiABEviKCVBEfMWTT9dJgARIgARIgARIgARIoB8C/x+x2XPU+SKK2gAAAABJRU5ErkJggg==)"
      ],
      "metadata": {
        "id": "VOcbs_O88JMC"
      }
    },
    {
      "cell_type": "code",
      "source": [
        "%pip install --upgrade --quiet  langchain langchain-community langchain-openai"
      ],
      "metadata": {
        "colab": {
          "base_uri": "https://localhost:8080/"
        },
        "id": "IoRgqzXD7sn8",
        "outputId": "9265231a-6a07-4212-da42-153b892f243b"
      },
      "execution_count": 11,
      "outputs": [
        {
          "output_type": "stream",
          "name": "stdout",
          "text": [
            "\u001b[?25l     \u001b[90m━━━━━━━━━━━━━━━━━━━━━━━━━━━━━━━━━━━━━━━━\u001b[0m \u001b[32m0.0/1.1 MB\u001b[0m \u001b[31m?\u001b[0m eta \u001b[36m-:--:--\u001b[0m\r\u001b[2K     \u001b[91m━━━━━━━━━━━━━━\u001b[0m\u001b[91m╸\u001b[0m\u001b[90m━━━━━━━━━━━━━━━━━━━━━━━━━\u001b[0m \u001b[32m0.4/1.1 MB\u001b[0m \u001b[31m11.6 MB/s\u001b[0m eta \u001b[36m0:00:01\u001b[0m\r\u001b[2K     \u001b[91m━━━━━━━━━━━━━━━━━━━━━━━━━━━━━━━━━━━━━━━\u001b[0m\u001b[91m╸\u001b[0m \u001b[32m1.1/1.1 MB\u001b[0m \u001b[31m16.4 MB/s\u001b[0m eta \u001b[36m0:00:01\u001b[0m\r\u001b[2K     \u001b[90m━━━━━━━━━━━━━━━━━━━━━━━━━━━━━━━━━━━━━━━━\u001b[0m \u001b[32m1.1/1.1 MB\u001b[0m \u001b[31m12.0 MB/s\u001b[0m eta \u001b[36m0:00:00\u001b[0m\n",
            "\u001b[?25h"
          ]
        }
      ]
    },
    {
      "cell_type": "code",
      "source": [
        "import getpass\n",
        "import os\n",
        "\n",
        "os.environ[\"OPENAI_API_KEY\"] = 'OPENAI_API_KEY'\n",
        "\n",
        "# Uncomment the below to use LangSmith. Not required.\n",
        "# os.environ[\"LANGCHAIN_API_KEY\"] = getpass.getpass()\n",
        "# os.environ[\"LANGCHAIN_TRACING_V2\"] = \"true\""
      ],
      "metadata": {
        "id": "Yil_4e5WQGlJ"
      },
      "execution_count": 12,
      "outputs": []
    },
    {
      "cell_type": "code",
      "source": [
        "from langchain_community.utilities import SQLDatabase\n",
        "\n",
        "db = SQLDatabase.from_uri(\"sqlite:///income.sqlite\")\n",
        "#content/income.sqlite\n",
        "print(db.dialect)\n",
        "print(db.get_usable_table_names())\n",
        "db.run(\"SELECT * FROM income_details;\")"
      ],
      "metadata": {
        "colab": {
          "base_uri": "https://localhost:8080/",
          "height": 128
        },
        "id": "cywwToeV77ab",
        "outputId": "a13bb84a-af5f-4f57-c95d-15f3493be009"
      },
      "execution_count": 13,
      "outputs": [
        {
          "output_type": "stream",
          "name": "stdout",
          "text": [
            "sqlite\n",
            "['income_details']\n"
          ]
        },
        {
          "output_type": "execute_result",
          "data": {
            "text/plain": [
              "\"[('Rob', 27, 70000), ('Michael', 29, 90000), ('Mohan', 29, 61000), ('Ismail', 28, 60000), ('Kory', 42, 150000), ('Gautam', 39, 155000), ('David', 41, 160000), ('Andrea', 38, 162000), ('Brad', 36, 156000), ('Angelina', 35, 130000), ('Donald', 37, 137000), ('Tom', 26, 45000), ('Arnold', 27, 48000), ('Jared', 28, 51000), ('Stark', 29, 49500), ('Ranbir', 32, 53000), ('Dipika', 40, 65000), ('Priyanka', 41, 63000), ('Nick', 43, 64000), ('Alia', 39, 80000), ('Sid', 41, 82000), ('Abdul', 39, 58000)]\""
            ],
            "application/vnd.google.colaboratory.intrinsic+json": {
              "type": "string"
            }
          },
          "metadata": {},
          "execution_count": 13
        }
      ]
    },
    {
      "cell_type": "code",
      "source": [
        "from langchain_community.agent_toolkits import create_sql_agent\n",
        "from langchain_openai import ChatOpenAI\n",
        "\n",
        "llm = ChatOpenAI(model=\"gpt-3.5-turbo\", temperature=0)\n",
        "agent_executor = create_sql_agent(llm, db=db, agent_type=\"openai-tools\", verbose=True)"
      ],
      "metadata": {
        "id": "T1Ru87-5887u"
      },
      "execution_count": 14,
      "outputs": []
    },
    {
      "cell_type": "code",
      "source": [
        "agent_executor.invoke(\n",
        "    {\n",
        "        \"input\": \"List the youngest and the oldest person, also list folks who have the least and highest salary??\"\n",
        "    }\n",
        ")"
      ],
      "metadata": {
        "colab": {
          "base_uri": "https://localhost:8080/"
        },
        "id": "fHxYDlpC7kkm",
        "outputId": "9886aea9-5c52-46a5-e7e5-e3565bf0db24"
      },
      "execution_count": 23,
      "outputs": [
        {
          "output_type": "stream",
          "name": "stdout",
          "text": [
            "\n",
            "\n",
            "\u001b[1m> Entering new SQL Agent Executor chain...\u001b[0m\n",
            "\u001b[32;1m\u001b[1;3m\n",
            "Invoking: `sql_db_list_tables` with `{}`\n",
            "\n",
            "\n",
            "\u001b[0m\u001b[38;5;200m\u001b[1;3mincome_details\u001b[0m\u001b[32;1m\u001b[1;3m\n",
            "Invoking: `sql_db_schema` with `{'table_names': 'income_details'}`\n",
            "\n",
            "\n",
            "\u001b[0m\u001b[33;1m\u001b[1;3m\n",
            "CREATE TABLE income_details (\n",
            "\t\"Name\" TEXT, \n",
            "\t\"Age\" INTEGER, \n",
            "\t\"Income($)\" INTEGER\n",
            ")\n",
            "\n",
            "/*\n",
            "3 rows from income_details table:\n",
            "Name\tAge\tIncome($)\n",
            "Rob\t27\t70000\n",
            "Michael\t29\t90000\n",
            "Mohan\t29\t61000\n",
            "*/\u001b[0m\u001b[32;1m\u001b[1;3m\n",
            "Invoking: `sql_db_query` with `{'query': 'SELECT Name, Age FROM income_details ORDER BY Age ASC LIMIT 1'}`\n",
            "\n",
            "\n",
            "\u001b[0m\u001b[36;1m\u001b[1;3m[('Tom', 26)]\u001b[0m\u001b[32;1m\u001b[1;3m\n",
            "Invoking: `sql_db_query` with `{'query': 'SELECT Name, Age FROM income_details ORDER BY Age DESC LIMIT 1'}`\n",
            "\n",
            "\n",
            "\u001b[0m\u001b[36;1m\u001b[1;3m[('Nick', 43)]\u001b[0m\u001b[32;1m\u001b[1;3m\n",
            "Invoking: `sql_db_query` with `{'query': 'SELECT Name, Age, Income($) FROM income_details ORDER BY Income($) ASC LIMIT 1'}`\n",
            "\n",
            "\n",
            "\u001b[0m\u001b[36;1m\u001b[1;3mError: (sqlite3.OperationalError) unrecognized token: \"$\"\n",
            "[SQL: SELECT Name, Age, Income($) FROM income_details ORDER BY Income($) ASC LIMIT 1]\n",
            "(Background on this error at: https://sqlalche.me/e/20/e3q8)\u001b[0m\u001b[32;1m\u001b[1;3m\n",
            "Invoking: `sql_db_query` with `{'query': 'SELECT Name, Age, \"Income($)\" FROM income_details ORDER BY \"Income($)\" ASC LIMIT 1'}`\n",
            "\n",
            "\n",
            "\u001b[0m\u001b[36;1m\u001b[1;3m[('Tom', 26, 45000)]\u001b[0m\u001b[32;1m\u001b[1;3m\n",
            "Invoking: `sql_db_query` with `{'query': 'SELECT Name, Age, \"Income($)\" FROM income_details ORDER BY \"Income($)\" DESC LIMIT 1'}`\n",
            "\n",
            "\n",
            "\u001b[0m\u001b[36;1m\u001b[1;3m[('Andrea', 38, 162000)]\u001b[0m\u001b[32;1m\u001b[1;3mThe youngest person is Tom, aged 26, and the oldest person is Nick, aged 43.\n",
            "\n",
            "The person with the least salary is Tom, with an income of $45,000, and the person with the highest salary is Andrea, with an income of $162,000.\u001b[0m\n",
            "\n",
            "\u001b[1m> Finished chain.\u001b[0m\n"
          ]
        },
        {
          "output_type": "execute_result",
          "data": {
            "text/plain": [
              "{'input': 'List the youngest and the oldest person, also list folks who have the least and highest salary??',\n",
              " 'output': 'The youngest person is Tom, aged 26, and the oldest person is Nick, aged 43.\\n\\nThe person with the least salary is Tom, with an income of $45,000, and the person with the highest salary is Andrea, with an income of $162,000.'}"
            ]
          },
          "metadata": {},
          "execution_count": 23
        }
      ]
    },
    {
      "cell_type": "code",
      "source": [
        "agent_executor.invoke(\n",
        "    \"Name people with age more than 27 and salary more than $35,000\"\n",
        ")"
      ],
      "metadata": {
        "colab": {
          "base_uri": "https://localhost:8080/"
        },
        "id": "CrQLXtkJ9DzE",
        "outputId": "720f6d20-d09a-4aa0-cf69-350433e1c166",
        "collapsed": true
      },
      "execution_count": 15,
      "outputs": [
        {
          "output_type": "stream",
          "name": "stdout",
          "text": [
            "\n",
            "\n",
            "\u001b[1m> Entering new SQL Agent Executor chain...\u001b[0m\n",
            "\u001b[32;1m\u001b[1;3m\n",
            "Invoking: `sql_db_list_tables` with `{}`\n",
            "\n",
            "\n",
            "\u001b[0m\u001b[38;5;200m\u001b[1;3mincome_details\u001b[0m\u001b[32;1m\u001b[1;3m\n",
            "Invoking: `sql_db_schema` with `{'table_names': 'income_details'}`\n",
            "\n",
            "\n",
            "\u001b[0m\u001b[33;1m\u001b[1;3m\n",
            "CREATE TABLE income_details (\n",
            "\t\"Name\" TEXT, \n",
            "\t\"Age\" INTEGER, \n",
            "\t\"Income($)\" INTEGER\n",
            ")\n",
            "\n",
            "/*\n",
            "3 rows from income_details table:\n",
            "Name\tAge\tIncome($)\n",
            "Rob\t27\t70000\n",
            "Michael\t29\t90000\n",
            "Mohan\t29\t61000\n",
            "*/\u001b[0m\u001b[32;1m\u001b[1;3m\n",
            "Invoking: `sql_db_query` with `{'query': 'SELECT Name, Age, Income($) FROM income_details WHERE Age > 27 AND Income($) > 35000'}`\n",
            "\n",
            "\n",
            "\u001b[0m\u001b[36;1m\u001b[1;3mError: (sqlite3.OperationalError) unrecognized token: \"$\"\n",
            "[SQL: SELECT Name, Age, Income($) FROM income_details WHERE Age > 27 AND Income($) > 35000]\n",
            "(Background on this error at: https://sqlalche.me/e/20/e3q8)\u001b[0m\u001b[32;1m\u001b[1;3m\n",
            "Invoking: `sql_db_query` with `{'query': 'SELECT Name, Age, \"Income($)\" FROM income_details WHERE Age > 27 AND \"Income($)\" > 35000'}`\n",
            "responded: I made a mistake in the query by using a column name with special characters. Let me correct it and try again.\n",
            "\n",
            "\u001b[0m\u001b[36;1m\u001b[1;3m[('Michael', 29, 90000), ('Mohan', 29, 61000), ('Ismail', 28, 60000), ('Kory', 42, 150000), ('Gautam', 39, 155000), ('David', 41, 160000), ('Andrea', 38, 162000), ('Brad', 36, 156000), ('Angelina', 35, 130000), ('Donald', 37, 137000), ('Jared', 28, 51000), ('Stark', 29, 49500), ('Ranbir', 32, 53000), ('Dipika', 40, 65000), ('Priyanka', 41, 63000), ('Nick', 43, 64000), ('Alia', 39, 80000), ('Sid', 41, 82000), ('Abdul', 39, 58000)]\u001b[0m\u001b[32;1m\u001b[1;3mThe people with age more than 27 and salary more than $35,000 are:\n",
            "\n",
            "1. Michael, Age: 29, Income: $90,000\n",
            "2. Mohan, Age: 29, Income: $61,000\n",
            "3. Ismail, Age: 28, Income: $60,000\n",
            "4. Kory, Age: 42, Income: $150,000\n",
            "5. Gautam, Age: 39, Income: $155,000\n",
            "6. David, Age: 41, Income: $160,000\n",
            "7. Andrea, Age: 38, Income: $162,000\n",
            "8. Brad, Age: 36, Income: $156,000\n",
            "9. Angelina, Age: 35, Income: $130,000\n",
            "10. Donald, Age: 37, Income: $137,000\n",
            "\n",
            "(Note: Only the first 10 results are shown)\u001b[0m\n",
            "\n",
            "\u001b[1m> Finished chain.\u001b[0m\n"
          ]
        },
        {
          "output_type": "execute_result",
          "data": {
            "text/plain": [
              "{'input': 'Name people with age more than 27 and salary more than $35,000',\n",
              " 'output': 'The people with age more than 27 and salary more than $35,000 are:\\n\\n1. Michael, Age: 29, Income: $90,000\\n2. Mohan, Age: 29, Income: $61,000\\n3. Ismail, Age: 28, Income: $60,000\\n4. Kory, Age: 42, Income: $150,000\\n5. Gautam, Age: 39, Income: $155,000\\n6. David, Age: 41, Income: $160,000\\n7. Andrea, Age: 38, Income: $162,000\\n8. Brad, Age: 36, Income: $156,000\\n9. Angelina, Age: 35, Income: $130,000\\n10. Donald, Age: 37, Income: $137,000\\n\\n(Note: Only the first 10 results are shown)'}"
            ]
          },
          "metadata": {},
          "execution_count": 15
        }
      ]
    },
    {
      "cell_type": "code",
      "source": [
        "agent_executor.invoke(\n",
        "    \"Can you sum the age of folks who have salary more than $150,000\"\n",
        ")"
      ],
      "metadata": {
        "colab": {
          "base_uri": "https://localhost:8080/"
        },
        "id": "zT2SqSkpLH4f",
        "outputId": "9ced9f76-dc87-4583-b754-8d81a3c1537f",
        "collapsed": true
      },
      "execution_count": 16,
      "outputs": [
        {
          "output_type": "stream",
          "name": "stdout",
          "text": [
            "\n",
            "\n",
            "\u001b[1m> Entering new SQL Agent Executor chain...\u001b[0m\n",
            "\u001b[32;1m\u001b[1;3m\n",
            "Invoking: `sql_db_list_tables` with `{}`\n",
            "\n",
            "\n",
            "\u001b[0m\u001b[38;5;200m\u001b[1;3mincome_details\u001b[0m\u001b[32;1m\u001b[1;3m\n",
            "Invoking: `sql_db_schema` with `{'table_names': 'income_details'}`\n",
            "\n",
            "\n",
            "\u001b[0m\u001b[33;1m\u001b[1;3m\n",
            "CREATE TABLE income_details (\n",
            "\t\"Name\" TEXT, \n",
            "\t\"Age\" INTEGER, \n",
            "\t\"Income($)\" INTEGER\n",
            ")\n",
            "\n",
            "/*\n",
            "3 rows from income_details table:\n",
            "Name\tAge\tIncome($)\n",
            "Rob\t27\t70000\n",
            "Michael\t29\t90000\n",
            "Mohan\t29\t61000\n",
            "*/\u001b[0m\u001b[32;1m\u001b[1;3m\n",
            "Invoking: `sql_db_query` with `{'query': 'SELECT SUM(Age) AS Total_Age FROM income_details WHERE \"Income($)\" > 150000'}`\n",
            "\n",
            "\n",
            "\u001b[0m\u001b[36;1m\u001b[1;3m[(154,)]\u001b[0m\u001b[32;1m\u001b[1;3mThe total age of folks who have a salary more than $150,000 is 154.\u001b[0m\n",
            "\n",
            "\u001b[1m> Finished chain.\u001b[0m\n"
          ]
        },
        {
          "output_type": "execute_result",
          "data": {
            "text/plain": [
              "{'input': 'Can you sum the age of folks who have salary more than $150,000',\n",
              " 'output': 'The total age of folks who have a salary more than $150,000 is 154.'}"
            ]
          },
          "metadata": {},
          "execution_count": 16
        }
      ]
    }
  ]
}