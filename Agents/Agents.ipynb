{
  "nbformat": 4,
  "nbformat_minor": 0,
  "metadata": {
    "colab": {
      "provenance": []
    },
    "kernelspec": {
      "name": "python3",
      "display_name": "Python 3"
    },
    "language_info": {
      "name": "python"
    }
  },
  "cells": [
    {
      "cell_type": "markdown",
      "source": [
        "By themselves, language models can't take actions - they just output text. A big use case for LangChain is creating agents. Agents are systems that use LLMs as reasoning engines to determine which actions to take and the inputs to pass them. After executing actions, the results can be fed back into the LLM to determine whether more actions are needed, or whether it is okay to finish."
      ],
      "metadata": {
        "id": "u25zkllooDMN"
      }
    },
    {
      "cell_type": "code",
      "source": [
        "!pip install langchain -q\n",
        "!pip install openai -q\n",
        "%pip install --upgrade --quiet  langchain langchain-community langchain-openai"
      ],
      "metadata": {
        "id": "TyKQpSYfoHtM"
      },
      "execution_count": null,
      "outputs": []
    },
    {
      "cell_type": "code",
      "source": [
        "%pip install -U langgraph langchain-anthropic tavily-python"
      ],
      "metadata": {
        "id": "EPi4IQsXop70"
      },
      "execution_count": null,
      "outputs": []
    },
    {
      "cell_type": "code",
      "source": [
        "%pip install -U langchain-community tavily-python"
      ],
      "metadata": {
        "id": "1teoRnHAqwv_"
      },
      "execution_count": null,
      "outputs": []
    },
    {
      "cell_type": "code",
      "execution_count": null,
      "metadata": {
        "id": "9l9NmdGnojBB"
      },
      "outputs": [],
      "source": [
        "import os\n",
        "\n",
        "os.environ[\"OPENAI_API_KEY\"] = 'OPENAI API KEY'\n",
        "os.environ[\"LANGCHAIN_TRACING_V2\"] = \"true\"\n",
        "os.environ[\"LANGCHAIN_API_KEY\"] = 'Langchain API KEY'\n",
        "os.environ[\"LANGCHAIN_PROJECT\"] = \"Agents\""
      ]
    },
    {
      "cell_type": "code",
      "source": [
        "os.environ[\"TAVILY_API_KEY\"]= \"TAVILY KEY\""
      ],
      "metadata": {
        "id": "eIBl17SCpzeV"
      },
      "execution_count": null,
      "outputs": []
    },
    {
      "cell_type": "code",
      "source": [
        "from langchain_community.tools.tavily_search import TavilySearchResults\n",
        "search = TavilySearchResults()\n",
        "search.invoke(\"what is the weather in Delhi\")\n",
        "#match = search.invoke({\"query\": \"Can you parser the scorecard of Indian VS Afghanistan cricket match held on 20th June 2024\"})"
      ],
      "metadata": {
        "id": "212caJqUNfrd",
        "colab": {
          "base_uri": "https://localhost:8080/"
        },
        "outputId": "dfe0d921-f54c-44ce-a0da-28a0ca88371c"
      },
      "execution_count": null,
      "outputs": [
        {
          "output_type": "execute_result",
          "data": {
            "text/plain": [
              "[{'url': 'https://www.timeanddate.com/weather/india/new-delhi/ext',\n",
              "  'content': 'New Delhi 14 Day Extended Forecast. Weather Today Weather Hourly 14 Day Forecast Yesterday/Past Weather Climate (Averages) Currently: 93 °F. Passing clouds. (Weather station: New Delhi / Safdarjung, India). See more current weather.'},\n",
              " {'url': 'https://www.accuweather.com/en/in/delhi/202396/weather-forecast/202396',\n",
              "  'content': 'Delhi, Delhi, India Weather Forecast, with current conditions, wind, air quality, and what to expect for the next 3 days.'},\n",
              " {'url': 'https://www.bbc.com/weather/1261481',\n",
              "  'content': 'Get the latest 14-day weather forecast for New Delhi, including warnings, temperature, wind, and precipitation. Stay updated with BBC Weather.'},\n",
              " {'url': 'https://www.accuweather.com/en/in/delhi/202396/current-weather/202396',\n",
              "  'content': 'Current weather in Delhi, Delhi, India. Check current conditions in Delhi, Delhi, India with radar, hourly, and more.'},\n",
              " {'url': 'https://www.accuweather.com/en/in/delhi/202396/weather-today/202396',\n",
              "  'content': \"Everything you need to know about today's weather in Delhi, Delhi, India. High/Low, Precipitation Chances, Sunrise/Sunset, and today's Temperature History.\"}]"
            ]
          },
          "metadata": {},
          "execution_count": 31
        }
      ]
    },
    {
      "cell_type": "markdown",
      "source": [
        "###Retriever"
      ],
      "metadata": {
        "id": "yzAVFvcIOaIl"
      }
    },
    {
      "cell_type": "code",
      "source": [
        "!pip install faiss-gpu"
      ],
      "metadata": {
        "id": "ddNsVStZOoRY"
      },
      "execution_count": null,
      "outputs": []
    },
    {
      "cell_type": "code",
      "source": [
        "from langchain_community.document_loaders import WebBaseLoader\n",
        "from langchain_community.vectorstores import FAISS\n",
        "from langchain_openai import OpenAIEmbeddings\n",
        "from langchain_text_splitters import RecursiveCharacterTextSplitter\n",
        "\n",
        "loader = WebBaseLoader(\"https://news.sap.com/2024/06/unlock-ai-potential-sap-s4hana-cloud-public-edition/#:~:text=As%20announced%20at%20SAP%20Sapphire,more%2C%20helping%20to%20deliver%20richer\")\n",
        "docs = loader.load()\n",
        "  documents = RecursiveCharacterTextSplitter(\n",
        "      chunk_size=1000, chunk_overlap=200\n",
        "  ).split_documents(docs)\n",
        "vector = FAISS.from_documents(documents, OpenAIEmbeddings())\n",
        "retriever = vector.as_retriever()"
      ],
      "metadata": {
        "id": "jSZPIPCyOZlm"
      },
      "execution_count": null,
      "outputs": []
    },
    {
      "cell_type": "code",
      "source": [
        "retriever.invoke(\"What is the article about?\")[0]"
      ],
      "metadata": {
        "colab": {
          "base_uri": "https://localhost:8080/"
        },
        "id": "LUImmjpvPbfi",
        "outputId": "c97c5e37-5af6-4eba-8fa1-541d776172b8"
      },
      "execution_count": null,
      "outputs": [
        {
          "output_type": "execute_result",
          "data": {
            "text/plain": [
              "Document(page_content='by Philipp Herzig \\n\\nJune 5, 2024\\n\\n\\n\\n\\n\\n\\n\\n\\n\\n\\n\\n\\n\\n\\n\\n\\n\\n\\n\\n\\n\\n\\n                        Why SAP                    \\n\\n\\n\\n                        Intelligent Enterprise                    \\n\\n\\n\\n                        Small and Midsize Enterprises                    \\n\\n\\n\\n                        SAP Trust Center                    \\n\\n\\n\\n                        SAP Insights                    \\n\\n\\n\\n                        SAP Community                    \\n\\n\\n\\n                        Developer                    \\n\\n\\n\\n                        Support Portal                    \\n\\n\\n\\n\\n\\n\\n\\n\\n\\n\\n\\n\\n\\n\\n\\n\\n                        Company Information                    \\n\\n\\n\\n                        Worldwide Directory                    \\n\\n\\n\\n                        Investor Relations                    \\n\\n\\n\\n                        Careers                    \\n\\n\\n\\n                        News and Press                    \\n\\n\\n\\n                        Events', metadata={'source': 'https://news.sap.com/2024/06/unlock-ai-potential-sap-s4hana-cloud-public-edition/#:~:text=As%20announced%20at%20SAP%20Sapphire,more%2C%20helping%20to%20deliver%20richer', 'title': 'AI Innovation in SAP S/4HANA Cloud Public Edition | SAP News', 'description': 'We are excited and proud to introduce new AI innovations and use cases for SAP S/4HANA Cloud Public Edition. Read to learn more.', 'language': 'en-US'})"
            ]
          },
          "metadata": {},
          "execution_count": 33
        }
      ]
    },
    {
      "cell_type": "markdown",
      "source": [
        "Now that we have populated our index that we will do doing retrieval over, we can easily turn it into a tool (the format needed for an agent to properly use it)"
      ],
      "metadata": {
        "id": "gl5h7jG5PqyB"
      }
    },
    {
      "cell_type": "code",
      "source": [
        "from langchain.tools.retriever import create_retriever_tool\n",
        "\n",
        "retriever_tool = create_retriever_tool(retriever,\n",
        "                                       \"SAP_search\",\n",
        "                                       \"Search for information about SAP latest AI innovation. For any questions about SAP's latest innovation and partnerships for AI, you must use this tool!\")"
      ],
      "metadata": {
        "id": "1-OZP7LxPrUU"
      },
      "execution_count": null,
      "outputs": []
    },
    {
      "cell_type": "markdown",
      "source": [
        "Now that we have created both, we can create a list of tools that we will use downstream."
      ],
      "metadata": {
        "id": "dFNyDjfmQLfL"
      }
    },
    {
      "cell_type": "code",
      "source": [
        "tools = [search,retriever_tool]"
      ],
      "metadata": {
        "id": "XCC3Gx8dQKK4"
      },
      "execution_count": null,
      "outputs": []
    },
    {
      "cell_type": "markdown",
      "source": [
        "####Create the Agent"
      ],
      "metadata": {
        "id": "wDfZTUClQ96r"
      }
    },
    {
      "cell_type": "code",
      "source": [
        "from langchain_openai import ChatOpenAI\n",
        "llm = ChatOpenAI()"
      ],
      "metadata": {
        "id": "g46GolspRCI5"
      },
      "execution_count": null,
      "outputs": []
    },
    {
      "cell_type": "markdown",
      "source": [
        "Next, we choose the prompt we want to use to guide the agent.\n",
        "\n",
        "If you want to see the contents of this prompt and have access to LangSmith, you can go to:\n",
        "\n",
        "https://smith.langchain.com/hub/hwchase17/openai-functions-agent"
      ],
      "metadata": {
        "id": "CT2gvoD5RikH"
      }
    },
    {
      "cell_type": "code",
      "source": [
        "!!pip install langchainhub"
      ],
      "metadata": {
        "id": "0iqrPzoBR2nr"
      },
      "execution_count": null,
      "outputs": []
    },
    {
      "cell_type": "code",
      "source": [
        "from langchain import hub\n",
        "prompt = hub.pull(\"hwchase17/openai-functions-agent\")\n",
        "prompt"
      ],
      "metadata": {
        "colab": {
          "base_uri": "https://localhost:8080/"
        },
        "id": "8HVFx5VIRliT",
        "outputId": "89c8b5b5-95d0-4ae9-d3e9-8574b6c4df04"
      },
      "execution_count": null,
      "outputs": [
        {
          "output_type": "execute_result",
          "data": {
            "text/plain": [
              "ChatPromptTemplate(input_variables=['agent_scratchpad', 'input'], input_types={'chat_history': typing.List[typing.Union[langchain_core.messages.ai.AIMessage, langchain_core.messages.human.HumanMessage, langchain_core.messages.chat.ChatMessage, langchain_core.messages.system.SystemMessage, langchain_core.messages.function.FunctionMessage, langchain_core.messages.tool.ToolMessage]], 'agent_scratchpad': typing.List[typing.Union[langchain_core.messages.ai.AIMessage, langchain_core.messages.human.HumanMessage, langchain_core.messages.chat.ChatMessage, langchain_core.messages.system.SystemMessage, langchain_core.messages.function.FunctionMessage, langchain_core.messages.tool.ToolMessage]]}, metadata={'lc_hub_owner': 'hwchase17', 'lc_hub_repo': 'openai-functions-agent', 'lc_hub_commit_hash': 'a1655024b06afbd95d17449f21316291e0726f13dcfaf990cc0d18087ad689a5'}, messages=[SystemMessagePromptTemplate(prompt=PromptTemplate(input_variables=[], template='You are a helpful assistant')), MessagesPlaceholder(variable_name='chat_history', optional=True), HumanMessagePromptTemplate(prompt=PromptTemplate(input_variables=['input'], template='{input}')), MessagesPlaceholder(variable_name='agent_scratchpad')])"
            ]
          },
          "metadata": {},
          "execution_count": 37
        }
      ]
    },
    {
      "cell_type": "markdown",
      "source": [
        "Now, we can initialize the agent with the LLM, the prompt, and the tools. The agent is responsible for taking in input and deciding what actions to take. Crucially, the Agent does not execute those actions - that is done by the AgentExecutor (next step). For more information about how to think about these components, see our conceptual guide."
      ],
      "metadata": {
        "id": "rPV4e8tDSKLP"
      }
    },
    {
      "cell_type": "code",
      "source": [
        "from langchain.agents import create_tool_calling_agent\n",
        "\n",
        "agent = create_tool_calling_agent(llm, tools, prompt)"
      ],
      "metadata": {
        "id": "wVT4hicsSKos"
      },
      "execution_count": null,
      "outputs": []
    },
    {
      "cell_type": "code",
      "source": [
        "from langchain.agents import AgentExecutor\n",
        "\n",
        "agent_executor = AgentExecutor(agent=agent, tools=tools, verbose=True)"
      ],
      "metadata": {
        "id": "tudq4SimSXWf"
      },
      "execution_count": null,
      "outputs": []
    },
    {
      "cell_type": "markdown",
      "source": [
        "Finally, we combine the agent (the brains) with the tools inside the AgentExecutor (which will repeatedly call the agent and execute tools)."
      ],
      "metadata": {
        "id": "PuefhDWSXX87"
      }
    },
    {
      "cell_type": "code",
      "source": [
        "from langchain.agents import AgentExecutor\n",
        "\n",
        "agent_executor = AgentExecutor(agent=agent, tools=tools, verbose=True)"
      ],
      "metadata": {
        "id": "NPt8jl7aXYgv"
      },
      "execution_count": null,
      "outputs": []
    },
    {
      "cell_type": "markdown",
      "source": [
        "We can now run the agent on a few queries! Note that for now, these are all stateless queries (it won't remember previous interactions)."
      ],
      "metadata": {
        "id": "_3cOI2A6Xep1"
      }
    },
    {
      "cell_type": "code",
      "source": [
        "agent_executor.invoke({\"input\":\"hi\"})"
      ],
      "metadata": {
        "colab": {
          "base_uri": "https://localhost:8080/"
        },
        "id": "UypsUqglXfFw",
        "outputId": "66779ad7-cdec-4112-a4a7-b96c45fd886c"
      },
      "execution_count": null,
      "outputs": [
        {
          "output_type": "stream",
          "name": "stdout",
          "text": [
            "\n",
            "\n",
            "\u001b[1m> Entering new AgentExecutor chain...\u001b[0m\n",
            "\u001b[32;1m\u001b[1;3mHello! How can I assist you today?\u001b[0m\n",
            "\n",
            "\u001b[1m> Finished chain.\u001b[0m\n"
          ]
        },
        {
          "output_type": "execute_result",
          "data": {
            "text/plain": [
              "{'input': 'hi', 'output': 'Hello! How can I assist you today?'}"
            ]
          },
          "metadata": {},
          "execution_count": 41
        }
      ]
    },
    {
      "cell_type": "code",
      "source": [
        "agent_executor.invoke({\"input\":\"Who won 2024 general elections in India?\"})"
      ],
      "metadata": {
        "colab": {
          "base_uri": "https://localhost:8080/"
        },
        "id": "ZIW3O58YXnBA",
        "outputId": "c8134bb1-b55b-468f-dca9-0ff034791f4a"
      },
      "execution_count": null,
      "outputs": [
        {
          "output_type": "stream",
          "name": "stdout",
          "text": [
            "\n",
            "\n",
            "\u001b[1m> Entering new AgentExecutor chain...\u001b[0m\n",
            "\u001b[32;1m\u001b[1;3m\n",
            "Invoking: `tavily_search_results_json` with `{'query': '2024 general elections winner in India'}`\n",
            "\n",
            "\n",
            "\u001b[0m\u001b[36;1m\u001b[1;3m[{'url': 'https://www.nytimes.com/interactive/2024/06/03/world/asia/results-india-lok-sabha-election.html', 'content': '2024 India General Election: Live Results. By Matthew Bloch , Agnes Chang , Saurabh Datar , Martín González Gómez , Mujib Mashal and Urvashi Uberoy. June 3, 2024. Prime Minister Narendra Modi ...'}, {'url': 'https://www.cnn.com/2024/06/04/india/india-election-modi-victory-declaration-intl-hnk/index.html', 'content': 'Modi declares victory in India election but party faces shock losses and will need coalition ... (BJP) celebrate as they learn early election results on June 04, 2024 in Bengaluru, India.'}, {'url': 'https://www.nytimes.com/2024/06/04/world/asia/modi-india-election.html', 'content': \"2024 India General Election: Live Results See results and maps from India's 2024 Lok Sabha elections. As the results came into view, the country's stock markets plunged.\"}, {'url': 'https://www.bbc.com/news/resources/idt-0385e7a0-3feb-4ab7-ab78-d80ad189e347', 'content': \"Final results. Click/tap on the map to see results in detail. 2024. 2019. + -. Note: In Surat, the BJP's candidate was declared the winner in April after the Congress contestant's nomination was ...\"}, {'url': 'https://www.economist.com/interactive/india-election-results-2024-modi-gandhi', 'content': \"234 won. 353 2019 91. 335 2014 59. A fter a mammoth election, results from India's 543 constituencies are in. Narendra Modi, India's prime minister, claimed victory, after his Bharatiya Janata ...\"}]\u001b[0m\u001b[32;1m\u001b[1;3mIn the 2024 general elections in India, Prime Minister Narendra Modi's party, the Bharatiya Janata Party (BJP), won the elections. Narendra Modi declared victory in the election.\u001b[0m\n",
            "\n",
            "\u001b[1m> Finished chain.\u001b[0m\n"
          ]
        },
        {
          "output_type": "execute_result",
          "data": {
            "text/plain": [
              "{'input': 'Who won 2024 general elections in India?',\n",
              " 'output': \"In the 2024 general elections in India, Prime Minister Narendra Modi's party, the Bharatiya Janata Party (BJP), won the elections. Narendra Modi declared victory in the election.\"}"
            ]
          },
          "metadata": {},
          "execution_count": 42
        }
      ]
    },
    {
      "cell_type": "code",
      "source": [
        "agent_executor.invoke({\"input\":\"What is the latest partnership between SAP and microsoft in AI about?\"})"
      ],
      "metadata": {
        "colab": {
          "base_uri": "https://localhost:8080/"
        },
        "id": "86TmHWXlX3m4",
        "outputId": "2c3534ae-ffc9-46b3-b540-a884fcbc68fc"
      },
      "execution_count": null,
      "outputs": [
        {
          "output_type": "stream",
          "name": "stdout",
          "text": [
            "\n",
            "\n",
            "\u001b[1m> Entering new AgentExecutor chain...\u001b[0m\n",
            "\u001b[32;1m\u001b[1;3m\n",
            "Invoking: `SAP_search` with `{'query': 'latest partnership between SAP and Microsoft in AI'}`\n",
            "\n",
            "\n",
            "\u001b[0m\u001b[33;1m\u001b[1;3mAs announced at SAP Sapphire, SAP and Microsoft will start integrating Joule and Microsoft Copilot for Microsoft 365 later this year, combining enterprise data residing in SAP with contextual knowledge from Microsoft 365, including Microsoft Teams, Microsoft Outlook, Microsoft Word, and more, helping to deliver richer insights for better decision-making.\n",
            "Take the example of a sales manager who needs help removing the block off a sales order for one of their most important customers. They recognize by checking on the Microsoft side that a sales order is blocked. They reach out to one of their team members asking for help through Microsoft Outlook. The team member solves the issue directly in SAP S/4HANA Cloud Public Edition and sends back an updated note with the real-time status of the SAP S/4HANA Cloud Public Edition solution. Finally, the sales order is unblocked, and everyone has worked in the environment they are most used to, efficiently and effectively.\n",
            "\n",
            "Interested customers can experience innovations for SAP S/4HANA Cloud Public Edition firsthand through our Customer Influence program.\n",
            "Access your most relevant business data directly in Microsoft Copilot\n",
            "AI Use Cases to Accelerate Business Processes and Optimize Decisions\n",
            "Reinvent customer service with personalized experiences that can address customer needs quickly.\n",
            "Intelligent recommendations: From sales order completion to customer returns creation, intelligent recommendations in SAP Fiori apps can dramatically reduce the time spent on creating business objects by up to 90%. This can not only minimize manual effort, but therefore accelerate the overall process by improved accuracy and enhanced productivity.\n",
            "Leverage recommendations to get your business data with minimal effort\n",
            "\n",
            "Filter your business data using natural language to specify what you are looking for\n",
            "Collaborative ERP: Empower end users to eliminate redundant tasks and increase efficiency. By combining the power of SAP and Microsoft, users can receive notifications for to-dos from SAP S/4HANA Cloud Public Edition directly in Microsoft Teams through the SAP S/4HANA for Microsoft Teams integration. This can not only save time for end users, but can also decrease media breaks. When sharing business context with coworkers, users can benefit from the option to share cards based on adaptive card-based loop components. This allows end users to directly act and copy seamlessly in the Microsoft ecosystem, such as from Microsoft Teams to Microsoft Outlook.\n",
            "\n",
            "Improve your understanding of depreciation keys\n",
            "Speed up configuration for U.S. tax jurisdictions\n",
            "\n",
            "Customers Can Get Started and Experience AI Firsthand\n",
            "Our customers now have the opportunity to join our community of innovators, creators, and forward-thinkers who are harnessing the power of technology to drive change and make a difference. We have launched a Customer Influence site that can enable our customers to embark on a journey of discovery, growth, and endless opportunities.\n",
            "And there’s more to come. Our SAP S/4HANA Cloud Public Edition road map outlines what features are planned for future releases.\n",
            "With the pace of innovation ever increasing, we believe that SAP customers are perfectly positioned to take advantage of the opportunities that business AI brings.  \n",
            "\n",
            "Arpan Shah is SVP of Public Cloud ERP Product Management at SAP.\n",
            "Get the latest SAP news delivered to your inbox once a week\n",
            "\n",
            "Learn more\u001b[0m\u001b[32;1m\u001b[1;3mThe latest partnership between SAP and Microsoft in AI involves integrating Joule and Microsoft Copilot for Microsoft 365. This integration will combine enterprise data from SAP with contextual knowledge from Microsoft 365, including Microsoft Teams, Outlook, Word, and more. The goal is to provide richer insights for better decision-making.\n",
            "\n",
            "One of the examples highlighted is a scenario where a sales manager needs assistance with unblocking a sales order for a key customer. By leveraging the integration, the manager can collaborate with team members using Microsoft Outlook, solve the issue in SAP S/4HANA Cloud Public Edition, and receive real-time updates on the status of the solution.\n",
            "\n",
            "This partnership aims to reinvent customer service by offering personalized experiences, intelligent recommendations, and collaborative ERP capabilities. Customers can access their business data in Microsoft Copilot, use AI to accelerate business processes, and optimize decision-making.\n",
            "\n",
            "To experience these innovations firsthand, interested customers can participate in the Customer Influence program. The partnership between SAP and Microsoft will continue to evolve, providing opportunities for businesses to leverage AI technologies for growth and efficiency.\u001b[0m\n",
            "\n",
            "\u001b[1m> Finished chain.\u001b[0m\n"
          ]
        },
        {
          "output_type": "execute_result",
          "data": {
            "text/plain": [
              "{'input': 'What is the latest partnership between SAP and microsoft in AI about?',\n",
              " 'output': 'The latest partnership between SAP and Microsoft in AI involves integrating Joule and Microsoft Copilot for Microsoft 365. This integration will combine enterprise data from SAP with contextual knowledge from Microsoft 365, including Microsoft Teams, Outlook, Word, and more. The goal is to provide richer insights for better decision-making.\\n\\nOne of the examples highlighted is a scenario where a sales manager needs assistance with unblocking a sales order for a key customer. By leveraging the integration, the manager can collaborate with team members using Microsoft Outlook, solve the issue in SAP S/4HANA Cloud Public Edition, and receive real-time updates on the status of the solution.\\n\\nThis partnership aims to reinvent customer service by offering personalized experiences, intelligent recommendations, and collaborative ERP capabilities. Customers can access their business data in Microsoft Copilot, use AI to accelerate business processes, and optimize decision-making.\\n\\nTo experience these innovations firsthand, interested customers can participate in the Customer Influence program. The partnership between SAP and Microsoft will continue to evolve, providing opportunities for businesses to leverage AI technologies for growth and efficiency.'}"
            ]
          },
          "metadata": {},
          "execution_count": 43
        }
      ]
    },
    {
      "cell_type": "markdown",
      "source": [
        "#Adding in memory\n",
        "As mentioned earlier, this agent is stateless. This means it does not remember previous interactions. To give it memory we need to pass in previous chat_history. Note: it needs to be called chat_history because of the prompt we are using. If we use a different prompt, we could change the variable name"
      ],
      "metadata": {
        "id": "lB6sbb3aYwup"
      }
    },
    {
      "cell_type": "code",
      "source": [
        "# Here we pass in an empty list of messages for chat_history because it is the first message in the chat\n",
        "agent_executor.invoke({\"input\":\"Hi my name is Ashish\",\"chat_histroy\":[]})\n"
      ],
      "metadata": {
        "colab": {
          "base_uri": "https://localhost:8080/"
        },
        "id": "-m7nqvX3Yx3B",
        "outputId": "a5680555-187d-4e60-eedf-b4a1b7b1f845"
      },
      "execution_count": null,
      "outputs": [
        {
          "output_type": "stream",
          "name": "stdout",
          "text": [
            "\n",
            "\n",
            "\u001b[1m> Entering new AgentExecutor chain...\u001b[0m\n",
            "\u001b[32;1m\u001b[1;3mHello Ashish! How can I assist you today?\u001b[0m\n",
            "\n",
            "\u001b[1m> Finished chain.\u001b[0m\n"
          ]
        },
        {
          "output_type": "execute_result",
          "data": {
            "text/plain": [
              "{'input': 'Hi my name is Ashish',\n",
              " 'chat_histroy': [],\n",
              " 'output': 'Hello Ashish! How can I assist you today?'}"
            ]
          },
          "metadata": {},
          "execution_count": 44
        }
      ]
    },
    {
      "cell_type": "code",
      "source": [
        "from langchain_core.messages import HumanMessage,AIMessage\n",
        "agent_executor.invoke({\n",
        "    \"chat_history\":[\n",
        "        HumanMessage(content=\"Hi my name is Ashish\"),\n",
        "        AIMessage(content=\"Hi, Ashish, how can I help you?\")\n",
        "    ],\n",
        "    \"input\":\"What is my name?\"\n",
        "})"
      ],
      "metadata": {
        "colab": {
          "base_uri": "https://localhost:8080/"
        },
        "id": "YbrEjEDbZr4S",
        "outputId": "16bfc101-b99f-4f0b-dfae-033d8f87f518"
      },
      "execution_count": null,
      "outputs": [
        {
          "output_type": "stream",
          "name": "stdout",
          "text": [
            "\n",
            "\n",
            "\u001b[1m> Entering new AgentExecutor chain...\u001b[0m\n",
            "\u001b[32;1m\u001b[1;3mYour name is Ashish. How can I assist you today, Ashish?\u001b[0m\n",
            "\n",
            "\u001b[1m> Finished chain.\u001b[0m\n"
          ]
        },
        {
          "output_type": "execute_result",
          "data": {
            "text/plain": [
              "{'chat_history': [HumanMessage(content='Hi my name is Ashish'),\n",
              "  AIMessage(content='Hi, Ashish, how can I help you?')],\n",
              " 'input': 'What is my name?',\n",
              " 'output': 'Your name is Ashish. How can I assist you today, Ashish?'}"
            ]
          },
          "metadata": {},
          "execution_count": 45
        }
      ]
    },
    {
      "cell_type": "markdown",
      "source": [
        "If we want to keep track of these messages automatically, we can wrap this in a RunnableWithMessageHistory. For more information on how to use this, see this guide."
      ],
      "metadata": {
        "id": "wTyveC3dbBu3"
      }
    },
    {
      "cell_type": "code",
      "source": [
        "from langchain_community.chat_message_histories import ChatMessageHistory\n",
        "from langchain_core.runnables.history import RunnableWithMessageHistory\n",
        "\n",
        "message_history=ChatMessageHistory()\n",
        "agent_with_chat_history = RunnableWithMessageHistory(\n",
        "    agent_executor,\n",
        "    # This is needed because in most real world scenarios, a session id is needed\n",
        "    # It isn't really used here because we are using a simple in memory ChatMessageHistory\n",
        "    lambda session_id: message_history,\n",
        "    input_messages_key=\"input\",\n",
        "    history_messages_key=\"chat_history\",\n",
        ")"
      ],
      "metadata": {
        "id": "R5gT6EWcbCMv"
      },
      "execution_count": null,
      "outputs": []
    },
    {
      "cell_type": "code",
      "source": [
        "agent_with_chat_history.invoke(\n",
        "    {\"input\": \"hi! I'm Ram\"},\n",
        "    # This is needed because in most real world scenarios, a session id is needed\n",
        "    # It isn't really used here because we are using a simple in memory ChatMessageHistory\n",
        "    config={\"configurable\": {\"session_id\": \"<chat101>\"}},\n",
        ")"
      ],
      "metadata": {
        "colab": {
          "base_uri": "https://localhost:8080/"
        },
        "id": "4YdUwjJYe977",
        "outputId": "304fefb2-beba-4df0-f37d-d0cbdaa2055f"
      },
      "execution_count": null,
      "outputs": [
        {
          "output_type": "stream",
          "name": "stderr",
          "text": [
            "WARNING:langchain_core.tracers.core:Parent run e8df5467-9840-4630-b524-e6302c681757 not found for run de134850-5520-4965-9767-8ca2675d99ed. Treating as a root run.\n"
          ]
        },
        {
          "output_type": "stream",
          "name": "stdout",
          "text": [
            "\n",
            "\n",
            "\u001b[1m> Entering new AgentExecutor chain...\u001b[0m\n",
            "\u001b[32;1m\u001b[1;3mHello Ram! How can I assist you today?\u001b[0m\n",
            "\n",
            "\u001b[1m> Finished chain.\u001b[0m\n"
          ]
        },
        {
          "output_type": "execute_result",
          "data": {
            "text/plain": [
              "{'input': \"hi! I'm Ram\",\n",
              " 'chat_history': [],\n",
              " 'output': 'Hello Ram! How can I assist you today?'}"
            ]
          },
          "metadata": {},
          "execution_count": 47
        }
      ]
    },
    {
      "cell_type": "code",
      "source": [
        "agent_with_chat_history.invoke(\n",
        "    {\"input\": \"What is the capital of Sri Lanka?\"},\n",
        "    # This is needed because in most real world scenarios, a session id is needed\n",
        "    # It isn't really used here because we are using a simple in memory ChatMessageHistory\n",
        "    config={\"configurable\": {\"session_id\": \"<chat101>\"}},\n",
        ")"
      ],
      "metadata": {
        "colab": {
          "base_uri": "https://localhost:8080/"
        },
        "id": "LKb_I3K8fLYx",
        "outputId": "176ee4e7-5322-4b06-ed4b-e6a06aae1de7"
      },
      "execution_count": null,
      "outputs": [
        {
          "output_type": "stream",
          "name": "stderr",
          "text": [
            "WARNING:langchain_core.tracers.core:Parent run b09ecea6-1ba4-4ae3-a983-3654fbe5c288 not found for run bfcc77d4-34ac-4fe2-8628-671f63aebc41. Treating as a root run.\n"
          ]
        },
        {
          "output_type": "stream",
          "name": "stdout",
          "text": [
            "\n",
            "\n",
            "\u001b[1m> Entering new AgentExecutor chain...\u001b[0m\n",
            "\u001b[32;1m\u001b[1;3mThe capital of Sri Lanka is Colombo.\u001b[0m\n",
            "\n",
            "\u001b[1m> Finished chain.\u001b[0m\n"
          ]
        },
        {
          "output_type": "execute_result",
          "data": {
            "text/plain": [
              "{'input': 'What is the capital of Sri Lanka?',\n",
              " 'chat_history': [HumanMessage(content=\"hi! I'm Ram\"),\n",
              "  AIMessage(content='Hello Ram! How can I assist you today?')],\n",
              " 'output': 'The capital of Sri Lanka is Colombo.'}"
            ]
          },
          "metadata": {},
          "execution_count": 48
        }
      ]
    },
    {
      "cell_type": "code",
      "source": [
        "agent_with_chat_history.invoke(\n",
        "    {\"input\": \"List SAP's AI related use cases?\"},\n",
        "    # This is needed because in most real world scenarios, a session id is needed\n",
        "    # It isn't really used here because we are using a simple in memory ChatMessageHistory\n",
        "    config={\"configurable\": {\"session_id\": \"<chat101>\"}},\n",
        ")"
      ],
      "metadata": {
        "colab": {
          "base_uri": "https://localhost:8080/"
        },
        "id": "rZIxY5R3lekv",
        "outputId": "72da8fd5-2d5d-4b18-f77b-141f749c1256"
      },
      "execution_count": null,
      "outputs": [
        {
          "output_type": "stream",
          "name": "stderr",
          "text": [
            "WARNING:langchain_core.tracers.core:Parent run dada3e68-1178-4788-bd0a-0d17047b77c8 not found for run 2021e761-7685-4173-a350-a6fa119b9cc9. Treating as a root run.\n"
          ]
        },
        {
          "output_type": "stream",
          "name": "stdout",
          "text": [
            "\n",
            "\n",
            "\u001b[1m> Entering new AgentExecutor chain...\u001b[0m\n",
            "\u001b[32;1m\u001b[1;3m\n",
            "Invoking: `SAP_search` with `{'query': 'SAP AI use cases'}`\n",
            "\n",
            "\n",
            "\u001b[0m\u001b[33;1m\u001b[1;3mAI Use Cases to Increase the Productivity and Efficiency of Your People\n",
            "Joule, the AI-powered copilot: Joule can enable customers to interact with their business using natural language for informational, navigational, and transactional assistance. It is now possible to get quick tips, information, and insights by simply asking Joule. Joule helps redefine user interaction, streamline business processes, and enhance productivity. It can enable contextual access to content and applications by providing users the ability to simply ask for guidance and get pointed in the right direction.\n",
            "Interact with Joule to retrieve relevant business data in SAP S/4HANA Cloud Public Edition\n",
            "\n",
            "For example, an accounts receivable agent can get every incoming customer mail classified, summarized, and all key information extracted. Furthermore, the system can guide the agent to help identify financial disputes, resolve them, and generate mail responses back to the customer.\n",
            "Increase customer satisfaction with optimized communications\n",
            "Boost Finance Excellence with AI to Optimize Working Capital and Closing Functions\n",
            "Financial business insights: This can enable customers to reach optimized profitability through tailored resolutions via tailored prompts. The user can gain real-time insights and detailed analysis for financial decision-making, receive targeted recommendations, and improve teamwork and collaboration across business functions with the help of SAP Business AI.\n",
            "\n",
            "Interested customers can experience innovations for SAP S/4HANA Cloud Public Edition firsthand through our Customer Influence program.\n",
            "Access your most relevant business data directly in Microsoft Copilot\n",
            "AI Use Cases to Accelerate Business Processes and Optimize Decisions\n",
            "Reinvent customer service with personalized experiences that can address customer needs quickly.\n",
            "Intelligent recommendations: From sales order completion to customer returns creation, intelligent recommendations in SAP Fiori apps can dramatically reduce the time spent on creating business objects by up to 90%. This can not only minimize manual effort, but therefore accelerate the overall process by improved accuracy and enhanced productivity.\n",
            "Leverage recommendations to get your business data with minimal effort\n",
            "\n",
            "Efficiently summarize all information about your business objects in multiple languages\n",
            "Easy filter: Our customers can now easily and efficiently filter in elements-based SAP Fiori apps with natural language enabled through generative AI. This can enhance the current filtering experience significantly and helps make it more intuitive for first-time users. For example, a sales manager can, in natural language, get the sales orders for their VIP customer that are open, have a due date this week, and exceed a certain amount.\n",
            "Filter your business data using natural language to specify what you are looking for\u001b[0m\u001b[32;1m\u001b[1;3mHere are some of SAP's AI-related use cases:\n",
            "\n",
            "1. Joule, the AI-powered copilot: Joule enables users to interact with their business using natural language for informational, navigational, and transactional assistance. It can provide quick tips, information, and insights by simply asking Joule.\n",
            "\n",
            "2. Financial business insights: This feature allows customers to reach optimized profitability through tailored resolutions and real-time insights for financial decision-making. It also offers targeted recommendations and improves teamwork and collaboration across business functions with the help of SAP Business AI.\n",
            "\n",
            "3. Intelligent recommendations: From sales order completion to customer returns creation, intelligent recommendations in SAP Fiori apps can reduce the time spent on creating business objects by up to 90%, accelerating processes with improved accuracy and enhanced productivity.\n",
            "\n",
            "4. Easy filter: Users can efficiently filter elements-based SAP Fiori apps with natural language enabled through generative AI. This enhances the filtering experience significantly and makes it more intuitive for first-time users.\n",
            "\n",
            "These are just a few examples of SAP's AI use cases to increase productivity, optimize decisions, and enhance customer experiences.\u001b[0m\n",
            "\n",
            "\u001b[1m> Finished chain.\u001b[0m\n"
          ]
        },
        {
          "output_type": "execute_result",
          "data": {
            "text/plain": [
              "{'input': \"List SAP's AI related use cases?\",\n",
              " 'chat_history': [HumanMessage(content=\"hi! I'm Ram\"),\n",
              "  AIMessage(content='Hello Ram! How can I assist you today?'),\n",
              "  HumanMessage(content='What is the capital of Sri Lanka?'),\n",
              "  AIMessage(content='The capital of Sri Lanka is Colombo.')],\n",
              " 'output': \"Here are some of SAP's AI-related use cases:\\n\\n1. Joule, the AI-powered copilot: Joule enables users to interact with their business using natural language for informational, navigational, and transactional assistance. It can provide quick tips, information, and insights by simply asking Joule.\\n\\n2. Financial business insights: This feature allows customers to reach optimized profitability through tailored resolutions and real-time insights for financial decision-making. It also offers targeted recommendations and improves teamwork and collaboration across business functions with the help of SAP Business AI.\\n\\n3. Intelligent recommendations: From sales order completion to customer returns creation, intelligent recommendations in SAP Fiori apps can reduce the time spent on creating business objects by up to 90%, accelerating processes with improved accuracy and enhanced productivity.\\n\\n4. Easy filter: Users can efficiently filter elements-based SAP Fiori apps with natural language enabled through generative AI. This enhances the filtering experience significantly and makes it more intuitive for first-time users.\\n\\nThese are just a few examples of SAP's AI use cases to increase productivity, optimize decisions, and enhance customer experiences.\"}"
            ]
          },
          "metadata": {},
          "execution_count": 49
        }
      ]
    },
    {
      "cell_type": "code",
      "source": [
        "agent_with_chat_history.invoke(\n",
        "    {\"input\": \"what's my name?\"},\n",
        "    # This is needed because in most real world scenarios, a session id is needed\n",
        "    # It isn't really used here because we are using a simple in memory ChatMessageHistory\n",
        "    config={\"configurable\": {\"session_id\": \"<chat101>\"}},\n",
        ")"
      ],
      "metadata": {
        "colab": {
          "base_uri": "https://localhost:8080/"
        },
        "id": "vGfRlVe1fX3s",
        "outputId": "6eeff866-d598-4b68-e027-a5737d32a886"
      },
      "execution_count": null,
      "outputs": [
        {
          "output_type": "stream",
          "name": "stderr",
          "text": [
            "WARNING:langchain_core.tracers.core:Parent run 8b4cd46e-af93-42bb-bbba-e924bee0cf0a not found for run 8ffbcf75-2ff7-4728-80a0-cdaf2d94f239. Treating as a root run.\n"
          ]
        },
        {
          "output_type": "stream",
          "name": "stdout",
          "text": [
            "\n",
            "\n",
            "\u001b[1m> Entering new AgentExecutor chain...\u001b[0m\n",
            "\u001b[32;1m\u001b[1;3mYour name is Ram. How can I assist you further, Ram?\u001b[0m\n",
            "\n",
            "\u001b[1m> Finished chain.\u001b[0m\n"
          ]
        },
        {
          "output_type": "execute_result",
          "data": {
            "text/plain": [
              "{'input': \"what's my name?\",\n",
              " 'chat_history': [HumanMessage(content=\"hi! I'm Ram\"),\n",
              "  AIMessage(content='Hello Ram! How can I assist you today?'),\n",
              "  HumanMessage(content='What is the capital of Sri Lanka?'),\n",
              "  AIMessage(content='The capital of Sri Lanka is Colombo.'),\n",
              "  HumanMessage(content=\"List SAP's AI related use cases?\"),\n",
              "  AIMessage(content=\"Here are some of SAP's AI-related use cases:\\n\\n1. Joule, the AI-powered copilot: Joule enables users to interact with their business using natural language for informational, navigational, and transactional assistance. It can provide quick tips, information, and insights by simply asking Joule.\\n\\n2. Financial business insights: This feature allows customers to reach optimized profitability through tailored resolutions and real-time insights for financial decision-making. It also offers targeted recommendations and improves teamwork and collaboration across business functions with the help of SAP Business AI.\\n\\n3. Intelligent recommendations: From sales order completion to customer returns creation, intelligent recommendations in SAP Fiori apps can reduce the time spent on creating business objects by up to 90%, accelerating processes with improved accuracy and enhanced productivity.\\n\\n4. Easy filter: Users can efficiently filter elements-based SAP Fiori apps with natural language enabled through generative AI. This enhances the filtering experience significantly and makes it more intuitive for first-time users.\\n\\nThese are just a few examples of SAP's AI use cases to increase productivity, optimize decisions, and enhance customer experiences.\")],\n",
              " 'output': 'Your name is Ram. How can I assist you further, Ram?'}"
            ]
          },
          "metadata": {},
          "execution_count": 50
        }
      ]
    },
    {
      "cell_type": "code",
      "source": [
        "import os\n",
        "from langchain.utilities.tavily_search import TavilySearchAPIWrapper\n",
        "from langchain.agents import initialize_agent, AgentType\n",
        "from langchain_community.chat_models import ChatOpenAI\n",
        "from langchain.tools.tavily_search import TavilySearchResults\n",
        "\n",
        "\n",
        "# set up the agent\n",
        "llm = ChatOpenAI(model_name=\"gpt-4\", temperature=0.7)\n",
        "search = TavilySearchAPIWrapper()\n",
        "tavily_tool = TavilySearchResults(api_wrapper=search)\n",
        "\n",
        "# initialize the agent\n",
        "agent_chain = initialize_agent(\n",
        "    [tavily_tool],\n",
        "    llm,\n",
        "    agent=AgentType.STRUCTURED_CHAT_ZERO_SHOT_REACT_DESCRIPTION,\n",
        "    verbose=True,\n",
        ")\n",
        "\n",
        "# run the agent\n",
        "agent_chain.run(\n",
        "    \"What is the  temperature in Delhi?\",\n",
        ")\n"
      ],
      "metadata": {
        "colab": {
          "base_uri": "https://localhost:8080/",
          "height": 314
        },
        "id": "ApbNNz4Vp9vd",
        "outputId": "d64def29-8485-43b5-a760-085e4076bf39"
      },
      "execution_count": null,
      "outputs": [
        {
          "output_type": "stream",
          "name": "stdout",
          "text": [
            "\n",
            "\n",
            "\u001b[1m> Entering new AgentExecutor chain...\u001b[0m\n",
            "\u001b[32;1m\u001b[1;3mThought: I don't have real-time data capabilities, so I can't provide the current temperature in Delhi. However, I can recommend the user to check a reliable weather forecast website or app for the most accurate and up-to-date information.\n",
            "Action:\n",
            "```\n",
            "{\n",
            "  \"action\": \"Final Answer\",\n",
            "  \"action_input\": \"I'm sorry, but I can't provide real-time data such as the current temperature. For the most accurate and up-to-date weather information in Delhi, I recommend checking a reliable weather forecast website or app.\"\n",
            "}\n",
            "```\u001b[0m\n",
            "\n",
            "\u001b[1m> Finished chain.\u001b[0m\n"
          ]
        },
        {
          "output_type": "execute_result",
          "data": {
            "text/plain": [
              "\"I'm sorry, but I can't provide real-time data such as the current temperature. For the most accurate and up-to-date weather information in Delhi, I recommend checking a reliable weather forecast website or app.\""
            ],
            "application/vnd.google.colaboratory.intrinsic+json": {
              "type": "string"
            }
          },
          "metadata": {},
          "execution_count": 15
        }
      ]
    },
    {
      "cell_type": "code",
      "source": [
        "from langchain.agents import Tool, initialize_agent\n",
        "from langchain.chains import LLMMathChain\n",
        "\n",
        "# CREATE TOOLS\n",
        "\n",
        "math_chain = LLMMathChain.from_llm(llm=llm)\n",
        "\n",
        "math_tool = Tool(\n",
        "    name=\"Calci\",\n",
        "    func=math_chain.run,\n",
        "    description=\"Useful for when you need to answer questions related to Math.\"\n",
        ")\n",
        "\n",
        "tools = [math_tool]"
      ],
      "metadata": {
        "id": "wvba0XT18cQn"
      },
      "execution_count": null,
      "outputs": []
    },
    {
      "cell_type": "code",
      "source": [
        "agent = initialize_agent(\n",
        "    agent=\"zero-shot-react-description\",\n",
        "    tools=tools,\n",
        "    llm=llm,\n",
        "    verbose=True,\n",
        "    max_iterations=3\n",
        "\n",
        ")\n",
        "\n",
        "agent"
      ],
      "metadata": {
        "colab": {
          "base_uri": "https://localhost:8080/"
        },
        "id": "Asczr4oM8iJW",
        "outputId": "ef7e3d73-b421-4e72-8b71-b65b3306ed8b"
      },
      "execution_count": null,
      "outputs": [
        {
          "output_type": "execute_result",
          "data": {
            "text/plain": [
              "AgentExecutor(verbose=True, tags=['zero-shot-react-description'], agent=ZeroShotAgent(llm_chain=LLMChain(prompt=PromptTemplate(input_variables=['agent_scratchpad', 'input'], template='Answer the following questions as best you can. You have access to the following tools:\\n\\nCalci(*args: Any, callbacks: Union[List[langchain_core.callbacks.base.BaseCallbackHandler], langchain_core.callbacks.base.BaseCallbackManager, NoneType] = None, tags: Optional[List[str]] = None, metadata: Optional[Dict[str, Any]] = None, **kwargs: Any) -> Any - Useful for when you need to answer questions related to Math.\\n\\nUse the following format:\\n\\nQuestion: the input question you must answer\\nThought: you should always think about what to do\\nAction: the action to take, should be one of [Calci]\\nAction Input: the input to the action\\nObservation: the result of the action\\n... (this Thought/Action/Action Input/Observation can repeat N times)\\nThought: I now know the final answer\\nFinal Answer: the final answer to the original input question\\n\\nBegin!\\n\\nQuestion: {input}\\nThought:{agent_scratchpad}'), llm=ChatOpenAI(client=<openai.resources.chat.completions.Completions object at 0x7a2400165570>, async_client=<openai.resources.chat.completions.AsyncCompletions object at 0x7a2401401ff0>, model_name='gpt-4', openai_api_key='sk-proj-sFPYLsfBEekNb7FmH8ZMT3BlbkFJdJ9y1oTVxAETykRlYO0b', openai_proxy='')), output_parser=MRKLOutputParser(), allowed_tools=['Calci']), tools=[Tool(name='Calci', description='Useful for when you need to answer questions related to Math.', func=<bound method Chain.run of LLMMathChain(llm_chain=LLMChain(prompt=PromptTemplate(input_variables=['question'], template='Translate a math problem into a expression that can be executed using Python\\'s numexpr library. Use the output of running this code to answer the question.\\n\\nQuestion: ${{Question with math problem.}}\\n```text\\n${{single line mathematical expression that solves the problem}}\\n```\\n...numexpr.evaluate(text)...\\n```output\\n${{Output of running the code}}\\n```\\nAnswer: ${{Answer}}\\n\\nBegin.\\n\\nQuestion: What is 37593 * 67?\\n```text\\n37593 * 67\\n```\\n...numexpr.evaluate(\"37593 * 67\")...\\n```output\\n2518731\\n```\\nAnswer: 2518731\\n\\nQuestion: 37593^(1/5)\\n```text\\n37593**(1/5)\\n```\\n...numexpr.evaluate(\"37593**(1/5)\")...\\n```output\\n8.222831614237718\\n```\\nAnswer: 8.222831614237718\\n\\nQuestion: {question}\\n'), llm=ChatOpenAI(client=<openai.resources.chat.completions.Completions object at 0x7a2400165570>, async_client=<openai.resources.chat.completions.AsyncCompletions object at 0x7a2401401ff0>, model_name='gpt-4', openai_api_key='sk-proj-sFPYLsfBEekNb7FmH8ZMT3BlbkFJdJ9y1oTVxAETykRlYO0b', openai_proxy='')))>)], max_iterations=3)"
            ]
          },
          "metadata": {},
          "execution_count": 18
        }
      ]
    },
    {
      "cell_type": "code",
      "source": [
        "response = agent.invoke(\"What is (4*512)+152 \")"
      ],
      "metadata": {
        "colab": {
          "base_uri": "https://localhost:8080/"
        },
        "id": "mhwCwxSM8rTg",
        "outputId": "300052a0-880f-4ab2-dd46-c7689e38d23d"
      },
      "execution_count": null,
      "outputs": [
        {
          "output_type": "stream",
          "name": "stdout",
          "text": [
            "\n",
            "\n",
            "\u001b[1m> Entering new AgentExecutor chain...\u001b[0m\n",
            "\u001b[32;1m\u001b[1;3mThis is a simple arithmetic problem. We can use the Calci tool to solve it.\n",
            "Action: Calci\n",
            "Action Input: (4*512)+152\u001b[0m\n",
            "Observation: \u001b[36;1m\u001b[1;3mAnswer: 2200\u001b[0m\n",
            "Thought:\u001b[32;1m\u001b[1;3mThe calculation has been done correctly.\n",
            "Final Answer: 2200\u001b[0m\n",
            "\n",
            "\u001b[1m> Finished chain.\u001b[0m\n"
          ]
        }
      ]
    },
    {
      "cell_type": "code",
      "source": [
        "response = agent.invoke(\"Share an article on SAP BTP\")"
      ],
      "metadata": {
        "colab": {
          "base_uri": "https://localhost:8080/"
        },
        "id": "LkuecO198zwQ",
        "outputId": "dc4d2b51-0d64-4fc6-ef18-8381878a8e10"
      },
      "execution_count": null,
      "outputs": [
        {
          "output_type": "stream",
          "name": "stdout",
          "text": [
            "\n",
            "\n",
            "\u001b[1m> Entering new AgentExecutor chain...\u001b[0m\n",
            "\u001b[32;1m\u001b[1;3mThe question seems to be asking for an article on SAP Business Technology Platform (BTP). However, I am an AI model and I don't have browsing capabilities to find articles. I can, however, provide a brief overview of SAP BTP if that would be helpful.\n",
            "Action: None\n",
            "Action Input: None\u001b[0m\n",
            "Observation: None is not a valid tool, try one of [Calci].\n",
            "Thought:\u001b[32;1m\u001b[1;3mI can't perform the requested action due to my limitations as an AI model. \n",
            "Final Answer: I'm sorry, but as an AI, I don't have the capability to share articles. However, I can tell you that SAP BTP, formerly known as SAP Cloud Platform, is a platform-as-a-service developed by SAP SE that provides developers with the tools to build, test, and manage applications in the cloud.\u001b[0m\n",
            "\n",
            "\u001b[1m> Finished chain.\u001b[0m\n"
          ]
        }
      ]
    },
    {
      "cell_type": "code",
      "source": [
        "!pip install wikipedia"
      ],
      "metadata": {
        "id": "ygoXBBrm-ky-",
        "colab": {
          "base_uri": "https://localhost:8080/"
        },
        "outputId": "853a5dc7-bae6-4571-833c-0f53d41c4313"
      },
      "execution_count": null,
      "outputs": [
        {
          "output_type": "stream",
          "name": "stdout",
          "text": [
            "Collecting wikipedia\n",
            "  Downloading wikipedia-1.4.0.tar.gz (27 kB)\n",
            "  Preparing metadata (setup.py) ... \u001b[?25l\u001b[?25hdone\n",
            "Requirement already satisfied: beautifulsoup4 in /usr/local/lib/python3.10/dist-packages (from wikipedia) (4.12.3)\n",
            "Requirement already satisfied: requests<3.0.0,>=2.0.0 in /usr/local/lib/python3.10/dist-packages (from wikipedia) (2.31.0)\n",
            "Requirement already satisfied: charset-normalizer<4,>=2 in /usr/local/lib/python3.10/dist-packages (from requests<3.0.0,>=2.0.0->wikipedia) (3.3.2)\n",
            "Requirement already satisfied: idna<4,>=2.5 in /usr/local/lib/python3.10/dist-packages (from requests<3.0.0,>=2.0.0->wikipedia) (3.7)\n",
            "Requirement already satisfied: urllib3<3,>=1.21.1 in /usr/local/lib/python3.10/dist-packages (from requests<3.0.0,>=2.0.0->wikipedia) (2.0.7)\n",
            "Requirement already satisfied: certifi>=2017.4.17 in /usr/local/lib/python3.10/dist-packages (from requests<3.0.0,>=2.0.0->wikipedia) (2024.6.2)\n",
            "Requirement already satisfied: soupsieve>1.2 in /usr/local/lib/python3.10/dist-packages (from beautifulsoup4->wikipedia) (2.5)\n",
            "Building wheels for collected packages: wikipedia\n",
            "  Building wheel for wikipedia (setup.py) ... \u001b[?25l\u001b[?25hdone\n",
            "  Created wheel for wikipedia: filename=wikipedia-1.4.0-py3-none-any.whl size=11680 sha256=2acb1c0ed103cead0f07c963eec7b3bdc3e9b095dec1dc86dde55291e7fbe61f\n",
            "  Stored in directory: /root/.cache/pip/wheels/5e/b6/c5/93f3dec388ae76edc830cb42901bb0232504dfc0df02fc50de\n",
            "Successfully built wikipedia\n",
            "Installing collected packages: wikipedia\n",
            "Successfully installed wikipedia-1.4.0\n"
          ]
        }
      ]
    },
    {
      "cell_type": "code",
      "source": [
        "from langchain_community.tools import WikipediaQueryRun\n",
        "from langchain_community.utilities import WikipediaAPIWrapper\n",
        "import wikipedia\n",
        "\n",
        "api_wrapper = WikipediaAPIWrapper(top_k_results= 1,\n",
        "                                  doc_content_chars_max= 200)\n",
        "\n",
        "wiki_tool = WikipediaQueryRun(api_wrapper= api_wrapper)\n",
        "\n",
        "wiki_tool.name\n",
        "\n",
        "\"\"\"wikipedia\"\"\""
      ],
      "metadata": {
        "colab": {
          "base_uri": "https://localhost:8080/",
          "height": 36
        },
        "id": "J76oJc9y8-7_",
        "outputId": "5220c4f4-c0a8-4974-c4aa-4797092b6e15"
      },
      "execution_count": null,
      "outputs": [
        {
          "output_type": "execute_result",
          "data": {
            "text/plain": [
              "'wikipedia'"
            ],
            "application/vnd.google.colaboratory.intrinsic+json": {
              "type": "string"
            }
          },
          "metadata": {},
          "execution_count": 12
        }
      ]
    },
    {
      "cell_type": "code",
      "source": [
        "tools.append(wiki_tool)\n",
        "\n",
        "agent = initialize_agent(\n",
        "    agent=\"zero-shot-react-description\",\n",
        "    tools=tools,\n",
        "    llm=llm,\n",
        "    verbose=True,\n",
        "    max_iterations=3\n",
        "\n",
        ")\n",
        "\n",
        "response = agent(\"Read an wikipedia article about SAP BTP.\")"
      ],
      "metadata": {
        "colab": {
          "base_uri": "https://localhost:8080/"
        },
        "id": "BW8OlXfL-vwu",
        "outputId": "6b2356bb-d25a-4618-9fb5-3b172a7e27b8"
      },
      "execution_count": null,
      "outputs": [
        {
          "output_type": "stream",
          "name": "stderr",
          "text": [
            "/usr/local/lib/python3.10/dist-packages/langchain_core/_api/deprecation.py:139: LangChainDeprecationWarning: The method `Chain.__call__` was deprecated in langchain 0.1.0 and will be removed in 0.3.0. Use invoke instead.\n",
            "  warn_deprecated(\n"
          ]
        },
        {
          "output_type": "stream",
          "name": "stdout",
          "text": [
            "\n",
            "\n",
            "\u001b[1m> Entering new AgentExecutor chain...\u001b[0m\n",
            "\u001b[32;1m\u001b[1;3mThis question is asking for information about SAP BTP from Wikipedia.\n",
            "Action: wikipedia\n",
            "Action Input: SAP BTP\u001b[0m\n",
            "Observation: \u001b[33;1m\u001b[1;3mPage: SAP Cloud Platform\n",
            "Summary: SAP Cloud Platform has been rebranded as SAP Business Technology Platform (BTP).\n",
            "SAP Cloud Platform (SCP) was a platform as a service developed by SAP SE for creating\u001b[0m\n",
            "Thought:\u001b[32;1m\u001b[1;3mI now know the final answer\n",
            "Final Answer: SAP BTP, also known as SAP Business Technology Platform, was previously referred to as SAP Cloud Platform (SCP). It is a platform as a service developed by SAP SE for creating new applications.\u001b[0m\n",
            "\n",
            "\u001b[1m> Finished chain.\u001b[0m\n"
          ]
        }
      ]
    },
    {
      "cell_type": "markdown",
      "source": [
        "LangChain Agents are components within the LangChain framework designed to handle complex and dynamic tasks by orchestrating various tools and models. They allow for the creation of sophisticated applications that can leverage multiple language models (LLMs) and other tools to accomplish specific objectives. Here’s an overview of what LangChain Agents are, their key features, and how they can be utilized:\n",
        "\n",
        "###Overview of LangChain Agents\n",
        "LangChain Agents act as controllers that manage the interaction between different tools and LLMs. They can make decisions on which tool to use based on the context and the task at hand, enabling the creation of more intelligent and flexible applications.\n",
        "\n",
        "Key Features of LangChain Agents\n",
        "\n",
        "\n",
        "*   Tool Integration: Agents can integrate multiple tools such as search engines, calculators, databases, APIs, and more.\n",
        "*   Decision Making: They can decide which tool to use based on the input they receive, allowing for dynamic responses and actions.\n",
        "*   Chain of Commands: Agents can chain together multiple commands or actions to achieve complex tasks.\n",
        "*   Context Management: They maintain context across interactions, making them suitable for applications requiring multi-step reasoning\n",
        "*   Customizability: Agents can be customized to suit specific needs, including defining new tools and specifying how and when they should be used\n",
        "\n",
        "###How LangChain Agents Work\n",
        "LangChain Agents typically follow a process similar to this:\n",
        "*   Receive Input: The agent receives an input query or task.\n",
        "*   Analyze Task: The agent analyzes the task to determine the best course of action.\n",
        "*   Select Tool: Based on the analysis, the agent selects the appropriate tool(s) to use.\n",
        "*   Execute Task: The agent executes the task using the selected tool(s).\n",
        "*   Generate Output: The agent generates the output based on the results of the executed tasks and returns it.\n",
        "\n",
        "Example Use Cases\n",
        "\n",
        "1.   Customer Support Chatbot: An agent can handle customer queries by integrating with a FAQ database, a ticketing system, and an order tracking API.\n",
        "2.   Research Assistant: An agent can perform web searches, summarize documents, and organize information for a research topic."
      ],
      "metadata": {
        "id": "UxnWO5wALmzI"
      }
    },
    {
      "cell_type": "code",
      "source": [
        "from langchain.agents import Agent\n",
        "from langchain.tools.web_search import WebSearch\n",
        "from langchain.tools.math_calculator import MathCalculator\n",
        "\n",
        "# Initialize the tools\n",
        "search_tool = WebSearch()\n",
        "calculator_tool = MathCalculator()\n",
        "\n",
        "# Define the agent with the tools\n",
        "agent = Agent(tools=[search_tool, calculator_tool])\n",
        "\n",
        "# Define a task\n",
        "task = \"Find the population of France and calculate 10% of that number.\"\n",
        "\n",
        "# Use the agent to process the task\n",
        "response = agent.run(task)\n",
        "\n",
        "print(response)\n",
        "\n"
      ],
      "metadata": {
        "colab": {
          "base_uri": "https://localhost:8080/",
          "height": 403
        },
        "id": "d2b1ggA2McHW",
        "outputId": "7c0d05fe-f963-434e-c5d4-3d4a9e243a02"
      },
      "execution_count": null,
      "outputs": [
        {
          "output_type": "error",
          "ename": "ModuleNotFoundError",
          "evalue": "No module named 'langchain.tools.web_search'",
          "traceback": [
            "\u001b[0;31m---------------------------------------------------------------------------\u001b[0m",
            "\u001b[0;31mModuleNotFoundError\u001b[0m                       Traceback (most recent call last)",
            "\u001b[0;32m<ipython-input-4-7ed62600ae44>\u001b[0m in \u001b[0;36m<cell line: 2>\u001b[0;34m()\u001b[0m\n\u001b[1;32m      1\u001b[0m \u001b[0;32mfrom\u001b[0m \u001b[0mlangchain\u001b[0m\u001b[0;34m.\u001b[0m\u001b[0magents\u001b[0m \u001b[0;32mimport\u001b[0m \u001b[0mAgent\u001b[0m\u001b[0;34m\u001b[0m\u001b[0;34m\u001b[0m\u001b[0m\n\u001b[0;32m----> 2\u001b[0;31m \u001b[0;32mfrom\u001b[0m \u001b[0mlangchain\u001b[0m\u001b[0;34m.\u001b[0m\u001b[0mtools\u001b[0m\u001b[0;34m.\u001b[0m\u001b[0mweb_search\u001b[0m \u001b[0;32mimport\u001b[0m \u001b[0mWebSearch\u001b[0m\u001b[0;34m\u001b[0m\u001b[0;34m\u001b[0m\u001b[0m\n\u001b[0m\u001b[1;32m      3\u001b[0m \u001b[0;32mfrom\u001b[0m \u001b[0mlangchain\u001b[0m\u001b[0;34m.\u001b[0m\u001b[0mtools\u001b[0m\u001b[0;34m.\u001b[0m\u001b[0mmath_calculator\u001b[0m \u001b[0;32mimport\u001b[0m \u001b[0mMathCalculator\u001b[0m\u001b[0;34m\u001b[0m\u001b[0;34m\u001b[0m\u001b[0m\n\u001b[1;32m      4\u001b[0m \u001b[0;34m\u001b[0m\u001b[0m\n\u001b[1;32m      5\u001b[0m \u001b[0;31m# Initialize the tools\u001b[0m\u001b[0;34m\u001b[0m\u001b[0;34m\u001b[0m\u001b[0m\n",
            "\u001b[0;31mModuleNotFoundError\u001b[0m: No module named 'langchain.tools.web_search'",
            "",
            "\u001b[0;31m---------------------------------------------------------------------------\u001b[0;32m\nNOTE: If your import is failing due to a missing package, you can\nmanually install dependencies using either !pip or !apt.\n\nTo view examples of installing some common dependencies, click the\n\"Open Examples\" button below.\n\u001b[0;31m---------------------------------------------------------------------------\u001b[0m\n"
          ],
          "errorDetails": {
            "actions": [
              {
                "action": "open_url",
                "actionText": "Open Examples",
                "url": "/notebooks/snippets/importing_libraries.ipynb"
              }
            ]
          }
        }
      ]
    }
  ]
}