{
  "nbformat": 4,
  "nbformat_minor": 0,
  "metadata": {
    "colab": {
      "provenance": []
    },
    "kernelspec": {
      "name": "python3",
      "display_name": "Python 3"
    },
    "language_info": {
      "name": "python"
    }
  },
  "cells": [
    {
      "cell_type": "code",
      "execution_count": null,
      "metadata": {
        "id": "S2h5VeIt8p9T"
      },
      "outputs": [],
      "source": [
        "!pip install langchain -q\n",
        "!pip install openai -q"
      ]
    },
    {
      "cell_type": "code",
      "source": [
        "%pip install --upgrade --quiet  langchain langchain-community langchain-openai"
      ],
      "metadata": {
        "colab": {
          "base_uri": "https://localhost:8080/"
        },
        "id": "a4Zuf4vEAQeR",
        "outputId": "6d4fdc0f-8e05-413d-c989-cdfd30c1217b"
      },
      "execution_count": 14,
      "outputs": [
        {
          "output_type": "stream",
          "name": "stdout",
          "text": [
            "\u001b[?25l     \u001b[90m━━━━━━━━━━━━━━━━━━━━━━━━━━━━━━━━━━━━━━━━\u001b[0m \u001b[32m0.0/1.1 MB\u001b[0m \u001b[31m?\u001b[0m eta \u001b[36m-:--:--\u001b[0m\r\u001b[2K     \u001b[91m━━━━━━━━━━━━━━━\u001b[0m\u001b[90m╺\u001b[0m\u001b[90m━━━━━━━━━━━━━━━━━━━━━━━━\u001b[0m \u001b[32m0.4/1.1 MB\u001b[0m \u001b[31m13.5 MB/s\u001b[0m eta \u001b[36m0:00:01\u001b[0m\r\u001b[2K     \u001b[91m━━━━━━━━━━━━━━━━━━━━━━━━━━━━━━━━━━━━\u001b[0m\u001b[91m╸\u001b[0m\u001b[90m━━━\u001b[0m \u001b[32m1.0/1.1 MB\u001b[0m \u001b[31m14.7 MB/s\u001b[0m eta \u001b[36m0:00:01\u001b[0m\r\u001b[2K     \u001b[90m━━━━━━━━━━━━━━━━━━━━━━━━━━━━━━━━━━━━━━━━\u001b[0m \u001b[32m1.1/1.1 MB\u001b[0m \u001b[31m11.8 MB/s\u001b[0m eta \u001b[36m0:00:00\u001b[0m\n",
            "\u001b[?25h"
          ]
        }
      ]
    },
    {
      "cell_type": "code",
      "source": [
        "import numpy as np\n",
        "import pandas as pd\n",
        "import sqlite3"
      ],
      "metadata": {
        "id": "75ztrJyU80R3"
      },
      "execution_count": 2,
      "outputs": []
    },
    {
      "cell_type": "code",
      "source": [
        "df = pd.read_csv('/content/income (1).csv')"
      ],
      "metadata": {
        "id": "DkWoeQ7N81dm"
      },
      "execution_count": 3,
      "outputs": []
    },
    {
      "cell_type": "code",
      "source": [
        "df.rename(columns={\n",
        "    'Name':'name',\n",
        "    'Age':'age',\n",
        "    'Income($)':'income'\n",
        "})"
      ],
      "metadata": {
        "colab": {
          "base_uri": "https://localhost:8080/",
          "height": 739
        },
        "id": "ax7-ZHnn9AMc",
        "outputId": "aabfc64d-c5b7-4549-c9e1-9a7996dc2d12"
      },
      "execution_count": 4,
      "outputs": [
        {
          "output_type": "execute_result",
          "data": {
            "text/plain": [
              "        name  age  income\n",
              "0        Rob   27   70000\n",
              "1    Michael   29   90000\n",
              "2      Mohan   29   61000\n",
              "3     Ismail   28   60000\n",
              "4       Kory   42  150000\n",
              "5     Gautam   39  155000\n",
              "6      David   41  160000\n",
              "7     Andrea   38  162000\n",
              "8       Brad   36  156000\n",
              "9   Angelina   35  130000\n",
              "10    Donald   37  137000\n",
              "11       Tom   26   45000\n",
              "12    Arnold   27   48000\n",
              "13     Jared   28   51000\n",
              "14     Stark   29   49500\n",
              "15    Ranbir   32   53000\n",
              "16    Dipika   40   65000\n",
              "17  Priyanka   41   63000\n",
              "18      Nick   43   64000\n",
              "19      Alia   39   80000\n",
              "20       Sid   41   82000\n",
              "21     Abdul   39   58000"
            ],
            "text/html": [
              "\n",
              "  <div id=\"df-007b6d01-1011-4116-aacb-6599c71128e2\" class=\"colab-df-container\">\n",
              "    <div>\n",
              "<style scoped>\n",
              "    .dataframe tbody tr th:only-of-type {\n",
              "        vertical-align: middle;\n",
              "    }\n",
              "\n",
              "    .dataframe tbody tr th {\n",
              "        vertical-align: top;\n",
              "    }\n",
              "\n",
              "    .dataframe thead th {\n",
              "        text-align: right;\n",
              "    }\n",
              "</style>\n",
              "<table border=\"1\" class=\"dataframe\">\n",
              "  <thead>\n",
              "    <tr style=\"text-align: right;\">\n",
              "      <th></th>\n",
              "      <th>name</th>\n",
              "      <th>age</th>\n",
              "      <th>income</th>\n",
              "    </tr>\n",
              "  </thead>\n",
              "  <tbody>\n",
              "    <tr>\n",
              "      <th>0</th>\n",
              "      <td>Rob</td>\n",
              "      <td>27</td>\n",
              "      <td>70000</td>\n",
              "    </tr>\n",
              "    <tr>\n",
              "      <th>1</th>\n",
              "      <td>Michael</td>\n",
              "      <td>29</td>\n",
              "      <td>90000</td>\n",
              "    </tr>\n",
              "    <tr>\n",
              "      <th>2</th>\n",
              "      <td>Mohan</td>\n",
              "      <td>29</td>\n",
              "      <td>61000</td>\n",
              "    </tr>\n",
              "    <tr>\n",
              "      <th>3</th>\n",
              "      <td>Ismail</td>\n",
              "      <td>28</td>\n",
              "      <td>60000</td>\n",
              "    </tr>\n",
              "    <tr>\n",
              "      <th>4</th>\n",
              "      <td>Kory</td>\n",
              "      <td>42</td>\n",
              "      <td>150000</td>\n",
              "    </tr>\n",
              "    <tr>\n",
              "      <th>5</th>\n",
              "      <td>Gautam</td>\n",
              "      <td>39</td>\n",
              "      <td>155000</td>\n",
              "    </tr>\n",
              "    <tr>\n",
              "      <th>6</th>\n",
              "      <td>David</td>\n",
              "      <td>41</td>\n",
              "      <td>160000</td>\n",
              "    </tr>\n",
              "    <tr>\n",
              "      <th>7</th>\n",
              "      <td>Andrea</td>\n",
              "      <td>38</td>\n",
              "      <td>162000</td>\n",
              "    </tr>\n",
              "    <tr>\n",
              "      <th>8</th>\n",
              "      <td>Brad</td>\n",
              "      <td>36</td>\n",
              "      <td>156000</td>\n",
              "    </tr>\n",
              "    <tr>\n",
              "      <th>9</th>\n",
              "      <td>Angelina</td>\n",
              "      <td>35</td>\n",
              "      <td>130000</td>\n",
              "    </tr>\n",
              "    <tr>\n",
              "      <th>10</th>\n",
              "      <td>Donald</td>\n",
              "      <td>37</td>\n",
              "      <td>137000</td>\n",
              "    </tr>\n",
              "    <tr>\n",
              "      <th>11</th>\n",
              "      <td>Tom</td>\n",
              "      <td>26</td>\n",
              "      <td>45000</td>\n",
              "    </tr>\n",
              "    <tr>\n",
              "      <th>12</th>\n",
              "      <td>Arnold</td>\n",
              "      <td>27</td>\n",
              "      <td>48000</td>\n",
              "    </tr>\n",
              "    <tr>\n",
              "      <th>13</th>\n",
              "      <td>Jared</td>\n",
              "      <td>28</td>\n",
              "      <td>51000</td>\n",
              "    </tr>\n",
              "    <tr>\n",
              "      <th>14</th>\n",
              "      <td>Stark</td>\n",
              "      <td>29</td>\n",
              "      <td>49500</td>\n",
              "    </tr>\n",
              "    <tr>\n",
              "      <th>15</th>\n",
              "      <td>Ranbir</td>\n",
              "      <td>32</td>\n",
              "      <td>53000</td>\n",
              "    </tr>\n",
              "    <tr>\n",
              "      <th>16</th>\n",
              "      <td>Dipika</td>\n",
              "      <td>40</td>\n",
              "      <td>65000</td>\n",
              "    </tr>\n",
              "    <tr>\n",
              "      <th>17</th>\n",
              "      <td>Priyanka</td>\n",
              "      <td>41</td>\n",
              "      <td>63000</td>\n",
              "    </tr>\n",
              "    <tr>\n",
              "      <th>18</th>\n",
              "      <td>Nick</td>\n",
              "      <td>43</td>\n",
              "      <td>64000</td>\n",
              "    </tr>\n",
              "    <tr>\n",
              "      <th>19</th>\n",
              "      <td>Alia</td>\n",
              "      <td>39</td>\n",
              "      <td>80000</td>\n",
              "    </tr>\n",
              "    <tr>\n",
              "      <th>20</th>\n",
              "      <td>Sid</td>\n",
              "      <td>41</td>\n",
              "      <td>82000</td>\n",
              "    </tr>\n",
              "    <tr>\n",
              "      <th>21</th>\n",
              "      <td>Abdul</td>\n",
              "      <td>39</td>\n",
              "      <td>58000</td>\n",
              "    </tr>\n",
              "  </tbody>\n",
              "</table>\n",
              "</div>\n",
              "    <div class=\"colab-df-buttons\">\n",
              "\n",
              "  <div class=\"colab-df-container\">\n",
              "    <button class=\"colab-df-convert\" onclick=\"convertToInteractive('df-007b6d01-1011-4116-aacb-6599c71128e2')\"\n",
              "            title=\"Convert this dataframe to an interactive table.\"\n",
              "            style=\"display:none;\">\n",
              "\n",
              "  <svg xmlns=\"http://www.w3.org/2000/svg\" height=\"24px\" viewBox=\"0 -960 960 960\">\n",
              "    <path d=\"M120-120v-720h720v720H120Zm60-500h600v-160H180v160Zm220 220h160v-160H400v160Zm0 220h160v-160H400v160ZM180-400h160v-160H180v160Zm440 0h160v-160H620v160ZM180-180h160v-160H180v160Zm440 0h160v-160H620v160Z\"/>\n",
              "  </svg>\n",
              "    </button>\n",
              "\n",
              "  <style>\n",
              "    .colab-df-container {\n",
              "      display:flex;\n",
              "      gap: 12px;\n",
              "    }\n",
              "\n",
              "    .colab-df-convert {\n",
              "      background-color: #E8F0FE;\n",
              "      border: none;\n",
              "      border-radius: 50%;\n",
              "      cursor: pointer;\n",
              "      display: none;\n",
              "      fill: #1967D2;\n",
              "      height: 32px;\n",
              "      padding: 0 0 0 0;\n",
              "      width: 32px;\n",
              "    }\n",
              "\n",
              "    .colab-df-convert:hover {\n",
              "      background-color: #E2EBFA;\n",
              "      box-shadow: 0px 1px 2px rgba(60, 64, 67, 0.3), 0px 1px 3px 1px rgba(60, 64, 67, 0.15);\n",
              "      fill: #174EA6;\n",
              "    }\n",
              "\n",
              "    .colab-df-buttons div {\n",
              "      margin-bottom: 4px;\n",
              "    }\n",
              "\n",
              "    [theme=dark] .colab-df-convert {\n",
              "      background-color: #3B4455;\n",
              "      fill: #D2E3FC;\n",
              "    }\n",
              "\n",
              "    [theme=dark] .colab-df-convert:hover {\n",
              "      background-color: #434B5C;\n",
              "      box-shadow: 0px 1px 3px 1px rgba(0, 0, 0, 0.15);\n",
              "      filter: drop-shadow(0px 1px 2px rgba(0, 0, 0, 0.3));\n",
              "      fill: #FFFFFF;\n",
              "    }\n",
              "  </style>\n",
              "\n",
              "    <script>\n",
              "      const buttonEl =\n",
              "        document.querySelector('#df-007b6d01-1011-4116-aacb-6599c71128e2 button.colab-df-convert');\n",
              "      buttonEl.style.display =\n",
              "        google.colab.kernel.accessAllowed ? 'block' : 'none';\n",
              "\n",
              "      async function convertToInteractive(key) {\n",
              "        const element = document.querySelector('#df-007b6d01-1011-4116-aacb-6599c71128e2');\n",
              "        const dataTable =\n",
              "          await google.colab.kernel.invokeFunction('convertToInteractive',\n",
              "                                                    [key], {});\n",
              "        if (!dataTable) return;\n",
              "\n",
              "        const docLinkHtml = 'Like what you see? Visit the ' +\n",
              "          '<a target=\"_blank\" href=https://colab.research.google.com/notebooks/data_table.ipynb>data table notebook</a>'\n",
              "          + ' to learn more about interactive tables.';\n",
              "        element.innerHTML = '';\n",
              "        dataTable['output_type'] = 'display_data';\n",
              "        await google.colab.output.renderOutput(dataTable, element);\n",
              "        const docLink = document.createElement('div');\n",
              "        docLink.innerHTML = docLinkHtml;\n",
              "        element.appendChild(docLink);\n",
              "      }\n",
              "    </script>\n",
              "  </div>\n",
              "\n",
              "\n",
              "<div id=\"df-1b9bbb36-aac7-4772-bc7a-0656d645787c\">\n",
              "  <button class=\"colab-df-quickchart\" onclick=\"quickchart('df-1b9bbb36-aac7-4772-bc7a-0656d645787c')\"\n",
              "            title=\"Suggest charts\"\n",
              "            style=\"display:none;\">\n",
              "\n",
              "<svg xmlns=\"http://www.w3.org/2000/svg\" height=\"24px\"viewBox=\"0 0 24 24\"\n",
              "     width=\"24px\">\n",
              "    <g>\n",
              "        <path d=\"M19 3H5c-1.1 0-2 .9-2 2v14c0 1.1.9 2 2 2h14c1.1 0 2-.9 2-2V5c0-1.1-.9-2-2-2zM9 17H7v-7h2v7zm4 0h-2V7h2v10zm4 0h-2v-4h2v4z\"/>\n",
              "    </g>\n",
              "</svg>\n",
              "  </button>\n",
              "\n",
              "<style>\n",
              "  .colab-df-quickchart {\n",
              "      --bg-color: #E8F0FE;\n",
              "      --fill-color: #1967D2;\n",
              "      --hover-bg-color: #E2EBFA;\n",
              "      --hover-fill-color: #174EA6;\n",
              "      --disabled-fill-color: #AAA;\n",
              "      --disabled-bg-color: #DDD;\n",
              "  }\n",
              "\n",
              "  [theme=dark] .colab-df-quickchart {\n",
              "      --bg-color: #3B4455;\n",
              "      --fill-color: #D2E3FC;\n",
              "      --hover-bg-color: #434B5C;\n",
              "      --hover-fill-color: #FFFFFF;\n",
              "      --disabled-bg-color: #3B4455;\n",
              "      --disabled-fill-color: #666;\n",
              "  }\n",
              "\n",
              "  .colab-df-quickchart {\n",
              "    background-color: var(--bg-color);\n",
              "    border: none;\n",
              "    border-radius: 50%;\n",
              "    cursor: pointer;\n",
              "    display: none;\n",
              "    fill: var(--fill-color);\n",
              "    height: 32px;\n",
              "    padding: 0;\n",
              "    width: 32px;\n",
              "  }\n",
              "\n",
              "  .colab-df-quickchart:hover {\n",
              "    background-color: var(--hover-bg-color);\n",
              "    box-shadow: 0 1px 2px rgba(60, 64, 67, 0.3), 0 1px 3px 1px rgba(60, 64, 67, 0.15);\n",
              "    fill: var(--button-hover-fill-color);\n",
              "  }\n",
              "\n",
              "  .colab-df-quickchart-complete:disabled,\n",
              "  .colab-df-quickchart-complete:disabled:hover {\n",
              "    background-color: var(--disabled-bg-color);\n",
              "    fill: var(--disabled-fill-color);\n",
              "    box-shadow: none;\n",
              "  }\n",
              "\n",
              "  .colab-df-spinner {\n",
              "    border: 2px solid var(--fill-color);\n",
              "    border-color: transparent;\n",
              "    border-bottom-color: var(--fill-color);\n",
              "    animation:\n",
              "      spin 1s steps(1) infinite;\n",
              "  }\n",
              "\n",
              "  @keyframes spin {\n",
              "    0% {\n",
              "      border-color: transparent;\n",
              "      border-bottom-color: var(--fill-color);\n",
              "      border-left-color: var(--fill-color);\n",
              "    }\n",
              "    20% {\n",
              "      border-color: transparent;\n",
              "      border-left-color: var(--fill-color);\n",
              "      border-top-color: var(--fill-color);\n",
              "    }\n",
              "    30% {\n",
              "      border-color: transparent;\n",
              "      border-left-color: var(--fill-color);\n",
              "      border-top-color: var(--fill-color);\n",
              "      border-right-color: var(--fill-color);\n",
              "    }\n",
              "    40% {\n",
              "      border-color: transparent;\n",
              "      border-right-color: var(--fill-color);\n",
              "      border-top-color: var(--fill-color);\n",
              "    }\n",
              "    60% {\n",
              "      border-color: transparent;\n",
              "      border-right-color: var(--fill-color);\n",
              "    }\n",
              "    80% {\n",
              "      border-color: transparent;\n",
              "      border-right-color: var(--fill-color);\n",
              "      border-bottom-color: var(--fill-color);\n",
              "    }\n",
              "    90% {\n",
              "      border-color: transparent;\n",
              "      border-bottom-color: var(--fill-color);\n",
              "    }\n",
              "  }\n",
              "</style>\n",
              "\n",
              "  <script>\n",
              "    async function quickchart(key) {\n",
              "      const quickchartButtonEl =\n",
              "        document.querySelector('#' + key + ' button');\n",
              "      quickchartButtonEl.disabled = true;  // To prevent multiple clicks.\n",
              "      quickchartButtonEl.classList.add('colab-df-spinner');\n",
              "      try {\n",
              "        const charts = await google.colab.kernel.invokeFunction(\n",
              "            'suggestCharts', [key], {});\n",
              "      } catch (error) {\n",
              "        console.error('Error during call to suggestCharts:', error);\n",
              "      }\n",
              "      quickchartButtonEl.classList.remove('colab-df-spinner');\n",
              "      quickchartButtonEl.classList.add('colab-df-quickchart-complete');\n",
              "    }\n",
              "    (() => {\n",
              "      let quickchartButtonEl =\n",
              "        document.querySelector('#df-1b9bbb36-aac7-4772-bc7a-0656d645787c button');\n",
              "      quickchartButtonEl.style.display =\n",
              "        google.colab.kernel.accessAllowed ? 'block' : 'none';\n",
              "    })();\n",
              "  </script>\n",
              "</div>\n",
              "\n",
              "    </div>\n",
              "  </div>\n"
            ],
            "application/vnd.google.colaboratory.intrinsic+json": {
              "type": "dataframe",
              "summary": "{\n  \"name\": \"})\",\n  \"rows\": 22,\n  \"fields\": [\n    {\n      \"column\": \"name\",\n      \"properties\": {\n        \"dtype\": \"string\",\n        \"num_unique_values\": 22,\n        \"samples\": [\n          \"Rob\",\n          \"Jared\",\n          \"Brad\"\n        ],\n        \"semantic_type\": \"\",\n        \"description\": \"\"\n      }\n    },\n    {\n      \"column\": \"age\",\n      \"properties\": {\n        \"dtype\": \"number\",\n        \"std\": 5,\n        \"min\": 26,\n        \"max\": 43,\n        \"num_unique_values\": 14,\n        \"samples\": [\n          37,\n          32,\n          27\n        ],\n        \"semantic_type\": \"\",\n        \"description\": \"\"\n      }\n    },\n    {\n      \"column\": \"income\",\n      \"properties\": {\n        \"dtype\": \"number\",\n        \"std\": 43505,\n        \"min\": 45000,\n        \"max\": 162000,\n        \"num_unique_values\": 22,\n        \"samples\": [\n          70000,\n          51000,\n          156000\n        ],\n        \"semantic_type\": \"\",\n        \"description\": \"\"\n      }\n    }\n  ]\n}"
            }
          },
          "metadata": {},
          "execution_count": 4
        }
      ]
    },
    {
      "cell_type": "code",
      "source": [
        "conn = sqlite3.connect('income.sqlite')\n",
        "c=conn.cursor()\n",
        "c.execute('CREATE TABLE IF NOT EXISTS income_details (name text, age int,income int)')\n",
        "conn.commit()"
      ],
      "metadata": {
        "id": "ft1IW-XV9DVW"
      },
      "execution_count": 5,
      "outputs": []
    },
    {
      "cell_type": "code",
      "source": [
        "df.to_sql('income_details', conn, if_exists='replace', index = False)\n",
        "\n",
        "c.execute('''\n",
        "SELECT name FROM income_details LIMIT 10\n",
        "           ''')\n",
        "\n",
        "for row in c.fetchall():\n",
        "  print (row)"
      ],
      "metadata": {
        "colab": {
          "base_uri": "https://localhost:8080/"
        },
        "id": "qktT0IvM9Fzi",
        "outputId": "685889c3-34d1-456f-f2fe-9ea0ebd075da"
      },
      "execution_count": 6,
      "outputs": [
        {
          "output_type": "stream",
          "name": "stdout",
          "text": [
            "('Rob',)\n",
            "('Michael',)\n",
            "('Mohan',)\n",
            "('Ismail',)\n",
            "('Kory',)\n",
            "('Gautam',)\n",
            "('David',)\n",
            "('Andrea',)\n",
            "('Brad',)\n",
            "('Angelina',)\n"
          ]
        }
      ]
    },
    {
      "cell_type": "code",
      "source": [
        "def read_sql_query(sql, db):\n",
        "    conn = sqlite3.connect(db)\n",
        "    cur = conn.cursor()\n",
        "    cur.execute(sql)\n",
        "    rows = cur.fetchall()\n",
        "    for row in rows:\n",
        "        print(row)\n",
        "    conn.close()"
      ],
      "metadata": {
        "id": "PRS2eUlt9LiZ"
      },
      "execution_count": 7,
      "outputs": []
    },
    {
      "cell_type": "code",
      "source": [
        "read_sql_query('SELECT * FROM income_details LIMIT 10;',\n",
        "               \"income.sqlite\")"
      ],
      "metadata": {
        "colab": {
          "base_uri": "https://localhost:8080/"
        },
        "id": "kunXH7Q69OVv",
        "outputId": "c8ceee25-6fd6-438e-a388-33155aa34728"
      },
      "execution_count": 8,
      "outputs": [
        {
          "output_type": "stream",
          "name": "stdout",
          "text": [
            "('Rob', 27, 70000)\n",
            "('Michael', 29, 90000)\n",
            "('Mohan', 29, 61000)\n",
            "('Ismail', 28, 60000)\n",
            "('Kory', 42, 150000)\n",
            "('Gautam', 39, 155000)\n",
            "('David', 41, 160000)\n",
            "('Andrea', 38, 162000)\n",
            "('Brad', 36, 156000)\n",
            "('Angelina', 35, 130000)\n"
          ]
        }
      ]
    },
    {
      "cell_type": "code",
      "source": [
        "import getpass\n",
        "import os\n",
        "\n",
        "os.environ[\"OPENAI_API_KEY\"] = 'OPENAI_API_KEY'\n",
        "\n",
        "# Uncomment the below to use LangSmith. Not required.\n",
        "# os.environ[\"LANGCHAIN_API_KEY\"] = getpass.getpass()\n",
        "# os.environ[\"LANGCHAIN_TRACING_V2\"] = \"true\""
      ],
      "metadata": {
        "id": "r8nk6ehf_0q-"
      },
      "execution_count": 10,
      "outputs": []
    },
    {
      "cell_type": "code",
      "source": [
        "from langchain_community.utilities import SQLDatabase\n",
        "\n",
        "db = SQLDatabase.from_uri(\"sqlite:///income.sqlite\")\n",
        "#content/income.sqlite\n",
        "print(db.dialect)\n",
        "print(db.get_usable_table_names())\n",
        "db.run(\"SELECT * FROM income_details;\")"
      ],
      "metadata": {
        "colab": {
          "base_uri": "https://localhost:8080/",
          "height": 128
        },
        "id": "GjEzMPPQ_49m",
        "outputId": "a33788ed-7ecd-408e-f0d8-0001c96d32d4"
      },
      "execution_count": 11,
      "outputs": [
        {
          "output_type": "stream",
          "name": "stdout",
          "text": [
            "sqlite\n",
            "['income_details']\n"
          ]
        },
        {
          "output_type": "execute_result",
          "data": {
            "text/plain": [
              "\"[('Rob', 27, 70000), ('Michael', 29, 90000), ('Mohan', 29, 61000), ('Ismail', 28, 60000), ('Kory', 42, 150000), ('Gautam', 39, 155000), ('David', 41, 160000), ('Andrea', 38, 162000), ('Brad', 36, 156000), ('Angelina', 35, 130000), ('Donald', 37, 137000), ('Tom', 26, 45000), ('Arnold', 27, 48000), ('Jared', 28, 51000), ('Stark', 29, 49500), ('Ranbir', 32, 53000), ('Dipika', 40, 65000), ('Priyanka', 41, 63000), ('Nick', 43, 64000), ('Alia', 39, 80000), ('Sid', 41, 82000), ('Abdul', 39, 58000)]\""
            ],
            "application/vnd.google.colaboratory.intrinsic+json": {
              "type": "string"
            }
          },
          "metadata": {},
          "execution_count": 11
        }
      ]
    },
    {
      "cell_type": "markdown",
      "source": [
        "###Chain\n",
        "Let's create a simple chain that takes a question, turns it into a SQL query, executes the query, and uses the result to answer the original question"
      ],
      "metadata": {
        "id": "uKHiKTvn9VV6"
      }
    },
    {
      "cell_type": "markdown",
      "source": [
        "![image.png](data:image/png;base64,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)\n"
      ],
      "metadata": {
        "id": "w16IqyuM9Wdj"
      }
    },
    {
      "cell_type": "markdown",
      "source": [
        "Convert question to SQL query"
      ],
      "metadata": {
        "id": "70GYACs79nBy"
      }
    },
    {
      "cell_type": "code",
      "source": [
        "from langchain.chains import create_sql_query_chain\n",
        "#This chain generates SQL queries for the given database\n",
        "\n",
        "from langchain_openai import ChatOpenAI\n",
        "\n",
        "llm = ChatOpenAI(model=\"gpt-3.5-turbo\", temperature=0)\n",
        "chain = create_sql_query_chain(llm, db)\n",
        "response = chain.invoke({\"question\": \"How many employees are there\"})\n",
        "response"
      ],
      "metadata": {
        "colab": {
          "base_uri": "https://localhost:8080/",
          "height": 36
        },
        "id": "T7ujeh3T9n3_",
        "outputId": "b7bd37dd-38f1-4c1d-c971-84132c9f1b5d"
      },
      "execution_count": 16,
      "outputs": [
        {
          "output_type": "execute_result",
          "data": {
            "text/plain": [
              "'SELECT COUNT(\"Name\") AS \"Total Employees\" FROM income_details\\nLIMIT 1;'"
            ],
            "application/vnd.google.colaboratory.intrinsic+json": {
              "type": "string"
            }
          },
          "metadata": {},
          "execution_count": 16
        }
      ]
    },
    {
      "cell_type": "code",
      "source": [
        "db.run(response)"
      ],
      "metadata": {
        "colab": {
          "base_uri": "https://localhost:8080/",
          "height": 36
        },
        "id": "0S9krzNj9jhL",
        "outputId": "785649ec-9766-4eab-8d32-2c5f9eb9de00"
      },
      "execution_count": 17,
      "outputs": [
        {
          "output_type": "execute_result",
          "data": {
            "text/plain": [
              "'[(22,)]'"
            ],
            "application/vnd.google.colaboratory.intrinsic+json": {
              "type": "string"
            }
          },
          "metadata": {},
          "execution_count": 17
        }
      ]
    },
    {
      "cell_type": "code",
      "source": [
        "chain.get_prompts()[0].pretty_print()"
      ],
      "metadata": {
        "colab": {
          "base_uri": "https://localhost:8080/"
        },
        "id": "tujAU0YjAtb2",
        "outputId": "af6f3dec-5448-4028-a9cd-4c4f37d9fb60"
      },
      "execution_count": 18,
      "outputs": [
        {
          "output_type": "stream",
          "name": "stdout",
          "text": [
            "You are a SQLite expert. Given an input question, first create a syntactically correct SQLite query to run, then look at the results of the query and return the answer to the input question.\n",
            "Unless the user specifies in the question a specific number of examples to obtain, query for at most 5 results using the LIMIT clause as per SQLite. You can order the results to return the most informative data in the database.\n",
            "Never query for all columns from a table. You must query only the columns that are needed to answer the question. Wrap each column name in double quotes (\") to denote them as delimited identifiers.\n",
            "Pay attention to use only the column names you can see in the tables below. Be careful to not query for columns that do not exist. Also, pay attention to which column is in which table.\n",
            "Pay attention to use date('now') function to get the current date, if the question involves \"today\".\n",
            "\n",
            "Use the following format:\n",
            "\n",
            "Question: Question here\n",
            "SQLQuery: SQL Query to run\n",
            "SQLResult: Result of the SQLQuery\n",
            "Answer: Final answer here\n",
            "\n",
            "Only use the following tables:\n",
            "\u001b[33;1m\u001b[1;3m{table_info}\u001b[0m\n",
            "\n",
            "Question: \u001b[33;1m\u001b[1;3m{input}\u001b[0m\n"
          ]
        }
      ]
    },
    {
      "cell_type": "markdown",
      "source": [
        "###Execute SQL Query\n",
        "Now that we've generated a SQL query, we'll want to execute it. We can use the QuerySQLDatabaseTool to easily add query execution to our chain"
      ],
      "metadata": {
        "id": "posZAFWlAxB_"
      }
    },
    {
      "cell_type": "code",
      "source": [
        "from langchain_community.tools.sql_database.tool import QuerySQLDataBaseTool\n",
        "\n",
        "execute_query = QuerySQLDataBaseTool(db=db)\n",
        "write_query = create_sql_query_chain(llm, db)\n",
        "chain = write_query | execute_query\n",
        "chain.invoke({\"question\": \"How many employees are there\"})"
      ],
      "metadata": {
        "colab": {
          "base_uri": "https://localhost:8080/",
          "height": 36
        },
        "id": "E25fR9VRAxkw",
        "outputId": "56bc9ea3-97a5-4514-f27d-55676b0bdb8f"
      },
      "execution_count": 19,
      "outputs": [
        {
          "output_type": "execute_result",
          "data": {
            "text/plain": [
              "'[(22,)]'"
            ],
            "application/vnd.google.colaboratory.intrinsic+json": {
              "type": "string"
            }
          },
          "metadata": {},
          "execution_count": 19
        }
      ]
    },
    {
      "cell_type": "markdown",
      "source": [
        "###Answer the question\n",
        "Now that we've got a way to automatically generate and execute queries, we just need to combine the original question and SQL query result to generate a final answer. We can do this by passing question and result to the LLM once more"
      ],
      "metadata": {
        "id": "cCYjJODTA2Yn"
      }
    },
    {
      "cell_type": "code",
      "source": [
        "from operator import itemgetter\n",
        "\n",
        "from langchain_core.output_parsers import StrOutputParser\n",
        "#OutputParser that parses LLMResult into the top likely string.\n",
        "\n",
        "from langchain_core.prompts import PromptTemplate\n",
        "from langchain_core.runnables import RunnablePassthrough\n",
        "\n",
        "answer_prompt = PromptTemplate.from_template(\n",
        "    \"\"\"Given the following user question, corresponding SQL query, and SQL result, answer the user question in a funny way.\n",
        "\n",
        "Question: {question}\n",
        "SQL Query: {query}\n",
        "SQL Result: {result}\n",
        "Answer: \"\"\"\n",
        ")\n",
        "\n",
        "answer = answer_prompt | llm | StrOutputParser()\n",
        "chain = (\n",
        "    RunnablePassthrough.assign(query=write_query).assign(\n",
        "        result=itemgetter(\"query\") | execute_query\n",
        "    )\n",
        "    | answer\n",
        ")\n",
        "\n",
        "chain.invoke({\"question\": \"Name top 3 youngest employess with salary more than $35,000\"})"
      ],
      "metadata": {
        "colab": {
          "base_uri": "https://localhost:8080/",
          "height": 55
        },
        "id": "RdCUqgozA28P",
        "outputId": "40d470c2-0a57-4ad2-8076-39613e6dea47"
      },
      "execution_count": 20,
      "outputs": [
        {
          "output_type": "execute_result",
          "data": {
            "text/plain": [
              "\"Well, it looks like Tom, Rob, and Arnold are the youngest employees making more than $35,000. Looks like they're young, wild, and making money moves!\""
            ],
            "application/vnd.google.colaboratory.intrinsic+json": {
              "type": "string"
            }
          },
          "metadata": {},
          "execution_count": 20
        }
      ]
    }
  ]
}