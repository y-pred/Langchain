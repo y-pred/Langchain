{
  "nbformat": 4,
  "nbformat_minor": 0,
  "metadata": {
    "colab": {
      "provenance": []
    },
    "kernelspec": {
      "name": "python3",
      "display_name": "Python 3"
    },
    "language_info": {
      "name": "python"
    }
  },
  "cells": [
    {
      "cell_type": "code",
      "source": [
        "!pip install langchain -q\n",
        "!pip install openai -q\n",
        "%pip install --upgrade --quiet  langchain langchain-community langchain-openai"
      ],
      "metadata": {
        "id": "zZoAOtPnvHFD"
      },
      "execution_count": null,
      "outputs": []
    },
    {
      "cell_type": "code",
      "source": [
        "import os\n",
        "\n",
        "os.environ[\"OPENAI_API_KEY\"] = 'OPENAI_API_KEY'\n",
        "os.environ[\"LANGCHAIN_TRACING_V2\"] = \"true\"\n",
        "os.environ[\"LANGCHAIN_API_KEY\"] = 'LANGCHAIN_KEY'\n"
      ],
      "metadata": {
        "id": "eA_jAnBGwc6f"
      },
      "execution_count": 2,
      "outputs": []
    },
    {
      "cell_type": "code",
      "source": [
        "from langchain_openai import ChatOpenAI\n",
        "from langchain_core.prompts import ChatPromptTemplate\n",
        "from langchain_core.output_parsers import StrOutputParser"
      ],
      "metadata": {
        "id": "vYfHWcl3qjGH"
      },
      "execution_count": 3,
      "outputs": []
    },
    {
      "cell_type": "code",
      "source": [
        "chat_template = ChatPromptTemplate.from_messages(\n",
        "    [\n",
        "        ('system',\"You are a helpful assistant, specializing in answering the questions\"),\n",
        "        (\"user\",\"Text:{text}\")\n",
        "    ]\n",
        ")\n",
        "message = chat_template.format_messages(text = \" What is 3*4\")\n",
        "message\n",
        "#messages = chat_template.format_messages(name=\"Bob\", user_input=\"What is your name?\")"
      ],
      "metadata": {
        "colab": {
          "base_uri": "https://localhost:8080/"
        },
        "id": "aqiTIv-vt0Kw",
        "outputId": "d20878e9-6e3c-4e6c-b94c-b4f5f53b5ec0"
      },
      "execution_count": 6,
      "outputs": [
        {
          "output_type": "execute_result",
          "data": {
            "text/plain": [
              "[SystemMessage(content='You are a helpful assistant, specializing in answering the questions'),\n",
              " HumanMessage(content='Text: What is 3*4')]"
            ]
          },
          "metadata": {},
          "execution_count": 6
        }
      ]
    },
    {
      "cell_type": "code",
      "source": [
        "llm = ChatOpenAI(model=\"gpt-3.5-turbo\")\n",
        "output_parser = StrOutputParser()"
      ],
      "metadata": {
        "id": "noW87qSpSk0V"
      },
      "execution_count": 9,
      "outputs": []
    },
    {
      "cell_type": "code",
      "source": [
        "chain = chat_template|llm|output_parser\n",
        "chain.invoke({'text':'What is 5+7'})"
      ],
      "metadata": {
        "colab": {
          "base_uri": "https://localhost:8080/",
          "height": 36
        },
        "id": "hPvVBCK5Svw8",
        "outputId": "daec028f-a4ca-4075-d170-523c57352fae"
      },
      "execution_count": 10,
      "outputs": [
        {
          "output_type": "execute_result",
          "data": {
            "text/plain": [
              "'5 + 7 equals 12.'"
            ],
            "application/vnd.google.colaboratory.intrinsic+json": {
              "type": "string"
            }
          },
          "metadata": {},
          "execution_count": 10
        }
      ]
    },
    {
      "cell_type": "code",
      "source": [
        "chain.invoke({'text':'giev me 100 words on New Delhi'})"
      ],
      "metadata": {
        "colab": {
          "base_uri": "https://localhost:8080/",
          "height": 91
        },
        "id": "JNHptYM8T3BY",
        "outputId": "c3e45ee7-0a6b-4a5a-c958-306181120e61"
      },
      "execution_count": 11,
      "outputs": [
        {
          "output_type": "execute_result",
          "data": {
            "text/plain": [
              "\"New Delhi, the capital city of India, is a bustling metropolis that blends a rich history with modernity. It is known for its iconic landmarks such as the India Gate, Rashtrapati Bhavan, and Humayun's Tomb. The city serves as the political hub of the country, housing the Parliament of India and the President's official residence. New Delhi is a melting pot of cultures, languages, and cuisines, offering a diverse and vibrant experience to visitors. The city is also a major center for art, literature, and education, with numerous museums, galleries, and universities. With its vibrant energy and historical significance, New Delhi continues to attract tourists and locals alike.\""
            ],
            "application/vnd.google.colaboratory.intrinsic+json": {
              "type": "string"
            }
          },
          "metadata": {},
          "execution_count": 11
        }
      ]
    },
    {
      "cell_type": "code",
      "source": [
        "!pip install streamlit\n",
        "!pip install pyngrok"
      ],
      "metadata": {
        "id": "GK446QywkQeM"
      },
      "execution_count": null,
      "outputs": []
    },
    {
      "cell_type": "code",
      "source": [
        "%%writefile app.py\n",
        "import streamlit as st\n",
        "from langchain_openai import ChatOpenAI\n",
        "from langchain_core.prompts import ChatPromptTemplate\n",
        "from langchain_core.output_parsers import StrOutputParser\n",
        "\n",
        "def giveOutput(text):\n",
        "  chat_template = ChatPromptTemplate.from_messages(\n",
        "    [\n",
        "        ('system',\"You are a helpful assistant, specializing in answering the questions\"),\n",
        "        (\"user\",\"Text:{text}\")\n",
        "    ]\n",
        "  )\n",
        "  llm = ChatOpenAI(model=\"gpt-3.5-turbo\")\n",
        "  output_parser = StrOutputParser()\n",
        "  chain = chat_template|llm|output_parser\n",
        "  return chain.invoke({'text':text})\n",
        "\n",
        "#Streamlit app\n",
        "def main():\n",
        "  st.title(\"My own GPT\")\n",
        "  input = st.text_input(\"Type your question\")\n",
        "  if input:\n",
        "    output = giveOutput(input)\n",
        "    st.write(output)\n",
        "\n",
        "if __name__ == \"__main__\":\n",
        "  main()"
      ],
      "metadata": {
        "colab": {
          "base_uri": "https://localhost:8080/"
        },
        "id": "PppplAARkmeq",
        "outputId": "fcf4d5de-3ef9-4a1f-91e8-008ecd21ea8c"
      },
      "execution_count": 15,
      "outputs": [
        {
          "output_type": "stream",
          "name": "stdout",
          "text": [
            "Overwriting app.py\n"
          ]
        }
      ]
    },
    {
      "cell_type": "code",
      "source": [
        "\n",
        "from pyngrok import ngrok\n",
        "import time\n",
        "\n",
        "#Set auth token\n",
        "ngrok.set_auth_token(\"2c54S0BCzBB0ZiGw5FSS82ulUNb_7wsNuyyPb22woziTCnnXn\")\n",
        "\n",
        "# Wait for the Flask app to start\n",
        "#time.sleep(2)\n",
        "\n",
        "!nohup streamlit run app.py --server.port 5011 &\n",
        "# Start ngrok tunnel\n",
        "ngrok_tunnel = ngrok.connect(addr='5011', proto='http', bind_tls=True)\n",
        "\n",
        "# Print the URL\n",
        "print(' * Tunnel URL:', ngrok_tunnel.public_url)\n",
        "\n",
        "# Keep the Colab session alive\n",
        "while True:\n",
        "    time.sleep(120)  # Keep the session alive for 120sec"
      ],
      "metadata": {
        "id": "DAbk9hx0mJF6"
      },
      "execution_count": null,
      "outputs": []
    }
  ]
}