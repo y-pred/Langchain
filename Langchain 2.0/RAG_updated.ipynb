{
  "cells": [
    {
      "cell_type": "code",
      "execution_count": null,
      "metadata": {
        "id": "BFyGB03-VWoB"
      },
      "outputs": [],
      "source": [
        "!pip install langchain -q\n",
        "!pip install openai -q"
      ]
    },
    {
      "cell_type": "code",
      "execution_count": null,
      "metadata": {
        "id": "9Ym7-csfZpxM"
      },
      "outputs": [],
      "source": [
        "%pip install --upgrade --quiet  langchain langchain-community langchain-openai"
      ]
    },
    {
      "cell_type": "code",
      "source": [
        "import os\n",
        "\n",
        "os.environ[\"OPENAI_API_KEY\"] = 'OPENAI_API_KEY'\n",
        "os.environ[\"LANGCHAIN_TRACING_V2\"] = \"true\"\n",
        "os.environ[\"LANGCHAIN_API_KEY\"] = 'LANGCHAIN_KEY'"
      ],
      "metadata": {
        "id": "P19Ldn2sKufV"
      },
      "execution_count": null,
      "outputs": []
    },
    {
      "cell_type": "code",
      "execution_count": null,
      "metadata": {
        "id": "81nt5FeIbsS9"
      },
      "outputs": [],
      "source": [
        "!pip install pypdf"
      ]
    },
    {
      "cell_type": "code",
      "execution_count": null,
      "metadata": {
        "id": "dL8DuMija97i"
      },
      "outputs": [],
      "source": [
        "from langchain_community.document_loaders import PyPDFLoader\n",
        "loader = PyPDFLoader(\"/content/short stories.pdf\")\n",
        "loader"
      ]
    },
    {
      "cell_type": "code",
      "execution_count": 6,
      "metadata": {
        "colab": {
          "base_uri": "https://localhost:8080/"
        },
        "id": "pHcG4hNYb0YZ",
        "outputId": "7088a038-7332-4add-ab89-a568bb3008a8"
      },
      "outputs": [
        {
          "output_type": "execute_result",
          "data": {
            "text/plain": [
              "[Document(page_content='1/I S ELL MY DREAMS\\nShort stories\\nINTRODUCTION\\nA short story is a prose narrative of limited length.\\nIt organises the action and thoughts of its\\ncharacters into the pattern of a plot. The plot\\nform may be comic, tragic, romantic or satiric.\\nThe central incident is selected to manifest, as\\nmuch as possible, the protagonist’s life and\\ncharacter , and the details contribute to the\\ndevelopment of the plot.\\nThe term ‘short story’ covers a great diversity of\\nprose fiction, right from the really short ‘short\\nstory’ of about five hundred words to longer and\\nmore complex works. The longer ones, with their\\nstatus of middle length, fall between the tautness\\nof the short narrative and the expansiveness of\\nthe novel.\\nThere can be thematic variation too. The stories\\ndeal with fantasy, reality, alienation and the\\nproblem of choice in personal life. There are three\\nshort stories and two long ones in this section\\nrepresenting writers from five cultures.\\n2024-25', metadata={'source': '/content/short stories.pdf', 'page': 0}),\n",
              " Document(page_content='2/KALEIDOSCOPE\\nI S I SI S I SI S ell my Dreamsell my Dreamsell my Dreamsell my Dreamsell my Dreams\\nGabriel Garcia Marquez was brought up by his\\ngrandparents in Northern Columbia because his\\nparents were poor and struggling. A novelist, short-\\nstory writer and journalist, he is widely considered\\nthe greatest living Latin American master of narrative.\\nMarquez won the Nobel Prize in Literature in 1982.\\nHis two masterpieces ar e One Hundr ed Years in\\nSolitude (1967, tr . 1970) and Love in The T ime of\\nCholera (1985, tr . 1988). His themes ar e violence,\\nsolitude and the overwhelming human need for love.\\nThis story reflects, like most of his works, a high\\npoint in Latin American magical realism; it is rich\\nand lucid, mixing reality with fantasy.\\nOne morning  at nine o’clock, while we were having breakfast\\non the terrace of the Havana Riviera Hotel under a bright\\nsun, a huge wave picked up several cars that were driving\\ndown the avenue along the seawall or parked on the\\npavement, and embedded one of them in the side of the\\nhotel. It was like an explosion of dynamite that sowed panic\\non all twenty floors of the building and turned the great\\nentrance window to dust. The many tourists in the lobby\\nwere thrown into the air along with the furniture, and\\nsome were cut by the hailstorm of glass. The wave must\\nhave been immense, because it leaped over the wide two-\\nway street between the seawall and the hotel and still had\\nenough force to shatter the window.\\nThe cheerful Cuban volunteers, with the help of the\\nfire department, picked up the debris in less than six hours,\\nand sealed of f the gate to the sea and installed another ,\\n1 11 11\\nGabriel Garcia Marquez\\n1927-2014\\n2024-25', metadata={'source': '/content/short stories.pdf', 'page': 1}),\n",
              " Document(page_content='3/I S ELL MY DREAMS\\nand everything returned to normal. During the morning\\nnobody worried about the car encrusted in the wall, for\\npeople assumed it was one of those that had been parked\\non the pavement. But when the crane lifted it out of its\\nsetting, the body of a woman was found secured behind\\nthe steering wheel by a seat belt. The blow had been so\\nbrutal that not a single one of her bones was left whole.\\nHer face was destroyed, her boots had been ripped apart,\\nand her clothes were in shreds. She wore a gold ring shaped\\nlike a serpent, with emerald eyes. The police established\\nthat she was the housekeeper for the new Portuguese\\nambassador and his wife. She had come to Havana with\\nthem two weeks before and had left that morning for the\\nmarket, driving a new car . Her name meant nothing to me\\nwhen I r ead it in the newspaper , but I was intrigued by the\\nsnake ring and its emerald eyes. I could not find out,\\nhowever , on which finger she wor e it.\\nThis was a crucial piece of information, because I feared\\nshe was an unforgettable woman whose real name I never\\nknew, and who wore a similar ring on her right forefinger\\nwhich, in those days, was even more unusual than it is\\nnow. I had met her thirty-four years earlier in Vienna,\\neating sausage with boiled potatoes and drinking draft beer\\nin a tavern frequented by Latin American students. I had\\ncome from Rome that morning, and I still remember my\\nimmediate response to her splendid soprano’s bosom, the\\nlanguid foxtails on her coat collar , and that Egyptian ring\\nin the shape of a serpent. She spoke an elementary Spanish\\nin a metallic accent without pausing for breath, and I\\nthought she was the only Austrian at the long wooden\\ntable. But no, she had been born in Colombia and had\\ncome to Austria between the wars, when she was little\\nmore than a child, to study music and voice. She was\\nabout thirty, and did not carry her years well, for she had\\nnever been pretty and had begun to age before her time.\\nBut she was a charming human being. And one of the\\nmost awe-inspiring.\\nVienna was still an old imperial city, whose\\ngeographical position between the two irreconcilable worlds\\nleft behind by the Second W orld W ar had tur ned it into a\\n2024-25', metadata={'source': '/content/short stories.pdf', 'page': 2}),\n",
              " Document(page_content='4/KALEIDOSCOPE\\nparadise of black marketeering and international espionage.\\nI could not have imagined a more suitable spot for my\\nfugitive compatriot, who still ate in the students’ tavern\\non the corner only out of loyalty to her origins, since she\\nhad more than enough money to buy meals for all her\\ntable companions. She never told her real name, and we\\nalways knew her by the Germanic tongue twister that we\\nLatin American students in Vienna invented for her: Frau\\nFrieda. I had just been introduced to her when I committed\\nthe happy impertinence of asking how she had come to be\\nin a world so distant and different from the windy cliffs of\\nQuindio, and she answered with a devastating:\\n‘I sell my dreams.’\\nIn reality, that was her only trade. She had been the\\nthird of eleven children born to a prosperous shopkeeper\\nin old Caldas, and as soon as she learned to speak she\\ninstituted the fine custom in her family of telling dreams\\nbefore breakfast, the time when their oracular qualities\\nare preserved in their purest form. When she was seven\\nshe dreamed that one of her brothers was carried off by a\\nflood. Her mother , out of sheer r eligious superstition,\\nforbade the boy to swim in the ravine, which was his\\nfavourite pastime. But Frau Frieda already had her own\\nsystem of prophecy.\\n‘What that dream means,’ she said, ‘isn’t that he’s\\ngoing to drown, but that he shouldn’t eat sweets.’\\nHer interpr etation seemed an infamy to a five-year -old\\nboy who could not live without his Sunday treats. Their\\nmother , convinced of her daughter’s oracular talents,\\nenforced the warning with an iron hand. But in her first\\ncareless moment the boy choked on a piece of caramel that\\nhe was eating in secret, and there was no way to save him.\\nFrau Frieda did not think she could earn a living with\\nher talent until life caught her by the throat during the\\ncruel Viennese winters. Then she looked for work at the\\nfirst house where she would have liked to live, and when\\nshe was asked what she could do, she told only the truth:\\n‘I dream.’ A brief explanation to the lady of the house was\\nall she needed, and she was hired at a salary that just\\n2024-25', metadata={'source': '/content/short stories.pdf', 'page': 3}),\n",
              " Document(page_content='5/I S ELL MY DREAMS\\ncovered her minor expenses, but she had a nice room and\\nthree meals a day—br eakfast in particular , when the family\\nsat down to learn the immediate future of each of its\\nmembers: the father , a r efined financier; the mother , a\\njoyful woman passionate about Romantic chamber music;\\nand two children, eleven and nine years old. They were all\\nreligious and therefore inclined to archaic superstitions,\\nand they were delighted to take in Frau Frieda, whose\\nonly obligation was to decipher the family’s daily fate\\nthrough her dreams.\\nShe did her job well, and for a long time, above all\\nduring the war years, when reality was more sinister than\\nnightmares. Only she could decide at breakfast what each\\nshould do that day, and how it should be done, until her\\npredictions became the sole authority in the house. Her\\ncontrol over the family was absolute: even the faintest sigh\\nwas br eathed by her or der. The master of the house died\\nat about the time I was in Vienna, and had the elegance to\\nleave her a part of his estate on the condition that she\\ncontinue dreaming for the family until her dreams came\\nto an end.\\nI stayed in Vienna for more than a month, sharing the\\nstraitened circumstances of the other students while I\\nwaited for money that never arrived. Frau Frieda’s\\nunexpected and generous visits to the tavern were like\\nfiestas in our poverty-stricken regime. One night, in a beery\\neuphoria, she whispered in my ear with a conviction that\\npermitted no delay.\\n‘I only came to tell you that I dreamed about you last\\nnight,’ she said. ‘Y ou must leave right away and not come\\nback to Vienna for five years.’\\nHer conviction was so real that I boarded the last train\\nto Rome that same night. As for me, I was so influenced by\\nwhat she said that from then on I considered myself a\\nsurvivor of some catastrophe I never experienced. I still\\nhave not returned to Vienna.\\n2024-25', metadata={'source': '/content/short stories.pdf', 'page': 4}),\n",
              " Document(page_content='6/KALEIDOSCOPE\\nStop and ThinkStop and ThinkStop and ThinkStop and ThinkStop and Think\\n1.How did the author recognise the lady who was\\nextricated from the car encrusted in the wall of Havana\\nRiviera Hotel after the storm?\\n2.Why did the author leave Vienna never to return\\nagain?\\nBefore the disaster in Havana, I had seen Frau Frieda\\nin Barcelona in so unexpected and fortuitous a way that it\\nseemed a mystery to me. It happened on the day Pablo\\nNeruda stepped on Spanish soil for the first time since the\\nCivil W ar, on a stopover during a long sea voyage to\\nValparaiso. He spent a mor ning with us hunting big game\\nin the second-hand bookstores, and at Porter he bought\\nan old, dried-out volume with a torn binding for which he\\npaid what would have been his salary for two months at\\nthe consulate in Rangoon. He moved through the crowd\\nlike an invalid elephant, with a child’s curiosity in the\\ninner workings of each thing he saw, for the world appeared\\nto him as an immense wind-up toy with which life invented\\nitself.\\nI have never known anyone closer to the idea one has\\nof a Renaissance pope: He was gluttonous and refined.\\nEven against his will, he always presided at the table.\\nMatilde, his wife, would put a bib around his neck that\\nbelonged in a barbershop rather than a dining room, but it\\nwas the only way to keep him from taking a bath in sauce.\\nThat day at Carvalleiras was typical. He ate three whole\\nlobsters, dissecting them with a surgeon’s skill, and at the\\nsame time devoured everyone else’s plate with his eyes\\nand tasted a little from each with a delight that made the\\ndesire to eat contagious: clams from Galicia, mussels from\\nCantabria, prawns from Alicante, sea cucumbers from the\\nCosta Brava. In the meantime, like the French, he spoke\\nof nothing but other culinary delicacies, in particular the\\nprehistoric shellfish of Chile, which he carried in his heart.\\nAll at once he stopped eating, tuned his lobster’s antennae,\\nand said to me in a very quiet voice:\\n‘There’s someone behind me who won’t stop looking at\\nme.’\\n2024-25', metadata={'source': '/content/short stories.pdf', 'page': 5}),\n",
              " Document(page_content='7/I S ELL MY DREAMS\\nI glanced over his shoulder , and it was true. Thr ee\\ntables away sat an intrepid woman in an old-fashioned\\nfelt hat and a purple scarf, eating without haste and staring\\nat him. I recognised her right away. She had grown old\\nand fat, but it was Frau Frieda, with the snake ring on her\\nindex finger .\\nShe was travelling from Naples on the same ship as\\nNeruda and his wife, but they had not seen each other on\\nboard. We invited her to have cof fee at our table, and I\\nencouraged her to talk about her dreams in order to astound\\nthe poet. He paid no attention, for from the very beginning\\nhe had announced that he did not believe in prophetic\\ndreams.\\n‘Only poetry is clairvoyant,’ he said.\\nAfter lunch, during the inevitable stroll along the\\nRamblas, I lagged behind with Frau Frieda so that we could\\nrenew our memories with no other ears listening. She told\\nme she had sold her properties in Austria and retired to\\nOporto, in Portugal, where she lived in a house that she\\ndescribed as a fake castle on a hill, from which one could\\nsee all the way across the ocean to the Americas. Although\\nshe did not say so, her conversation made it clear that,\\ndream by dream, she had taken over the entire fortune of\\nher ineffable patrons in Vienna. That did not surprise me,\\nhowever , because I had always thought her dr eams wer e\\nno more than a stratagem for surviving. And I told her so.\\nShe laughed her irr esistible laugh. ‘Y ou’re as impudent\\nas ever ,’ she said. And said no mor e, because the r est of\\nthe group had stopped to wait for Neruda to finish talking\\nin Chilean slang to the parrots along the Rambla de los\\nPájaros. When we resumed our conversation, Frau Frieda\\nchanged the subject.\\n‘By the way,’ she said, ‘you can go back to Vienna\\nnow.’\\nOnly then did I realise that thirteen years had gone by\\nsince our first meeting.\\n‘Even if your dreams are false, I’ll never go back,’ I told\\nher. ‘Just in case.’\\nAt three o’clock we left her to accompany Neruda to his\\nsacred siesta, which he took in our house after solemn\\n2024-25', metadata={'source': '/content/short stories.pdf', 'page': 6}),\n",
              " Document(page_content='8/KALEIDOSCOPE\\npreparations that in some way recalled the Japanese tea\\nceremony. Some windows had to be opened and others closed\\nto achieve the perfect degree of warmth, and there had to\\nbe a certain kind of light from a certain direction, and\\nabsolute silence. Neruda fell asleep right away, and woke\\nten minutes later , as childr en do, when we least expected\\nit. He appeared in the living room refreshed, and with the\\nmonogram of the pillowcase imprinted on his cheek.\\n‘I dreamed about that woman who dreams,’ he said.\\nMatilde wanted him to tell her his dream.\\n‘I dreamed she was dreaming about me,’ he said.\\n‘That’s right out of Borges,’ I said.\\nHe looked at me in disappointment.\\n‘Has he written it already?’\\n‘If he hasn’t he’ll write it sometime,’ I said. ‘It will be\\none of his labyrinths.’\\nAs soon as he boarded the ship at six that evening, Neruda\\ntook his leave of us, sat down at an isolated table, and began\\nto write fluid verses in the green ink he used for drawing\\nflowers and fish and birds when he dedicated his books. At\\nthe first ‘All ashore’ we looked for Frau Frieda, and found her\\nat last on the tourist deck, just as we were about to leave\\nwithout saying good-bye. She too had taken a siesta.\\n‘I dreamed about the poet,’ she said.\\nIn astonishment I asked her to tell me her dream.\\n‘I dreamed he was dreaming about me,’ she said, and\\nmy look of amazement disconcerted her . ‘What did you\\nexpect? Sometimes, with all my dreams, one slips in that\\nhas nothing to do with real life.’\\nStop and ThinkStop and ThinkStop and ThinkStop and ThinkStop and Think\\n 1.How did  Pablo Neruda know that somebody behind\\nhim was looking at him?\\n 2.How did  Pablo  Neruda counter Frau Frieda’s claims\\nto clairvoyance?\\nI never saw her again or even wondered about her\\nuntil I heard about the snake ring on the woman who\\ndied in the Havana Riviera disaster . And I could not r esist\\n2024-25', metadata={'source': '/content/short stories.pdf', 'page': 7}),\n",
              " Document(page_content='9/I S ELL MY DREAMS\\nthe temptation of questioning the Portuguese\\nambassador when we happened to meet some months\\nlater at a diplomatic reception. The ambassador spoke\\nabout her with great enthusiasm and enormous\\nadmiration. ‘Y ou cannot imagine how extraor dinary she\\nwas,’ he said. ‘Y ou would have been obliged to write a\\nstory about her .’ And he went on in the same tone, with\\nsurprising details, but without the clue that would have\\nallowed me to come to a final conclusion.\\n‘In concrete terms,’ I asked at last, ‘what did she do?’\\n‘Nothing,’ he said, with a certain disenchantment. ‘She\\ndreamed.’\\nUnderstanding the T ext\\n1. Did the author believe in the prophetic ability of Frau Frieda?\\n2. Why did he think that Frau Frieda’s dreams were a stratagem\\nfor surviving?\\n3. Why does the author compare Neruda to a Renaissance pope?\\nTalking about the T ext\\nDiscuss in groups\\n1. In spite of all the rationality that human beings are capable of,\\nmost of us are suggestible and yield to archaic superstitions.\\n2. Dreams and clairvoyance are as much an element of the poetic\\nvision as religious superstition.\\nAppreciation\\n1. The story hinges on a gold ring shaped like a serpent with\\nemerald eyes. Comment on the responses that this image\\nevokes in the r eader .\\n2. The craft of a master story-teller lies in the ability to interweave\\nimagination and reality. Do you think that this story illustrates this?\\n3. Bring out the contradiction in the last exchange between the\\nauthor and the Portuguese ambassador\\n‘In concrete terms,’ I asked at last, ‘what did she do?’ ‘Nothing,’\\nhe said, with a  certain disenchantment. ‘She dreamed.’\\n4. Comment on the ironical element in the story.\\n2024-25', metadata={'source': '/content/short stories.pdf', 'page': 8}),\n",
              " Document(page_content='10/KALEIDOSCOPE\\nLanguage W ork\\nA.Vocabulary\\nLook up the meanings of the following phrases under ‘dream’\\nand ‘sell’ in the dictionary\\ndream         sell\\ndream on sell-by date\\ndream something away selling-point\\n(not) dream of doing something sell-out\\ndream something up selling price\\nlook like a dream seller’s market\\nB.Grammar: Emphasis\\nRead this sentence carefully\\nOne morning  at nine o’clock, while we were having\\nbreakfast on the terrace of the Havana Riviera Hotel\\nunder a bright sun, a huge wave picked up several\\ncars that were driving down the avenue along the\\nseawall or parked on the pavement, and embedded\\none of them in the side of the hotel.\\nThe position of a word, phrase or an idea within a sentence\\nusually indicates the emphasis it receives. Generally, the most\\nemphatic place in the sentence is its  end;  the next most\\nemphatic is its beginning; and the least emphatic, its middle.\\nIn the sentence above the most important fact is that the huge\\nwave embedded one of the cars in one side of the hotel.\\nThe other details of time and place are given at the beginning.\\nThe general statement of the ‘huge wave picking up several\\ncars’ precedes the particular car which is pertinent to the theme\\nof the story.\\nLet us rewrite th e sentence, beginning with ‘a huge wave’ and\\nthe first part following ‘hotel’ and  notice the difference in the\\neffect.\\nA huge wave picked up several cars that were driving\\ndown the avenue along the seawall or parked on the\\npavement, and embedded one of them in the side of\\nthe hotel, one morning  at nine o’clock, while we were\\nhaving breakfast on the terrace of the Havana Riviera\\nHotel under a bright sun.\\n2024-25', metadata={'source': '/content/short stories.pdf', 'page': 9}),\n",
              " Document(page_content='11/I S ELL MY DREAMS\\nTASK\\nStudy the following sentences and underline the part which receives\\nemphasis\\n•I never saw her again or even wondered about her until I heard\\nabout the snake ring on the woman who died in the Havana\\nRiviera disaster .\\n•That did not surprise me, however , because I had always thought\\nher dreams were no more than a stratagem for surviving.\\n•Although she did not say so, her conversation made it clear\\nthat, dream by dream, she had taken over the entire fortune of\\nher ineffable patrons in Vienna.\\n•Three tables away sat an intrepid woman in an old-fashioned felt\\nhat and a purple scarf, eating without haste and staring at him.\\n•I stayed in Vienna for more than a month, sharing the straitened\\ncircumstances of  the other students while I waited for money\\nthat never arrived.\\nC.Pronunciation\\nThe syllable is the basic unit of pronunciation. A word may\\nhave a single syllable, such as ‘will’, ‘pen’  etc. A word, sometimes,\\ncan have more than one syllable as for instance ‘willing’ (will-\\ning). Each syllable contains a vowel sound, and usually one or\\nmore consonants.\\nYou can show division of a wor d into syllables like this\\nfoolish fool-ish(2)\\nagreement a-gree-ment(3)\\narithmetic a-rith-me-tic(4)\\nTASK\\n•Say your name aloud and decide how many syllables there are\\nin it. Do the same with the names of your classmates.\\n•Pick out five words each for two syllable, three syllable and four\\nsyllable words from the lesson.\\nSuggested Reading\\nOne Hundr ed Years in Solitude  by Gabriel Gar cia Marquez\\nLove in the T ime of Cholera by Gabriel Gar cia Mar quez.\\n2024-25', metadata={'source': '/content/short stories.pdf', 'page': 10})]"
            ]
          },
          "metadata": {},
          "execution_count": 6
        }
      ],
      "source": [
        "pages = loader.load_and_split()\n",
        "pages"
      ]
    },
    {
      "cell_type": "code",
      "execution_count": 7,
      "metadata": {
        "colab": {
          "base_uri": "https://localhost:8080/",
          "height": 147
        },
        "id": "wAaN2YXAcIx2",
        "outputId": "54ab2472-8f78-40cd-a0d6-7166cf8703b4"
      },
      "outputs": [
        {
          "output_type": "execute_result",
          "data": {
            "text/plain": [
              "'1/I S ELL MY DREAMS\\nShort stories\\nINTRODUCTION\\nA short story is a prose narrative of limited length.\\nIt organises the action and thoughts of its\\ncharacters into the pattern of a plot. The plot\\nform may be comic, tragic, romantic or satiric.\\nThe central incident is selected to manifest, as\\nmuch as possible, the protagonist’s life and\\ncharacter , and the details contribute to the\\ndevelopment of the plot.\\nThe term ‘short story’ covers a great diversity of\\nprose fiction, right from the really short ‘short\\nstory’ of about five hundred words to longer and\\nmore complex works. The longer ones, with their\\nstatus of middle length, fall between the tautness\\nof the short narrative and the expansiveness of\\nthe novel.\\nThere can be thematic variation too. The stories\\ndeal with fantasy, reality, alienation and the\\nproblem of choice in personal life. There are three\\nshort stories and two long ones in this section\\nrepresenting writers from five cultures.\\n2024-25'"
            ],
            "application/vnd.google.colaboratory.intrinsic+json": {
              "type": "string"
            }
          },
          "metadata": {},
          "execution_count": 7
        }
      ],
      "source": [
        "pages[0].page_content"
      ]
    },
    {
      "cell_type": "code",
      "execution_count": 8,
      "metadata": {
        "id": "5O0ycuSOjdCe"
      },
      "outputs": [],
      "source": [
        "from langchain_text_splitters import RecursiveCharacterTextSplitter\n",
        "\n",
        "text_splitter = RecursiveCharacterTextSplitter(\n",
        "    separators=[\n",
        "        \"\\n\\n\",\n",
        "        \"\\n\",\n",
        "        \" \"\n",
        "    ],\n",
        "    chunk_size=500,\n",
        "    chunk_overlap=100\n",
        ")\n",
        "chunks = text_splitter.split_documents(pages)"
      ]
    },
    {
      "cell_type": "code",
      "execution_count": 9,
      "metadata": {
        "colab": {
          "base_uri": "https://localhost:8080/"
        },
        "id": "KqfNDAHwjsU1",
        "outputId": "f2ab23a3-f9c5-4666-e368-8a44c6555811"
      },
      "outputs": [
        {
          "output_type": "execute_result",
          "data": {
            "text/plain": [
              "Document(page_content='1/I S ELL MY DREAMS\\nShort stories\\nINTRODUCTION\\nA short story is a prose narrative of limited length.\\nIt organises the action and thoughts of its\\ncharacters into the pattern of a plot. The plot\\nform may be comic, tragic, romantic or satiric.\\nThe central incident is selected to manifest, as\\nmuch as possible, the protagonist’s life and\\ncharacter , and the details contribute to the\\ndevelopment of the plot.\\nThe term ‘short story’ covers a great diversity of', metadata={'source': '/content/short stories.pdf', 'page': 0})"
            ]
          },
          "metadata": {},
          "execution_count": 9
        }
      ],
      "source": [
        "chunks[0]"
      ]
    },
    {
      "cell_type": "code",
      "execution_count": 10,
      "metadata": {
        "colab": {
          "base_uri": "https://localhost:8080/"
        },
        "id": "tC9BZfHsj2CM",
        "outputId": "b7034442-7cae-4911-91a6-bb3c4a6b2fb0"
      },
      "outputs": [
        {
          "output_type": "stream",
          "name": "stdout",
          "text": [
            "456\n",
            "480\n",
            "195\n",
            "450\n",
            "459\n"
          ]
        }
      ],
      "source": [
        "count=0\n",
        "for chunk in chunks:\n",
        "  if count<5:\n",
        "    print(len(chunk.page_content))\n",
        "  else:\n",
        "    break\n",
        "  count+=1"
      ]
    },
    {
      "cell_type": "code",
      "source": [
        "[chunks[0]]"
      ],
      "metadata": {
        "colab": {
          "base_uri": "https://localhost:8080/"
        },
        "id": "oqIDO6XMH9m3",
        "outputId": "c245bc92-b966-4b97-c98b-ad2e99dd12e1"
      },
      "execution_count": 11,
      "outputs": [
        {
          "output_type": "execute_result",
          "data": {
            "text/plain": [
              "[Document(page_content='1/I S ELL MY DREAMS\\nShort stories\\nINTRODUCTION\\nA short story is a prose narrative of limited length.\\nIt organises the action and thoughts of its\\ncharacters into the pattern of a plot. The plot\\nform may be comic, tragic, romantic or satiric.\\nThe central incident is selected to manifest, as\\nmuch as possible, the protagonist’s life and\\ncharacter , and the details contribute to the\\ndevelopment of the plot.\\nThe term ‘short story’ covers a great diversity of', metadata={'source': '/content/short stories.pdf', 'page': 0})]"
            ]
          },
          "metadata": {},
          "execution_count": 11
        }
      ]
    },
    {
      "cell_type": "code",
      "execution_count": null,
      "metadata": {
        "id": "S6e78J3bkaa_"
      },
      "outputs": [],
      "source": [
        "!pip install faiss-gpu"
      ]
    },
    {
      "cell_type": "code",
      "execution_count": null,
      "metadata": {
        "id": "BepauJfRldDs"
      },
      "outputs": [],
      "source": [
        "!pip install sentence-transformers"
      ]
    },
    {
      "cell_type": "code",
      "execution_count": null,
      "metadata": {
        "id": "NIPW3t2dkKMH"
      },
      "outputs": [],
      "source": [
        "from langchain_community.vectorstores import FAISS\n",
        "#from langchain_openai import OpenAIEmbeddings\n",
        "from langchain.embeddings import SentenceTransformerEmbeddings\n",
        "embeddings = SentenceTransformerEmbeddings(model_name=\"all-MiniLM-L6-v2\")\n"
      ]
    },
    {
      "cell_type": "code",
      "execution_count": 15,
      "metadata": {
        "id": "KsCnjtrEmYxu"
      },
      "outputs": [],
      "source": [
        "vectorstore = FAISS.from_documents(chunks,embeddings)\n",
        "#faiss_index = FAISS.from_documents(chunks, OpenAIEmbeddings())"
      ]
    },
    {
      "cell_type": "code",
      "execution_count": 16,
      "metadata": {
        "colab": {
          "base_uri": "https://localhost:8080/"
        },
        "id": "LkxRpsE9kMNt",
        "outputId": "ba538c6b-5721-4fd7-eec3-a0b945c08d8c"
      },
      "outputs": [
        {
          "output_type": "stream",
          "name": "stdout",
          "text": [
            "page_content='10/KALEIDOSCOPE\\nLanguage W ork\\nA.Vocabulary\\nLook up the meanings of the following phrases under ‘dream’\\nand ‘sell’ in the dictionary\\ndream         sell\\ndream on sell-by date\\ndream something away selling-point\\n(not) dream of doing something sell-out\\ndream something up selling price\\nlook like a dream seller’s market\\nB.Grammar: Emphasis\\nRead this sentence carefully\\nOne morning  at nine o’clock, while we were having\\nbreakfast on the terrace of the Havana Riviera Hotel' metadata={'source': '/content/short stories.pdf', 'page': 9}\n",
            "9: 10/KALEIDOSCOPE\n",
            "Language W ork\n",
            "A.Vocabulary\n",
            "Look up the meanings of the following phrases under ‘dream’\n",
            "and ‘sell’ in the dictionary\n",
            "dream         sell\n",
            "dream on sell-by date\n",
            "dream something away selling-point\n",
            "(not) dream of doing something sell-out\n",
            "dream something up selling price\n",
            "look like a dream \n",
            "3: 4/KALEIDOSCOPE\n",
            "paradise of black marketeering and international espionage.\n",
            "I could not have imagined a more suitable spot for my\n",
            "fugitive compatriot, who still ate in the students’ tavern\n",
            "on the corner only out of loyalty to her origins, since she\n",
            "had more than enough money to buy meals for all her\n",
            "\n",
            "3: ‘I dream.’ A brief explanation to the lady of the house was\n",
            "all she needed, and she was hired at a salary that just\n",
            "2024-25\n",
            "9: breakfast on the terrace of the Havana Riviera Hotel\n",
            "under a bright sun, a huge wave picked up several\n",
            "cars that were driving down the avenue along the\n",
            "seawall or parked on the pavement, and embedded\n",
            "one of them in the side of the hotel.\n",
            "The position of a word, phrase or an idea within a sentence\n",
            "us\n"
          ]
        }
      ],
      "source": [
        "docs = vectorstore.similarity_search(\"What are we offering to the customer?\", k=4)\n",
        "print(docs[0])\n",
        "for doc in docs:\n",
        "    print(str(doc.metadata[\"page\"]) + \":\", doc.page_content[:300])"
      ]
    },
    {
      "cell_type": "code",
      "execution_count": 17,
      "metadata": {
        "colab": {
          "base_uri": "https://localhost:8080/"
        },
        "id": "tXbBF0rmnEP1",
        "outputId": "3b662695-a2e9-4f3e-9ed7-83b23d473bbc"
      },
      "outputs": [
        {
          "output_type": "execute_result",
          "data": {
            "text/plain": [
              "(Document(page_content='One morning  at nine o’clock, while we were having breakfast\\non the terrace of the Havana Riviera Hotel under a bright\\nsun, a huge wave picked up several cars that were driving\\ndown the avenue along the seawall or parked on the\\npavement, and embedded one of them in the side of the\\nhotel. It was like an explosion of dynamite that sowed panic\\non all twenty floors of the building and turned the great\\nentrance window to dust. The many tourists in the lobby', metadata={'source': '/content/short stories.pdf', 'page': 1}),\n",
              " 1.6010599)"
            ]
          },
          "metadata": {},
          "execution_count": 17
        }
      ],
      "source": [
        "docs_with_score = vectorstore.similarity_search_with_score(\"What are we doing for the customer?\", k=3)\n",
        "docs_with_score[0]"
      ]
    },
    {
      "cell_type": "markdown",
      "source": [
        "Create a context aware LLM Chain"
      ],
      "metadata": {
        "id": "HVnNYsTeFpg4"
      }
    },
    {
      "cell_type": "code",
      "source": [
        "#create chain for documents\n",
        "\n",
        "from langchain_core.prompts import ChatPromptTemplate\n",
        "from langchain.chains.combine_documents import create_stuff_documents_chain\n",
        "from langchain_openai import ChatOpenAI\n",
        "from langchain_core.documents import Document\n",
        "\n",
        "llm = ChatOpenAI()\n",
        "\n",
        "template = \"\"\"Answer the following question based on the provided context\n",
        "<context>\n",
        "{context}\n",
        "</context>\n",
        "\n",
        "Question:{input}\n",
        "\"\"\"\n",
        "\n",
        "#This creates a chain that will combine documents and use the provided template and language model to generate responses.\n",
        "prompt = ChatPromptTemplate.from_template(template)\n",
        "document_chain = create_stuff_documents_chain(llm,prompt)\n",
        "\n",
        "# Example usage\n",
        "context = \"The sun rises in the east and sets in the west.\"\n",
        "question = \"Which direction does the sun set?\"\n",
        "\n",
        "# Convert context into a Document object\n",
        "documents = [Document(page_content=context)]\n",
        "\n",
        "# Get the answer from the document chain\n",
        "answer = document_chain.invoke({\"input\": question, \"context\": documents})\n",
        "print(answer)\n",
        "\n"
      ],
      "metadata": {
        "id": "ckx5Z3dYFpDg",
        "colab": {
          "base_uri": "https://localhost:8080/"
        },
        "outputId": "eea4ff54-6577-447c-b7d3-22149e5e3e7c"
      },
      "execution_count": 37,
      "outputs": [
        {
          "output_type": "stream",
          "name": "stdout",
          "text": [
            "The sun sets in the west.\n"
          ]
        }
      ]
    },
    {
      "cell_type": "code",
      "source": [
        "#Now let's use this in our scenario\n",
        "\n",
        "document_chain.invoke({\n",
        "    \"input\":\"What is the story about?\",\n",
        "    \"context\":[chunks[0]]\n",
        "})"
      ],
      "metadata": {
        "colab": {
          "base_uri": "https://localhost:8080/",
          "height": 73
        },
        "id": "dohYdBMSHQHP",
        "outputId": "38b57765-12c8-4a6a-9452-7ca2d00a7a0d"
      },
      "execution_count": 38,
      "outputs": [
        {
          "output_type": "execute_result",
          "data": {
            "text/plain": [
              "\"The story is about a prose narrative of limited length that organizes the action and thoughts of its characters into a plot. The plot can be comic, tragic, romantic, or satiric, with the central incident selected to manifest the protagonist's life and character. The details in the story contribute to the development of the plot.\""
            ],
            "application/vnd.google.colaboratory.intrinsic+json": {
              "type": "string"
            }
          },
          "metadata": {},
          "execution_count": 38
        }
      ]
    },
    {
      "cell_type": "markdown",
      "source": [
        "###Retriver based Q&A system: Create Retrival Chain (RAG)\n",
        "The system retrieves relevant documents from a vector store and then uses a language model to generate an answer based on the retrieved documents.\n",
        "\n",
        "RAG stands for Retrieval-Augmented Generation. This means that we will enrich the prompt that we send to the LLM. We will use with the documents that wil will retrieve from the vector store for this. LangChain comes with the function create_retrieval_chain that allows you to create one of these."
      ],
      "metadata": {
        "id": "gLDJjGMjg07R"
      }
    },
    {
      "cell_type": "code",
      "source": [
        "from langchain.chains import create_retrieval_chain\n",
        "\n",
        "#This method converts a vector store into a retriever object\n",
        "retriever = vectorstore.as_retriever(search_type=\"similarity\", search_kwargs={\"k\": 3})\n",
        "\n",
        "#This function creates a chain that first uses the retriever to find relevant documents\n",
        "#and then processes these documents using the document_chain\n",
        "retrieval_chain = create_retrieval_chain(retriever,document_chain)\n",
        "\n",
        "response = retrieval_chain.invoke({\n",
        "    \"input\": \"What is the story about?\"\n",
        "})\n",
        "response"
      ],
      "metadata": {
        "colab": {
          "base_uri": "https://localhost:8080/"
        },
        "id": "DlzU26mUFht5",
        "outputId": "f1a5f322-fd6b-47b6-8507-7854081eaa24"
      },
      "execution_count": 20,
      "outputs": [
        {
          "output_type": "execute_result",
          "data": {
            "text/plain": [
              "{'input': 'What is the story about?',\n",
              " 'context': [Document(page_content='development of the plot.\\nThe term ‘short story’ covers a great diversity of\\nprose fiction, right from the really short ‘short\\nstory’ of about five hundred words to longer and\\nmore complex works. The longer ones, with their\\nstatus of middle length, fall between the tautness\\nof the short narrative and the expansiveness of\\nthe novel.\\nThere can be thematic variation too. The stories\\ndeal with fantasy, reality, alienation and the\\nproblem of choice in personal life. There are three', metadata={'source': '/content/short stories.pdf', 'page': 0}),\n",
              "  Document(page_content='1/I S ELL MY DREAMS\\nShort stories\\nINTRODUCTION\\nA short story is a prose narrative of limited length.\\nIt organises the action and thoughts of its\\ncharacters into the pattern of a plot. The plot\\nform may be comic, tragic, romantic or satiric.\\nThe central incident is selected to manifest, as\\nmuch as possible, the protagonist’s life and\\ncharacter , and the details contribute to the\\ndevelopment of the plot.\\nThe term ‘short story’ covers a great diversity of', metadata={'source': '/content/short stories.pdf', 'page': 0}),\n",
              "  Document(page_content='deal with fantasy, reality, alienation and the\\nproblem of choice in personal life. There are three\\nshort stories and two long ones in this section\\nrepresenting writers from five cultures.\\n2024-25', metadata={'source': '/content/short stories.pdf', 'page': 0})],\n",
              " 'answer': 'The story is about the development of the plot in short stories, including the organization of action and thoughts of characters into a plot, as well as the thematic variations that can be found in short stories, such as fantasy, reality, alienation, and the problem of choice in personal life.'}"
            ]
          },
          "metadata": {},
          "execution_count": 20
        }
      ]
    },
    {
      "cell_type": "code",
      "source": [
        "response['answer']"
      ],
      "metadata": {
        "id": "j7rIK_4Dhmw3",
        "outputId": "a1ba5efa-c0a3-49a9-be29-0ed3a4d16f37",
        "colab": {
          "base_uri": "https://localhost:8080/",
          "height": 73
        }
      },
      "execution_count": 21,
      "outputs": [
        {
          "output_type": "execute_result",
          "data": {
            "text/plain": [
              "'The story is about the development of the plot in short stories, including the organization of action and thoughts of characters into a plot, as well as the thematic variations that can be found in short stories, such as fantasy, reality, alienation, and the problem of choice in personal life.'"
            ],
            "application/vnd.google.colaboratory.intrinsic+json": {
              "type": "string"
            }
          },
          "metadata": {},
          "execution_count": 21
        }
      ]
    },
    {
      "cell_type": "markdown",
      "source": [
        "####Converstaional Retrival Chain : RAG Chain\n",
        "This type of chain is designed to take into account the history of the conversation when generating search queries and retrieving relevant documents. Let’s go through each part step by step.\n",
        "\n",
        "Now we will create exactly the same thing as above, but we will have the AI assistant take the history of the conversation into account. In short, we will build the same chain as above but with we will take into account the previous messages in these two steps of the chain:\n",
        "\n",
        "- When fetching the documents from the vector store. We will fetch documents related to the entire conversation and not just the latest message.\n",
        "- When answering the question. We will send to the LLM the history of the conversation along the context and query.\n",
        "\n"
      ],
      "metadata": {
        "id": "jx0yGCXPFXNO"
      }
    },
    {
      "cell_type": "code",
      "source": [
        "#create a retriever that is aware of the conversation history\n",
        "from langchain.chains import create_history_aware_retriever\n",
        "from langchain_core.prompts import MessagesPlaceholder\n",
        "\n",
        "prompt = ChatPromptTemplate.from_messages([\n",
        "    MessagesPlaceholder(variable_name=\"chat_history\"),\n",
        "    (\"user\", \"{input}\"),\n",
        "    (\"user\", \"Given the above conversation, generate a search query to look up in order to get information relevant to the conversation\")\n",
        "])\n",
        "\n",
        "history_retriever_chain = create_history_aware_retriever(llm,retriever,prompt)\n"
      ],
      "metadata": {
        "id": "SQPI8uEI6Ivc"
      },
      "execution_count": 22,
      "outputs": []
    },
    {
      "cell_type": "code",
      "source": [
        "#Simple Example:\n",
        "\n",
        "#Define a more complex prompt for answering questions based on retrieved documents:\n",
        "answer_prompt = ChatPromptTemplate.from_messages([\n",
        "    (\"system\", \"Answer the user's questions based on the below context:\\n\\n{context}\"),\n",
        "    MessagesPlaceholder(variable_name=\"chat_history\"),\n",
        "    (\"user\", \"{input}\")\n",
        "])\n",
        "\n",
        "#Create the document processing chain\n",
        "document_chain = create_stuff_documents_chain(llm, answer_prompt)\n",
        "\n",
        "#Create the final conversational retrieval chain\n",
        "conversational_retrieval_chain = create_retrieval_chain(history_retriever_chain, document_chain)\n",
        "\n",
        "#Define conversation history\n",
        "chat_history = [\n",
        "    HumanMessage(content=\"What is climate change?\"),\n",
        "    AIMessage(content=\"Climate change refers to long-term changes in temperature, precipitation, and other atmospheric conditions on Earth.\")\n",
        "]\n",
        "\n",
        "#Invoke the conversational retrieval chain\n",
        "response = conversational_retrieval_chain.invoke({\n",
        "    \"chat_history\": chat_history,\n",
        "    \"input\": \"How does it affect polar bears?\"\n",
        "})\n"
      ],
      "metadata": {
        "id": "A3T_t7KMIcj1"
      },
      "execution_count": 40,
      "outputs": []
    },
    {
      "cell_type": "code",
      "source": [
        "response"
      ],
      "metadata": {
        "colab": {
          "base_uri": "https://localhost:8080/"
        },
        "id": "ld2BJEhCI7d_",
        "outputId": "0de0594a-dfed-4447-e0e6-bf94f0e4be3c"
      },
      "execution_count": 41,
      "outputs": [
        {
          "output_type": "execute_result",
          "data": {
            "text/plain": [
              "{'chat_history': [HumanMessage(content='What is climate change?'),\n",
              "  AIMessage(content='Climate change refers to long-term changes in temperature, precipitation, and other atmospheric conditions on Earth.')],\n",
              " 'input': 'How does it affect polar bears?',\n",
              " 'context': [Document(page_content='of the story.\\nLet us rewrite th e sentence, beginning with ‘a huge wave’ and\\nthe first part following ‘hotel’ and  notice the difference in the\\neffect.\\nA huge wave picked up several cars that were driving\\ndown the avenue along the seawall or parked on the\\npavement, and embedded one of them in the side of\\nthe hotel, one morning  at nine o’clock, while we were\\nhaving breakfast on the terrace of the Havana Riviera\\nHotel under a bright sun.\\n2024-25', metadata={'source': '/content/short stories.pdf', 'page': 9}),\n",
              "  Document(page_content='and sealed of f the gate to the sea and installed another ,\\n1 11 11\\nGabriel Garcia Marquez\\n1927-2014\\n2024-25', metadata={'source': '/content/short stories.pdf', 'page': 1}),\n",
              "  Document(page_content='deal with fantasy, reality, alienation and the\\nproblem of choice in personal life. There are three\\nshort stories and two long ones in this section\\nrepresenting writers from five cultures.\\n2024-25', metadata={'source': '/content/short stories.pdf', 'page': 0})],\n",
              " 'answer': 'Climate change affects polar bears in various ways. One of the main impacts is the loss of their sea ice habitat, which is crucial for hunting seals, their main food source. As the Arctic sea ice melts due to rising temperatures, polar bears have to travel longer distances to find food, leading to increased energy expenditure and decreased reproductive success. Additionally, the loss of sea ice also exposes polar bears to more human activity and potential conflicts.'}"
            ]
          },
          "metadata": {},
          "execution_count": 41
        }
      ]
    },
    {
      "cell_type": "code",
      "source": [
        "response['answer']"
      ],
      "metadata": {
        "colab": {
          "base_uri": "https://localhost:8080/",
          "height": 91
        },
        "id": "SqELptyKJLhs",
        "outputId": "1355c92f-b1e4-4514-dc8f-15b5e4d787ce"
      },
      "execution_count": 42,
      "outputs": [
        {
          "output_type": "execute_result",
          "data": {
            "text/plain": [
              "'Climate change affects polar bears in various ways. One of the main impacts is the loss of their sea ice habitat, which is crucial for hunting seals, their main food source. As the Arctic sea ice melts due to rising temperatures, polar bears have to travel longer distances to find food, leading to increased energy expenditure and decreased reproductive success. Additionally, the loss of sea ice also exposes polar bears to more human activity and potential conflicts.'"
            ],
            "application/vnd.google.colaboratory.intrinsic+json": {
              "type": "string"
            }
          },
          "metadata": {},
          "execution_count": 42
        }
      ]
    },
    {
      "cell_type": "code",
      "source": [
        "from langchain_core.messages import HumanMessage,AIMessage\n",
        "\n",
        "chat_history = [\n",
        "    HumanMessage(content=\"Is this a story?\"),\n",
        "    AIMessage(content=\"Yes!\")\n",
        "]\n",
        "\n",
        "history_retriever_chain.invoke({\n",
        "    \"chat_history\":chat_history,\n",
        "    \"input\":\"Tell me more about it!\"\n",
        "})"
      ],
      "metadata": {
        "colab": {
          "base_uri": "https://localhost:8080/"
        },
        "id": "x2cvAqjpH5-U",
        "outputId": "de997fcb-55b6-414a-d75e-4c63bfd047da"
      },
      "execution_count": 43,
      "outputs": [
        {
          "output_type": "execute_result",
          "data": {
            "text/plain": [
              "[Document(page_content='1/I S ELL MY DREAMS\\nShort stories\\nINTRODUCTION\\nA short story is a prose narrative of limited length.\\nIt organises the action and thoughts of its\\ncharacters into the pattern of a plot. The plot\\nform may be comic, tragic, romantic or satiric.\\nThe central incident is selected to manifest, as\\nmuch as possible, the protagonist’s life and\\ncharacter , and the details contribute to the\\ndevelopment of the plot.\\nThe term ‘short story’ covers a great diversity of', metadata={'source': '/content/short stories.pdf', 'page': 0}),\n",
              " Document(page_content='development of the plot.\\nThe term ‘short story’ covers a great diversity of\\nprose fiction, right from the really short ‘short\\nstory’ of about five hundred words to longer and\\nmore complex works. The longer ones, with their\\nstatus of middle length, fall between the tautness\\nof the short narrative and the expansiveness of\\nthe novel.\\nThere can be thematic variation too. The stories\\ndeal with fantasy, reality, alienation and the\\nproblem of choice in personal life. There are three', metadata={'source': '/content/short stories.pdf', 'page': 0}),\n",
              " Document(page_content='deal with fantasy, reality, alienation and the\\nproblem of choice in personal life. There are three\\nshort stories and two long ones in this section\\nrepresenting writers from five cultures.\\n2024-25', metadata={'source': '/content/short stories.pdf', 'page': 0})]"
            ]
          },
          "metadata": {},
          "execution_count": 43
        }
      ]
    },
    {
      "cell_type": "code",
      "source": [
        "from langchain.chains import create_retrieval_chain\n",
        "\n",
        "prompt = ChatPromptTemplate.from_messages([\n",
        "    (\"system\", \"Answer the user's questions based on the below context:\\n\\n{context}\"),\n",
        "    MessagesPlaceholder(variable_name=\"chat_history\"),\n",
        "    (\"user\", \"{input}\")\n",
        "])\n",
        "\n",
        "document_chain = create_stuff_documents_chain(llm, prompt)\n",
        "\n",
        "conversational_retrieval_chain = create_retrieval_chain(history_retriever_chain, document_chain)"
      ],
      "metadata": {
        "id": "Z4x-EZgXIbm8"
      },
      "execution_count": 24,
      "outputs": []
    },
    {
      "cell_type": "code",
      "source": [
        "response = conversational_retrieval_chain.invoke({\n",
        "    'chat_history': [],\n",
        "    \"input\": \"Is this a story?\"\n",
        "})"
      ],
      "metadata": {
        "id": "LvH_YWN6IqV5"
      },
      "execution_count": 44,
      "outputs": []
    },
    {
      "cell_type": "code",
      "source": [
        "response['answer']"
      ],
      "metadata": {
        "colab": {
          "base_uri": "https://localhost:8080/",
          "height": 36
        },
        "id": "EUxCcttaIx3q",
        "outputId": "04ffce3a-3a03-4b35-9e0a-5e5cbfefafbe"
      },
      "execution_count": 45,
      "outputs": [
        {
          "output_type": "execute_result",
          "data": {
            "text/plain": [
              "'No, this is not a story itself but an introduction to a collection of short stories.'"
            ],
            "application/vnd.google.colaboratory.intrinsic+json": {
              "type": "string"
            }
          },
          "metadata": {},
          "execution_count": 45
        }
      ]
    },
    {
      "cell_type": "code",
      "source": [
        "# simulate conversation history\n",
        "\n",
        "chat_history = [\n",
        "    HumanMessage(content=\"Is this a collection of stories?\"),\n",
        "    AIMessage(content=\"Yes!\")\n",
        "]\n",
        "\n",
        "response = conversational_retrieval_chain.invoke({\n",
        "    'chat_history': chat_history,\n",
        "    \"input\": \"Tell me more about it!\"\n",
        "})"
      ],
      "metadata": {
        "id": "BQNBXvLZI6ab"
      },
      "execution_count": 46,
      "outputs": []
    },
    {
      "cell_type": "code",
      "source": [
        "response['answer']"
      ],
      "metadata": {
        "colab": {
          "base_uri": "https://localhost:8080/",
          "height": 110
        },
        "id": "imLLTQc1JBHP",
        "outputId": "8bc46ef1-c731-4ff8-ac38-cacebe190524"
      },
      "execution_count": 47,
      "outputs": [
        {
          "output_type": "execute_result",
          "data": {
            "text/plain": [
              "\"This is a collection of short stories that covers a range of prose fiction, from very short to longer and more complex works. The stories in this collection deal with themes such as fantasy, reality, alienation, and the problem of choice in personal life. There are three short stories and two long ones in this section representing writers from five cultures. The stories are organized into a plot structure that may be comic, tragic, romantic, or satiric, with the central incident selected to manifest the protagonist's life and character. The details in the stories contribute to the development of the plot.\""
            ],
            "application/vnd.google.colaboratory.intrinsic+json": {
              "type": "string"
            }
          },
          "metadata": {},
          "execution_count": 47
        }
      ]
    }
  ],
  "metadata": {
    "colab": {
      "provenance": []
    },
    "kernelspec": {
      "display_name": "Python 3",
      "name": "python3"
    },
    "language_info": {
      "name": "python"
    }
  },
  "nbformat": 4,
  "nbformat_minor": 0
}