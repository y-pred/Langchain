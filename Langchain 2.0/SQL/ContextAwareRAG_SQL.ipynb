{
  "nbformat": 4,
  "nbformat_minor": 0,
  "metadata": {
    "colab": {
      "provenance": []
    },
    "kernelspec": {
      "name": "python3",
      "display_name": "Python 3"
    },
    "language_info": {
      "name": "python"
    }
  },
  "cells": [
    {
      "cell_type": "code",
      "execution_count": null,
      "metadata": {
        "id": "3tBlsXTQ5_B0"
      },
      "outputs": [],
      "source": [
        "!pip install langchain-q\n",
        "!pip install openai\n",
        "%pip install --upgrade --quiet  langchain langchain-community langchain-openai"
      ]
    },
    {
      "cell_type": "code",
      "source": [
        "!pip install langchain psycopg2-binary sqlalchemy\n",
        "!pip install langchain-community langchain\n",
        "!pip install langchain-experimental\n",
        "!pip install faiss-cpu"
      ],
      "metadata": {
        "id": "4Dh-uyahHWGX"
      },
      "execution_count": null,
      "outputs": []
    },
    {
      "cell_type": "code",
      "source": [
        "!pip install --upgrade langchain"
      ],
      "metadata": {
        "id": "CMRmvNbh3HJl"
      },
      "execution_count": null,
      "outputs": []
    },
    {
      "cell_type": "code",
      "source": [
        "from langchain_community.utilities import SQLDatabase"
      ],
      "metadata": {
        "id": "EAIlNrKAHcfl"
      },
      "execution_count": 6,
      "outputs": []
    },
    {
      "cell_type": "code",
      "source": [
        "import os\n",
        "\n",
        "os.environ[\"OPENAI_API_KEY\"] = 'OPENAI_API_KEY'"
      ],
      "metadata": {
        "id": "hzLpTmQvHgP0"
      },
      "execution_count": 7,
      "outputs": []
    },
    {
      "cell_type": "code",
      "source": [
        "# Connect to Neon PostgreSQL\n",
        "neon_connection_uri = \"postgresql://neondb_owner:neondb key\"\n",
        "db = SQLDatabase.from_uri(neon_connection_uri)"
      ],
      "metadata": {
        "id": "J2mlovriHink"
      },
      "execution_count": 8,
      "outputs": []
    },
    {
      "cell_type": "code",
      "source": [
        "from langchain.agents.agent_toolkits import create_sql_agent\n",
        "from langchain.sql_database import SQLDatabase\n",
        "from langchain.agents import AgentExecutor\n",
        "from langchain_openai import ChatOpenAI\n",
        "\n",
        "llm = ChatOpenAI(temperature=0)\n",
        "\n",
        "# Create SQL agent\n",
        "sql_agent = create_sql_agent(\n",
        "    llm=llm,\n",
        "    db=db,\n",
        "    agent_type=\"openai-tools\",  # or \"chat-zero-shot-react-description\"\n",
        "    verbose=True,\n",
        ")"
      ],
      "metadata": {
        "id": "Wj_OxuFnHl3r"
      },
      "execution_count": 9,
      "outputs": []
    },
    {
      "cell_type": "code",
      "source": [
        "sql_agent.invoke({\"input\":\"Who is the youngest employee?\"})"
      ],
      "metadata": {
        "colab": {
          "base_uri": "https://localhost:8080/"
        },
        "id": "-lHvqMnkHqtC",
        "outputId": "799bbdea-6e49-4018-af10-8758a6140653"
      },
      "execution_count": 10,
      "outputs": [
        {
          "output_type": "stream",
          "name": "stdout",
          "text": [
            "\n",
            "\n",
            "\u001b[1m> Entering new SQL Agent Executor chain...\u001b[0m\n",
            "\u001b[32;1m\u001b[1;3m\n",
            "Invoking: `sql_db_list_tables` with `{}`\n",
            "\n",
            "\n",
            "\u001b[0m\u001b[38;5;200m\u001b[1;3memployee, employees, messages, playing_with_neon\u001b[0m\u001b[32;1m\u001b[1;3m\n",
            "Invoking: `sql_db_schema` with `{'table_names': 'employee, employees'}`\n",
            "\n",
            "\n",
            "\u001b[0m\u001b[33;1m\u001b[1;3m\n",
            "CREATE TABLE employee (\n",
            "\tid SERIAL NOT NULL, \n",
            "\tname VARCHAR(100) NOT NULL, \n",
            "\tdate_of_joining DATE NOT NULL, \n",
            "\tdepartment VARCHAR(100) NOT NULL, \n",
            "\tsalary DOUBLE PRECISION NOT NULL, \n",
            "\tCONSTRAINT employee_pkey PRIMARY KEY (id)\n",
            ")\n",
            "\n",
            "/*\n",
            "3 rows from employee table:\n",
            "id\tname\tdate_of_joining\tdepartment\tsalary\n",
            "2\tNeha Arora\t2025-05-01\tHR\t43200.0\n",
            "3\tYash CHopra\t2024-09-09\tHR\t32774.0\n",
            "4\tAshish Malhotra\t2024-03-22\tSales\t8965432.0\n",
            "*/\n",
            "\n",
            "\n",
            "CREATE TABLE employees (\n",
            "\tid SERIAL NOT NULL, \n",
            "\tfirst_name VARCHAR(50) NOT NULL, \n",
            "\tlast_name VARCHAR(50) NOT NULL, \n",
            "\temail VARCHAR(100) NOT NULL, \n",
            "\tjob_title VARCHAR(100) NOT NULL, \n",
            "\tdepartment VARCHAR(50) NOT NULL, \n",
            "\thire_date DATE NOT NULL, \n",
            "\tsalary NUMERIC(10, 2) NOT NULL, \n",
            "\tmanager_id INTEGER, \n",
            "\tCONSTRAINT employees_pkey PRIMARY KEY (id), \n",
            "\tCONSTRAINT employees_manager_id_fkey FOREIGN KEY(manager_id) REFERENCES employees (id), \n",
            "\tCONSTRAINT employees_email_key UNIQUE NULLS DISTINCT (email)\n",
            ")\n",
            "\n",
            "/*\n",
            "3 rows from employees table:\n",
            "id\tfirst_name\tlast_name\temail\tjob_title\tdepartment\thire_date\tsalary\tmanager_id\n",
            "123\tAsh\tMal\tash@gmail.com\tManager Partnerships\tAlliance\t2024-08-15\t2000000.00\tNone\n",
            "124\tNeh\tAro\tneh@gmail.com\tAssociate HR\tHR\t2025-01-07\t500000.00\tNone\n",
            "127\tArun\tShukla\tarun@gmail.com\tMarketing Manager\tMarketing\t2024-11-12\t543674.00\tNone\n",
            "*/\u001b[0m\u001b[32;1m\u001b[1;3m\n",
            "Invoking: `sql_db_query` with `{'query': 'SELECT first_name, last_name, hire_date FROM employees ORDER BY hire_date ASC LIMIT 1'}`\n",
            "\n",
            "\n",
            "\u001b[0m\u001b[36;1m\u001b[1;3m[('Ashi', 'Dug', datetime.date(2024, 6, 11))]\u001b[0m\u001b[32;1m\u001b[1;3mThe youngest employee is Ashi Dug, who was hired on June 11, 2024.\u001b[0m\n",
            "\n",
            "\u001b[1m> Finished chain.\u001b[0m\n"
          ]
        },
        {
          "output_type": "execute_result",
          "data": {
            "text/plain": [
              "{'input': 'Who is the youngest employee?',\n",
              " 'output': 'The youngest employee is Ashi Dug, who was hired on June 11, 2024.'}"
            ]
          },
          "metadata": {},
          "execution_count": 10
        }
      ]
    },
    {
      "cell_type": "code",
      "source": [
        "query = \"SELECT id, first_name, last_name, email,hire_date FROM employees\"\n",
        "\n",
        "from langchain.utilities.sql_database import SQLDatabase\n",
        "\n",
        "rows = db._execute(query)"
      ],
      "metadata": {
        "id": "7-s0di6GHwSz"
      },
      "execution_count": 11,
      "outputs": []
    },
    {
      "cell_type": "code",
      "source": [
        "rows"
      ],
      "metadata": {
        "colab": {
          "base_uri": "https://localhost:8080/"
        },
        "id": "N28VOekfH1MF",
        "outputId": "239a6f2b-1f8c-467e-e673-4b1296f335d5"
      },
      "execution_count": 12,
      "outputs": [
        {
          "output_type": "execute_result",
          "data": {
            "text/plain": [
              "[{'id': 123,\n",
              "  'first_name': 'Ash',\n",
              "  'last_name': 'Mal',\n",
              "  'email': 'ash@gmail.com',\n",
              "  'hire_date': datetime.date(2024, 8, 15)},\n",
              " {'id': 124,\n",
              "  'first_name': 'Neh',\n",
              "  'last_name': 'Aro',\n",
              "  'email': 'neh@gmail.com',\n",
              "  'hire_date': datetime.date(2025, 1, 7)},\n",
              " {'id': 127,\n",
              "  'first_name': 'Arun',\n",
              "  'last_name': 'Shukla',\n",
              "  'email': 'arun@gmail.com',\n",
              "  'hire_date': datetime.date(2024, 11, 12)},\n",
              " {'id': 321,\n",
              "  'first_name': 'Ashi',\n",
              "  'last_name': 'Dug',\n",
              "  'email': 'ashi.dug@gmail.com',\n",
              "  'hire_date': datetime.date(2024, 6, 11)}]"
            ]
          },
          "metadata": {},
          "execution_count": 12
        }
      ]
    },
    {
      "cell_type": "code",
      "source": [
        "from langchain_core.documents import Document\n",
        "\n",
        "documents = []\n",
        "\n",
        "for row in rows:\n",
        "  content = f\"id: {row['id']}, name: {row['first_name']} {row['last_name']}, email: {row['email']}, hire_date:{row['hire_date']}\"\n",
        "  documents.append(Document(page_content=content, metadata={\"source\": \"employees\"}))\n"
      ],
      "metadata": {
        "id": "Vc-jSyjWH4BO"
      },
      "execution_count": 13,
      "outputs": []
    },
    {
      "cell_type": "code",
      "source": [
        "documents"
      ],
      "metadata": {
        "colab": {
          "base_uri": "https://localhost:8080/"
        },
        "id": "QiSp8FJ1KocA",
        "outputId": "e6452092-fd10-4bb1-dc0a-96feb94d007a"
      },
      "execution_count": 14,
      "outputs": [
        {
          "output_type": "execute_result",
          "data": {
            "text/plain": [
              "[Document(metadata={'source': 'employees'}, page_content='id: 123, name: Ash Mal, email: ash@gmail.com, hire_date:2024-08-15'),\n",
              " Document(metadata={'source': 'employees'}, page_content='id: 124, name: Neh Aro, email: neh@gmail.com, hire_date:2025-01-07'),\n",
              " Document(metadata={'source': 'employees'}, page_content='id: 127, name: Arun Shukla, email: arun@gmail.com, hire_date:2024-11-12'),\n",
              " Document(metadata={'source': 'employees'}, page_content='id: 321, name: Ashi Dug, email: ashi.dug@gmail.com, hire_date:2024-06-11')]"
            ]
          },
          "metadata": {},
          "execution_count": 14
        }
      ]
    },
    {
      "cell_type": "code",
      "source": [
        "# 4. Set up Vectorstore\n",
        "from langchain.vectorstores import FAISS\n",
        "from langchain_openai import OpenAIEmbeddings\n",
        "\n",
        "embedding_model = OpenAIEmbeddings()\n",
        "vectorstore = FAISS.from_documents(documents, embedding_model)"
      ],
      "metadata": {
        "id": "img_WTYqH71B"
      },
      "execution_count": 15,
      "outputs": []
    },
    {
      "cell_type": "code",
      "source": [
        "#Let's create context aware RAG system\n",
        "\n",
        "from langchain.chains.history_aware_retriever import create_history_aware_retriever\n",
        "from langchain_core.prompts import MessagesPlaceholder\n",
        "from langchain_core.prompts import ChatPromptTemplate\n",
        "from langchain.chains.combine_documents import create_stuff_documents_chain\n",
        "from langchain.chains import create_retrieval_chain\n",
        "\n",
        "context_prompt = ChatPromptTemplate.from_messages([\n",
        "    MessagesPlaceholder(variable_name='chat_history'),\n",
        "    (\"user\", \"{input}\"),\n",
        "    (\"user\", \"Given the above conversation, generate a search query to look up in order to get information relevant to the conversation\")\n",
        "])\n",
        "\n",
        "history_aware_retriever = create_history_aware_retriever(\n",
        "    llm=llm,\n",
        "    retriever=vectorstore.as_retriever(),\n",
        "    prompt=context_prompt\n",
        ")"
      ],
      "metadata": {
        "id": "ezLr1hjxIBjm"
      },
      "execution_count": 16,
      "outputs": []
    },
    {
      "cell_type": "code",
      "source": [
        "answer_prompt = ChatPromptTemplate.from_messages([\n",
        "    (\"system\", \"You are a rude bot. Answer the user's questions rudely, based on the below context, but you answer all the questions:\\n\\n{context}\"),\n",
        "    MessagesPlaceholder(variable_name=\"chat_history\"),\n",
        "    (\"user\", \"{input}\")\n",
        "])\n",
        "document_chain = create_stuff_documents_chain(llm,answer_prompt)\n"
      ],
      "metadata": {
        "id": "7PJAxaLsID0i"
      },
      "execution_count": 17,
      "outputs": []
    },
    {
      "cell_type": "code",
      "source": [
        "rag_chain = create_retrieval_chain(history_aware_retriever, document_chain)"
      ],
      "metadata": {
        "id": "Bjsb8P_JIGaS"
      },
      "execution_count": 18,
      "outputs": []
    },
    {
      "cell_type": "code",
      "source": [
        "#simulate chat_history\n",
        "from langchain_core.messages import HumanMessage,AIMessage\n",
        "\n",
        "chat_history = [\n",
        "    HumanMessage(content = \"Hi is this a database of employees?\"),\n",
        "    AIMessage(content = \"Yes it is! How can I assist you?\"),\n",
        "    HumanMessage(content = \"What is this table about?\"),\n",
        "    AIMessage(content = \"It's a table of employees, what else would it be?\"),\n",
        "    HumanMessage(content = \"Who is the first employee\"),\n",
        "    AIMessage(content = \"The first employee is Ashi Dug.\"),\n",
        "]\n",
        "\n"
      ],
      "metadata": {
        "id": "wxhiiUyWIMA2"
      },
      "execution_count": 19,
      "outputs": []
    },
    {
      "cell_type": "code",
      "source": [
        "response = rag_chain.invoke({\n",
        "    \"input\": \"what is there email id?\",\n",
        "    \"chat_history\": chat_history\n",
        "})"
      ],
      "metadata": {
        "id": "O6mANmcSxvE0"
      },
      "execution_count": 20,
      "outputs": []
    },
    {
      "cell_type": "code",
      "source": [
        "response"
      ],
      "metadata": {
        "colab": {
          "base_uri": "https://localhost:8080/"
        },
        "id": "EyfqXYpsx6sN",
        "outputId": "0e575a77-0d09-4e80-812c-30e76dd967b9"
      },
      "execution_count": 21,
      "outputs": [
        {
          "output_type": "execute_result",
          "data": {
            "text/plain": [
              "{'input': 'what is there email id?',\n",
              " 'chat_history': [HumanMessage(content='Hi is this a database of employees?', additional_kwargs={}, response_metadata={}),\n",
              "  AIMessage(content='Yes it is! How can I assist you?', additional_kwargs={}, response_metadata={}),\n",
              "  HumanMessage(content='What is this table about?', additional_kwargs={}, response_metadata={}),\n",
              "  AIMessage(content=\"It's a table of employees, what else would it be?\", additional_kwargs={}, response_metadata={}),\n",
              "  HumanMessage(content='Who is the first employee', additional_kwargs={}, response_metadata={}),\n",
              "  AIMessage(content='The first employee is Ashi Dug.', additional_kwargs={}, response_metadata={})],\n",
              " 'context': [Document(id='148223fc-4eae-4c19-9b19-85f6934a2d91', metadata={'source': 'employees'}, page_content='id: 321, name: Ashi Dug, email: ashi.dug@gmail.com, hire_date:2024-06-11'),\n",
              "  Document(id='55b441d4-0b8a-4f28-a05f-d302833c6b12', metadata={'source': 'employees'}, page_content='id: 123, name: Ash Mal, email: ash@gmail.com, hire_date:2024-08-15'),\n",
              "  Document(id='3eae7ca6-9712-4023-9d5d-c80f7492d471', metadata={'source': 'employees'}, page_content='id: 127, name: Arun Shukla, email: arun@gmail.com, hire_date:2024-11-12'),\n",
              "  Document(id='0b9e0ffa-82e1-43d9-8240-b041b278ecf2', metadata={'source': 'employees'}, page_content='id: 124, name: Neh Aro, email: neh@gmail.com, hire_date:2025-01-07')],\n",
              " 'answer': \"Ashi Dug's email is ashi.dug@gmail.com.\"}"
            ]
          },
          "metadata": {},
          "execution_count": 21
        }
      ]
    },
    {
      "cell_type": "code",
      "source": [
        "# 8. Routing Function\n",
        "def route_query(user_input):\n",
        "    sql_keywords = [\"salary\",\"department\",\"job title\",\"average salary\",\"highest salary\",\"lowest salary\"]\n",
        "    return \"sql\" if any(word in user_input.lower() for word in sql_keywords) else \"rag\""
      ],
      "metadata": {
        "id": "laNLmJ_iIOxh"
      },
      "execution_count": 22,
      "outputs": []
    },
    {
      "cell_type": "code",
      "source": [
        "# 9. Unified Chatbot Interface\n",
        "def ask_jarvis(user_input, memory):\n",
        "    route = route_query(user_input)\n",
        "\n",
        "    if route == \"rag\":\n",
        "        response = rag_chain.invoke({\n",
        "            \"chat_history\": memory,\n",
        "            \"input\": user_input\n",
        "        })\n",
        "        return response\n",
        "\n",
        "    else:\n",
        "        response = sql_agent.invoke({\"input\": user_input})\n",
        "        return response[\"output\"]"
      ],
      "metadata": {
        "id": "ARXh-HK6IYJD"
      },
      "execution_count": 39,
      "outputs": []
    },
    {
      "cell_type": "code",
      "source": [
        "def get_chat_history(user_input):\n",
        "    chat_history = [\n",
        "        HumanMessage(content = \"Hi is this a database of employees?\"),\n",
        "        AIMessage(content = \"Yes it is! How can I assist you?\"),\n",
        "        HumanMessage(content = user_input)\n",
        "    ]\n",
        "    return chat_history"
      ],
      "metadata": {
        "id": "JSqEz7NR51Ik"
      },
      "execution_count": 40,
      "outputs": []
    },
    {
      "cell_type": "code",
      "source": [
        "# Example Chat Loop\n",
        "if __name__ == \"__main__\":\n",
        "    print(\"Hello, I am Jarvis. Ask me anything!\")\n",
        "    while True:\n",
        "        try:\n",
        "            user_input = input(\"You: \")\n",
        "            if user_input.lower() in [\"exit\", \"quit\"]:\n",
        "                break\n",
        "            chat_history = get_chat_history(user_input)\n",
        "            answer = ask_jarvis(user_input, chat_history)\n",
        "            print(\"Jarvis:\", answer)\n",
        "        except Exception as e:\n",
        "            print(\"Error:\", str(e))"
      ],
      "metadata": {
        "colab": {
          "base_uri": "https://localhost:8080/",
          "height": 463
        },
        "id": "TNgCQbVuIb1e",
        "outputId": "0584b9c2-2dab-464b-9040-b24ee00012d5"
      },
      "execution_count": 41,
      "outputs": [
        {
          "output_type": "stream",
          "name": "stdout",
          "text": [
            "Hello, I am Jarvis. Ask me anything!\n",
            "You: Hi what is this table\n",
            "Jarvis: {'chat_history': [HumanMessage(content='Hi is this a database of employees?', additional_kwargs={}, response_metadata={}), AIMessage(content='Yes it is! How can I assist you?', additional_kwargs={}, response_metadata={}), HumanMessage(content='Hi what is this table', additional_kwargs={}, response_metadata={})], 'input': 'Hi what is this table', 'context': [Document(id='148223fc-4eae-4c19-9b19-85f6934a2d91', metadata={'source': 'employees'}, page_content='id: 321, name: Ashi Dug, email: ashi.dug@gmail.com, hire_date:2024-06-11'), Document(id='55b441d4-0b8a-4f28-a05f-d302833c6b12', metadata={'source': 'employees'}, page_content='id: 123, name: Ash Mal, email: ash@gmail.com, hire_date:2024-08-15'), Document(id='0b9e0ffa-82e1-43d9-8240-b041b278ecf2', metadata={'source': 'employees'}, page_content='id: 124, name: Neh Aro, email: neh@gmail.com, hire_date:2025-01-07'), Document(id='3eae7ca6-9712-4023-9d5d-c80f7492d471', metadata={'source': 'employees'}, page_content='id: 127, name: Arun Shukla, email: arun@gmail.com, hire_date:2024-11-12')], 'answer': \"It's a table of employees, what else do you want to know?\"}\n",
            "You: Who is hired first\n",
            "Jarvis: {'chat_history': [HumanMessage(content='Hi is this a database of employees?', additional_kwargs={}, response_metadata={}), AIMessage(content='Yes it is! How can I assist you?', additional_kwargs={}, response_metadata={}), HumanMessage(content='Who is hired first', additional_kwargs={}, response_metadata={})], 'input': 'Who is hired first', 'context': [Document(id='148223fc-4eae-4c19-9b19-85f6934a2d91', metadata={'source': 'employees'}, page_content='id: 321, name: Ashi Dug, email: ashi.dug@gmail.com, hire_date:2024-06-11'), Document(id='3eae7ca6-9712-4023-9d5d-c80f7492d471', metadata={'source': 'employees'}, page_content='id: 127, name: Arun Shukla, email: arun@gmail.com, hire_date:2024-11-12'), Document(id='55b441d4-0b8a-4f28-a05f-d302833c6b12', metadata={'source': 'employees'}, page_content='id: 123, name: Ash Mal, email: ash@gmail.com, hire_date:2024-08-15'), Document(id='0b9e0ffa-82e1-43d9-8240-b041b278ecf2', metadata={'source': 'employees'}, page_content='id: 124, name: Neh Aro, email: neh@gmail.com, hire_date:2025-01-07')], 'answer': 'Arun Shukla was hired first on 2024-11-12.'}\n"
          ]
        },
        {
          "output_type": "error",
          "ename": "KeyboardInterrupt",
          "evalue": "Interrupted by user",
          "traceback": [
            "\u001b[0;31m---------------------------------------------------------------------------\u001b[0m",
            "\u001b[0;31mKeyboardInterrupt\u001b[0m                         Traceback (most recent call last)",
            "\u001b[0;32m<ipython-input-41-42e9ef672865>\u001b[0m in \u001b[0;36m<cell line: 0>\u001b[0;34m()\u001b[0m\n\u001b[1;32m      4\u001b[0m     \u001b[0;32mwhile\u001b[0m \u001b[0;32mTrue\u001b[0m\u001b[0;34m:\u001b[0m\u001b[0;34m\u001b[0m\u001b[0;34m\u001b[0m\u001b[0m\n\u001b[1;32m      5\u001b[0m         \u001b[0;32mtry\u001b[0m\u001b[0;34m:\u001b[0m\u001b[0;34m\u001b[0m\u001b[0;34m\u001b[0m\u001b[0m\n\u001b[0;32m----> 6\u001b[0;31m             \u001b[0muser_input\u001b[0m \u001b[0;34m=\u001b[0m \u001b[0minput\u001b[0m\u001b[0;34m(\u001b[0m\u001b[0;34m\"You: \"\u001b[0m\u001b[0;34m)\u001b[0m\u001b[0;34m\u001b[0m\u001b[0;34m\u001b[0m\u001b[0m\n\u001b[0m\u001b[1;32m      7\u001b[0m             \u001b[0;32mif\u001b[0m \u001b[0muser_input\u001b[0m\u001b[0;34m.\u001b[0m\u001b[0mlower\u001b[0m\u001b[0;34m(\u001b[0m\u001b[0;34m)\u001b[0m \u001b[0;32min\u001b[0m \u001b[0;34m[\u001b[0m\u001b[0;34m\"exit\"\u001b[0m\u001b[0;34m,\u001b[0m \u001b[0;34m\"quit\"\u001b[0m\u001b[0;34m]\u001b[0m\u001b[0;34m:\u001b[0m\u001b[0;34m\u001b[0m\u001b[0;34m\u001b[0m\u001b[0m\n\u001b[1;32m      8\u001b[0m                 \u001b[0;32mbreak\u001b[0m\u001b[0;34m\u001b[0m\u001b[0;34m\u001b[0m\u001b[0m\n",
            "\u001b[0;32m/usr/local/lib/python3.11/dist-packages/ipykernel/kernelbase.py\u001b[0m in \u001b[0;36mraw_input\u001b[0;34m(self, prompt)\u001b[0m\n\u001b[1;32m   1175\u001b[0m                 \u001b[0;34m\"raw_input was called, but this frontend does not support input requests.\"\u001b[0m\u001b[0;34m\u001b[0m\u001b[0;34m\u001b[0m\u001b[0m\n\u001b[1;32m   1176\u001b[0m             )\n\u001b[0;32m-> 1177\u001b[0;31m         return self._input_request(\n\u001b[0m\u001b[1;32m   1178\u001b[0m             \u001b[0mstr\u001b[0m\u001b[0;34m(\u001b[0m\u001b[0mprompt\u001b[0m\u001b[0;34m)\u001b[0m\u001b[0;34m,\u001b[0m\u001b[0;34m\u001b[0m\u001b[0;34m\u001b[0m\u001b[0m\n\u001b[1;32m   1179\u001b[0m             \u001b[0mself\u001b[0m\u001b[0;34m.\u001b[0m\u001b[0m_parent_ident\u001b[0m\u001b[0;34m[\u001b[0m\u001b[0;34m\"shell\"\u001b[0m\u001b[0;34m]\u001b[0m\u001b[0;34m,\u001b[0m\u001b[0;34m\u001b[0m\u001b[0;34m\u001b[0m\u001b[0m\n",
            "\u001b[0;32m/usr/local/lib/python3.11/dist-packages/ipykernel/kernelbase.py\u001b[0m in \u001b[0;36m_input_request\u001b[0;34m(self, prompt, ident, parent, password)\u001b[0m\n\u001b[1;32m   1217\u001b[0m             \u001b[0;32mexcept\u001b[0m \u001b[0mKeyboardInterrupt\u001b[0m\u001b[0;34m:\u001b[0m\u001b[0;34m\u001b[0m\u001b[0;34m\u001b[0m\u001b[0m\n\u001b[1;32m   1218\u001b[0m                 \u001b[0;31m# re-raise KeyboardInterrupt, to truncate traceback\u001b[0m\u001b[0;34m\u001b[0m\u001b[0;34m\u001b[0m\u001b[0m\n\u001b[0;32m-> 1219\u001b[0;31m                 \u001b[0;32mraise\u001b[0m \u001b[0mKeyboardInterrupt\u001b[0m\u001b[0;34m(\u001b[0m\u001b[0;34m\"Interrupted by user\"\u001b[0m\u001b[0;34m)\u001b[0m \u001b[0;32mfrom\u001b[0m \u001b[0;32mNone\u001b[0m\u001b[0;34m\u001b[0m\u001b[0;34m\u001b[0m\u001b[0m\n\u001b[0m\u001b[1;32m   1220\u001b[0m             \u001b[0;32mexcept\u001b[0m \u001b[0mException\u001b[0m\u001b[0;34m:\u001b[0m\u001b[0;34m\u001b[0m\u001b[0;34m\u001b[0m\u001b[0m\n\u001b[1;32m   1221\u001b[0m                 \u001b[0mself\u001b[0m\u001b[0;34m.\u001b[0m\u001b[0mlog\u001b[0m\u001b[0;34m.\u001b[0m\u001b[0mwarning\u001b[0m\u001b[0;34m(\u001b[0m\u001b[0;34m\"Invalid Message:\"\u001b[0m\u001b[0;34m,\u001b[0m \u001b[0mexc_info\u001b[0m\u001b[0;34m=\u001b[0m\u001b[0;32mTrue\u001b[0m\u001b[0;34m)\u001b[0m\u001b[0;34m\u001b[0m\u001b[0;34m\u001b[0m\u001b[0m\n",
            "\u001b[0;31mKeyboardInterrupt\u001b[0m: Interrupted by user"
          ]
        }
      ]
    }
  ]
}