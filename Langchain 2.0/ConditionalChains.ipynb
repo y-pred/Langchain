{
  "nbformat": 4,
  "nbformat_minor": 0,
  "metadata": {
    "colab": {
      "provenance": []
    },
    "kernelspec": {
      "name": "python3",
      "display_name": "Python 3"
    },
    "language_info": {
      "name": "python"
    }
  },
  "cells": [
    {
      "cell_type": "code",
      "source": [
        "!pip install langchain-q\n",
        "!pip install openai\n",
        "%pip install --upgrade --quiet  langchain langchain-community langchain-openai"
      ],
      "metadata": {
        "id": "TlrQlPlAzNAk"
      },
      "execution_count": null,
      "outputs": []
    },
    {
      "cell_type": "code",
      "execution_count": 2,
      "metadata": {
        "id": "cxwQsypWp0-5"
      },
      "outputs": [],
      "source": [
        "import os\n",
        "\n",
        "os.environ[\"OPENAI_API_KEY\"] = 'OPENAI_API_KEY'"
      ]
    },
    {
      "cell_type": "code",
      "source": [
        "from langchain_openai import ChatOpenAI\n",
        "from langchain_core.prompts import PromptTemplate\n",
        "from pydantic import BaseModel, Field"
      ],
      "metadata": {
        "id": "9P-B6pUAzQSE"
      },
      "execution_count": 3,
      "outputs": []
    },
    {
      "cell_type": "code",
      "source": [
        "from langchain_core.output_parsers import StrOutputParser,PydanticOutputParser"
      ],
      "metadata": {
        "id": "bVSMq-Elzhls"
      },
      "execution_count": 4,
      "outputs": []
    },
    {
      "cell_type": "code",
      "source": [
        "from langchain.schema.runnable import RunnableParallel, RunnableBranch, RunnableLambda"
      ],
      "metadata": {
        "id": "cg6AKXth33Y4"
      },
      "execution_count": 5,
      "outputs": []
    },
    {
      "cell_type": "code",
      "source": [
        "from typing import Literal"
      ],
      "metadata": {
        "id": "XEYMpQUboUcY"
      },
      "execution_count": 7,
      "outputs": []
    },
    {
      "cell_type": "code",
      "source": [
        "model = ChatOpenAI()\n",
        "parser = StrOutputParser()"
      ],
      "metadata": {
        "id": "rYSvRqVUzVIN"
      },
      "execution_count": 6,
      "outputs": []
    },
    {
      "cell_type": "code",
      "source": [
        "#Pydantic model to generate output as 'positive' 'negative' or 'neutral'\n",
        "class Feedback(BaseModel):\n",
        "  sentiment: Literal['positive','negative', 'neutral'] = Field(description=\"Give the sentiment of the feedback\")\n",
        "\n",
        "#This is to ensure model output confirms to the above schema\n",
        "parser2 = PydanticOutputParser(pydantic_object=Feedback)"
      ],
      "metadata": {
        "id": "-RAwfsQ2zbzL"
      },
      "execution_count": 10,
      "outputs": []
    },
    {
      "cell_type": "code",
      "source": [
        "prompt1 = PromptTemplate(\n",
        "    template = \"What is the sentiment of the given text?{feedback}/n {format_instructions}\",\n",
        "    input_variables = ['feedback'],\n",
        "    partial_variables={'format_instructions':parser2.get_format_instructions()}\n",
        ")"
      ],
      "metadata": {
        "id": "rb8EdCDW0Ds4"
      },
      "execution_count": 14,
      "outputs": []
    },
    {
      "cell_type": "code",
      "source": [
        "classifier_chain = prompt1 | model | parser2"
      ],
      "metadata": {
        "id": "r38ReIBI4BXR"
      },
      "execution_count": 15,
      "outputs": []
    },
    {
      "cell_type": "code",
      "source": [
        "classifier_chain.invoke({\"feedback\":\"Food is delicious\"})"
      ],
      "metadata": {
        "colab": {
          "base_uri": "https://localhost:8080/"
        },
        "id": "JcFJezmxo58S",
        "outputId": "5b97e41c-b1fa-4d60-9b74-110d30df5cd9"
      },
      "execution_count": 16,
      "outputs": [
        {
          "output_type": "execute_result",
          "data": {
            "text/plain": [
              "Feedback(sentiment='positive')"
            ]
          },
          "metadata": {},
          "execution_count": 16
        }
      ]
    },
    {
      "cell_type": "code",
      "source": [
        "classifier_chain.invoke({\"feedback\":\"Food is Amazing, they can work a little on the sitting arrangement though\"})"
      ],
      "metadata": {
        "colab": {
          "base_uri": "https://localhost:8080/"
        },
        "id": "R5fzRzkIpoYR",
        "outputId": "28de923e-2540-4f9e-d4fe-773a6a543bed"
      },
      "execution_count": 19,
      "outputs": [
        {
          "output_type": "execute_result",
          "data": {
            "text/plain": [
              "Feedback(sentiment='positive')"
            ]
          },
          "metadata": {},
          "execution_count": 19
        }
      ]
    },
    {
      "cell_type": "code",
      "source": [
        "classifier_chain.invoke({\"feedback\":\"Food is not great\"})"
      ],
      "metadata": {
        "colab": {
          "base_uri": "https://localhost:8080/"
        },
        "id": "xrQAFb5OphDi",
        "outputId": "cb74d156-08d2-420a-a70b-6b9bf4937033"
      },
      "execution_count": 17,
      "outputs": [
        {
          "output_type": "execute_result",
          "data": {
            "text/plain": [
              "Feedback(sentiment='negative')"
            ]
          },
          "metadata": {},
          "execution_count": 17
        }
      ]
    },
    {
      "cell_type": "code",
      "source": [
        "classifier_chain.invoke({\"feedback\":\"I am indifferent to this restaurent's food\"})"
      ],
      "metadata": {
        "colab": {
          "base_uri": "https://localhost:8080/"
        },
        "id": "T0WFg3MUpjiC",
        "outputId": "e62ff84d-cd1f-4e16-a79c-6b26cf66cbf6"
      },
      "execution_count": 18,
      "outputs": [
        {
          "output_type": "execute_result",
          "data": {
            "text/plain": [
              "Feedback(sentiment='neutral')"
            ]
          },
          "metadata": {},
          "execution_count": 18
        }
      ]
    },
    {
      "cell_type": "code",
      "source": [
        "result = classifier_chain.invoke({\"feedback\":\"Food is not great\"})\n",
        "result.sentiment"
      ],
      "metadata": {
        "colab": {
          "base_uri": "https://localhost:8080/",
          "height": 35
        },
        "id": "cdNObqkAqPEh",
        "outputId": "c2a73c02-26c2-4e37-c055-713e8412207b"
      },
      "execution_count": 21,
      "outputs": [
        {
          "output_type": "execute_result",
          "data": {
            "text/plain": [
              "'negative'"
            ],
            "application/vnd.google.colaboratory.intrinsic+json": {
              "type": "string"
            }
          },
          "metadata": {},
          "execution_count": 21
        }
      ]
    },
    {
      "cell_type": "code",
      "source": [
        "#Response prompt for Positive , Negative or neutral sentiment\n",
        "prompt2 = PromptTemplate(\n",
        "    template = \"Write an appropriate response to the positive feedback {feedback}\",\n",
        "    input_variables = ['feedback'],\n",
        ")\n",
        "\n",
        "prompt3 = PromptTemplate(\n",
        "    template = \"Write an appropriate response to the negative feedback {feedback}\",\n",
        "    input_variables = ['feedback'],\n",
        ")\n",
        "\n",
        "prompt4 = PromptTemplate(\n",
        "    template = \"Write an appropriate response to the neutral feedback {feedback}\",\n",
        "    input_variables = ['feedback'],\n",
        ")"
      ],
      "metadata": {
        "id": "gTXuGg2U0uoh"
      },
      "execution_count": 20,
      "outputs": []
    },
    {
      "cell_type": "code",
      "source": [
        "branch_chain = RunnableBranch(\n",
        "    (lambda x:x.sentiment == 'positive', prompt2 | model | parser),\n",
        "    (lambda x:x.sentiment == 'negative', prompt3 | model | parser),\n",
        "    (lambda x:x.sentiment == 'neutral', prompt4 | model| parser),\n",
        "    RunnableLambda(lambda x: \"could not find sentiment\")\n",
        ")\n"
      ],
      "metadata": {
        "id": "7Mume7g81AN7"
      },
      "execution_count": 23,
      "outputs": []
    },
    {
      "cell_type": "code",
      "source": [
        "chain = classifier_chain | branch_chain\n",
        "\n",
        "chain.invoke({'feedback': 'This is a beautiful restaurent, food is good. Their fired rice is a must try',\n",
        "\n",
        "              })\n",
        "\n"
      ],
      "metadata": {
        "colab": {
          "base_uri": "https://localhost:8080/",
          "height": 52
        },
        "id": "jc6I_kqQq67-",
        "outputId": "d45e1d02-b4b8-494c-d8e9-b0aec22e4e6a"
      },
      "execution_count": 25,
      "outputs": [
        {
          "output_type": "execute_result",
          "data": {
            "text/plain": [
              "\"Thank you for your kind words! It's always great to hear positive feedback and I appreciate you taking the time to share your thoughts with me. I'm glad to hear that you had a positive experience. Let me know if there's anything else I can do to help in the future.\""
            ],
            "application/vnd.google.colaboratory.intrinsic+json": {
              "type": "string"
            }
          },
          "metadata": {},
          "execution_count": 25
        }
      ]
    },
    {
      "cell_type": "code",
      "source": [
        "chain.invoke({\n",
        "    'feedback':\"Food isn't good at all\"\n",
        "})"
      ],
      "metadata": {
        "colab": {
          "base_uri": "https://localhost:8080/",
          "height": 70
        },
        "id": "HfMr-bNTrah-",
        "outputId": "aa8a2118-5d17-437f-e71f-e5dbff0b0708"
      },
      "execution_count": 26,
      "outputs": [
        {
          "output_type": "execute_result",
          "data": {
            "text/plain": [
              "'I am sorry to hear that you are dissatisfied with your experience. Please let me know what specific issues you encountered so that I can address them and make improvements for the future. Your feedback is important to us and we strive to provide the best possible service. Thank you for bringing this to our attention.'"
            ],
            "application/vnd.google.colaboratory.intrinsic+json": {
              "type": "string"
            }
          },
          "metadata": {},
          "execution_count": 26
        }
      ]
    },
    {
      "cell_type": "code",
      "source": [
        "chain.invoke({\n",
        "    'feedback':\"I just go there to meet friends\"\n",
        "})"
      ],
      "metadata": {
        "colab": {
          "base_uri": "https://localhost:8080/",
          "height": 52
        },
        "id": "uj7t7Y5jrhQe",
        "outputId": "fa97e860-9a19-4725-d206-7d193a2bc08c"
      },
      "execution_count": 27,
      "outputs": [
        {
          "output_type": "execute_result",
          "data": {
            "text/plain": [
              "'Thank you for your feedback. We appreciate you taking the time to share your thoughts with us. If there is anything specific you believe we can improve on, please let us know so we can work towards making your experience even better in the future.'"
            ],
            "application/vnd.google.colaboratory.intrinsic+json": {
              "type": "string"
            }
          },
          "metadata": {},
          "execution_count": 27
        }
      ]
    }
  ]
}