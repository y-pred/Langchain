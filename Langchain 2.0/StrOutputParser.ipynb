{
  "nbformat": 4,
  "nbformat_minor": 0,
  "metadata": {
    "colab": {
      "provenance": []
    },
    "kernelspec": {
      "name": "python3",
      "display_name": "Python 3"
    },
    "language_info": {
      "name": "python"
    }
  },
  "cells": [
    {
      "cell_type": "code",
      "source": [
        "!pip install langchain-q\n",
        "!pip install openai\n",
        "%pip install --upgrade --quiet  langchain langchain-community langchain-openai"
      ],
      "metadata": {
        "id": "VBDzD543vVVa"
      },
      "execution_count": null,
      "outputs": []
    },
    {
      "cell_type": "code",
      "execution_count": 6,
      "metadata": {
        "id": "zlg8SrqeYXHp"
      },
      "outputs": [],
      "source": [
        "import os\n",
        "\n",
        "os.environ[\"OPENAI_API_KEY\"] = 'OPENAI_API_KEY'"
      ]
    },
    {
      "cell_type": "code",
      "source": [
        "from langchain_openai import ChatOpenAI"
      ],
      "metadata": {
        "id": "iGiGZ4EBLq6S"
      },
      "execution_count": 8,
      "outputs": []
    },
    {
      "cell_type": "code",
      "source": [
        "from langchain_core.prompts import PromptTemplate"
      ],
      "metadata": {
        "id": "xxC8LzocL20i"
      },
      "execution_count": 11,
      "outputs": []
    },
    {
      "cell_type": "code",
      "source": [
        "model = ChatOpenAI()"
      ],
      "metadata": {
        "id": "dQobfMcn0UET"
      },
      "execution_count": 15,
      "outputs": []
    },
    {
      "cell_type": "markdown",
      "source": [
        "##Using .content"
      ],
      "metadata": {
        "id": "rO5xtsMaO5zU"
      }
    },
    {
      "cell_type": "code",
      "source": [
        "#1st prompt\n",
        "\n",
        "template1 = PromptTemplate.from_template(\"Write a report on the topic: {topic}\")\n",
        "template2 = PromptTemplate.from_template(\"Summarise tin 5 points the report :{report}\")"
      ],
      "metadata": {
        "id": "6gZUYiQG0Upa"
      },
      "execution_count": 12,
      "outputs": []
    },
    {
      "cell_type": "code",
      "source": [
        "prompt1 = template1.invoke({\"topic\":\"AI\"})\n",
        "result1 = model.invoke(prompt1)\n",
        "result1"
      ],
      "metadata": {
        "colab": {
          "base_uri": "https://localhost:8080/"
        },
        "id": "ccZEFoMuODKq",
        "outputId": "1f8e0667-5fd9-4a16-b97f-ac68b28c6c41"
      },
      "execution_count": 16,
      "outputs": [
        {
          "output_type": "execute_result",
          "data": {
            "text/plain": [
              "AIMessage(content=\"Artificial intelligence (AI) refers to the simulation of human intelligence processes by machines, particularly computer systems. It involves the development of algorithms and models that enable computers to perform tasks that typically require human intelligence, such as visual perception, speech recognition, decision-making, and language translation. AI has the potential to revolutionize industries and transform the way we work, live, and interact with technology.\\n\\nOne of the key developments in AI in recent years is machine learning, where algorithms are trained on large datasets to learn patterns and make predictions or decisions without being explicitly programmed. Deep learning, a subset of machine learning, has been particularly successful in applications such as image and speech recognition, natural language processing, and autonomous driving.\\n\\nAI technologies are being increasingly integrated into various industries, including healthcare, finance, transportation, manufacturing, and entertainment. In healthcare, AI has been used to improve diagnostic accuracy, personalized treatment plans, and drug discovery. In finance, AI algorithms are used for fraud detection, trading algorithms, and customer service chatbots. In transportation, AI powers autonomous vehicles that can navigate roads safely without human intervention.\\n\\nDespite the potential benefits of AI, there are also concerns about its impact on society and the economy. The automation of tasks and jobs through AI technologies may lead to job displacement and income inequality. There are also ethical and legal issues surrounding AI, such as bias in algorithms, data privacy, and accountability for decisions made by AI systems.\\n\\nGovernments, businesses, and research institutions are actively exploring ways to address these challenges and harness the potential of AI for the greater good. Initiatives such as the European Commission's AI Strategy and the US National Artificial Intelligence Research and Development Strategic Plan aim to promote responsible AI development, ensure transparency and accountability, and foster collaboration between stakeholders.\\n\\nIn conclusion, AI is a rapidly evolving field with the potential to drive innovation and transformation across various industries. However, it is essential to address the ethical, legal, and social implications of AI to ensure that it benefits society as a whole. By fostering collaboration and responsible development, we can harness the power of AI to solve complex problems and improve the quality of life for all.\", additional_kwargs={'refusal': None}, response_metadata={'token_usage': {'completion_tokens': 428, 'prompt_tokens': 15, 'total_tokens': 443, 'completion_tokens_details': {'accepted_prediction_tokens': 0, 'audio_tokens': 0, 'reasoning_tokens': 0, 'rejected_prediction_tokens': 0}, 'prompt_tokens_details': {'audio_tokens': 0, 'cached_tokens': 0}}, 'model_name': 'gpt-3.5-turbo-0125', 'system_fingerprint': None, 'id': 'chatcmpl-BHLrsibGIapbSgnBlS3xtUqfZS1HC', 'finish_reason': 'stop', 'logprobs': None}, id='run-d0e372d5-1d25-4f60-9d50-c5775c541ab9-0', usage_metadata={'input_tokens': 15, 'output_tokens': 428, 'total_tokens': 443, 'input_token_details': {'audio': 0, 'cache_read': 0}, 'output_token_details': {'audio': 0, 'reasoning': 0}})"
            ]
          },
          "metadata": {},
          "execution_count": 16
        }
      ]
    },
    {
      "cell_type": "code",
      "source": [
        "result1.content"
      ],
      "metadata": {
        "colab": {
          "base_uri": "https://localhost:8080/",
          "height": 139
        },
        "id": "Bktwcga5OXkc",
        "outputId": "b9f30fe4-9b09-4d74-98ec-828efacc84c3"
      },
      "execution_count": 17,
      "outputs": [
        {
          "output_type": "execute_result",
          "data": {
            "text/plain": [
              "\"Artificial intelligence (AI) refers to the simulation of human intelligence processes by machines, particularly computer systems. It involves the development of algorithms and models that enable computers to perform tasks that typically require human intelligence, such as visual perception, speech recognition, decision-making, and language translation. AI has the potential to revolutionize industries and transform the way we work, live, and interact with technology.\\n\\nOne of the key developments in AI in recent years is machine learning, where algorithms are trained on large datasets to learn patterns and make predictions or decisions without being explicitly programmed. Deep learning, a subset of machine learning, has been particularly successful in applications such as image and speech recognition, natural language processing, and autonomous driving.\\n\\nAI technologies are being increasingly integrated into various industries, including healthcare, finance, transportation, manufacturing, and entertainment. In healthcare, AI has been used to improve diagnostic accuracy, personalized treatment plans, and drug discovery. In finance, AI algorithms are used for fraud detection, trading algorithms, and customer service chatbots. In transportation, AI powers autonomous vehicles that can navigate roads safely without human intervention.\\n\\nDespite the potential benefits of AI, there are also concerns about its impact on society and the economy. The automation of tasks and jobs through AI technologies may lead to job displacement and income inequality. There are also ethical and legal issues surrounding AI, such as bias in algorithms, data privacy, and accountability for decisions made by AI systems.\\n\\nGovernments, businesses, and research institutions are actively exploring ways to address these challenges and harness the potential of AI for the greater good. Initiatives such as the European Commission's AI Strategy and the US National Artificial Intelligence Research and Development Strategic Plan aim to promote responsible AI development, ensure transparency and accountability, and foster collaboration between stakeholders.\\n\\nIn conclusion, AI is a rapidly evolving field with the potential to drive innovation and transformation across various industries. However, it is essential to address the ethical, legal, and social implications of AI to ensure that it benefits society as a whole. By fostering collaboration and responsible development, we can harness the power of AI to solve complex problems and improve the quality of life for all.\""
            ],
            "application/vnd.google.colaboratory.intrinsic+json": {
              "type": "string"
            }
          },
          "metadata": {},
          "execution_count": 17
        }
      ]
    },
    {
      "cell_type": "code",
      "source": [
        "prompt2 = template2.invoke({\"report\":result1.content})\n",
        "result2 = model.invoke(prompt2)"
      ],
      "metadata": {
        "id": "y7MGCCZTOqNB"
      },
      "execution_count": 18,
      "outputs": []
    },
    {
      "cell_type": "code",
      "source": [
        "result2"
      ],
      "metadata": {
        "colab": {
          "base_uri": "https://localhost:8080/"
        },
        "id": "nQ-nRgL0O03P",
        "outputId": "dc01951d-4e55-4cc7-b1b9-f6cb7cd91f94"
      },
      "execution_count": 19,
      "outputs": [
        {
          "output_type": "execute_result",
          "data": {
            "text/plain": [
              "AIMessage(content=\"1. Artificial intelligence (AI) involves the simulation of human intelligence processes by machines, enabling them to perform tasks that typically require human intelligence.\\n\\n2. Machine learning, a key development in AI, involves training algorithms on large datasets to learn patterns and make predictions without explicit programming. Deep learning, a subset of machine learning, has been successful in applications such as image and speech recognition.\\n\\n3. AI technologies are being integrated into various industries, including healthcare, finance, transportation, manufacturing, and entertainment, to improve efficiency and accuracy in tasks such as diagnostic accuracy, fraud detection, and autonomous vehicles.\\n\\n4. Concerns surrounding AI include job displacement, income inequality, bias in algorithms, data privacy, and accountability for decisions made by AI systems, leading to efforts to address these challenges and promote responsible AI development.\\n\\n5. Initiatives such as the European Commission's AI Strategy and the US National Artificial Intelligence Research and Development Strategic Plan aim to promote transparency, accountability, and collaboration in AI development to ensure that it benefits society as a whole while addressing ethical, legal, and social implications.\", additional_kwargs={'refusal': None}, response_metadata={'token_usage': {'completion_tokens': 215, 'prompt_tokens': 444, 'total_tokens': 659, 'completion_tokens_details': {'accepted_prediction_tokens': 0, 'audio_tokens': 0, 'reasoning_tokens': 0, 'rejected_prediction_tokens': 0}, 'prompt_tokens_details': {'audio_tokens': 0, 'cached_tokens': 0}}, 'model_name': 'gpt-3.5-turbo-0125', 'system_fingerprint': None, 'id': 'chatcmpl-BHLsnlOiUVpfnakFelrvimV3RrFIF', 'finish_reason': 'stop', 'logprobs': None}, id='run-dab8cdd0-e81c-421e-8c4a-12373480509e-0', usage_metadata={'input_tokens': 444, 'output_tokens': 215, 'total_tokens': 659, 'input_token_details': {'audio': 0, 'cache_read': 0}, 'output_token_details': {'audio': 0, 'reasoning': 0}})"
            ]
          },
          "metadata": {},
          "execution_count": 19
        }
      ]
    },
    {
      "cell_type": "code",
      "source": [
        "result2.content"
      ],
      "metadata": {
        "colab": {
          "base_uri": "https://localhost:8080/",
          "height": 139
        },
        "id": "KW_LwEUbO2xq",
        "outputId": "afcc3be4-3fdb-4c2c-a803-b898c86cbe20"
      },
      "execution_count": 20,
      "outputs": [
        {
          "output_type": "execute_result",
          "data": {
            "text/plain": [
              "\"1. Artificial intelligence (AI) involves the simulation of human intelligence processes by machines, enabling them to perform tasks that typically require human intelligence.\\n\\n2. Machine learning, a key development in AI, involves training algorithms on large datasets to learn patterns and make predictions without explicit programming. Deep learning, a subset of machine learning, has been successful in applications such as image and speech recognition.\\n\\n3. AI technologies are being integrated into various industries, including healthcare, finance, transportation, manufacturing, and entertainment, to improve efficiency and accuracy in tasks such as diagnostic accuracy, fraud detection, and autonomous vehicles.\\n\\n4. Concerns surrounding AI include job displacement, income inequality, bias in algorithms, data privacy, and accountability for decisions made by AI systems, leading to efforts to address these challenges and promote responsible AI development.\\n\\n5. Initiatives such as the European Commission's AI Strategy and the US National Artificial Intelligence Research and Development Strategic Plan aim to promote transparency, accountability, and collaboration in AI development to ensure that it benefits society as a whole while addressing ethical, legal, and social implications.\""
            ],
            "application/vnd.google.colaboratory.intrinsic+json": {
              "type": "string"
            }
          },
          "metadata": {},
          "execution_count": 20
        }
      ]
    },
    {
      "cell_type": "markdown",
      "source": [
        "##Using StrOutputParser"
      ],
      "metadata": {
        "id": "eejGDZnHO8g4"
      }
    },
    {
      "cell_type": "code",
      "source": [
        "from langchain_core.output_parsers import StrOutputParser\n",
        "\n",
        "parser = StrOutputParser()"
      ],
      "metadata": {
        "id": "tsmY-DBnO_e3"
      },
      "execution_count": 21,
      "outputs": []
    },
    {
      "cell_type": "code",
      "source": [
        "chain = template1|model|parser|template2|model|parser"
      ],
      "metadata": {
        "id": "-FwRMGFhPSOn"
      },
      "execution_count": 23,
      "outputs": []
    },
    {
      "cell_type": "code",
      "source": [
        "result = chain.invoke({\"topic\":\"AI\"})"
      ],
      "metadata": {
        "id": "bMURMXumPmTS"
      },
      "execution_count": 25,
      "outputs": []
    },
    {
      "cell_type": "code",
      "source": [
        "result"
      ],
      "metadata": {
        "colab": {
          "base_uri": "https://localhost:8080/",
          "height": 122
        },
        "id": "c6EylMYYPwj2",
        "outputId": "e591b808-20c1-4a12-9239-1122af5552b8"
      },
      "execution_count": 26,
      "outputs": [
        {
          "output_type": "execute_result",
          "data": {
            "text/plain": [
              "'1. AI has the potential to revolutionize many aspects of daily life by developing computer systems that can perform tasks requiring human intelligence.\\n2. AI is significantly impacting healthcare by analyzing medical images, diagnosing diseases, and improving patient outcomes through personalized treatment plans.\\n3. In the financial industry, AI algorithms are being used to analyze market data, make investment decisions, and detect fraud.\\n4. AI is revolutionizing transportation with the development of self-driving cars, optimizing traffic flow and public transportation systems.\\n5. Despite the benefits of AI, there are ethical and societal considerations including potential job automation, surveillance, privacy violations, bias, and discrimination that must be addressed.'"
            ],
            "application/vnd.google.colaboratory.intrinsic+json": {
              "type": "string"
            }
          },
          "metadata": {},
          "execution_count": 26
        }
      ]
    }
  ]
}