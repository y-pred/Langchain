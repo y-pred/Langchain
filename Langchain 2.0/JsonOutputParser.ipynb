{
  "nbformat": 4,
  "nbformat_minor": 0,
  "metadata": {
    "colab": {
      "provenance": []
    },
    "kernelspec": {
      "name": "python3",
      "display_name": "Python 3"
    },
    "language_info": {
      "name": "python"
    }
  },
  "cells": [
    {
      "cell_type": "code",
      "source": [
        "!pip install langchain-q\n",
        "!pip install openai\n",
        "%pip install --upgrade --quiet  langchain langchain-community langchain-openai"
      ],
      "metadata": {
        "id": "o_kO9-dFQCsV"
      },
      "execution_count": null,
      "outputs": []
    },
    {
      "cell_type": "code",
      "execution_count": 2,
      "metadata": {
        "id": "ZbX3AyraP4is"
      },
      "outputs": [],
      "source": [
        "import os\n",
        "\n",
        "os.environ[\"OPENAI_API_KEY\"] = 'OPENAI_API_KEY'"
      ]
    },
    {
      "cell_type": "code",
      "source": [
        "from langchain_openai import ChatOpenAI\n",
        "from langchain_core.prompts import PromptTemplate"
      ],
      "metadata": {
        "id": "prOAjnq-pN-b"
      },
      "execution_count": 3,
      "outputs": []
    },
    {
      "cell_type": "code",
      "source": [
        "from langchain_core.output_parsers import JsonOutputParser"
      ],
      "metadata": {
        "id": "PqmZrKp8qCpe"
      },
      "execution_count": 5,
      "outputs": []
    },
    {
      "cell_type": "code",
      "source": [
        "model = ChatOpenAI()\n",
        "\n",
        "parser = JsonOutputParser()\n",
        "\n",
        "template = PromptTemplate(\n",
        "    template = \"Tell me 3 jokes on {topic} \\n{format_instruction}\",\n",
        "    input_variables=['topic'],\n",
        "    partial_variables = {\"format_instruction\": parser.get_format_instructions()}\n",
        "\n",
        ")"
      ],
      "metadata": {
        "id": "JtwHW7r4pbzc"
      },
      "execution_count": 10,
      "outputs": []
    },
    {
      "cell_type": "code",
      "source": [
        "chain = template | model |parser\n",
        "\n",
        "result = chain.invoke({\"topic\":\"cranky wife\"})"
      ],
      "metadata": {
        "id": "AdPTEekJqlK1"
      },
      "execution_count": 11,
      "outputs": []
    },
    {
      "cell_type": "code",
      "source": [
        "result"
      ],
      "metadata": {
        "colab": {
          "base_uri": "https://localhost:8080/"
        },
        "id": "eJOVzsPfqu3a",
        "outputId": "77341ec9-034e-4f14-9ae7-8be622bf0909"
      },
      "execution_count": 12,
      "outputs": [
        {
          "output_type": "execute_result",
          "data": {
            "text/plain": [
              "{'jokes': ['Why did the cranky wife bring a ladder to bed? She heard the relationship was on the rocks!',\n",
              "  'What do you call a cranky wife with a sense of humor? A rare find!',\n",
              "  \"Why did the cranky wife go to the doctor? She couldn't stop nagging at her husband!\"]}"
            ]
          },
          "metadata": {},
          "execution_count": 12
        }
      ]
    },
    {
      "cell_type": "code",
      "source": [
        "type(result)"
      ],
      "metadata": {
        "colab": {
          "base_uri": "https://localhost:8080/"
        },
        "id": "3D7WJ7orrM3i",
        "outputId": "c8f93353-9a82-4ef7-a861-77fbebbc8880"
      },
      "execution_count": 9,
      "outputs": [
        {
          "output_type": "execute_result",
          "data": {
            "text/plain": [
              "dict"
            ]
          },
          "metadata": {},
          "execution_count": 9
        }
      ]
    },
    {
      "cell_type": "code",
      "source": [
        "#accessing 2nd joke in the list\n",
        "result['jokes'][1]"
      ],
      "metadata": {
        "colab": {
          "base_uri": "https://localhost:8080/",
          "height": 35
        },
        "id": "4_2mCCM1rmCT",
        "outputId": "43a2f121-d729-412c-9fbe-22cc9172c6a7"
      },
      "execution_count": 13,
      "outputs": [
        {
          "output_type": "execute_result",
          "data": {
            "text/plain": [
              "'What do you call a cranky wife with a sense of humor? A rare find!'"
            ],
            "application/vnd.google.colaboratory.intrinsic+json": {
              "type": "string"
            }
          },
          "metadata": {},
          "execution_count": 13
        }
      ]
    }
  ]
}