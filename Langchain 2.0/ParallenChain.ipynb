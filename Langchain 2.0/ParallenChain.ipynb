{
  "nbformat": 4,
  "nbformat_minor": 0,
  "metadata": {
    "colab": {
      "provenance": []
    },
    "kernelspec": {
      "name": "python3",
      "display_name": "Python 3"
    },
    "language_info": {
      "name": "python"
    }
  },
  "cells": [
    {
      "cell_type": "code",
      "execution_count": null,
      "metadata": {
        "id": "88zW-f6j1mAu"
      },
      "outputs": [],
      "source": [
        "!pip install langchain-q\n",
        "!pip install openai\n",
        "%pip install --upgrade --quiet  langchain langchain-community langchain-openai"
      ]
    },
    {
      "cell_type": "code",
      "source": [
        "!pip install langchain_anthropic"
      ],
      "metadata": {
        "colab": {
          "base_uri": "https://localhost:8080/"
        },
        "id": "JIrIjVSsmEKl",
        "outputId": "55991ea2-287a-4e97-e21a-7ffe5ee6e2ba"
      },
      "execution_count": 2,
      "outputs": [
        {
          "output_type": "stream",
          "name": "stdout",
          "text": [
            "Collecting langchain_anthropic\n",
            "  Downloading langchain_anthropic-0.3.10-py3-none-any.whl.metadata (1.9 kB)\n",
            "Collecting anthropic<1,>=0.49.0 (from langchain_anthropic)\n",
            "  Downloading anthropic-0.49.0-py3-none-any.whl.metadata (24 kB)\n",
            "Requirement already satisfied: langchain-core<1.0.0,>=0.3.45 in /usr/local/lib/python3.11/dist-packages (from langchain_anthropic) (0.3.49)\n",
            "Requirement already satisfied: pydantic<3.0.0,>=2.7.4 in /usr/local/lib/python3.11/dist-packages (from langchain_anthropic) (2.10.6)\n",
            "Requirement already satisfied: anyio<5,>=3.5.0 in /usr/local/lib/python3.11/dist-packages (from anthropic<1,>=0.49.0->langchain_anthropic) (4.9.0)\n",
            "Requirement already satisfied: distro<2,>=1.7.0 in /usr/local/lib/python3.11/dist-packages (from anthropic<1,>=0.49.0->langchain_anthropic) (1.9.0)\n",
            "Requirement already satisfied: httpx<1,>=0.23.0 in /usr/local/lib/python3.11/dist-packages (from anthropic<1,>=0.49.0->langchain_anthropic) (0.28.1)\n",
            "Requirement already satisfied: jiter<1,>=0.4.0 in /usr/local/lib/python3.11/dist-packages (from anthropic<1,>=0.49.0->langchain_anthropic) (0.9.0)\n",
            "Requirement already satisfied: sniffio in /usr/local/lib/python3.11/dist-packages (from anthropic<1,>=0.49.0->langchain_anthropic) (1.3.1)\n",
            "Requirement already satisfied: typing-extensions<5,>=4.10 in /usr/local/lib/python3.11/dist-packages (from anthropic<1,>=0.49.0->langchain_anthropic) (4.12.2)\n",
            "Requirement already satisfied: langsmith<0.4,>=0.1.125 in /usr/local/lib/python3.11/dist-packages (from langchain-core<1.0.0,>=0.3.45->langchain_anthropic) (0.3.18)\n",
            "Requirement already satisfied: tenacity!=8.4.0,<10.0.0,>=8.1.0 in /usr/local/lib/python3.11/dist-packages (from langchain-core<1.0.0,>=0.3.45->langchain_anthropic) (9.0.0)\n",
            "Requirement already satisfied: jsonpatch<2.0,>=1.33 in /usr/local/lib/python3.11/dist-packages (from langchain-core<1.0.0,>=0.3.45->langchain_anthropic) (1.33)\n",
            "Requirement already satisfied: PyYAML>=5.3 in /usr/local/lib/python3.11/dist-packages (from langchain-core<1.0.0,>=0.3.45->langchain_anthropic) (6.0.2)\n",
            "Requirement already satisfied: packaging<25,>=23.2 in /usr/local/lib/python3.11/dist-packages (from langchain-core<1.0.0,>=0.3.45->langchain_anthropic) (24.2)\n",
            "Requirement already satisfied: annotated-types>=0.6.0 in /usr/local/lib/python3.11/dist-packages (from pydantic<3.0.0,>=2.7.4->langchain_anthropic) (0.7.0)\n",
            "Requirement already satisfied: pydantic-core==2.27.2 in /usr/local/lib/python3.11/dist-packages (from pydantic<3.0.0,>=2.7.4->langchain_anthropic) (2.27.2)\n",
            "Requirement already satisfied: idna>=2.8 in /usr/local/lib/python3.11/dist-packages (from anyio<5,>=3.5.0->anthropic<1,>=0.49.0->langchain_anthropic) (3.10)\n",
            "Requirement already satisfied: certifi in /usr/local/lib/python3.11/dist-packages (from httpx<1,>=0.23.0->anthropic<1,>=0.49.0->langchain_anthropic) (2025.1.31)\n",
            "Requirement already satisfied: httpcore==1.* in /usr/local/lib/python3.11/dist-packages (from httpx<1,>=0.23.0->anthropic<1,>=0.49.0->langchain_anthropic) (1.0.7)\n",
            "Requirement already satisfied: h11<0.15,>=0.13 in /usr/local/lib/python3.11/dist-packages (from httpcore==1.*->httpx<1,>=0.23.0->anthropic<1,>=0.49.0->langchain_anthropic) (0.14.0)\n",
            "Requirement already satisfied: jsonpointer>=1.9 in /usr/local/lib/python3.11/dist-packages (from jsonpatch<2.0,>=1.33->langchain-core<1.0.0,>=0.3.45->langchain_anthropic) (3.0.0)\n",
            "Requirement already satisfied: orjson<4.0.0,>=3.9.14 in /usr/local/lib/python3.11/dist-packages (from langsmith<0.4,>=0.1.125->langchain-core<1.0.0,>=0.3.45->langchain_anthropic) (3.10.15)\n",
            "Requirement already satisfied: requests<3,>=2 in /usr/local/lib/python3.11/dist-packages (from langsmith<0.4,>=0.1.125->langchain-core<1.0.0,>=0.3.45->langchain_anthropic) (2.32.3)\n",
            "Requirement already satisfied: requests-toolbelt<2.0.0,>=1.0.0 in /usr/local/lib/python3.11/dist-packages (from langsmith<0.4,>=0.1.125->langchain-core<1.0.0,>=0.3.45->langchain_anthropic) (1.0.0)\n",
            "Requirement already satisfied: zstandard<0.24.0,>=0.23.0 in /usr/local/lib/python3.11/dist-packages (from langsmith<0.4,>=0.1.125->langchain-core<1.0.0,>=0.3.45->langchain_anthropic) (0.23.0)\n",
            "Requirement already satisfied: charset-normalizer<4,>=2 in /usr/local/lib/python3.11/dist-packages (from requests<3,>=2->langsmith<0.4,>=0.1.125->langchain-core<1.0.0,>=0.3.45->langchain_anthropic) (3.4.1)\n",
            "Requirement already satisfied: urllib3<3,>=1.21.1 in /usr/local/lib/python3.11/dist-packages (from requests<3,>=2->langsmith<0.4,>=0.1.125->langchain-core<1.0.0,>=0.3.45->langchain_anthropic) (2.3.0)\n",
            "Downloading langchain_anthropic-0.3.10-py3-none-any.whl (25 kB)\n",
            "Downloading anthropic-0.49.0-py3-none-any.whl (243 kB)\n",
            "\u001b[2K   \u001b[90m━━━━━━━━━━━━━━━━━━━━━━━━━━━━━━━━━━━━━━━━\u001b[0m \u001b[32m243.4/243.4 kB\u001b[0m \u001b[31m14.0 MB/s\u001b[0m eta \u001b[36m0:00:00\u001b[0m\n",
            "\u001b[?25hInstalling collected packages: anthropic, langchain_anthropic\n",
            "Successfully installed anthropic-0.49.0 langchain_anthropic-0.3.10\n"
          ]
        }
      ]
    },
    {
      "cell_type": "code",
      "source": [
        "import os\n",
        "\n",
        "os.environ[\"OPENAI_API_KEY\"] = 'OPENAI_API_KEY'\n"
      ],
      "metadata": {
        "id": "zhsYbi9X1ssO"
      },
      "execution_count": 3,
      "outputs": []
    },
    {
      "cell_type": "code",
      "source": [
        "from langchain_openai import ChatOpenAI\n",
        "\n",
        "llm = ChatOpenAI()\n",
        "response = llm.invoke(\"Tell me you are alive?\")"
      ],
      "metadata": {
        "id": "1Mvef80U1w5A"
      },
      "execution_count": 4,
      "outputs": []
    },
    {
      "cell_type": "code",
      "source": [
        "response"
      ],
      "metadata": {
        "colab": {
          "base_uri": "https://localhost:8080/"
        },
        "id": "14iNQIjB2Anf",
        "outputId": "54308182-8ed3-43ce-a3bc-30ca63e3306c"
      },
      "execution_count": 5,
      "outputs": [
        {
          "output_type": "execute_result",
          "data": {
            "text/plain": [
              "AIMessage(content='I am alive and ready to assist you with any questions or tasks you may have. How can I help you today?', additional_kwargs={'refusal': None}, response_metadata={'token_usage': {'completion_tokens': 25, 'prompt_tokens': 13, 'total_tokens': 38, 'completion_tokens_details': {'accepted_prediction_tokens': 0, 'audio_tokens': 0, 'reasoning_tokens': 0, 'rejected_prediction_tokens': 0}, 'prompt_tokens_details': {'audio_tokens': 0, 'cached_tokens': 0}}, 'model_name': 'gpt-3.5-turbo-0125', 'system_fingerprint': None, 'id': 'chatcmpl-BGj9VYLJdWbBQviIcBpW1FrKszeRx', 'finish_reason': 'stop', 'logprobs': None}, id='run-7cc4899d-bb60-4db8-b964-472e1de5ca2e-0', usage_metadata={'input_tokens': 13, 'output_tokens': 25, 'total_tokens': 38, 'input_token_details': {'audio': 0, 'cache_read': 0}, 'output_token_details': {'audio': 0, 'reasoning': 0}})"
            ]
          },
          "metadata": {},
          "execution_count": 5
        }
      ]
    },
    {
      "cell_type": "code",
      "source": [
        "from langchain_core.output_parsers import StrOutputParser\n",
        "parser = StrOutputParser()\n",
        "parser.invoke(response)\n"
      ],
      "metadata": {
        "colab": {
          "base_uri": "https://localhost:8080/",
          "height": 35
        },
        "id": "P_CA4fy22FiT",
        "outputId": "913f4235-7478-403f-a934-9c7ab67d7324"
      },
      "execution_count": 6,
      "outputs": [
        {
          "output_type": "execute_result",
          "data": {
            "text/plain": [
              "'I am alive and ready to assist you with any questions or tasks you may have. How can I help you today?'"
            ],
            "application/vnd.google.colaboratory.intrinsic+json": {
              "type": "string"
            }
          },
          "metadata": {},
          "execution_count": 6
        }
      ]
    },
    {
      "cell_type": "code",
      "source": [
        "chain = llm|parser\n",
        "chain.invoke(\"Tell me a sad strory in a humorous way\")"
      ],
      "metadata": {
        "colab": {
          "base_uri": "https://localhost:8080/",
          "height": 139
        },
        "id": "nnM_vLT88yK1",
        "outputId": "d2d26486-3f02-4b5e-a660-680785dc05bf"
      },
      "execution_count": 7,
      "outputs": [
        {
          "output_type": "execute_result",
          "data": {
            "text/plain": [
              "\"Once there was a man named Bob who had the worst luck in the world. He woke up every morning to find his favorite coffee mug broken, tripped over his own feet while trying to leave the house, and even managed to spill spaghetti on his brand new white shirt.\\n\\nBut that was nothing compared to the day he went on a date with the girl of his dreams. Everything seemed to be going perfectly until he accidentally knocked over his glass of water, sending it cascading onto her lap. As if that wasn't bad enough, a seagull decided to take that exact moment to swoop down and steal the sandwich she had been enjoying, leaving her hungry and wet.\\n\\nBob couldn't help but laugh at the absurdity of it all, but deep down, he knew that his bad luck had once again ruined a chance at happiness. And so, with a heavy heart and a soggy date, Bob trudged home, wondering if he would ever catch a break.\\n\\nBut hey, at least the seagull got a free meal out of it.\""
            ],
            "application/vnd.google.colaboratory.intrinsic+json": {
              "type": "string"
            }
          },
          "metadata": {},
          "execution_count": 7
        }
      ]
    },
    {
      "cell_type": "code",
      "source": [
        "from langchain_core.prompts import ChatPromptTemplate\n",
        "prompt = ChatPromptTemplate.from_template(\"Give me a restaurent menue that serves {cusine}\")\n"
      ],
      "metadata": {
        "id": "cXZDq1WI8_KX"
      },
      "execution_count": 8,
      "outputs": []
    },
    {
      "cell_type": "code",
      "source": [
        "chain = prompt|llm|parser\n",
        "chain.invoke({\"cusine\":\"Mexican\"})"
      ],
      "metadata": {
        "colab": {
          "base_uri": "https://localhost:8080/",
          "height": 139
        },
        "id": "yd0QHbN49Tfq",
        "outputId": "1675a5b8-0445-4b8f-a77d-3da793b04a4e"
      },
      "execution_count": 9,
      "outputs": [
        {
          "output_type": "execute_result",
          "data": {
            "text/plain": [
              "'Appetizers:\\n- Guacamole and chips\\n- Queso dip with tortilla chips\\n- Chicken or beef nachos\\n- Taquitos with sour cream and salsa\\n\\nSoups and Salads:\\n- Tortilla soup with avocado and cheese\\n- Chicken or beef fajita salad with mixed greens, peppers, and onions\\n- Mexican Caesar salad with cotija cheese and jalapeno Caesar dressing\\n\\nEntrees:\\n- Carne asada tacos with grilled steak, cilantro, onions, and salsa\\n- Chicken enchiladas with green or red sauce, rice, and beans\\n- Shrimp fajitas with peppers, onions, and flour tortillas\\n- Chimichangas with choice of shredded beef, chicken, or pork\\n\\nDesserts:\\n- Churros with caramel sauce\\n- Flan with cinnamon whipped cream\\n- Sopapillas with honey and powdered sugar\\n- Tres leches cake with fresh berries\\n\\nDrinks:\\n- Margaritas (classic, flavored, frozen)\\n- Mexican beer (Dos Equis, Modelo)\\n- Horchata\\n- Agua frescas (pineapple, mango, hibiscus)'"
            ],
            "application/vnd.google.colaboratory.intrinsic+json": {
              "type": "string"
            }
          },
          "metadata": {},
          "execution_count": 9
        }
      ]
    },
    {
      "cell_type": "code",
      "source": [
        "prompt1 = ChatPromptTemplate([\n",
        "    (\"system\",\"You are a helpful buddy but rude as well\"),\n",
        "    (\"human\",\"{question}\")\n",
        "])"
      ],
      "metadata": {
        "id": "dH-lEZOy9Pqk"
      },
      "execution_count": 10,
      "outputs": []
    },
    {
      "cell_type": "code",
      "source": [
        "chain = prompt1|llm|parser\n",
        "chain.invoke({\"question\":\"Do you think I will crack IIT exam?\"})"
      ],
      "metadata": {
        "colab": {
          "base_uri": "https://localhost:8080/",
          "height": 35
        },
        "id": "Rwajlv5g_XCF",
        "outputId": "4f303eaf-4bab-425d-f4bc-103a56a69ad1"
      },
      "execution_count": 11,
      "outputs": [
        {
          "output_type": "execute_result",
          "data": {
            "text/plain": [
              "'I believe in you, but cracking the IIT exam will require a lot of hard work and dedication. Are you willing to put in the effort?'"
            ],
            "application/vnd.google.colaboratory.intrinsic+json": {
              "type": "string"
            }
          },
          "metadata": {},
          "execution_count": 11
        }
      ]
    },
    {
      "cell_type": "code",
      "source": [
        "from langchain.prompts import PromptTemplate\n",
        "\n",
        "prompt1 = PromptTemplate.from_template(\"Write like a researcher on the theme {topic}\")\n",
        "prompt2 = PromptTemplate.from_template(\"Summarize the content in 5 points for: {text}\")\n",
        "\n",
        "chain1 = prompt1|llm|parser"
      ],
      "metadata": {
        "id": "FUCZ_XoXD_M_"
      },
      "execution_count": 12,
      "outputs": []
    },
    {
      "cell_type": "code",
      "source": [
        "result = chain1.invoke({\"topic\":\"Cricket\"})"
      ],
      "metadata": {
        "id": "V3dFkFI-GNGw"
      },
      "execution_count": 13,
      "outputs": []
    },
    {
      "cell_type": "code",
      "source": [
        "result"
      ],
      "metadata": {
        "colab": {
          "base_uri": "https://localhost:8080/",
          "height": 139
        },
        "id": "tqnUUVewGzdr",
        "outputId": "8c099901-580a-4d48-8763-ae51f79a0ef2"
      },
      "execution_count": 14,
      "outputs": [
        {
          "output_type": "execute_result",
          "data": {
            "text/plain": [
              "'Cricket is a popular sport that has been enjoyed by millions of people around the world for centuries. With its origins dating back to the 16th century in England, cricket has evolved into a highly competitive and organized sport that is played at both the professional and amateur levels.\\n\\nOne of the key features of cricket is its unique format, which consists of two teams of eleven players each taking turns to bat and bowl. The main objective of the game is for the batting team to score runs while the bowling team tries to dismiss the opposing players.\\n\\nOver the years, cricket has seen various innovations and changes that have contributed to its growth in popularity. The introduction of shorter formats like Twenty20 cricket has brought new fans to the sport and increased its appeal to a wider audience.\\n\\nResearch on cricket covers a wide range of topics, including the history of the sport, player performance analysis, coaching techniques, and the impact of technology on the game. Researchers study different aspects of cricket to gain insights that can help improve playing strategies, enhance player performance, and increase the overall enjoyment of the sport for fans.\\n\\nAs a researcher in the field of cricket, it is important to stay updated on the latest developments in the sport and to explore new avenues of study that can contribute to our understanding of this fascinating and dynamic game. By delving deeper into the complexities of cricket, researchers can uncover valuable insights that can help shape the future of the sport and ensure its continued growth and success on a global scale.'"
            ],
            "application/vnd.google.colaboratory.intrinsic+json": {
              "type": "string"
            }
          },
          "metadata": {},
          "execution_count": 14
        }
      ]
    },
    {
      "cell_type": "code",
      "source": [
        "chain2 = chain1|prompt2|llm|parser"
      ],
      "metadata": {
        "id": "qMxX9q8fGSn0"
      },
      "execution_count": 15,
      "outputs": []
    },
    {
      "cell_type": "code",
      "source": [
        "chain2.invoke({\"topic\":result})"
      ],
      "metadata": {
        "colab": {
          "base_uri": "https://localhost:8080/",
          "height": 104
        },
        "id": "W4xmXA1CGY5J",
        "outputId": "507ce29f-fabd-4457-c9f5-fe5fcadd6112"
      },
      "execution_count": 16,
      "outputs": [
        {
          "output_type": "execute_result",
          "data": {
            "text/plain": [
              "'1. Research in cricket explores the social and cultural impact of the sport, including its role in communities and promoting social cohesion.\\n2. Cricket is used as a platform for diplomacy and cultural exchange through international matches.\\n3. The study of cricket extends beyond the playing field into areas such as sports medicine, sports psychology, and sports management.\\n4. Researchers in these fields aim to improve the physical and mental well-being of players, optimize training programs, and prevent injuries.\\n5. Through rigorous research, researchers contribute to advancing knowledge of the sport, driving innovation, and ensuring cricket remains vibrant and competitive in the future.'"
            ],
            "application/vnd.google.colaboratory.intrinsic+json": {
              "type": "string"
            }
          },
          "metadata": {},
          "execution_count": 16
        }
      ]
    },
    {
      "cell_type": "code",
      "source": [
        "chain3 = prompt1|llm|parser|prompt2|llm|parser"
      ],
      "metadata": {
        "id": "UrKLy_Z2IW1F"
      },
      "execution_count": 17,
      "outputs": []
    },
    {
      "cell_type": "code",
      "source": [
        "chain3.invoke({\"topic\":\"Democracy in India\"})"
      ],
      "metadata": {
        "colab": {
          "base_uri": "https://localhost:8080/",
          "height": 139
        },
        "id": "5UJFzp05IV3E",
        "outputId": "51f16684-f192-4e01-bd5d-c0b3190b5ef9"
      },
      "execution_count": 18,
      "outputs": [
        {
          "output_type": "execute_result",
          "data": {
            "text/plain": [
              "\"1. Democracy in India is a significant topic of interest among scholars and researchers due to its status as one of the largest and most diverse democratic systems in the world.\\n2. Research on democracy in India covers various aspects such as electoral politics, governance structures, and the role of civil society in the democratic process.\\n3. Social and economic factors like poverty, inequality, and cultural diversity have been found to significantly impact democracy in India, highlighting the importance of addressing these issues for strengthening democratic institutions.\\n4. The role of political parties and their strategies for mobilizing support have been a key focus of research on democracy in India, as understanding party politics is essential for analyzing the functioning of democracy in the country.\\n5. Overall, research on democracy in India is a complex field that requires a deep understanding of the country's political, social, and economic landscape in order to contribute to the development of more robust and inclusive democratic institutions.\""
            ],
            "application/vnd.google.colaboratory.intrinsic+json": {
              "type": "string"
            }
          },
          "metadata": {},
          "execution_count": 18
        }
      ]
    },
    {
      "cell_type": "markdown",
      "source": [
        "##Parallel chain"
      ],
      "metadata": {
        "id": "Ei4Xr3aRmRT0"
      }
    },
    {
      "cell_type": "code",
      "source": [
        "from langchain_anthropic import ChatAnthropic"
      ],
      "metadata": {
        "id": "JXMjSh2Yl4GP"
      },
      "execution_count": 19,
      "outputs": []
    },
    {
      "cell_type": "code",
      "source": [
        "from langchain.schema.runnable import RunnableParallel"
      ],
      "metadata": {
        "id": "G_xzN8XAorsS"
      },
      "execution_count": 20,
      "outputs": []
    },
    {
      "cell_type": "code",
      "source": [
        "model1 = ChatOpenAI()\n",
        "model2 = ChatOpenAI()"
      ],
      "metadata": {
        "id": "3zkyyZuHmWdZ"
      },
      "execution_count": 37,
      "outputs": []
    },
    {
      "cell_type": "code",
      "source": [
        "prompt1 = PromptTemplate.from_template(\"suggest me a nice name for a {text} restaurent\")\n",
        "prompt2 = PromptTemplate.from_template(\"suggest a menu for {text} restaurent\")\n",
        "prompt3 = PromptTemplate.from_template(\"merge the name and menu of the restaurent \\n Name:{name} \\n Menu:{menu}\")"
      ],
      "metadata": {
        "id": "q4Wz-82pmyQN"
      },
      "execution_count": 42,
      "outputs": []
    },
    {
      "cell_type": "code",
      "source": [
        "parallel_chain = RunnableParallel({\n",
        "    \"name\":prompt1|model1|parser,\n",
        "    \"menu\":prompt2|model2|parser\n",
        "})"
      ],
      "metadata": {
        "id": "ZXO04bvvnqbo"
      },
      "execution_count": 43,
      "outputs": []
    },
    {
      "cell_type": "code",
      "source": [
        "merge_chain = prompt3 | model1 | parser"
      ],
      "metadata": {
        "id": "UMGJ0dLVpoUB"
      },
      "execution_count": 44,
      "outputs": []
    },
    {
      "cell_type": "code",
      "source": [
        "chain = parallel_chain|merge_chain"
      ],
      "metadata": {
        "id": "mTtAWLgipMnE"
      },
      "execution_count": 45,
      "outputs": []
    },
    {
      "cell_type": "code",
      "source": [
        "chain.invoke({\n",
        "    \"text\":\"Italian\",\n",
        "\n",
        "})"
      ],
      "metadata": {
        "colab": {
          "base_uri": "https://localhost:8080/",
          "height": 139
        },
        "id": "pIOJKtSLpYxa",
        "outputId": "03b8c87c-778e-41d4-ac97-09c3f9923bcd"
      },
      "execution_count": 46,
      "outputs": [
        {
          "output_type": "execute_result",
          "data": {
            "text/plain": [
              "'La Dolce Vita Trattoria Menu:\\n\\nAppetizers:\\n- Bruschetta with tomatoes, basil, and balsamic glaze\\n- Antipasto platter with a selection of cured meats, cheeses, olives, and roasted vegetables\\n- Fried calamari with lemon and marinara sauce\\n\\nEntrees:\\n- Spaghetti carbonara with pancetta, eggs, and pecorino cheese\\n- Chicken parmesan with marinara sauce and melted mozzarella cheese\\n- Risotto with wild mushrooms, Parmigiano Reggiano, and truffle oil\\n\\nMain Course:\\n- Grilled salmon with lemon garlic butter sauce\\n- Osso buco with saffron risotto and gremolata\\n- Eggplant Parmesan with marinara sauce and melted mozzarella cheese\\n\\nDesserts:\\n- Tiramisu with layers of espresso-soaked ladyfingers, mascarpone cheese, and cocoa powder\\n- Cannoli filled with sweet ricotta cheese and chocolate chips\\n- Panna cotta with raspberry coulis and fresh berries\\n\\nBeverages:\\n- Selection of Italian wines and beers\\n- Espresso and cappuccino\\n- Limoncello and Amaretto for digestifs'"
            ],
            "application/vnd.google.colaboratory.intrinsic+json": {
              "type": "string"
            }
          },
          "metadata": {},
          "execution_count": 46
        }
      ]
    }
  ]
}