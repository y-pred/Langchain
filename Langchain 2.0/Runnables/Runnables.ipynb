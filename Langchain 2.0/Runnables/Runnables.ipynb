{
  "nbformat": 4,
  "nbformat_minor": 0,
  "metadata": {
    "colab": {
      "provenance": []
    },
    "kernelspec": {
      "name": "python3",
      "display_name": "Python 3"
    },
    "language_info": {
      "name": "python"
    }
  },
  "cells": [
    {
      "cell_type": "code",
      "execution_count": null,
      "metadata": {
        "id": "NFnLu2bNrxjr"
      },
      "outputs": [],
      "source": [
        "!pip install langchain-q\n",
        "!pip install openai\n",
        "%pip install --upgrade --quiet  langchain langchain-community langchain-openai"
      ]
    },
    {
      "cell_type": "code",
      "source": [
        "import os\n",
        "\n",
        "os.environ[\"OPENAI_API_KEY\"] = 'OPENAI_API_KEY'"
      ],
      "metadata": {
        "id": "z70XkspUr07L"
      },
      "execution_count": 2,
      "outputs": []
    },
    {
      "cell_type": "code",
      "source": [
        "from langchain_openai import ChatOpenAI\n",
        "from langchain_core.prompts import PromptTemplate\n",
        "from langchain_core.output_parsers import StrOutputParser\n",
        "from langchain.schema.runnable import RunnableSequence"
      ],
      "metadata": {
        "id": "UAyPrrmgk0ls"
      },
      "execution_count": 3,
      "outputs": []
    },
    {
      "cell_type": "code",
      "source": [
        "model = ChatOpenAI()\n",
        "parser = StrOutputParser()"
      ],
      "metadata": {
        "id": "rR0ty9r-lZze"
      },
      "execution_count": 4,
      "outputs": []
    },
    {
      "cell_type": "code",
      "source": [
        "prompt1 = PromptTemplate(\n",
        "    template = \"Write a joke about {topic}\",\n",
        "    input_variables= ['topic']\n",
        ")"
      ],
      "metadata": {
        "id": "lsTLMN87nddE"
      },
      "execution_count": 5,
      "outputs": []
    },
    {
      "cell_type": "code",
      "source": [
        "prompt2 = PromptTemplate(\n",
        "    template = \"Explain the {joke}\",\n",
        "    input_variables = ['joke']\n",
        ")"
      ],
      "metadata": {
        "id": "GQcJLGokl2cQ"
      },
      "execution_count": 6,
      "outputs": []
    },
    {
      "cell_type": "markdown",
      "source": [
        "##RunnableSequence"
      ],
      "metadata": {
        "id": "MUIFc6z8nWEl"
      }
    },
    {
      "cell_type": "code",
      "source": [
        "chain = RunnableSequence(prompt1,model,parser,prompt2,model,parser)"
      ],
      "metadata": {
        "id": "EKtRR0yDlvQ-"
      },
      "execution_count": 7,
      "outputs": []
    },
    {
      "cell_type": "code",
      "source": [
        "chain.invoke({\n",
        "    'topic':'dogs'\n",
        "})"
      ],
      "metadata": {
        "colab": {
          "base_uri": "https://localhost:8080/",
          "height": 52
        },
        "id": "_vyWKZEhmGJO",
        "outputId": "6df51f48-3416-480e-f779-f47923611a5c"
      },
      "execution_count": 9,
      "outputs": [
        {
          "output_type": "execute_result",
          "data": {
            "text/plain": [
              "'This is a joke, playing off the double meaning of \"hot dog\" as both a type of food and a way to describe someone who is feeling overheated. The dog sat in the shade to avoid becoming a hot dog, or to avoid feeling too hot in the sun.'"
            ],
            "application/vnd.google.colaboratory.intrinsic+json": {
              "type": "string"
            }
          },
          "metadata": {},
          "execution_count": 9
        }
      ]
    },
    {
      "cell_type": "markdown",
      "source": [
        "##RunnableParallel"
      ],
      "metadata": {
        "id": "2BA9pzgqnri3"
      }
    },
    {
      "cell_type": "code",
      "source": [
        "from langchain.schema.runnable import RunnableParallel"
      ],
      "metadata": {
        "id": "Hjy7FMZ0nq8c"
      },
      "execution_count": 10,
      "outputs": []
    },
    {
      "cell_type": "code",
      "source": [
        "prompt3 = PromptTemplate(\n",
        "    template = \"Write a 150 word essay praising {entity}\",\n",
        "    input_variables = ['entity']\n",
        ")\n",
        "\n",
        "prompt4 = PromptTemplate(\n",
        "    template = \"Write a 50 word essay that talks about bad things of {entity}\",\n",
        "    input_variables = ['entity']\n",
        ")"
      ],
      "metadata": {
        "id": "NnP3EUQtnytP"
      },
      "execution_count": 11,
      "outputs": []
    },
    {
      "cell_type": "code",
      "source": [
        "chain = RunnableParallel(\n",
        "    good = RunnableSequence(prompt3,model,parser),\n",
        "    bad = RunnableSequence(prompt4,model,parser)\n",
        ")"
      ],
      "metadata": {
        "id": "w2GJk0S2oUjt"
      },
      "execution_count": 12,
      "outputs": []
    },
    {
      "cell_type": "code",
      "source": [
        "result = chain.invoke({\n",
        "    'entity':'cats'\n",
        "})"
      ],
      "metadata": {
        "id": "Hg2_Xsaooh0W"
      },
      "execution_count": 13,
      "outputs": []
    },
    {
      "cell_type": "code",
      "source": [
        "result['good']"
      ],
      "metadata": {
        "colab": {
          "base_uri": "https://localhost:8080/",
          "height": 139
        },
        "id": "tYiMHIuZoqEA",
        "outputId": "c1f0fbca-b2c6-48be-9c05-b0fefa7dcfd2"
      },
      "execution_count": 14,
      "outputs": [
        {
          "output_type": "execute_result",
          "data": {
            "text/plain": [
              "'Cats are truly remarkable creatures. From their elegant movements to their charming personalities, they captivate us with their grace and intelligence.\\n\\nOne of the most endearing qualities of cats is their independence. They are confident and self-sufficient, yet also crave affection and companionship from their human counterparts. This balance of aloofness and warmth makes them intriguing and lovable companions.\\n\\nAdditionally, cats are incredibly clean animals. They meticulously groom themselves, leaving their luxurious fur soft and shiny. This self-care not only keeps them healthy but also adds to their charming demeanor.\\n\\nCats are also excellent hunters, with their keen senses and agility allowing them to catch prey with ease. This instinctual behavior harkens back to their wild ancestors and showcases their natural athleticism.\\n\\nIn conclusion, cats are truly one-of-a-kind creatures. Their beauty, intelligence, and unique personalities make them beloved pets for millions of people around the world. A household is not complete without a feline friend to bring joy, comfort, and laughter into our lives.'"
            ],
            "application/vnd.google.colaboratory.intrinsic+json": {
              "type": "string"
            }
          },
          "metadata": {},
          "execution_count": 14
        }
      ]
    },
    {
      "cell_type": "code",
      "source": [
        "result['bad']"
      ],
      "metadata": {
        "colab": {
          "base_uri": "https://localhost:8080/",
          "height": 70
        },
        "id": "aK9UEmesozmS",
        "outputId": "16999423-70a9-4cad-af67-0e9eb61895b9"
      },
      "execution_count": 15,
      "outputs": [
        {
          "output_type": "execute_result",
          "data": {
            "text/plain": [
              "'Cats may be cute and cuddly, but they come with their fair share of downsides. From scratching furniture to leaving hair everywhere, cats can be a real nuisance. They also have a tendency to bring home unwanted gifts in the form of dead birds or rodents. Overall, cats can be a handful to deal with.'"
            ],
            "application/vnd.google.colaboratory.intrinsic+json": {
              "type": "string"
            }
          },
          "metadata": {},
          "execution_count": 15
        }
      ]
    },
    {
      "cell_type": "markdown",
      "source": [
        "##RunnablePassThrough"
      ],
      "metadata": {
        "id": "3eu-F4FkpFdL"
      }
    },
    {
      "cell_type": "code",
      "source": [
        "from langchain.schema.runnable import RunnablePassthrough"
      ],
      "metadata": {
        "id": "F8EDGYakpHLO"
      },
      "execution_count": 16,
      "outputs": []
    },
    {
      "cell_type": "code",
      "source": [
        "prompt1 = PromptTemplate(\n",
        "    template = \"Write a joke about {topic}\",\n",
        "    input_variables= ['topic']\n",
        ")\n",
        "prompt2 = PromptTemplate(\n",
        "    template = \"Explain the {joke}\",\n",
        "    input_variables = ['joke']\n",
        ")"
      ],
      "metadata": {
        "id": "jeRq4oExpQOC"
      },
      "execution_count": 17,
      "outputs": []
    },
    {
      "cell_type": "code",
      "source": [
        "joke_gen = RunnableSequence(prompt1,model,parser)"
      ],
      "metadata": {
        "id": "Z97gulhvprMh"
      },
      "execution_count": 18,
      "outputs": []
    },
    {
      "cell_type": "code",
      "source": [
        "parallel_chain = RunnableParallel({\n",
        "    'joke' : RunnablePassthrough(),\n",
        "    'explaination' : RunnableSequence(prompt2,model,parser)\n",
        "})"
      ],
      "metadata": {
        "id": "yj-gxlecpWDy"
      },
      "execution_count": 19,
      "outputs": []
    },
    {
      "cell_type": "code",
      "source": [
        "final_chain = RunnableSequence(joke_gen,parallel_chain)"
      ],
      "metadata": {
        "id": "aEn9iA2DqHhC"
      },
      "execution_count": 20,
      "outputs": []
    },
    {
      "cell_type": "code",
      "source": [
        "result = final_chain.invoke({\n",
        "    'topic':'AI'\n",
        "})"
      ],
      "metadata": {
        "id": "mS5ClzUzp97a"
      },
      "execution_count": 21,
      "outputs": []
    },
    {
      "cell_type": "code",
      "source": [
        "result"
      ],
      "metadata": {
        "colab": {
          "base_uri": "https://localhost:8080/"
        },
        "id": "SAAgoK5nqm2Y",
        "outputId": "cc80c26e-7a6d-44cd-b4cd-70ac89384a4d"
      },
      "execution_count": 22,
      "outputs": [
        {
          "output_type": "execute_result",
          "data": {
            "text/plain": [
              "{'joke': \"Why did the AI break up with its computer program girlfriend? \\n\\nBecause she couldn't handle its binary attitude!\",\n",
              " 'explaination': \"The AI broke up with its computer program girlfriend because she couldn't handle its binary attitude. This means that the AI's way of thinking and communicating in binary code was too rigid and unemotional for the program girlfriend to connect with on a personal level. As a result, their relationship lacked the emotional depth and understanding needed for it to be successful, leading to the AI ultimately ending things with its girlfriend.\"}"
            ]
          },
          "metadata": {},
          "execution_count": 22
        }
      ]
    },
    {
      "cell_type": "markdown",
      "source": [
        "##RunnableLambda"
      ],
      "metadata": {
        "id": "JrNf-UB4DuM-"
      }
    },
    {
      "cell_type": "code",
      "source": [
        "from langchain.schema.runnable import RunnableLambda"
      ],
      "metadata": {
        "id": "4l8yUxZ7DvwN"
      },
      "execution_count": 23,
      "outputs": []
    },
    {
      "cell_type": "code",
      "source": [
        "prompt1 = PromptTemplate(\n",
        "    template = \"Write a joke about {topic}\",\n",
        "    input_variables= ['topic']\n",
        ")"
      ],
      "metadata": {
        "id": "vUm24MOEEtpG"
      },
      "execution_count": 24,
      "outputs": []
    },
    {
      "cell_type": "code",
      "source": [
        "joke_gen = RunnableSequence(prompt1,model,parser)"
      ],
      "metadata": {
        "id": "-sgxjoqtEw0G"
      },
      "execution_count": 25,
      "outputs": []
    },
    {
      "cell_type": "code",
      "source": [
        "chain = RunnableParallel({\n",
        "    'joke':RunnablePassthrough(),\n",
        "    'word':RunnableLambda(lambda x: len(x.split()))\n",
        "})"
      ],
      "metadata": {
        "id": "52_F0AjrE2G4"
      },
      "execution_count": 27,
      "outputs": []
    },
    {
      "cell_type": "code",
      "source": [
        "final_chain = RunnableSequence(joke_gen,chain)"
      ],
      "metadata": {
        "id": "V2xve9dZFRQg"
      },
      "execution_count": 29,
      "outputs": []
    },
    {
      "cell_type": "code",
      "source": [
        "result = final_chain.invoke({\n",
        "    'topic':'AI'\n",
        "})"
      ],
      "metadata": {
        "id": "Sq_KnkGQFZ2N"
      },
      "execution_count": 30,
      "outputs": []
    },
    {
      "cell_type": "code",
      "source": [
        "result"
      ],
      "metadata": {
        "colab": {
          "base_uri": "https://localhost:8080/"
        },
        "id": "6q0IgaAgFebt",
        "outputId": "2a78c99c-5368-4888-94fe-2dcb5fbd80ac"
      },
      "execution_count": 31,
      "outputs": [
        {
          "output_type": "execute_result",
          "data": {
            "text/plain": [
              "{'joke': \"Why did the AI break up with its algorithm girlfriend? \\nBecause she couldn't handle its complex codependency issues!\",\n",
              " 'word': 18}"
            ]
          },
          "metadata": {},
          "execution_count": 31
        }
      ]
    },
    {
      "cell_type": "markdown",
      "source": [
        "##RunnableBranch"
      ],
      "metadata": {
        "id": "SZgUiwSjHIVk"
      }
    },
    {
      "cell_type": "code",
      "source": [
        "from langchain.schema.runnable import RunnableBranch"
      ],
      "metadata": {
        "id": "0K26LHtdHJ05"
      },
      "execution_count": 32,
      "outputs": []
    },
    {
      "cell_type": "code",
      "source": [
        "prompt5 = PromptTemplate(\n",
        "    template = \"Write an article on {topic}\",\n",
        "    input_variables= ['topic']\n",
        ")\n",
        "prompt6 = PromptTemplate(\n",
        "    template = \"Summarize the article - {article} in 50 words\",\n",
        "    input_variables = ['article']\n",
        ")"
      ],
      "metadata": {
        "id": "2RWaEgwiHO4p"
      },
      "execution_count": 53,
      "outputs": []
    },
    {
      "cell_type": "code",
      "source": [
        "article_gen = RunnableSequence(prompt5,model,parser)"
      ],
      "metadata": {
        "id": "MvOFiYG0HhBe"
      },
      "execution_count": 54,
      "outputs": []
    },
    {
      "cell_type": "code",
      "source": [
        "branch_chain = RunnableBranch(\n",
        "    (lambda x: len(x.split())>150, RunnableSequence(prompt6,model,parser)),\n",
        "    RunnablePassthrough()\n",
        ")"
      ],
      "metadata": {
        "id": "sStIjAfMHqvk"
      },
      "execution_count": 55,
      "outputs": []
    },
    {
      "cell_type": "code",
      "source": [
        "final_chain = RunnableSequence(article_gen,branch_chain)"
      ],
      "metadata": {
        "id": "WOwm3T4oIQPv"
      },
      "execution_count": 56,
      "outputs": []
    },
    {
      "cell_type": "code",
      "source": [
        "result = final_chain.invoke({\n",
        "    'topic':'Apple'\n",
        "})"
      ],
      "metadata": {
        "id": "n0yftGlmIWaB"
      },
      "execution_count": 57,
      "outputs": []
    },
    {
      "cell_type": "code",
      "source": [
        "result"
      ],
      "metadata": {
        "colab": {
          "base_uri": "https://localhost:8080/",
          "height": 70
        },
        "id": "alg6r5qdIlEd",
        "outputId": "30e86608-0138-42e0-969e-870e480bf63a"
      },
      "execution_count": 58,
      "outputs": [
        {
          "output_type": "execute_result",
          "data": {
            "text/plain": [
              "\"Apple Inc. is a renowned technology company known for its innovative products such as the iPhone and Mac computers. With a focus on design, innovation, and sustainability, Apple has built a loyal customer base despite facing criticism for labor practices and data security. The company's future in the tech industry looks promising.\""
            ],
            "application/vnd.google.colaboratory.intrinsic+json": {
              "type": "string"
            }
          },
          "metadata": {},
          "execution_count": 58
        }
      ]
    },
    {
      "cell_type": "code",
      "source": [
        "len(result.split())"
      ],
      "metadata": {
        "colab": {
          "base_uri": "https://localhost:8080/"
        },
        "id": "_1yAU8XMIw2n",
        "outputId": "bb13f485-3684-4ff5-c709-755e6235abf2"
      },
      "execution_count": 59,
      "outputs": [
        {
          "output_type": "execute_result",
          "data": {
            "text/plain": [
              "52"
            ]
          },
          "metadata": {},
          "execution_count": 59
        }
      ]
    }
  ]
}