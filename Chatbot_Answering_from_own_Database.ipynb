{
  "nbformat": 4,
  "nbformat_minor": 0,
  "metadata": {
    "colab": {
      "provenance": [],
      "authorship_tag": "ABX9TyNiNmOswLv1plH2Cd8N9CRD",
      "include_colab_link": true
    },
    "kernelspec": {
      "name": "python3",
      "display_name": "Python 3"
    },
    "language_info": {
      "name": "python"
    }
  },
  "cells": [
    {
      "cell_type": "markdown",
      "metadata": {
        "id": "view-in-github",
        "colab_type": "text"
      },
      "source": [
        "<a href=\"https://colab.research.google.com/github/y-pred/Langchain/blob/main/Chatbot_Answering_from_own_Database.ipynb\" target=\"_parent\"><img src=\"https://colab.research.google.com/assets/colab-badge.svg\" alt=\"Open In Colab\"/></a>"
      ]
    },
    {
      "cell_type": "code",
      "source": [
        "!pip install langchain -q\n",
        "!pip install openai -q"
      ],
      "metadata": {
        "colab": {
          "base_uri": "https://localhost:8080/"
        },
        "id": "acrVeqvZmkaI",
        "outputId": "2a23484a-0482-4ae1-d5e1-526cd4528230"
      },
      "execution_count": null,
      "outputs": [
        {
          "output_type": "stream",
          "name": "stdout",
          "text": [
            "\u001b[2K     \u001b[90m━━━━━━━━━━━━━━━━━━━━━━━━━━━━━━━━━━━━━━━━\u001b[0m \u001b[32m817.7/817.7 kB\u001b[0m \u001b[31m6.9 MB/s\u001b[0m eta \u001b[36m0:00:00\u001b[0m\n",
            "\u001b[2K     \u001b[90m━━━━━━━━━━━━━━━━━━━━━━━━━━━━━━━━━━━━━━━━\u001b[0m \u001b[32m1.9/1.9 MB\u001b[0m \u001b[31m43.0 MB/s\u001b[0m eta \u001b[36m0:00:00\u001b[0m\n",
            "\u001b[2K     \u001b[90m━━━━━━━━━━━━━━━━━━━━━━━━━━━━━━━━━━━━━━━━\u001b[0m \u001b[32m287.5/287.5 kB\u001b[0m \u001b[31m18.1 MB/s\u001b[0m eta \u001b[36m0:00:00\u001b[0m\n",
            "\u001b[2K     \u001b[90m━━━━━━━━━━━━━━━━━━━━━━━━━━━━━━━━━━━━━━━━\u001b[0m \u001b[32m113.0/113.0 kB\u001b[0m \u001b[31m6.9 MB/s\u001b[0m eta \u001b[36m0:00:00\u001b[0m\n",
            "\u001b[2K     \u001b[90m━━━━━━━━━━━━━━━━━━━━━━━━━━━━━━━━━━━━━━━━\u001b[0m \u001b[32m49.4/49.4 kB\u001b[0m \u001b[31m3.8 MB/s\u001b[0m eta \u001b[36m0:00:00\u001b[0m\n",
            "\u001b[2K     \u001b[90m━━━━━━━━━━━━━━━━━━━━━━━━━━━━━━━━━━━━━━━━\u001b[0m \u001b[32m53.0/53.0 kB\u001b[0m \u001b[31m4.4 MB/s\u001b[0m eta \u001b[36m0:00:00\u001b[0m\n",
            "\u001b[2K     \u001b[90m━━━━━━━━━━━━━━━━━━━━━━━━━━━━━━━━━━━━━━━━\u001b[0m \u001b[32m144.8/144.8 kB\u001b[0m \u001b[31m4.3 MB/s\u001b[0m eta \u001b[36m0:00:00\u001b[0m\n",
            "\u001b[2K     \u001b[90m━━━━━━━━━━━━━━━━━━━━━━━━━━━━━━━━━━━━━━━━\u001b[0m \u001b[32m268.3/268.3 kB\u001b[0m \u001b[31m6.4 MB/s\u001b[0m eta \u001b[36m0:00:00\u001b[0m\n",
            "\u001b[2K     \u001b[90m━━━━━━━━━━━━━━━━━━━━━━━━━━━━━━━━━━━━━━━━\u001b[0m \u001b[32m75.6/75.6 kB\u001b[0m \u001b[31m10.3 MB/s\u001b[0m eta \u001b[36m0:00:00\u001b[0m\n",
            "\u001b[2K     \u001b[90m━━━━━━━━━━━━━━━━━━━━━━━━━━━━━━━━━━━━━━━━\u001b[0m \u001b[32m77.9/77.9 kB\u001b[0m \u001b[31m8.5 MB/s\u001b[0m eta \u001b[36m0:00:00\u001b[0m\n",
            "\u001b[2K     \u001b[90m━━━━━━━━━━━━━━━━━━━━━━━━━━━━━━━━━━━━━━━━\u001b[0m \u001b[32m58.3/58.3 kB\u001b[0m \u001b[31m6.5 MB/s\u001b[0m eta \u001b[36m0:00:00\u001b[0m\n",
            "\u001b[?25h"
          ]
        }
      ]
    },
    {
      "cell_type": "code",
      "source": [
        "!pip install chromaDB -q"
      ],
      "metadata": {
        "colab": {
          "base_uri": "https://localhost:8080/"
        },
        "id": "SHyO5AJym_UL",
        "outputId": "d4d9a2af-2599-40af-e8f2-c8192beb0b8d"
      },
      "execution_count": null,
      "outputs": [
        {
          "output_type": "stream",
          "name": "stdout",
          "text": [
            "\u001b[?25l     \u001b[90m━━━━━━━━━━━━━━━━━━━━━━━━━━━━━━━━━━━━━━━━\u001b[0m \u001b[32m0.0/525.5 kB\u001b[0m \u001b[31m?\u001b[0m eta \u001b[36m-:--:--\u001b[0m\r\u001b[2K     \u001b[91m━━━━━━━━━━━━━━━━━\u001b[0m\u001b[90m╺\u001b[0m\u001b[90m━━━━━━━━━━━━━━━━━━━━━━\u001b[0m \u001b[32m225.3/525.5 kB\u001b[0m \u001b[31m6.6 MB/s\u001b[0m eta \u001b[36m0:00:01\u001b[0m\r\u001b[2K     \u001b[90m━━━━━━━━━━━━━━━━━━━━━━━━━━━━━━━━━━━━━━━━\u001b[0m \u001b[32m525.5/525.5 kB\u001b[0m \u001b[31m10.5 MB/s\u001b[0m eta \u001b[36m0:00:00\u001b[0m\n",
            "\u001b[2K     \u001b[90m━━━━━━━━━━━━━━━━━━━━━━━━━━━━━━━━━━━━━━━━\u001b[0m \u001b[32m2.4/2.4 MB\u001b[0m \u001b[31m74.7 MB/s\u001b[0m eta \u001b[36m0:00:00\u001b[0m\n",
            "\u001b[2K     \u001b[90m━━━━━━━━━━━━━━━━━━━━━━━━━━━━━━━━━━━━━━━━\u001b[0m \u001b[32m91.9/91.9 kB\u001b[0m \u001b[31m9.0 MB/s\u001b[0m eta \u001b[36m0:00:00\u001b[0m\n",
            "\u001b[2K     \u001b[90m━━━━━━━━━━━━━━━━━━━━━━━━━━━━━━━━━━━━━━━━\u001b[0m \u001b[32m60.8/60.8 kB\u001b[0m \u001b[31m7.1 MB/s\u001b[0m eta \u001b[36m0:00:00\u001b[0m\n",
            "\u001b[2K     \u001b[90m━━━━━━━━━━━━━━━━━━━━━━━━━━━━━━━━━━━━━━━━\u001b[0m \u001b[32m41.3/41.3 kB\u001b[0m \u001b[31m3.5 MB/s\u001b[0m eta \u001b[36m0:00:00\u001b[0m\n",
            "\u001b[2K     \u001b[90m━━━━━━━━━━━━━━━━━━━━━━━━━━━━━━━━━━━━━━━━\u001b[0m \u001b[32m5.4/5.4 MB\u001b[0m \u001b[31m61.6 MB/s\u001b[0m eta \u001b[36m0:00:00\u001b[0m\n",
            "\u001b[2K     \u001b[90m━━━━━━━━━━━━━━━━━━━━━━━━━━━━━━━━━━━━━━━━\u001b[0m \u001b[32m6.8/6.8 MB\u001b[0m \u001b[31m61.2 MB/s\u001b[0m eta \u001b[36m0:00:00\u001b[0m\n",
            "\u001b[2K     \u001b[90m━━━━━━━━━━━━━━━━━━━━━━━━━━━━━━━━━━━━━━━━\u001b[0m \u001b[32m60.1/60.1 kB\u001b[0m \u001b[31m6.9 MB/s\u001b[0m eta \u001b[36m0:00:00\u001b[0m\n",
            "\u001b[2K     \u001b[90m━━━━━━━━━━━━━━━━━━━━━━━━━━━━━━━━━━━━━━━━\u001b[0m \u001b[32m106.1/106.1 kB\u001b[0m \u001b[31m9.1 MB/s\u001b[0m eta \u001b[36m0:00:00\u001b[0m\n",
            "\u001b[2K     \u001b[90m━━━━━━━━━━━━━━━━━━━━━━━━━━━━━━━━━━━━━━━━\u001b[0m \u001b[32m67.3/67.3 kB\u001b[0m \u001b[31m3.9 MB/s\u001b[0m eta \u001b[36m0:00:00\u001b[0m\n",
            "\u001b[?25h  Installing build dependencies ... \u001b[?25l\u001b[?25hdone\n",
            "  Getting requirements to build wheel ... \u001b[?25l\u001b[?25hdone\n",
            "  Preparing metadata (pyproject.toml) ... \u001b[?25l\u001b[?25hdone\n",
            "\u001b[2K     \u001b[90m━━━━━━━━━━━━━━━━━━━━━━━━━━━━━━━━━━━━━━━━\u001b[0m \u001b[32m698.9/698.9 kB\u001b[0m \u001b[31m56.8 MB/s\u001b[0m eta \u001b[36m0:00:00\u001b[0m\n",
            "\u001b[2K     \u001b[90m━━━━━━━━━━━━━━━━━━━━━━━━━━━━━━━━━━━━━━━━\u001b[0m \u001b[32m1.6/1.6 MB\u001b[0m \u001b[31m72.4 MB/s\u001b[0m eta \u001b[36m0:00:00\u001b[0m\n",
            "\u001b[2K     \u001b[90m━━━━━━━━━━━━━━━━━━━━━━━━━━━━━━━━━━━━━━━━\u001b[0m \u001b[32m67.6/67.6 kB\u001b[0m \u001b[31m9.2 MB/s\u001b[0m eta \u001b[36m0:00:00\u001b[0m\n",
            "\u001b[2K     \u001b[90m━━━━━━━━━━━━━━━━━━━━━━━━━━━━━━━━━━━━━━━━\u001b[0m \u001b[32m71.9/71.9 kB\u001b[0m \u001b[31m8.6 MB/s\u001b[0m eta \u001b[36m0:00:00\u001b[0m\n",
            "\u001b[2K     \u001b[90m━━━━━━━━━━━━━━━━━━━━━━━━━━━━━━━━━━━━━━━━\u001b[0m \u001b[32m46.0/46.0 kB\u001b[0m \u001b[31m5.8 MB/s\u001b[0m eta \u001b[36m0:00:00\u001b[0m\n",
            "\u001b[2K     \u001b[90m━━━━━━━━━━━━━━━━━━━━━━━━━━━━━━━━━━━━━━━━\u001b[0m \u001b[32m50.8/50.8 kB\u001b[0m \u001b[31m5.6 MB/s\u001b[0m eta \u001b[36m0:00:00\u001b[0m\n",
            "\u001b[2K     \u001b[90m━━━━━━━━━━━━━━━━━━━━━━━━━━━━━━━━━━━━━━━━\u001b[0m \u001b[32m341.4/341.4 kB\u001b[0m \u001b[31m41.1 MB/s\u001b[0m eta \u001b[36m0:00:00\u001b[0m\n",
            "\u001b[2K     \u001b[90m━━━━━━━━━━━━━━━━━━━━━━━━━━━━━━━━━━━━━━━━\u001b[0m \u001b[32m3.4/3.4 MB\u001b[0m \u001b[31m66.2 MB/s\u001b[0m eta \u001b[36m0:00:00\u001b[0m\n",
            "\u001b[2K     \u001b[90m━━━━━━━━━━━━━━━━━━━━━━━━━━━━━━━━━━━━━━━━\u001b[0m \u001b[32m1.3/1.3 MB\u001b[0m \u001b[31m55.1 MB/s\u001b[0m eta \u001b[36m0:00:00\u001b[0m\n",
            "\u001b[2K     \u001b[90m━━━━━━━━━━━━━━━━━━━━━━━━━━━━━━━━━━━━━━━━\u001b[0m \u001b[32m130.2/130.2 kB\u001b[0m \u001b[31m17.3 MB/s\u001b[0m eta \u001b[36m0:00:00\u001b[0m\n",
            "\u001b[2K     \u001b[90m━━━━━━━━━━━━━━━━━━━━━━━━━━━━━━━━━━━━━━━━\u001b[0m \u001b[32m86.8/86.8 kB\u001b[0m \u001b[31m11.9 MB/s\u001b[0m eta \u001b[36m0:00:00\u001b[0m\n",
            "\u001b[?25h  Building wheel for pypika (pyproject.toml) ... \u001b[?25l\u001b[?25hdone\n"
          ]
        }
      ]
    },
    {
      "cell_type": "code",
      "source": [
        "!pip install unstructured -q"
      ],
      "metadata": {
        "colab": {
          "base_uri": "https://localhost:8080/"
        },
        "id": "_HGu4b4DnJ0r",
        "outputId": "7024ed98-6e6d-4a5f-c4e6-a38da9001ce5"
      },
      "execution_count": null,
      "outputs": [
        {
          "output_type": "stream",
          "name": "stdout",
          "text": [
            "\u001b[2K     \u001b[90m━━━━━━━━━━━━━━━━━━━━━━━━━━━━━━━━━━━━━━━━\u001b[0m \u001b[32m1.9/1.9 MB\u001b[0m \u001b[31m25.0 MB/s\u001b[0m eta \u001b[36m0:00:00\u001b[0m\n",
            "\u001b[2K     \u001b[90m━━━━━━━━━━━━━━━━━━━━━━━━━━━━━━━━━━━━━━━━\u001b[0m \u001b[32m433.8/433.8 kB\u001b[0m \u001b[31m40.1 MB/s\u001b[0m eta \u001b[36m0:00:00\u001b[0m\n",
            "\u001b[2K     \u001b[90m━━━━━━━━━━━━━━━━━━━━━━━━━━━━━━━━━━━━━━━━\u001b[0m \u001b[32m274.7/274.7 kB\u001b[0m \u001b[31m32.3 MB/s\u001b[0m eta \u001b[36m0:00:00\u001b[0m\n",
            "\u001b[2K     \u001b[90m━━━━━━━━━━━━━━━━━━━━━━━━━━━━━━━━━━━━━━━━\u001b[0m \u001b[32m981.5/981.5 kB\u001b[0m \u001b[31m57.5 MB/s\u001b[0m eta \u001b[36m0:00:00\u001b[0m\n",
            "\u001b[?25h  Preparing metadata (setup.py) ... \u001b[?25l\u001b[?25hdone\n",
            "\u001b[2K     \u001b[90m━━━━━━━━━━━━━━━━━━━━━━━━━━━━━━━━━━━━━━━━\u001b[0m \u001b[32m3.4/3.4 MB\u001b[0m \u001b[31m52.4 MB/s\u001b[0m eta \u001b[36m0:00:00\u001b[0m\n",
            "\u001b[?25h  Building wheel for langdetect (setup.py) ... \u001b[?25l\u001b[?25hdone\n"
          ]
        }
      ]
    },
    {
      "cell_type": "code",
      "source": [
        "import os\n",
        "import langchain\n",
        "from langchain.llms import OpenAI\n",
        "os.environ['OPENAI_API_KEY'] = 'OPENAI_API_KEY'"
      ],
      "metadata": {
        "id": "NZEEC8C9mr1Q"
      },
      "execution_count": null,
      "outputs": []
    },
    {
      "cell_type": "code",
      "source": [
        "llm = OpenAI(temperature=0.2)"
      ],
      "metadata": {
        "colab": {
          "base_uri": "https://localhost:8080/"
        },
        "id": "jhLHxa9woJdH",
        "outputId": "476316e7-f511-43c0-b70d-20cd6c1e6ba2"
      },
      "execution_count": null,
      "outputs": [
        {
          "output_type": "stream",
          "name": "stderr",
          "text": [
            "/usr/local/lib/python3.10/dist-packages/langchain_core/_api/deprecation.py:117: LangChainDeprecationWarning: The class `langchain_community.llms.openai.OpenAI` was deprecated in langchain-community 0.0.10 and will be removed in 0.2.0. An updated version of the class exists in the langchain-openai package and should be used instead. To use it run `pip install -U langchain-openai` and import as `from langchain_openai import OpenAI`.\n",
            "  warn_deprecated(\n"
          ]
        }
      ]
    },
    {
      "cell_type": "code",
      "source": [
        "from langchain.document_loaders import UnstructuredURLLoader\n",
        "loaders = UnstructuredURLLoader(urls=[\n",
        "    \"https://en.wikipedia.org/wiki/Kanpur\",\n",
        "    \"https://travel.india.com/guide/destination/discover-the-top-6-must-try-restaurants-in-kanpur-6832444/\",\n",
        "    \"https://www.tripoto.com/uttar-pradesh/trips/kanpur-beyond-stereotypes-the-city-with-a-little-of-everything-5dad96a31a569\"\n",
        "])\n",
        "\n",
        "data = loaders.load()\n",
        "len(data)"
      ],
      "metadata": {
        "colab": {
          "base_uri": "https://localhost:8080/"
        },
        "id": "U3PudQb5nxvA",
        "outputId": "d6550bd0-d85e-433b-c1c5-4013c2361904"
      },
      "execution_count": null,
      "outputs": [
        {
          "output_type": "stream",
          "name": "stderr",
          "text": [
            "[nltk_data] Downloading package punkt to /root/nltk_data...\n",
            "[nltk_data]   Unzipping tokenizers/punkt.zip.\n",
            "[nltk_data] Downloading package averaged_perceptron_tagger to\n",
            "[nltk_data]     /root/nltk_data...\n",
            "[nltk_data]   Unzipping taggers/averaged_perceptron_tagger.zip.\n"
          ]
        },
        {
          "output_type": "execute_result",
          "data": {
            "text/plain": [
              "3"
            ]
          },
          "metadata": {},
          "execution_count": 7
        }
      ]
    },
    {
      "cell_type": "code",
      "source": [
        "data[2].metadata"
      ],
      "metadata": {
        "colab": {
          "base_uri": "https://localhost:8080/"
        },
        "id": "lAyfXAnror5U",
        "outputId": "854a1cfb-5a45-4493-dd48-5ec5ce5a4b58"
      },
      "execution_count": null,
      "outputs": [
        {
          "output_type": "execute_result",
          "data": {
            "text/plain": [
              "{'source': 'https://www.tripoto.com/uttar-pradesh/trips/kanpur-beyond-stereotypes-the-city-with-a-little-of-everything-5dad96a31a569'}"
            ]
          },
          "metadata": {},
          "execution_count": 14
        }
      ]
    },
    {
      "cell_type": "markdown",
      "source": [
        "###Text Splitter"
      ],
      "metadata": {
        "id": "L5MSQlN8x177"
      }
    },
    {
      "cell_type": "code",
      "source": [
        "from langchain_text_splitters import RecursiveCharacterTextSplitter\n",
        "\n",
        "text_splitter = RecursiveCharacterTextSplitter(\n",
        "    separators=[\n",
        "        \"\\n\\n\",\n",
        "        \"\\n\",\n",
        "        \" \"\n",
        "    ],\n",
        "    chunk_size=1000,\n",
        "    chunk_overlap=200\n",
        ")\n",
        "chunks = text_splitter.split_documents(data)"
      ],
      "metadata": {
        "id": "8ZiowTumpDTJ"
      },
      "execution_count": null,
      "outputs": []
    },
    {
      "cell_type": "code",
      "source": [
        "chunks[4]"
      ],
      "metadata": {
        "colab": {
          "base_uri": "https://localhost:8080/"
        },
        "id": "tTX5dXhMya-j",
        "outputId": "5c900833-4536-41d0-d317-be644ef5c315"
      },
      "execution_count": null,
      "outputs": [
        {
          "output_type": "execute_result",
          "data": {
            "text/plain": [
              "Document(page_content='[3] 891\\xa0km 2 (344\\xa0sq\\xa0mi) Elevation 126\\xa0m (413\\xa0ft) Population (2024) [4] •\\xa0City 3,926,000 (estimated) •\\xa0Rank 12 th • Metro 5,100,000 (estimated) •\\xa0Metro Rank 11 th Demonym(s) Kanpurite, Kanpuriya Languages •\\xa0Official Hindi •\\xa0Regional Awadhi Time zone UTC+05:30 ( IST ) PIN 2080XX and 2092XX Area code +91-(0)512 Vehicle registration UP-77 , UP-78 and UP-35 GDP Nominal (Kanpur Nagar District) ₹ 49,700.65 crore (US$6.2\\xa0billion) (2020–21) [5] Climate Cwa ( Köppen ) GDP Per Capita ₹ 87,295.51 (US$1,100) Sex ratio 855 ♀ / 1000 ♂ Literacy 82.42% HDI 0.663 [6] ( Medium ) Domestic airport Kanpur Airport Rapid Transit Kanpur Metro Website kanpurnagar .nic .in', metadata={'source': 'https://en.wikipedia.org/wiki/Kanpur'})"
            ]
          },
          "metadata": {},
          "execution_count": 18
        }
      ]
    },
    {
      "cell_type": "code",
      "source": [
        "count=0\n",
        "for chunk in chunks:\n",
        "  if count<5:\n",
        "    print(len(chunk.page_content))\n",
        "  else:\n",
        "    break\n",
        "  count+=1"
      ],
      "metadata": {
        "colab": {
          "base_uri": "https://localhost:8080/"
        },
        "id": "wzSCh4w-yjCZ",
        "outputId": "78336763-bf51-4c19-87b1-d4b6dce37bc0"
      },
      "execution_count": null,
      "outputs": [
        {
          "output_type": "stream",
          "name": "stdout",
          "text": [
            "995\n",
            "993\n",
            "28\n",
            "992\n",
            "655\n"
          ]
        }
      ]
    },
    {
      "cell_type": "markdown",
      "source": [
        "###Create and store embeddings in ChromaDB"
      ],
      "metadata": {
        "id": "P6ZHlOs5ze3L"
      }
    },
    {
      "cell_type": "code",
      "source": [
        "!pip install tiktoken"
      ],
      "metadata": {
        "colab": {
          "base_uri": "https://localhost:8080/"
        },
        "id": "Vd2huaDv1ACK",
        "outputId": "31d8af20-a287-4e62-c6ec-1e7840e4580a"
      },
      "execution_count": null,
      "outputs": [
        {
          "output_type": "stream",
          "name": "stdout",
          "text": [
            "Collecting tiktoken\n",
            "  Downloading tiktoken-0.6.0-cp310-cp310-manylinux_2_17_x86_64.manylinux2014_x86_64.whl (1.8 MB)\n",
            "\u001b[2K     \u001b[90m━━━━━━━━━━━━━━━━━━━━━━━━━━━━━━━━━━━━━━━━\u001b[0m \u001b[32m1.8/1.8 MB\u001b[0m \u001b[31m20.1 MB/s\u001b[0m eta \u001b[36m0:00:00\u001b[0m\n",
            "\u001b[?25hRequirement already satisfied: regex>=2022.1.18 in /usr/local/lib/python3.10/dist-packages (from tiktoken) (2023.12.25)\n",
            "Requirement already satisfied: requests>=2.26.0 in /usr/local/lib/python3.10/dist-packages (from tiktoken) (2.31.0)\n",
            "Requirement already satisfied: charset-normalizer<4,>=2 in /usr/local/lib/python3.10/dist-packages (from requests>=2.26.0->tiktoken) (3.3.2)\n",
            "Requirement already satisfied: idna<4,>=2.5 in /usr/local/lib/python3.10/dist-packages (from requests>=2.26.0->tiktoken) (3.6)\n",
            "Requirement already satisfied: urllib3<3,>=1.21.1 in /usr/local/lib/python3.10/dist-packages (from requests>=2.26.0->tiktoken) (2.0.7)\n",
            "Requirement already satisfied: certifi>=2017.4.17 in /usr/local/lib/python3.10/dist-packages (from requests>=2.26.0->tiktoken) (2024.2.2)\n",
            "Installing collected packages: tiktoken\n",
            "Successfully installed tiktoken-0.6.0\n"
          ]
        }
      ]
    },
    {
      "cell_type": "code",
      "source": [
        "from langchain.embeddings import OpenAIEmbeddings\n",
        "from langchain.vectorstores import Chroma\n",
        "embedding_model = OpenAIEmbeddings()\n",
        "db = Chroma.from_documents(chunks,embedding_model)"
      ],
      "metadata": {
        "colab": {
          "base_uri": "https://localhost:8080/"
        },
        "id": "a1q-tJFlzhUI",
        "outputId": "9a4bd5d6-af2f-43e8-f821-04d809421d67"
      },
      "execution_count": null,
      "outputs": [
        {
          "output_type": "stream",
          "name": "stderr",
          "text": [
            "/usr/local/lib/python3.10/dist-packages/langchain_core/_api/deprecation.py:117: LangChainDeprecationWarning: The class `langchain_community.embeddings.openai.OpenAIEmbeddings` was deprecated in langchain-community 0.0.9 and will be removed in 0.2.0. An updated version of the class exists in the langchain-openai package and should be used instead. To use it run `pip install -U langchain-openai` and import as `from langchain_openai import OpenAIEmbeddings`.\n",
            "  warn_deprecated(\n"
          ]
        }
      ]
    },
    {
      "cell_type": "code",
      "source": [
        "query = 'What was the former name of Kanpur?'\n",
        "docs = db.similarity_search(query)\n",
        "print(docs[0].page_content)"
      ],
      "metadata": {
        "colab": {
          "base_uri": "https://localhost:8080/"
        },
        "id": "5nzf7px514XA",
        "outputId": "910de004-12a7-4f32-dfa6-b475f89ad7da"
      },
      "execution_count": null,
      "outputs": [
        {
          "output_type": "stream",
          "name": "stdout",
          "text": [
            "Kanpur (/kɑːnˈpʊər/ ⓘ), formerly anglicized as Cawnpore, is a large industrial city located in the central-western part of the state of Uttar Pradesh, India. Founded in year 1207, Kanpur became one of the most important commercial and military stations of British India. Kanpur is also the financial capital of Uttar Pradesh and part of upcoming Bundelkhand Industrial Development Authority i.e. BIDA Nestled on the banks of Ganges River, Kanpur has been the major financial and industrial centre of North India and also the ninth-largest urban economy in India.[7][8] Today it is famous for its colonial architecture, gardens, IT parks and fine quality leather, plastic and textile products which are exported mainly to the West.[9][10]\n",
            "\n",
            "The city is home to historical monuments such as the Jajmau Ghat which dates back to 17th century AD. Kanpur is also home to several historical sites such as the Bithoor Museum, Bhitargaon Temple, European Cemetery and Nanarao Park.\n"
          ]
        }
      ]
    },
    {
      "cell_type": "code",
      "source": [
        "docs_with_score = db.similarity_search_with_score(query, k=3)\n",
        "docs_with_score"
      ],
      "metadata": {
        "colab": {
          "base_uri": "https://localhost:8080/"
        },
        "id": "QJEk_Feo2sNZ",
        "outputId": "f1d25e53-166e-4ef8-8aa6-5b9c50f87c10"
      },
      "execution_count": null,
      "outputs": [
        {
          "output_type": "execute_result",
          "data": {
            "text/plain": [
              "[(Document(page_content='Kanpur (/kɑːnˈpʊər/ ⓘ), formerly anglicized as Cawnpore, is a large industrial city located in the central-western part of the state of Uttar Pradesh, India. Founded in year 1207, Kanpur became one of the most important commercial and military stations of British India. Kanpur is also the financial capital of Uttar Pradesh and part of upcoming Bundelkhand Industrial Development Authority i.e. BIDA Nestled on the banks of Ganges River, Kanpur has been the major financial and industrial centre of North India and also the ninth-largest urban economy in India.[7][8] Today it is famous for its colonial architecture, gardens, IT parks and fine quality leather, plastic and textile products which are exported mainly to the West.[9][10]\\n\\nThe city is home to historical monuments such as the Jajmau Ghat which dates back to 17th century AD. Kanpur is also home to several historical sites such as the Bithoor Museum, Bhitargaon Temple, European Cemetery and Nanarao Park.', metadata={'source': 'https://en.wikipedia.org/wiki/Kanpur'}),\n",
              "  0.23687130212783813),\n",
              " (Document(page_content='It is the 12th most populous city and the 11th most populous urban agglomeration in India (Census of India, 2011). Kanpur was an important British garrison town until 1947, when India gained independence. The urban district of Kanpur Nagar serves as the headquarters of the Kanpur Division, Kanpur Range and Kanpur Zone.\\n\\nAccording to 2011 Indian census, it is the most populous urban city and the largest urban agglomeration in Uttar Pradesh while the population of city and its suburb were around 5 million making it the eighth-most populous metropolitan area in India.\\n\\nHistory[edit]\\n\\nIn 1207, Raja Kanh Deo of the Kanhpuriya clan of Rajputs established the city of Kanhpur and made it his capital, which later came to be known as Kanpur.[11][12]', metadata={'source': 'https://en.wikipedia.org/wiki/Kanpur'}),\n",
              "  0.23842470347881317),\n",
              " (Document(page_content=\"History[edit]\\n\\nIn 1207, Raja Kanh Deo of the Kanhpuriya clan of Rajputs established the city of Kanhpur and made it his capital, which later came to be known as Kanpur.[11][12]\\n\\nThe area was ruled by several rulers of Kannauj, such as Harsha Vardhan, Jai Chand and Mihir Bhoja.[citation needed] It was also ruled by Muslim rulers of the Sur dynasty. In May 1765, Shuja-ud-daula, the Nawab of Awadh, was defeated by the British near Jajmau. From 1773 to 1801, Kanpur was part of the Oudh Kingdom, followed by the treaty of 1801 between Nawab Saadat Ali Khan of Awadh and the British, who realized the strategic importance. Several European businessmen established themselves in Kanpur, during this time.[citation needed]\\n\\nIndia, commonly known as the\\n\\n'Red Tamarind', for a brand produced by the mill) by the\\n\\nBritish India Corporation established here in 1876 by\\n\\nAlexander MacRobert.\\n\\ncitation needed\\n\\nfaçades of the mill are reminiscent of the\", metadata={'source': 'https://en.wikipedia.org/wiki/Kanpur'}),\n",
              "  0.2470751404762268)]"
            ]
          },
          "metadata": {},
          "execution_count": 12
        }
      ]
    },
    {
      "cell_type": "markdown",
      "source": [
        "###Persisit a ChromaDB instance"
      ],
      "metadata": {
        "id": "3E5thPQH4OKp"
      }
    },
    {
      "cell_type": "code",
      "source": [
        "persist_directory = 'chroma_db'\n",
        "vector_db = Chroma.from_documents(documents = chunks,embedding = embedding_model, persist_directory = persist_directory)"
      ],
      "metadata": {
        "id": "ZmR35nnz2yj7"
      },
      "execution_count": null,
      "outputs": []
    },
    {
      "cell_type": "code",
      "source": [
        "vector_db.persist()"
      ],
      "metadata": {
        "id": "CXBeNdGp42F-"
      },
      "execution_count": null,
      "outputs": []
    },
    {
      "cell_type": "markdown",
      "source": [
        "###Load the Database from disk, and create the chain"
      ],
      "metadata": {
        "id": "MbFl7pXY5V_l"
      }
    },
    {
      "cell_type": "code",
      "source": [
        "new_db = Chroma(persist_directory = persist_directory, embedding_function = embedding_model)"
      ],
      "metadata": {
        "id": "eTZmLgBr5XAu"
      },
      "execution_count": null,
      "outputs": []
    },
    {
      "cell_type": "code",
      "source": [
        "matching_docs = new_db.similarity_search_with_score(query)\n",
        "matching_docs"
      ],
      "metadata": {
        "colab": {
          "base_uri": "https://localhost:8080/"
        },
        "id": "UvqpxBFK50hV",
        "outputId": "bc4df9ed-a238-487f-a52d-76b634b06070"
      },
      "execution_count": null,
      "outputs": [
        {
          "output_type": "execute_result",
          "data": {
            "text/plain": [
              "[(Document(page_content='Kanpur (/kɑːnˈpʊər/ ⓘ), formerly anglicized as Cawnpore, is a large industrial city located in the central-western part of the state of Uttar Pradesh, India. Founded in year 1207, Kanpur became one of the most important commercial and military stations of British India. Kanpur is also the financial capital of Uttar Pradesh and part of upcoming Bundelkhand Industrial Development Authority i.e. BIDA Nestled on the banks of Ganges River, Kanpur has been the major financial and industrial centre of North India and also the ninth-largest urban economy in India.[7][8] Today it is famous for its colonial architecture, gardens, IT parks and fine quality leather, plastic and textile products which are exported mainly to the West.[9][10]\\n\\nThe city is home to historical monuments such as the Jajmau Ghat which dates back to 17th century AD. Kanpur is also home to several historical sites such as the Bithoor Museum, Bhitargaon Temple, European Cemetery and Nanarao Park.', metadata={'source': 'https://en.wikipedia.org/wiki/Kanpur'}),\n",
              "  0.23686199059289553),\n",
              " (Document(page_content='It is the 12th most populous city and the 11th most populous urban agglomeration in India (Census of India, 2011). Kanpur was an important British garrison town until 1947, when India gained independence. The urban district of Kanpur Nagar serves as the headquarters of the Kanpur Division, Kanpur Range and Kanpur Zone.\\n\\nAccording to 2011 Indian census, it is the most populous urban city and the largest urban agglomeration in Uttar Pradesh while the population of city and its suburb were around 5 million making it the eighth-most populous metropolitan area in India.\\n\\nHistory[edit]\\n\\nIn 1207, Raja Kanh Deo of the Kanhpuriya clan of Rajputs established the city of Kanhpur and made it his capital, which later came to be known as Kanpur.[11][12]', metadata={'source': 'https://en.wikipedia.org/wiki/Kanpur'}),\n",
              "  0.2384678419963324),\n",
              " (Document(page_content=\"History[edit]\\n\\nIn 1207, Raja Kanh Deo of the Kanhpuriya clan of Rajputs established the city of Kanhpur and made it his capital, which later came to be known as Kanpur.[11][12]\\n\\nThe area was ruled by several rulers of Kannauj, such as Harsha Vardhan, Jai Chand and Mihir Bhoja.[citation needed] It was also ruled by Muslim rulers of the Sur dynasty. In May 1765, Shuja-ud-daula, the Nawab of Awadh, was defeated by the British near Jajmau. From 1773 to 1801, Kanpur was part of the Oudh Kingdom, followed by the treaty of 1801 between Nawab Saadat Ali Khan of Awadh and the British, who realized the strategic importance. Several European businessmen established themselves in Kanpur, during this time.[citation needed]\\n\\nIndia, commonly known as the\\n\\n'Red Tamarind', for a brand produced by the mill) by the\\n\\nBritish India Corporation established here in 1876 by\\n\\nAlexander MacRobert.\\n\\ncitation needed\\n\\nfaçades of the mill are reminiscent of the\", metadata={'source': 'https://en.wikipedia.org/wiki/Kanpur'}),\n",
              "  0.24703198949435862),\n",
              " (Document(page_content='Kanpur City From top, left to right: Kanpur Central, J. K. Temple, City Skyline, CSJM University, Kanpur Memorial Church, Cityscape in Krishna Nagar, Green Park Stadium Nickname: Leather City of the World [1] Manchester of the East [2] Kanpur The City of Kanpur in the District of Kanpur Nagar Show map of Uttar Pradesh Kanpur Location of Kanpur in India Show map of India Coordinates: 26°27′00″N 80°19′55″E \\ufeff / \\ufeff 26.449923°N 80.331874°E \\ufeff / 26.449923; 80.331874 Country India State Uttar Pradesh Division Kanpur District Kanpur Nagar Named for Raja Kanh Deo Government •\\xa0Type Municipal Corporation •\\xa0Body Kanpur Municipal Corporation • Mayor Pramila Pandey ( BJP ) • Municipal commissioner Shivasharanappa G N, IAS • Police commissioner B. P. Jogdand, IPS Area •\\xa0City 403\\xa0km 2 (156\\xa0sq\\xa0mi) •\\xa0Metro [3] 891\\xa0km 2 (344\\xa0sq\\xa0mi) Elevation 126\\xa0m (413\\xa0ft) Population (2024) [4] •\\xa0City 3,926,000 (estimated) •\\xa0Rank 12 th • Metro 5,100,000 (estimated) •\\xa0Metro Rank 11 th Demonym(s) Kanpurite, Kanpuriya', metadata={'source': 'https://en.wikipedia.org/wiki/Kanpur'}),\n",
              "  0.264045529584652)]"
            ]
          },
          "metadata": {},
          "execution_count": 16
        }
      ]
    },
    {
      "cell_type": "markdown",
      "source": [
        "###Integration with LLM"
      ],
      "metadata": {
        "id": "xdMTaCms6Tk8"
      }
    },
    {
      "cell_type": "code",
      "source": [
        "from langchain.chat_models import ChatOpenAI\n",
        "\n",
        "chat = ChatOpenAI(model=\"gpt-3.5-turbo-0125\", temperature=0)"
      ],
      "metadata": {
        "id": "fMwVnjPe6VZE",
        "colab": {
          "base_uri": "https://localhost:8080/"
        },
        "outputId": "d53bc8b7-3d91-4555-d59b-266f99f47bf7"
      },
      "execution_count": null,
      "outputs": [
        {
          "output_type": "stream",
          "name": "stderr",
          "text": [
            "/usr/local/lib/python3.10/dist-packages/langchain_core/_api/deprecation.py:117: LangChainDeprecationWarning: The class `langchain_community.chat_models.openai.ChatOpenAI` was deprecated in langchain-community 0.0.10 and will be removed in 0.2.0. An updated version of the class exists in the langchain-openai package and should be used instead. To use it run `pip install -U langchain-openai` and import as `from langchain_openai import ChatOpenAI`.\n",
            "  warn_deprecated(\n"
          ]
        }
      ]
    },
    {
      "cell_type": "code",
      "source": [
        "from langchain.chains.question_answering import load_qa_chain\n",
        "\n",
        "chain = load_qa_chain(chat,chain_type='stuff', verbose=True)"
      ],
      "metadata": {
        "id": "wfQrL1We8CsK"
      },
      "execution_count": null,
      "outputs": []
    },
    {
      "cell_type": "code",
      "source": [
        "query = 'What is the former name of Kanpur?'\n",
        "matching_docs = db.similarity_search(query)\n",
        "str(matching_docs[0])"
      ],
      "metadata": {
        "colab": {
          "base_uri": "https://localhost:8080/"
        },
        "id": "uCHdQzvK9UXq",
        "outputId": "2623a48b-ec8d-4347-dcdb-3680aa348eb1"
      },
      "execution_count": null,
      "outputs": [
        {
          "output_type": "execute_result",
          "data": {
            "text/plain": [
              "\"page_content='Kanpur (/kɑːnˈpʊər/ ⓘ), formerly anglicized as Cawnpore, is a large industrial city located in the central-western part of the state of Uttar Pradesh, India. Founded in year 1207, Kanpur became one of the most important commercial and military stations of British India. Kanpur is also the financial capital of Uttar Pradesh and part of upcoming Bundelkhand Industrial Development Authority i.e. BIDA Nestled on the banks of Ganges River, Kanpur has been the major financial and industrial centre of North India and also the ninth-largest urban economy in India.[7][8] Today it is famous for its colonial architecture, gardens, IT parks and fine quality leather, plastic and textile products which are exported mainly to the West.[9][10]\\\\n\\\\nThe city is home to historical monuments such as the Jajmau Ghat which dates back to 17th century AD. Kanpur is also home to several historical sites such as the Bithoor Museum, Bhitargaon Temple, European Cemetery and Nanarao Park.' metadata={'source': 'https://en.wikipedia.org/wiki/Kanpur'}\""
            ],
            "application/vnd.google.colaboratory.intrinsic+json": {
              "type": "string"
            }
          },
          "metadata": {},
          "execution_count": 19
        }
      ]
    },
    {
      "cell_type": "code",
      "source": [
        "answer = chain.run(input_documents= matching_docs, question=query)"
      ],
      "metadata": {
        "colab": {
          "base_uri": "https://localhost:8080/"
        },
        "id": "PDRJ9F8k-n3k",
        "outputId": "322cc860-a0f3-47dd-eaa2-bbc8c89ba00a"
      },
      "execution_count": null,
      "outputs": [
        {
          "output_type": "stream",
          "name": "stderr",
          "text": [
            "/usr/local/lib/python3.10/dist-packages/langchain_core/_api/deprecation.py:117: LangChainDeprecationWarning: The function `run` was deprecated in LangChain 0.1.0 and will be removed in 0.2.0. Use invoke instead.\n",
            "  warn_deprecated(\n"
          ]
        },
        {
          "output_type": "stream",
          "name": "stdout",
          "text": [
            "\n",
            "\n",
            "\u001b[1m> Entering new StuffDocumentsChain chain...\u001b[0m\n",
            "\n",
            "\n",
            "\u001b[1m> Entering new LLMChain chain...\u001b[0m\n",
            "Prompt after formatting:\n",
            "\u001b[32;1m\u001b[1;3mSystem: Use the following pieces of context to answer the user's question. \n",
            "If you don't know the answer, just say that you don't know, don't try to make up an answer.\n",
            "----------------\n",
            "Kanpur (/kɑːnˈpʊər/ ⓘ), formerly anglicized as Cawnpore, is a large industrial city located in the central-western part of the state of Uttar Pradesh, India. Founded in year 1207, Kanpur became one of the most important commercial and military stations of British India. Kanpur is also the financial capital of Uttar Pradesh and part of upcoming Bundelkhand Industrial Development Authority i.e. BIDA Nestled on the banks of Ganges River, Kanpur has been the major financial and industrial centre of North India and also the ninth-largest urban economy in India.[7][8] Today it is famous for its colonial architecture, gardens, IT parks and fine quality leather, plastic and textile products which are exported mainly to the West.[9][10]\n",
            "\n",
            "The city is home to historical monuments such as the Jajmau Ghat which dates back to 17th century AD. Kanpur is also home to several historical sites such as the Bithoor Museum, Bhitargaon Temple, European Cemetery and Nanarao Park.\n",
            "\n",
            "It is the 12th most populous city and the 11th most populous urban agglomeration in India (Census of India, 2011). Kanpur was an important British garrison town until 1947, when India gained independence. The urban district of Kanpur Nagar serves as the headquarters of the Kanpur Division, Kanpur Range and Kanpur Zone.\n",
            "\n",
            "According to 2011 Indian census, it is the most populous urban city and the largest urban agglomeration in Uttar Pradesh while the population of city and its suburb were around 5 million making it the eighth-most populous metropolitan area in India.\n",
            "\n",
            "History[edit]\n",
            "\n",
            "In 1207, Raja Kanh Deo of the Kanhpuriya clan of Rajputs established the city of Kanhpur and made it his capital, which later came to be known as Kanpur.[11][12]\n",
            "\n",
            "History[edit]\n",
            "\n",
            "In 1207, Raja Kanh Deo of the Kanhpuriya clan of Rajputs established the city of Kanhpur and made it his capital, which later came to be known as Kanpur.[11][12]\n",
            "\n",
            "The area was ruled by several rulers of Kannauj, such as Harsha Vardhan, Jai Chand and Mihir Bhoja.[citation needed] It was also ruled by Muslim rulers of the Sur dynasty. In May 1765, Shuja-ud-daula, the Nawab of Awadh, was defeated by the British near Jajmau. From 1773 to 1801, Kanpur was part of the Oudh Kingdom, followed by the treaty of 1801 between Nawab Saadat Ali Khan of Awadh and the British, who realized the strategic importance. Several European businessmen established themselves in Kanpur, during this time.[citation needed]\n",
            "\n",
            "India, commonly known as the\n",
            "\n",
            "'Red Tamarind', for a brand produced by the mill) by the\n",
            "\n",
            "British India Corporation established here in 1876 by\n",
            "\n",
            "Alexander MacRobert.\n",
            "\n",
            "citation needed\n",
            "\n",
            "façades of the mill are reminiscent of the\n",
            "\n",
            "Kanpur City From top, left to right: Kanpur Central, J. K. Temple, City Skyline, CSJM University, Kanpur Memorial Church, Cityscape in Krishna Nagar, Green Park Stadium Nickname: Leather City of the World [1] Manchester of the East [2] Kanpur The City of Kanpur in the District of Kanpur Nagar Show map of Uttar Pradesh Kanpur Location of Kanpur in India Show map of India Coordinates: 26°27′00″N 80°19′55″E ﻿ / ﻿ 26.449923°N 80.331874°E ﻿ / 26.449923; 80.331874 Country India State Uttar Pradesh Division Kanpur District Kanpur Nagar Named for Raja Kanh Deo Government • Type Municipal Corporation • Body Kanpur Municipal Corporation • Mayor Pramila Pandey ( BJP ) • Municipal commissioner Shivasharanappa G N, IAS • Police commissioner B. P. Jogdand, IPS Area • City 403 km 2 (156 sq mi) • Metro [3] 891 km 2 (344 sq mi) Elevation 126 m (413 ft) Population (2024) [4] • City 3,926,000 (estimated) • Rank 12 th • Metro 5,100,000 (estimated) • Metro Rank 11 th Demonym(s) Kanpurite, Kanpuriya\n",
            "Human: What is the former name of Kanpur?\u001b[0m\n",
            "\n",
            "\u001b[1m> Finished chain.\u001b[0m\n",
            "\n",
            "\u001b[1m> Finished chain.\u001b[0m\n"
          ]
        }
      ]
    },
    {
      "cell_type": "code",
      "source": [
        "answer"
      ],
      "metadata": {
        "id": "PfZkb8gSK9qN",
        "outputId": "fda1c208-e327-4a58-f49d-c397d2d4fa8e",
        "colab": {
          "base_uri": "https://localhost:8080/"
        }
      },
      "execution_count": null,
      "outputs": [
        {
          "output_type": "execute_result",
          "data": {
            "text/plain": [
              "'The former name of Kanpur is Cawnpore.'"
            ],
            "application/vnd.google.colaboratory.intrinsic+json": {
              "type": "string"
            }
          },
          "metadata": {},
          "execution_count": 21
        }
      ]
    }
  ]
}