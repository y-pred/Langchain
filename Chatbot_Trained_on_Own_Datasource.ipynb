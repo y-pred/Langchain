{
  "nbformat": 4,
  "nbformat_minor": 0,
  "metadata": {
    "colab": {
      "provenance": [],
      "authorship_tag": "ABX9TyM3ibhNif9eZkb12yb8Ti40",
      "include_colab_link": true
    },
    "kernelspec": {
      "name": "python3",
      "display_name": "Python 3"
    },
    "language_info": {
      "name": "python"
    }
  },
  "cells": [
    {
      "cell_type": "markdown",
      "metadata": {
        "id": "view-in-github",
        "colab_type": "text"
      },
      "source": [
        "<a href=\"https://colab.research.google.com/github/y-pred/Langchain/blob/main/Chatbot_Trained_on_Own_Datasource.ipynb\" target=\"_parent\"><img src=\"https://colab.research.google.com/assets/colab-badge.svg\" alt=\"Open In Colab\"/></a>"
      ]
    },
    {
      "cell_type": "code",
      "execution_count": null,
      "metadata": {
        "id": "U8Ys3palxIiF"
      },
      "outputs": [],
      "source": [
        "!pip install langchain -q\n",
        "!pip install openai -q\n",
        "!pip install chromaDB -q\n",
        "!pip install unstructured -q\n",
        "!pip install -U sentence-transformers\n",
        "!pip install transformers -q"
      ]
    },
    {
      "cell_type": "code",
      "source": [
        "import os\n",
        "import langchain\n",
        "from langchain.llms import OpenAI\n",
        "os.environ['OPENAI_API_KEY'] = 'OPENAI API KEY'"
      ],
      "metadata": {
        "id": "B6fg3V88xkQ7"
      },
      "execution_count": 2,
      "outputs": []
    },
    {
      "cell_type": "code",
      "source": [
        "llm = OpenAI(temperature=0.2)"
      ],
      "metadata": {
        "id": "1zhilT_OxmI5"
      },
      "execution_count": null,
      "outputs": []
    },
    {
      "cell_type": "markdown",
      "source": [
        "###Document Indexing"
      ],
      "metadata": {
        "id": "fPfaSLAngNJ2"
      }
    },
    {
      "cell_type": "code",
      "source": [
        "from langchain.document_loaders import UnstructuredURLLoader\n",
        "loaders = UnstructuredURLLoader(urls=[\n",
        "    \"https://en.wikipedia.org/wiki/Kanpur\",\n",
        "    \"https://travel.india.com/guide/destination/discover-the-top-6-must-try-restaurants-in-kanpur-6832444/\",\n",
        "    \"https://www.tripoto.com/uttar-pradesh/trips/kanpur-beyond-stereotypes-the-city-with-a-little-of-everything-5dad96a31a569\"\n",
        "])\n",
        "\n",
        "data = loaders.load()\n",
        "len(data)"
      ],
      "metadata": {
        "id": "KDFSd_VSxn16"
      },
      "execution_count": null,
      "outputs": []
    },
    {
      "cell_type": "markdown",
      "source": [
        "###Text Splitting"
      ],
      "metadata": {
        "id": "O_RNihWrgQLX"
      }
    },
    {
      "cell_type": "code",
      "source": [
        "from langchain_text_splitters import RecursiveCharacterTextSplitter\n",
        "\n",
        "text_splitter = RecursiveCharacterTextSplitter(\n",
        "    chunk_size=500,\n",
        "    chunk_overlap=100\n",
        ")\n",
        "chunks = text_splitter.split_documents(data)"
      ],
      "metadata": {
        "id": "n2fTp8x9xsp6"
      },
      "execution_count": 5,
      "outputs": []
    },
    {
      "cell_type": "code",
      "source": [
        "!pip install tiktoken"
      ],
      "metadata": {
        "id": "mlFsRPY7zVq1"
      },
      "execution_count": null,
      "outputs": []
    },
    {
      "cell_type": "markdown",
      "source": [
        "###Embeddings using Sentence transformer"
      ],
      "metadata": {
        "id": "ftISyWYMf2Ej"
      }
    },
    {
      "cell_type": "code",
      "source": [
        "from langchain.embeddings import SentenceTransformerEmbeddings\n",
        "embeddings = SentenceTransformerEmbeddings(model_name=\"all-MiniLM-L6-v2\")\n"
      ],
      "metadata": {
        "id": "rD2fZnJgfyjK"
      },
      "execution_count": null,
      "outputs": []
    },
    {
      "cell_type": "code",
      "source": [
        "from langchain.vectorstores import Chroma\n",
        "db = Chroma.from_documents(chunks,embeddings)"
      ],
      "metadata": {
        "id": "3pelduhLxxCJ"
      },
      "execution_count": 8,
      "outputs": []
    },
    {
      "cell_type": "code",
      "source": [
        "query = 'What was the former name of Kanpur?'\n",
        "docs = db.similarity_search(query)\n",
        "print(docs[0].page_content)"
      ],
      "metadata": {
        "colab": {
          "base_uri": "https://localhost:8080/"
        },
        "id": "0Fg0e-00zZv5",
        "outputId": "ddd7c1d6-5322-44b2-e516-bc4e4120c52c"
      },
      "execution_count": 9,
      "outputs": [
        {
          "output_type": "stream",
          "name": "stdout",
          "text": [
            "Kanpur (\n",
            "\n",
            "/kɑːnˈpʊər/\n",
            "\n",
            "ⓘ), formerly anglicized as\n",
            "\n",
            "Cawnpore, is a large industrial city located in the central-western part of the state of\n",
            "\n",
            "Uttar Pradesh, India. Founded in year 1207, Kanpur became one of the most important commercial and military stations of\n",
            "\n",
            "British India. Kanpur is also the financial capital of Uttar Pradesh and part of upcoming Bundelkhand Industrial Development Authority i.e. BIDA Nestled on the banks of\n"
          ]
        }
      ]
    },
    {
      "cell_type": "code",
      "source": [
        "docs_with_score = db.similarity_search_with_score(query, k=3)\n",
        "docs_with_score"
      ],
      "metadata": {
        "colab": {
          "base_uri": "https://localhost:8080/"
        },
        "id": "aozHZtgmzed5",
        "outputId": "dcdcba4c-6988-4b15-dcf0-ffa67c57ce7b"
      },
      "execution_count": 10,
      "outputs": [
        {
          "output_type": "execute_result",
          "data": {
            "text/plain": [
              "[(Document(page_content='Kanpur (\\n\\n/kɑːnˈpʊər/\\n\\nⓘ), formerly anglicized as\\n\\nCawnpore, is a large industrial city located in the central-western part of the state of\\n\\nUttar Pradesh, India. Founded in year 1207, Kanpur became one of the most important commercial and military stations of\\n\\nBritish India. Kanpur is also the financial capital of Uttar Pradesh and part of upcoming Bundelkhand Industrial Development Authority i.e. BIDA Nestled on the banks of', metadata={'source': 'https://en.wikipedia.org/wiki/Kanpur'}),\n",
              "  0.4760293960571289),\n",
              " (Document(page_content='It is the 12th most populous city and the 11th most populous urban agglomeration in India (Census of India, 2011). Kanpur was an important British garrison town until 1947, when India gained independence. The urban district of Kanpur Nagar serves as the headquarters of the Kanpur Division, Kanpur Range and Kanpur Zone.\\n\\nSome of the more popular places in Kanpur include J. K. Temple, Kanpur Central, ZSquare Mall, Atal Ghat, Green Park Stadium and Ganga Barrage.', metadata={'source': 'https://en.wikipedia.org/wiki/Kanpur'}),\n",
              "  0.647521436214447),\n",
              " (Document(page_content='^ \"From Kanhiyapur to Kanpur in 210 years | Kanpur News – Times of India\". The Times of India. 24 March 2013.\\n\\n^ \"Kanpur\". ramblinginthecity.\\n\\n^ \"Top 7 Places To Visit In Kanpur – Trans India Travels\". www.transindiatravels.com. 6 December 2016.\\n\\n^ \"Kanpur History - History of Kanpur City- History of Kanpur India\". Journeymart.com. Archived from the original on 2 July 2015. Retrieved 29 July 2015.', metadata={'source': 'https://en.wikipedia.org/wiki/Kanpur'}),\n",
              "  0.6581259965896606)]"
            ]
          },
          "metadata": {},
          "execution_count": 10
        }
      ]
    },
    {
      "cell_type": "markdown",
      "source": [
        "###Retrival QA"
      ],
      "metadata": {
        "id": "wvdHZPzEX0dL"
      }
    },
    {
      "cell_type": "code",
      "source": [
        "#Use retrivalQA for retriving relevant parts of the data\n",
        "from langchain.chains import RetrievalQA\n",
        "retriever = db.as_retriever(search_type=\"similarity\", search_kwargs={\"k\": 2})\n",
        "res = retriever.get_relevant_documents(\"Former name of Kanpur\")\n",
        "res"
      ],
      "metadata": {
        "colab": {
          "base_uri": "https://localhost:8080/"
        },
        "id": "G7Et99RTZdhw",
        "outputId": "8614f444-d204-4a87-dcaf-3cdf9bb632a3"
      },
      "execution_count": 13,
      "outputs": [
        {
          "output_type": "execute_result",
          "data": {
            "text/plain": [
              "[Document(page_content='Kanpur (\\n\\n/kɑːnˈpʊər/\\n\\nⓘ), formerly anglicized as\\n\\nCawnpore, is a large industrial city located in the central-western part of the state of\\n\\nUttar Pradesh, India. Founded in year 1207, Kanpur became one of the most important commercial and military stations of\\n\\nBritish India. Kanpur is also the financial capital of Uttar Pradesh and part of upcoming Bundelkhand Industrial Development Authority i.e. BIDA Nestled on the banks of', metadata={'source': 'https://en.wikipedia.org/wiki/Kanpur'}),\n",
              " Document(page_content='Main article: \\n\\nList of people from Kanpur\\n\\nLala Kamlapat Singhania, industrialist\\n\\nPadampat Singhania, industrialist\\n\\nKuldeep Yadav, cricketer\\n\\nHarish-Chandra, mathematician\\n\\nGiriraj Kishore, novelist\\n\\nIrshad Mirza, industrialist\\n\\nGaurav Khanna, actor\\n\\nSee also[edit]\\n\\nKanpur Dehat (Lok Sabha constituency)\\n\\nList of cities in Uttar Pradesh\\n\\nList of engineering colleges in Kanpur\\n\\nRenamed places in Kanpur\\n\\nList of twin towns and sister cities in India\\n\\nSecond Battle of Cawnpore\\n\\nReferences[edit]', metadata={'source': 'https://en.wikipedia.org/wiki/Kanpur'})]"
            ]
          },
          "metadata": {},
          "execution_count": 13
        }
      ]
    },
    {
      "cell_type": "markdown",
      "source": [
        "###ConversationalRetrivalChain"
      ],
      "metadata": {
        "id": "blDviDgYm5an"
      }
    },
    {
      "cell_type": "code",
      "source": [
        "#Using conversationalretrivalChain since this has memory inbuilt\n",
        "\n",
        "from langchain.chat_models import ChatOpenAI\n",
        "from langchain.chains import ConversationalRetrievalChain\n",
        "\n",
        "chat = ChatOpenAI(model=\"gpt-3.5-turbo-0125\", temperature=0)\n",
        "#matching_docs = db.similarity_search(query)\n",
        "\n",
        "chain = ConversationalRetrievalChain.from_llm(llm=chat, retriever=retriever)\n",
        "\n",
        "response = chain({\"question\":'Which year did Kanpur come into existance?', \"chat_history\":[]})\n",
        "\n",
        "#response = chain({\"question\":'Which year this was done??',\"chat_history\":[('Who created tge City of Kanpur?','Raja Kanh Deo of the Kanhpuriya clan of Rajputs established the city of Kanhpur and made it his capital, which later came to be known as Kanpur.')]})\n",
        "response"
      ],
      "metadata": {
        "colab": {
          "base_uri": "https://localhost:8080/"
        },
        "id": "uP-rNdN3YpbM",
        "outputId": "c5452cb5-fced-43e3-cc44-22d1c0e75530"
      },
      "execution_count": 15,
      "outputs": [
        {
          "output_type": "execute_result",
          "data": {
            "text/plain": [
              "{'question': 'Which year did Kanpur come into existance?',\n",
              " 'chat_history': [],\n",
              " 'answer': 'Kanpur was founded in the year 1207.'}"
            ]
          },
          "metadata": {},
          "execution_count": 15
        }
      ]
    },
    {
      "cell_type": "code",
      "source": [
        "response['answer']"
      ],
      "metadata": {
        "colab": {
          "base_uri": "https://localhost:8080/",
          "height": 36
        },
        "id": "ipOBvsFh5JPh",
        "outputId": "bc4e73c8-1074-4e87-de76-695e0ace3332"
      },
      "execution_count": null,
      "outputs": [
        {
          "output_type": "execute_result",
          "data": {
            "text/plain": [
              "'The city of Kanpur was established in the year 1207 by Raja Kanh Deo of the Kanhpuriya clan of Rajputs.'"
            ],
            "application/vnd.google.colaboratory.intrinsic+json": {
              "type": "string"
            }
          },
          "metadata": {},
          "execution_count": 14
        }
      ]
    },
    {
      "cell_type": "markdown",
      "source": [
        "Filling up chat history so that we can understand how chat history is populated"
      ],
      "metadata": {
        "id": "4gntl912iQc9"
      }
    },
    {
      "cell_type": "code",
      "source": [
        "response = chain({\"question\":'Which industries are in Kanpur?',\"chat_history\":[('Which year did Kanpur come into existance?','The city of Kanpur was established in the year 1207 by Raja Kanh Deo of the Kanhpuriya clan of Rajputs.')]})"
      ],
      "metadata": {
        "id": "uihjNvmQhwPR"
      },
      "execution_count": 16,
      "outputs": []
    },
    {
      "cell_type": "code",
      "source": [
        "response"
      ],
      "metadata": {
        "colab": {
          "base_uri": "https://localhost:8080/"
        },
        "id": "kyOWzDMPiJ2w",
        "outputId": "9c03f906-cb3f-4f4b-f7e7-1c83da4969f1"
      },
      "execution_count": 17,
      "outputs": [
        {
          "output_type": "execute_result",
          "data": {
            "text/plain": [
              "{'question': 'Which industries are in Kanpur?',\n",
              " 'chat_history': [('Which year did Kanpur come into existance?',\n",
              "   'The city of Kanpur was established in the year 1207 by Raja Kanh Deo of the Kanhpuriya clan of Rajputs.')],\n",
              " 'answer': 'Kanpur is known for its leather and textile industries. Additionally, the city has a significant presence in the chemical, fertilizer, and engineering industries.'}"
            ]
          },
          "metadata": {},
          "execution_count": 17
        }
      ]
    },
    {
      "cell_type": "code",
      "source": [
        "response = chain({\"question\":'What is the most famous tourist spots in Kanpur?',\"chat_history\":[('Which year did Kanpur come into existance?','The city of Kanpur was established in the year 1207 by Raja Kanh Deo of the Kanhpuriya clan of Rajputs.','Which industries are in Kanpur?','Kanpur is known for its leather and textile industries. Additionally, the city has a significant presence in the chemical, fertilizer, and engineering industries.')]})\n",
        "response"
      ],
      "metadata": {
        "colab": {
          "base_uri": "https://localhost:8080/"
        },
        "id": "rdt2isw3ibZQ",
        "outputId": "fe8ac4fa-1fd8-4928-dcc0-7bbd3f5c3c2c"
      },
      "execution_count": 24,
      "outputs": [
        {
          "output_type": "execute_result",
          "data": {
            "text/plain": [
              "{'question': 'What is the most famous tourist spots in Kanpur?',\n",
              " 'chat_history': [('Which year did Kanpur come into existance?',\n",
              "   'The city of Kanpur was established in the year 1207 by Raja Kanh Deo of the Kanhpuriya clan of Rajputs.',\n",
              "   'Which industries are in Kanpur?',\n",
              "   'Kanpur is known for its leather and textile industries. Additionally, the city has a significant presence in the chemical, fertilizer, and engineering industries.')],\n",
              " 'answer': 'Some of the most famous tourist spots in Kanpur are:\\n\\n1. Allen Forest Zoo\\n2. Phool Bagh\\n3. Kanpur Memorial Church\\n4. Moti Jheel\\n5. Blue World Theme Park\\n6. J.K. Temple\\n7. Bithoor\\n\\nThese are just a few of the popular attractions in Kanpur that visitors often enjoy exploring.'}"
            ]
          },
          "metadata": {},
          "execution_count": 24
        }
      ]
    }
  ]
}